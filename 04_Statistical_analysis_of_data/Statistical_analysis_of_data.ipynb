{
 "cells": [
  {
   "cell_type": "code",
   "execution_count": 84,
   "metadata": {
    "deletable": false,
    "id": "RrVHWePG_oCV"
   },
   "outputs": [],
   "source": [
    "# Шаг 1: Импортируем библиотеку pandas\n",
    "import pandas as pd\n",
    "import numpy as np\n",
    "import seaborn as sns\n",
    "import matplotlib.pyplot as plt\n",
    "from scipy import stats as st\n",
    "\n",
    "# Теперь библиотека pandas доступна для использования в вашем проекте."
   ]
  },
  {
   "cell_type": "code",
   "execution_count": 85,
   "metadata": {},
   "outputs": [
    {
     "name": "stdout",
     "output_type": "stream",
     "text": [
      "\u001b[33mWARNING: Package(s) not found: matplotlib.pyplot\u001b[0m\n",
      "Name: pandas\n",
      "Version: 1.2.4\n",
      "Summary: Powerful data structures for data analysis, time series, and statistics\n",
      "Home-page: https://pandas.pydata.org\n",
      "Author: None\n",
      "Author-email: None\n",
      "License: BSD\n",
      "Location: /opt/conda/lib/python3.9/site-packages\n",
      "Requires: python-dateutil, pytz, numpy\n",
      "Required-by: statsmodels, seaborn, catboost\n",
      "---\n",
      "Name: numpy\n",
      "Version: 1.21.1\n",
      "Summary: NumPy is the fundamental package for array computing with Python.\n",
      "Home-page: https://www.numpy.org\n",
      "Author: Travis E. Oliphant et al.\n",
      "Author-email: None\n",
      "License: BSD\n",
      "Location: /opt/conda/lib/python3.9/site-packages\n",
      "Requires: \n",
      "Required-by: xgboost, transformers, thinc, tensorflow-cpu, tensorboard, statsmodels, spacy, seaborn, scipy, scikit-learn, pyod, pyarrow, patsy, pandas, opt-einsum, numba, matplotlib, lightgbm, Keras-Preprocessing, h5py, gensim, folium, catboost, blis\n",
      "---\n",
      "Name: seaborn\n",
      "Version: 0.11.1\n",
      "Summary: seaborn: statistical data visualization\n",
      "Home-page: https://seaborn.pydata.org\n",
      "Author: Michael Waskom\n",
      "Author-email: mwaskom@nyu.edu\n",
      "License: BSD (3-clause)\n",
      "Location: /opt/conda/lib/python3.9/site-packages\n",
      "Requires: pandas, scipy, matplotlib, numpy\n",
      "Required-by: \n",
      "---\n",
      "Name: scipy\n",
      "Version: 1.9.1\n",
      "Summary: SciPy: Scientific Library for Python\n",
      "Home-page: https://www.scipy.org\n",
      "Author: None\n",
      "Author-email: None\n",
      "License: BSD\n",
      "Location: /opt/conda/lib/python3.9/site-packages\n",
      "Requires: numpy\n",
      "Required-by: xgboost, statsmodels, seaborn, scikit-learn, pyod, lightgbm, gensim, catboost\n"
     ]
    }
   ],
   "source": [
    "# Выводим информацию о версиях установленных библиотек\n",
    "!pip show pandas numpy seaborn matplotlib.pyplot scipy"
   ]
  },
  {
   "cell_type": "markdown",
   "metadata": {
    "deletable": false,
    "editable": false,
    "id": "NzOeQM6C_oCY"
   },
   "source": [
    "### Откройте файл с данными и изучите общую информацию"
   ]
  },
  {
   "cell_type": "markdown",
   "metadata": {
    "deletable": false,
    "editable": false,
    "id": "jC2O2Xp9_oCZ",
    "tags": [
     "start_task"
    ]
   },
   "source": [
    "**Задание 1.** Откройте файл `/datasets/calls.csv`, сохраните датафрейм в переменную `calls`."
   ]
  },
  {
   "cell_type": "code",
   "execution_count": 86,
   "metadata": {
    "deletable": false,
    "id": "lPo8_mWg_oCZ"
   },
   "outputs": [],
   "source": [
    "# Попытаемся прочитать CSV-файл из локального пути '/datasets/calls.csv'\n",
    "try:\n",
    "    calls = pd.read_csv('/datasets/calls.csv', sep=',')\n",
    "    \n",
    "# Если не удалось прочитать файл локально, то выполняем код в блоке except\n",
    "except:\n",
    "    # Пробуем прочитать CSV-файл из удаленного источника по URL 'https://code.s3.yandex.net/datasets/calls.csv'\n",
    "    calls = pd.read_csv('https://code.s3.yandex.net/datasets/calls.csv', sep=',')\n",
    "\n",
    "# В данном случае, если файл успешно загружен, данные будут храниться в переменной 'calls'\n",
    "# Если первая попытка чтения из локального пути завершится успешно, блок 'except' не будет выполнен."
   ]
  },
  {
   "cell_type": "markdown",
   "metadata": {
    "deletable": false,
    "editable": false,
    "id": "3TyWmQAR_oCZ",
    "tags": [
     "start_task"
    ]
   },
   "source": [
    "**Задание 2.** Выведите первые 5 строк датафрейма `calls`."
   ]
  },
  {
   "cell_type": "code",
   "execution_count": 87,
   "metadata": {
    "deletable": false,
    "id": "mdxHj-qz_oCZ"
   },
   "outputs": [
    {
     "data": {
      "text/html": [
       "<div>\n",
       "<style scoped>\n",
       "    .dataframe tbody tr th:only-of-type {\n",
       "        vertical-align: middle;\n",
       "    }\n",
       "\n",
       "    .dataframe tbody tr th {\n",
       "        vertical-align: top;\n",
       "    }\n",
       "\n",
       "    .dataframe thead th {\n",
       "        text-align: right;\n",
       "    }\n",
       "</style>\n",
       "<table border=\"1\" class=\"dataframe\">\n",
       "  <thead>\n",
       "    <tr style=\"text-align: right;\">\n",
       "      <th></th>\n",
       "      <th>id</th>\n",
       "      <th>call_date</th>\n",
       "      <th>duration</th>\n",
       "      <th>user_id</th>\n",
       "    </tr>\n",
       "  </thead>\n",
       "  <tbody>\n",
       "    <tr>\n",
       "      <th>0</th>\n",
       "      <td>1000_0</td>\n",
       "      <td>2018-07-25</td>\n",
       "      <td>0.00</td>\n",
       "      <td>1000</td>\n",
       "    </tr>\n",
       "    <tr>\n",
       "      <th>1</th>\n",
       "      <td>1000_1</td>\n",
       "      <td>2018-08-17</td>\n",
       "      <td>0.00</td>\n",
       "      <td>1000</td>\n",
       "    </tr>\n",
       "    <tr>\n",
       "      <th>2</th>\n",
       "      <td>1000_2</td>\n",
       "      <td>2018-06-11</td>\n",
       "      <td>2.85</td>\n",
       "      <td>1000</td>\n",
       "    </tr>\n",
       "    <tr>\n",
       "      <th>3</th>\n",
       "      <td>1000_3</td>\n",
       "      <td>2018-09-21</td>\n",
       "      <td>13.80</td>\n",
       "      <td>1000</td>\n",
       "    </tr>\n",
       "    <tr>\n",
       "      <th>4</th>\n",
       "      <td>1000_4</td>\n",
       "      <td>2018-12-15</td>\n",
       "      <td>5.18</td>\n",
       "      <td>1000</td>\n",
       "    </tr>\n",
       "  </tbody>\n",
       "</table>\n",
       "</div>"
      ],
      "text/plain": [
       "       id   call_date  duration  user_id\n",
       "0  1000_0  2018-07-25      0.00     1000\n",
       "1  1000_1  2018-08-17      0.00     1000\n",
       "2  1000_2  2018-06-11      2.85     1000\n",
       "3  1000_3  2018-09-21     13.80     1000\n",
       "4  1000_4  2018-12-15      5.18     1000"
      ]
     },
     "execution_count": 87,
     "metadata": {},
     "output_type": "execute_result"
    }
   ],
   "source": [
    "# Шаг 1: Используем метод .head() для вывода первых строк DataFrame calls\n",
    "calls.head()\n",
    "\n",
    "# Этот код выведет первые 5 строк DataFrame calls, чтобы получить представление о данных."
   ]
  },
  {
   "cell_type": "markdown",
   "metadata": {
    "deletable": false,
    "editable": false,
    "id": "7pmWVJ8J_oCa",
    "tags": [
     "start_task"
    ]
   },
   "source": [
    "**Задание 3.** Выведите основную информацию для датафрейма `calls` с помощью метода `info()`."
   ]
  },
  {
   "cell_type": "code",
   "execution_count": 88,
   "metadata": {
    "deletable": false,
    "id": "wiDgaGnA_oCa"
   },
   "outputs": [
    {
     "name": "stdout",
     "output_type": "stream",
     "text": [
      "<class 'pandas.core.frame.DataFrame'>\n",
      "RangeIndex: 202607 entries, 0 to 202606\n",
      "Data columns (total 4 columns):\n",
      " #   Column     Non-Null Count   Dtype  \n",
      "---  ------     --------------   -----  \n",
      " 0   id         202607 non-null  object \n",
      " 1   call_date  202607 non-null  object \n",
      " 2   duration   202607 non-null  float64\n",
      " 3   user_id    202607 non-null  int64  \n",
      "dtypes: float64(1), int64(1), object(2)\n",
      "memory usage: 6.2+ MB\n"
     ]
    }
   ],
   "source": [
    "# Шаг 1: Используем метод .info() для получения информации о DataFrame calls\n",
    "calls.info()\n",
    "\n",
    "# Этот код выведет подробную информацию о структуре и содержании DataFrame calls, включая типы данных, пропущенные значения и использование памяти."
   ]
  },
  {
   "cell_type": "markdown",
   "metadata": {
    "deletable": false,
    "editable": false,
    "id": "IVqIQLOq_oCa",
    "tags": [
     "start_task"
    ]
   },
   "source": [
    "**Задание 4.** С помощью метода `hist()` выведите гистограмму для столбца с продолжительностью звонков. Подумайте о том, как распределены данные."
   ]
  },
  {
   "cell_type": "code",
   "execution_count": 89,
   "metadata": {
    "deletable": false,
    "id": "sKOklkAe_oCa"
   },
   "outputs": [
    {
     "data": {
      "image/png": "[encoded data removed]",
      "text/plain": [
       "<Figure size 1224x504 with 1 Axes>"
      ]
     },
     "metadata": {
      "needs_background": "light"
     },
     "output_type": "display_data"
    }
   ],
   "source": [
    "# Шаг 1: Используем метод .hist() для построения гистограммы\n",
    "calls['duration'].hist(\n",
    "    bins=100,  # Количество бинов в гистограмме\n",
    "    #range=(0, 35),  # Диапазон значений на гистограмме (неактивирован)\n",
    "    figsize=(17, 7),  # Устанавливаем размер графика\n",
    "    grid=True  # Включаем сетку на графике\n",
    ");\n",
    "\n",
    "# Этот код построит гистограмму распределения продолжительности звонков из столбца 'duration' в DataFrame calls.\n",
    "# Вы можете настроить параметры bins и range для лучшей визуализации ваших данных, если это необходимо."
   ]
  },
  {
   "cell_type": "markdown",
   "metadata": {
    "deletable": false,
    "editable": false,
    "id": "NAXd4x_4_oCa",
    "tags": [
     "start_task"
    ]
   },
   "source": [
    "**Задание 5.** Откройте файл `/datasets/internet.csv`, сохраните датафрейм в переменную `sessions`."
   ]
  },
  {
   "cell_type": "code",
   "execution_count": 90,
   "metadata": {
    "deletable": false,
    "id": "Wf_f3Vkc_oCa"
   },
   "outputs": [],
   "source": [
    "# Попытаемся прочитать CSV-файл из локального пути '/datasets/internet.csv'\n",
    "try:\n",
    "    sessions = pd.read_csv('/datasets/internet.csv', sep=',')\n",
    "    \n",
    "# Если не удалось прочитать файл локально, то выполняем код в блоке except\n",
    "except:\n",
    "    # Пробуем прочитать CSV-файл из удаленного источника по URL 'https://code.s3.yandex.net/datasets/internet.csv'\n",
    "    sessions = pd.read_csv('https://code.s3.yandex.net/datasets/internet.csv', sep=',')\n",
    "\n",
    "# В данном случае, если файл успешно загружен, данные будут храниться в переменной 'sessions'\n",
    "# Если первая попытка чтения из локального пути завершится успешно, блок 'except' не будет выполнен."
   ]
  },
  {
   "cell_type": "markdown",
   "metadata": {
    "deletable": false,
    "editable": false,
    "id": "StL-wNRI_oCb",
    "tags": [
     "start_task"
    ]
   },
   "source": [
    "**Задание 6.** Выведите первые 5 строк датафрейма `sessions`."
   ]
  },
  {
   "cell_type": "code",
   "execution_count": 91,
   "metadata": {
    "deletable": false,
    "id": "LsRkGeG7_oCb"
   },
   "outputs": [
    {
     "data": {
      "text/html": [
       "<div>\n",
       "<style scoped>\n",
       "    .dataframe tbody tr th:only-of-type {\n",
       "        vertical-align: middle;\n",
       "    }\n",
       "\n",
       "    .dataframe tbody tr th {\n",
       "        vertical-align: top;\n",
       "    }\n",
       "\n",
       "    .dataframe thead th {\n",
       "        text-align: right;\n",
       "    }\n",
       "</style>\n",
       "<table border=\"1\" class=\"dataframe\">\n",
       "  <thead>\n",
       "    <tr style=\"text-align: right;\">\n",
       "      <th></th>\n",
       "      <th>Unnamed: 0</th>\n",
       "      <th>id</th>\n",
       "      <th>mb_used</th>\n",
       "      <th>session_date</th>\n",
       "      <th>user_id</th>\n",
       "    </tr>\n",
       "  </thead>\n",
       "  <tbody>\n",
       "    <tr>\n",
       "      <th>0</th>\n",
       "      <td>0</td>\n",
       "      <td>1000_0</td>\n",
       "      <td>112.95</td>\n",
       "      <td>2018-11-25</td>\n",
       "      <td>1000</td>\n",
       "    </tr>\n",
       "    <tr>\n",
       "      <th>1</th>\n",
       "      <td>1</td>\n",
       "      <td>1000_1</td>\n",
       "      <td>1052.81</td>\n",
       "      <td>2018-09-07</td>\n",
       "      <td>1000</td>\n",
       "    </tr>\n",
       "    <tr>\n",
       "      <th>2</th>\n",
       "      <td>2</td>\n",
       "      <td>1000_2</td>\n",
       "      <td>1197.26</td>\n",
       "      <td>2018-06-25</td>\n",
       "      <td>1000</td>\n",
       "    </tr>\n",
       "    <tr>\n",
       "      <th>3</th>\n",
       "      <td>3</td>\n",
       "      <td>1000_3</td>\n",
       "      <td>550.27</td>\n",
       "      <td>2018-08-22</td>\n",
       "      <td>1000</td>\n",
       "    </tr>\n",
       "    <tr>\n",
       "      <th>4</th>\n",
       "      <td>4</td>\n",
       "      <td>1000_4</td>\n",
       "      <td>302.56</td>\n",
       "      <td>2018-09-24</td>\n",
       "      <td>1000</td>\n",
       "    </tr>\n",
       "  </tbody>\n",
       "</table>\n",
       "</div>"
      ],
      "text/plain": [
       "   Unnamed: 0      id  mb_used session_date  user_id\n",
       "0           0  1000_0   112.95   2018-11-25     1000\n",
       "1           1  1000_1  1052.81   2018-09-07     1000\n",
       "2           2  1000_2  1197.26   2018-06-25     1000\n",
       "3           3  1000_3   550.27   2018-08-22     1000\n",
       "4           4  1000_4   302.56   2018-09-24     1000"
      ]
     },
     "execution_count": 91,
     "metadata": {},
     "output_type": "execute_result"
    }
   ],
   "source": [
    "# Шаг 1: Используем метод .head() для вывода первых строк DataFrame sessions\n",
    "sessions.head()\n",
    "\n",
    "# Этот код выведет первые 5 строк DataFrame sessions, чтобы получить представление о данных."
   ]
  },
  {
   "cell_type": "markdown",
   "metadata": {
    "deletable": false,
    "editable": false,
    "id": "WyUFK2C6_oCb",
    "tags": [
     "start_task"
    ]
   },
   "source": [
    "**Задание 7.** Выведите основную информацию для датафрейма `sessions` с помощью метода `info()`. "
   ]
  },
  {
   "cell_type": "code",
   "execution_count": 92,
   "metadata": {
    "deletable": false,
    "id": "0fLAUTTQ_oCb"
   },
   "outputs": [
    {
     "name": "stdout",
     "output_type": "stream",
     "text": [
      "<class 'pandas.core.frame.DataFrame'>\n",
      "RangeIndex: 149396 entries, 0 to 149395\n",
      "Data columns (total 5 columns):\n",
      " #   Column        Non-Null Count   Dtype  \n",
      "---  ------        --------------   -----  \n",
      " 0   Unnamed: 0    149396 non-null  int64  \n",
      " 1   id            149396 non-null  object \n",
      " 2   mb_used       149396 non-null  float64\n",
      " 3   session_date  149396 non-null  object \n",
      " 4   user_id       149396 non-null  int64  \n",
      "dtypes: float64(1), int64(2), object(2)\n",
      "memory usage: 5.7+ MB\n"
     ]
    }
   ],
   "source": [
    "# Шаг 1: Используем метод .info() для получения информации о DataFrame sessions\n",
    "sessions.info()\n",
    "\n",
    "# Этот код выведет подробную информацию о структуре и содержании DataFrame sessions, включая типы данных, пропущенные значения и использование памяти."
   ]
  },
  {
   "cell_type": "markdown",
   "metadata": {
    "deletable": false,
    "editable": false,
    "id": "DpvGfws5_oCb",
    "tags": [
     "start_task"
    ]
   },
   "source": [
    "**Задание 8.** С помощью метода `hist()` выведите гистограмму для столбца с количеством потраченных мегабайт."
   ]
  },
  {
   "cell_type": "code",
   "execution_count": 93,
   "metadata": {
    "deletable": false,
    "id": "_uke6m2-_oCb"
   },
   "outputs": [
    {
     "data": {
      "text/plain": [
       "<AxesSubplot:>"
      ]
     },
     "execution_count": 93,
     "metadata": {},
     "output_type": "execute_result"
    },
    {
     "data": {
      "image/png": "[encoded data removed]",
      "text/plain": [
       "<Figure size 1224x504 with 1 Axes>"
      ]
     },
     "metadata": {
      "needs_background": "light"
     },
     "output_type": "display_data"
    }
   ],
   "source": [
    "# Шаг 1: Используем метод .hist() для построения гистограммы\n",
    "sessions['mb_used'].hist(\n",
    "    bins=100,  # Количество бинов в гистограмме\n",
    "    #range=(0, 35),  # Диапазон значений на гистограмме (неактивирован)\n",
    "    figsize=(17, 7),  # Устанавливаем размер графика\n",
    "    grid=True  # Включаем сетку на графике\n",
    ")\n",
    "\n",
    "# Этот код построит гистограмму распределения использования интернет-трафика из столбца 'mb_used' в DataFrame sessions.\n",
    "# Вы можете настроить параметры bins и range для лучшей визуализации ваших данных, если это необходимо."
   ]
  },
  {
   "cell_type": "markdown",
   "metadata": {
    "deletable": false,
    "editable": false,
    "id": "OhXx4G1f_oCb",
    "tags": [
     "start_task"
    ]
   },
   "source": [
    "**Задание 9.** Откройте файл `/datasets/messages.csv`, сохраните датафрейм в переменную `messages`."
   ]
  },
  {
   "cell_type": "code",
   "execution_count": 94,
   "metadata": {
    "deletable": false,
    "id": "UKrQhgvV_oCc"
   },
   "outputs": [],
   "source": [
    "# Попытаемся прочитать CSV-файл из локального пути '/datasets/messages.csv'\n",
    "try:\n",
    "    messages = pd.read_csv('/datasets/messages.csv', sep=',')\n",
    "    \n",
    "# Если не удалось прочитать файл локально, то выполняем код в блоке except\n",
    "except:\n",
    "    # Пробуем прочитать CSV-файл из удаленного источника по URL 'https://code.s3.yandex.net/datasets/messages.csv'\n",
    "    messages = pd.read_csv('https://code.s3.yandex.net/datasets/messages.csv', sep=',')\n",
    "\n",
    "# В данном случае, если файл успешно загружен, данные будут храниться в переменной 'messages'\n",
    "# Если первая попытка чтения из локального пути завершится успешно, блок 'except' не будет выполнен."
   ]
  },
  {
   "cell_type": "markdown",
   "metadata": {
    "deletable": false,
    "editable": false,
    "id": "SyaWBm9T_oCc",
    "tags": [
     "start_task"
    ]
   },
   "source": [
    "**Задание 10.** Выведите первые 5 строк датафрейма `messages`."
   ]
  },
  {
   "cell_type": "code",
   "execution_count": 95,
   "metadata": {
    "deletable": false,
    "id": "1_zOkvJO_oCc"
   },
   "outputs": [
    {
     "data": {
      "text/html": [
       "<div>\n",
       "<style scoped>\n",
       "    .dataframe tbody tr th:only-of-type {\n",
       "        vertical-align: middle;\n",
       "    }\n",
       "\n",
       "    .dataframe tbody tr th {\n",
       "        vertical-align: top;\n",
       "    }\n",
       "\n",
       "    .dataframe thead th {\n",
       "        text-align: right;\n",
       "    }\n",
       "</style>\n",
       "<table border=\"1\" class=\"dataframe\">\n",
       "  <thead>\n",
       "    <tr style=\"text-align: right;\">\n",
       "      <th></th>\n",
       "      <th>id</th>\n",
       "      <th>message_date</th>\n",
       "      <th>user_id</th>\n",
       "    </tr>\n",
       "  </thead>\n",
       "  <tbody>\n",
       "    <tr>\n",
       "      <th>0</th>\n",
       "      <td>1000_0</td>\n",
       "      <td>2018-06-27</td>\n",
       "      <td>1000</td>\n",
       "    </tr>\n",
       "    <tr>\n",
       "      <th>1</th>\n",
       "      <td>1000_1</td>\n",
       "      <td>2018-10-08</td>\n",
       "      <td>1000</td>\n",
       "    </tr>\n",
       "    <tr>\n",
       "      <th>2</th>\n",
       "      <td>1000_2</td>\n",
       "      <td>2018-08-04</td>\n",
       "      <td>1000</td>\n",
       "    </tr>\n",
       "    <tr>\n",
       "      <th>3</th>\n",
       "      <td>1000_3</td>\n",
       "      <td>2018-06-16</td>\n",
       "      <td>1000</td>\n",
       "    </tr>\n",
       "    <tr>\n",
       "      <th>4</th>\n",
       "      <td>1000_4</td>\n",
       "      <td>2018-12-05</td>\n",
       "      <td>1000</td>\n",
       "    </tr>\n",
       "  </tbody>\n",
       "</table>\n",
       "</div>"
      ],
      "text/plain": [
       "       id message_date  user_id\n",
       "0  1000_0   2018-06-27     1000\n",
       "1  1000_1   2018-10-08     1000\n",
       "2  1000_2   2018-08-04     1000\n",
       "3  1000_3   2018-06-16     1000\n",
       "4  1000_4   2018-12-05     1000"
      ]
     },
     "execution_count": 95,
     "metadata": {},
     "output_type": "execute_result"
    }
   ],
   "source": [
    "# Шаг 1: Используем метод .head() для вывода первых строк DataFrame messages\n",
    "messages.head()\n",
    "\n",
    "# Этот код выведет первые 5 строк DataFrame messages, чтобы получить представление о данных."
   ]
  },
  {
   "cell_type": "markdown",
   "metadata": {
    "deletable": false,
    "editable": false,
    "id": "0VBJNN-T_oCc",
    "tags": [
     "start_task"
    ]
   },
   "source": [
    "**Задание 11.** Выведите основную информацию для датафрейма `messages` с помощью метода `info()`. "
   ]
  },
  {
   "cell_type": "code",
   "execution_count": 96,
   "metadata": {
    "deletable": false,
    "id": "wrgl0LdX_oCc"
   },
   "outputs": [
    {
     "name": "stdout",
     "output_type": "stream",
     "text": [
      "<class 'pandas.core.frame.DataFrame'>\n",
      "RangeIndex: 123036 entries, 0 to 123035\n",
      "Data columns (total 3 columns):\n",
      " #   Column        Non-Null Count   Dtype \n",
      "---  ------        --------------   ----- \n",
      " 0   id            123036 non-null  object\n",
      " 1   message_date  123036 non-null  object\n",
      " 2   user_id       123036 non-null  int64 \n",
      "dtypes: int64(1), object(2)\n",
      "memory usage: 2.8+ MB\n"
     ]
    }
   ],
   "source": [
    "# Шаг 1: Используем метод .info() для получения информации о DataFrame messages\n",
    "messages.info()\n",
    "\n",
    "# Этот код выведет подробную информацию о структуре и содержании DataFrame messages, включая типы данных, пропущенные значения и использование памяти."
   ]
  },
  {
   "cell_type": "markdown",
   "metadata": {
    "deletable": false,
    "editable": false,
    "id": "KhSrBR96_oCc",
    "tags": [
     "start_task"
    ]
   },
   "source": [
    "**Задание 12.** Откройте файл `/datasets/tariffs.csv`, сохраните датафрейм в переменную `tariffs`."
   ]
  },
  {
   "cell_type": "code",
   "execution_count": 97,
   "metadata": {
    "deletable": false,
    "id": "3V2mBbx5_oCc"
   },
   "outputs": [],
   "source": [
    "# Попытаемся прочитать CSV-файл из локального пути '/datasets/tariffs.csv'\n",
    "try:\n",
    "    tariffs = pd.read_csv('/datasets/tariffs.csv', sep=',')\n",
    "    \n",
    "# Если не удалось прочитать файл локально, то выполняем код в блоке except\n",
    "except:\n",
    "    # Пробуем прочитать CSV-файл из удаленного источника по URL 'https://code.s3.yandex.net/datasets/tariffs.csv'\n",
    "    tariffs = pd.read_csv('https://code.s3.yandex.net/datasets/tariffs.csv', sep=',')\n",
    "\n",
    "# В данном случае, если файл успешно загружен, данные будут храниться в переменной 'tariffs'\n",
    "# Если первая попытка чтения из локального пути завершится успешно, блок 'except' не будет выполнен."
   ]
  },
  {
   "cell_type": "markdown",
   "metadata": {
    "deletable": false,
    "editable": false,
    "id": "oGNMcS4U_oCc",
    "tags": [
     "start_task"
    ]
   },
   "source": [
    "**Задание 13.** Выведите весь датафрейм `tariffs`."
   ]
  },
  {
   "cell_type": "code",
   "execution_count": 98,
   "metadata": {
    "deletable": false,
    "id": "aa6cdOI9_oCd"
   },
   "outputs": [
    {
     "data": {
      "text/html": [
       "<div>\n",
       "<style scoped>\n",
       "    .dataframe tbody tr th:only-of-type {\n",
       "        vertical-align: middle;\n",
       "    }\n",
       "\n",
       "    .dataframe tbody tr th {\n",
       "        vertical-align: top;\n",
       "    }\n",
       "\n",
       "    .dataframe thead th {\n",
       "        text-align: right;\n",
       "    }\n",
       "</style>\n",
       "<table border=\"1\" class=\"dataframe\">\n",
       "  <thead>\n",
       "    <tr style=\"text-align: right;\">\n",
       "      <th></th>\n",
       "      <th>messages_included</th>\n",
       "      <th>mb_per_month_included</th>\n",
       "      <th>minutes_included</th>\n",
       "      <th>rub_monthly_fee</th>\n",
       "      <th>rub_per_gb</th>\n",
       "      <th>rub_per_message</th>\n",
       "      <th>rub_per_minute</th>\n",
       "      <th>tariff_name</th>\n",
       "    </tr>\n",
       "  </thead>\n",
       "  <tbody>\n",
       "    <tr>\n",
       "      <th>0</th>\n",
       "      <td>50</td>\n",
       "      <td>15360</td>\n",
       "      <td>500</td>\n",
       "      <td>550</td>\n",
       "      <td>200</td>\n",
       "      <td>3</td>\n",
       "      <td>3</td>\n",
       "      <td>smart</td>\n",
       "    </tr>\n",
       "    <tr>\n",
       "      <th>1</th>\n",
       "      <td>1000</td>\n",
       "      <td>30720</td>\n",
       "      <td>3000</td>\n",
       "      <td>1950</td>\n",
       "      <td>150</td>\n",
       "      <td>1</td>\n",
       "      <td>1</td>\n",
       "      <td>ultra</td>\n",
       "    </tr>\n",
       "  </tbody>\n",
       "</table>\n",
       "</div>"
      ],
      "text/plain": [
       "   messages_included  mb_per_month_included  minutes_included  \\\n",
       "0                 50                  15360               500   \n",
       "1               1000                  30720              3000   \n",
       "\n",
       "   rub_monthly_fee  rub_per_gb  rub_per_message  rub_per_minute tariff_name  \n",
       "0              550         200                3               3       smart  \n",
       "1             1950         150                1               1       ultra  "
      ]
     },
     "execution_count": 98,
     "metadata": {},
     "output_type": "execute_result"
    }
   ],
   "source": [
    "# Шаг 1: Используем метод .head() для вывода первых строк DataFrame tariffs\n",
    "tariffs.head()\n",
    "\n",
    "# Этот код выведет первые 5 строк DataFrame tariffs, чтобы получить представление о данных."
   ]
  },
  {
   "cell_type": "markdown",
   "metadata": {
    "deletable": false,
    "editable": false,
    "id": "jDruO0mX_oCd",
    "tags": [
     "start_task"
    ]
   },
   "source": [
    "**Задание 14.** Выведите основную информацию для датафрейма `tariffs` с помощью метода `info()`."
   ]
  },
  {
   "cell_type": "code",
   "execution_count": 99,
   "metadata": {
    "deletable": false,
    "id": "YgK7d8XT_oCd"
   },
   "outputs": [
    {
     "name": "stdout",
     "output_type": "stream",
     "text": [
      "<class 'pandas.core.frame.DataFrame'>\n",
      "RangeIndex: 2 entries, 0 to 1\n",
      "Data columns (total 8 columns):\n",
      " #   Column                 Non-Null Count  Dtype \n",
      "---  ------                 --------------  ----- \n",
      " 0   messages_included      2 non-null      int64 \n",
      " 1   mb_per_month_included  2 non-null      int64 \n",
      " 2   minutes_included       2 non-null      int64 \n",
      " 3   rub_monthly_fee        2 non-null      int64 \n",
      " 4   rub_per_gb             2 non-null      int64 \n",
      " 5   rub_per_message        2 non-null      int64 \n",
      " 6   rub_per_minute         2 non-null      int64 \n",
      " 7   tariff_name            2 non-null      object\n",
      "dtypes: int64(7), object(1)\n",
      "memory usage: 256.0+ bytes\n"
     ]
    }
   ],
   "source": [
    "# Шаг 1: Используем метод .info() для получения информации о DataFrame tariffs\n",
    "tariffs.info()\n",
    "\n",
    "# Этот код выведет подробную информацию о структуре и содержании DataFrame tariffs, включая типы данных, пропущенные значения и использование памяти."
   ]
  },
  {
   "cell_type": "markdown",
   "metadata": {
    "deletable": false,
    "editable": false,
    "id": "20KVeYwe_oCd",
    "tags": [
     "start_task"
    ]
   },
   "source": [
    "**Задание 15.** Откройте файл `/datasets/users.csv`, сохраните датафрейм в переменную `users`."
   ]
  },
  {
   "cell_type": "code",
   "execution_count": 100,
   "metadata": {
    "deletable": false,
    "id": "v5NwQmKo_oCd"
   },
   "outputs": [],
   "source": [
    "# Попытаемся прочитать CSV-файл из локального пути '/datasets/users.csv'\n",
    "try:\n",
    "    users = pd.read_csv('/datasets/users.csv', sep=',')\n",
    "    \n",
    "# Если не удалось прочитать файл локально, то выполняем код в блоке except\n",
    "except:\n",
    "    # Пробуем прочитать CSV-файл из удаленного источника по URL 'https://code.s3.yandex.net/datasets/users.csv'\n",
    "    users = pd.read_csv('https://code.s3.yandex.net/datasets/tariusersffs.csv', sep=',')\n",
    "\n",
    "# В данном случае, если файл успешно загружен, данные будут храниться в переменной 'users'\n",
    "# Если первая попытка чтения из локального пути завершится успешно, блок 'except' не будет выполнен."
   ]
  },
  {
   "cell_type": "markdown",
   "metadata": {
    "deletable": false,
    "editable": false,
    "id": "q0SqMiTs_oCd",
    "tags": [
     "start_task"
    ]
   },
   "source": [
    "**Задание 16.** Выведите первые 5 строк датафрейма `users`."
   ]
  },
  {
   "cell_type": "code",
   "execution_count": 101,
   "metadata": {
    "deletable": false,
    "id": "TwMOUDXV_oCe"
   },
   "outputs": [
    {
     "data": {
      "text/html": [
       "<div>\n",
       "<style scoped>\n",
       "    .dataframe tbody tr th:only-of-type {\n",
       "        vertical-align: middle;\n",
       "    }\n",
       "\n",
       "    .dataframe tbody tr th {\n",
       "        vertical-align: top;\n",
       "    }\n",
       "\n",
       "    .dataframe thead th {\n",
       "        text-align: right;\n",
       "    }\n",
       "</style>\n",
       "<table border=\"1\" class=\"dataframe\">\n",
       "  <thead>\n",
       "    <tr style=\"text-align: right;\">\n",
       "      <th></th>\n",
       "      <th>user_id</th>\n",
       "      <th>age</th>\n",
       "      <th>churn_date</th>\n",
       "      <th>city</th>\n",
       "      <th>first_name</th>\n",
       "      <th>last_name</th>\n",
       "      <th>reg_date</th>\n",
       "      <th>tariff</th>\n",
       "    </tr>\n",
       "  </thead>\n",
       "  <tbody>\n",
       "    <tr>\n",
       "      <th>0</th>\n",
       "      <td>1000</td>\n",
       "      <td>52</td>\n",
       "      <td>NaN</td>\n",
       "      <td>Краснодар</td>\n",
       "      <td>Рафаил</td>\n",
       "      <td>Верещагин</td>\n",
       "      <td>2018-05-25</td>\n",
       "      <td>ultra</td>\n",
       "    </tr>\n",
       "    <tr>\n",
       "      <th>1</th>\n",
       "      <td>1001</td>\n",
       "      <td>41</td>\n",
       "      <td>NaN</td>\n",
       "      <td>Москва</td>\n",
       "      <td>Иван</td>\n",
       "      <td>Ежов</td>\n",
       "      <td>2018-11-01</td>\n",
       "      <td>smart</td>\n",
       "    </tr>\n",
       "    <tr>\n",
       "      <th>2</th>\n",
       "      <td>1002</td>\n",
       "      <td>59</td>\n",
       "      <td>NaN</td>\n",
       "      <td>Стерлитамак</td>\n",
       "      <td>Евгений</td>\n",
       "      <td>Абрамович</td>\n",
       "      <td>2018-06-17</td>\n",
       "      <td>smart</td>\n",
       "    </tr>\n",
       "    <tr>\n",
       "      <th>3</th>\n",
       "      <td>1003</td>\n",
       "      <td>23</td>\n",
       "      <td>NaN</td>\n",
       "      <td>Москва</td>\n",
       "      <td>Белла</td>\n",
       "      <td>Белякова</td>\n",
       "      <td>2018-08-17</td>\n",
       "      <td>ultra</td>\n",
       "    </tr>\n",
       "    <tr>\n",
       "      <th>4</th>\n",
       "      <td>1004</td>\n",
       "      <td>68</td>\n",
       "      <td>NaN</td>\n",
       "      <td>Новокузнецк</td>\n",
       "      <td>Татьяна</td>\n",
       "      <td>Авдеенко</td>\n",
       "      <td>2018-05-14</td>\n",
       "      <td>ultra</td>\n",
       "    </tr>\n",
       "  </tbody>\n",
       "</table>\n",
       "</div>"
      ],
      "text/plain": [
       "   user_id  age churn_date         city first_name  last_name    reg_date  \\\n",
       "0     1000   52        NaN    Краснодар     Рафаил  Верещагин  2018-05-25   \n",
       "1     1001   41        NaN       Москва       Иван       Ежов  2018-11-01   \n",
       "2     1002   59        NaN  Стерлитамак    Евгений  Абрамович  2018-06-17   \n",
       "3     1003   23        NaN       Москва      Белла   Белякова  2018-08-17   \n",
       "4     1004   68        NaN  Новокузнецк    Татьяна   Авдеенко  2018-05-14   \n",
       "\n",
       "  tariff  \n",
       "0  ultra  \n",
       "1  smart  \n",
       "2  smart  \n",
       "3  ultra  \n",
       "4  ultra  "
      ]
     },
     "execution_count": 101,
     "metadata": {},
     "output_type": "execute_result"
    }
   ],
   "source": [
    "# Шаг 1: Используем метод .head() для вывода первых строк DataFrame users\n",
    "users.head()\n",
    "\n",
    "# Этот код выведет первые 5 строк DataFrame users, чтобы получить представление о данных."
   ]
  },
  {
   "cell_type": "markdown",
   "metadata": {
    "deletable": false,
    "editable": false,
    "id": "YE-wtjlL_oCe",
    "tags": [
     "start_task"
    ]
   },
   "source": [
    "**Задание 17.** Выведите основную информацию для датафрейма `users` с помощью метода `info()`."
   ]
  },
  {
   "cell_type": "code",
   "execution_count": 102,
   "metadata": {
    "deletable": false,
    "id": "WgiCfvjJ_oCe"
   },
   "outputs": [
    {
     "name": "stdout",
     "output_type": "stream",
     "text": [
      "<class 'pandas.core.frame.DataFrame'>\n",
      "RangeIndex: 500 entries, 0 to 499\n",
      "Data columns (total 8 columns):\n",
      " #   Column      Non-Null Count  Dtype \n",
      "---  ------      --------------  ----- \n",
      " 0   user_id     500 non-null    int64 \n",
      " 1   age         500 non-null    int64 \n",
      " 2   churn_date  38 non-null     object\n",
      " 3   city        500 non-null    object\n",
      " 4   first_name  500 non-null    object\n",
      " 5   last_name   500 non-null    object\n",
      " 6   reg_date    500 non-null    object\n",
      " 7   tariff      500 non-null    object\n",
      "dtypes: int64(2), object(6)\n",
      "memory usage: 31.4+ KB\n"
     ]
    }
   ],
   "source": [
    "# Шаг 1: Используем метод .info() для получения информации о DataFrame users\n",
    "users.info()\n",
    "\n",
    "# Этот код выведет подробную информацию о структуре и содержании DataFrame users, включая типы данных, пропущенные значения и использование памяти."
   ]
  },
  {
   "cell_type": "markdown",
   "metadata": {
    "deletable": false,
    "editable": false,
    "id": "Y0kllEng_oCf"
   },
   "source": [
    "### Подготовьте данные"
   ]
  },
  {
   "cell_type": "markdown",
   "metadata": {
    "deletable": false,
    "editable": false,
    "id": "EyLIy5lh_oCf",
    "tags": [
     "start_task"
    ]
   },
   "source": [
    "**Задание 18.**  Приведите столбцы\n",
    "\n",
    "- `reg_date` из таблицы `users`\n",
    "- `churn_date` из таблицы `users`\n",
    "- `call_date` из таблицы `calls`\n",
    "- `message_date` из таблицы `messages`\n",
    "- `session_date` из таблицы `sessions`\n",
    "\n",
    "к новому типу с помощью метода `to_datetime()`."
   ]
  },
  {
   "cell_type": "code",
   "execution_count": 103,
   "metadata": {
    "deletable": false,
    "id": "Ig2hAtil_oCh"
   },
   "outputs": [],
   "source": [
    "# Шаг 1: Используем pd.to_datetime() для преобразования столбца 'reg_date' в формат даты в DataFrame 'users'\n",
    "users['reg_date'] = pd.to_datetime(users['reg_date'], format='%Y-%m-%d')\n",
    "\n",
    "# Шаг 2: Используем pd.to_datetime() для преобразования столбца 'churn_date' в формат даты в DataFrame 'users'\n",
    "users['churn_date'] = pd.to_datetime(users['churn_date'], format='%Y-%m-%d')\n",
    "\n",
    "# Шаг 3: Используем pd.to_datetime() для преобразования столбца 'call_date' в формат даты в DataFrame 'calls'\n",
    "calls['call_date'] = pd.to_datetime(calls['call_date'], format='%Y-%m-%d')\n",
    "\n",
    "# Шаг 4: Используем pd.to_datetime() для преобразования столбца 'message_date' в формат даты в DataFrame 'messages'\n",
    "messages['message_date'] = pd.to_datetime(messages['message_date'], format='%Y-%m-%d')\n",
    "\n",
    "# Шаг 5: Используем pd.to_datetime() для преобразования столбца 'session_date' в формат даты в DataFrame 'sessions'\n",
    "sessions['session_date'] = pd.to_datetime(sessions['session_date'], format='%Y-%m-%d')\n",
    "\n",
    "# Этот код выполняет обработку столбцов с датами, преобразуя их в формат даты для более удобной работы с временными данными."
   ]
  },
  {
   "cell_type": "markdown",
   "metadata": {
    "deletable": false,
    "editable": false,
    "id": "xZgEKVdX_oCi",
    "tags": [
     "start_task"
    ]
   },
   "source": [
    "**Задание 19.** В данных вы найдёте звонки с нулевой продолжительностью. Это не ошибка: нулями обозначены пропущенные звонки, поэтому их не нужно удалять.\n",
    "\n",
    "Однако в столбце `duration` датафрейма `calls` значения дробные. Округлите значения столбца `duration` вверх с помощью метода `numpy.ceil()` и приведите столбец `duration` к типу `int`."
   ]
  },
  {
   "cell_type": "code",
   "execution_count": 104,
   "metadata": {
    "deletable": false,
    "id": "7Msb3UqS_oCj"
   },
   "outputs": [],
   "source": [
    "# Шаг 1: Используем np.ceil() для округления значений столбца 'duration' до ближайшего целого числа в DataFrame 'calls'\n",
    "calls['duration'] = np.ceil(calls['duration'])\n",
    "\n",
    "# Шаг 2: Используем .astype() для приведения типа столбца 'duration' к целочисленному типу данных (int)\n",
    "calls['duration'] = calls['duration'].astype('int')\n",
    "\n",
    "# Этот код выполняет округление значений столбца 'duration' до ближайшего целого числа и приведение типа к целочисленному типу данных."
   ]
  },
  {
   "cell_type": "markdown",
   "metadata": {
    "deletable": false,
    "editable": false,
    "id": "u-6V42lj_oCj",
    "tags": [
     "start_task"
    ]
   },
   "source": [
    "**Задание 20.** Удалите столбец `Unnamed: 0` из датафрейма `sessions`. Столбец с таким названием возникает, когда данные сохраняют с указанием индекса (`df.to_csv(..., index=column)`). Он сейчас не понадобится."
   ]
  },
  {
   "cell_type": "code",
   "execution_count": 105,
   "metadata": {
    "deletable": false,
    "id": "0qBUTIJK_oCj"
   },
   "outputs": [],
   "source": [
    "# Шаг 1: Используем метод .drop() для удаления столбца 'Unnamed: 0' из DataFrame sessions\n",
    "sessions = sessions.drop(columns=['Unnamed: 0'])\n",
    "\n",
    "# Этот код удаляет столбец 'Unnamed: 0' из DataFrame sessions и переопределяет DataFrame без этого столбца."
   ]
  },
  {
   "cell_type": "markdown",
   "metadata": {
    "deletable": false,
    "editable": false,
    "id": "HlB1e_bN_oCj",
    "tags": [
     "start_task"
    ]
   },
   "source": [
    "**Задание 21.** Создайте столбец `month` в датафрейме `calls` с номером месяца из столбца `call_date`."
   ]
  },
  {
   "cell_type": "code",
   "execution_count": 106,
   "metadata": {
    "deletable": false,
    "id": "qepFbMhq_oCj"
   },
   "outputs": [],
   "source": [
    "# Шаг 1: Используем .dt.month для извлечения месяца из столбца 'call_date' в DataFrame 'calls'\n",
    "calls['month'] = calls['call_date'].dt.month\n",
    "\n",
    "# Этот код создает новый столбец 'month' в DataFrame 'calls', содержащий информацию о месяце из столбца 'call_date'."
   ]
  },
  {
   "cell_type": "markdown",
   "metadata": {
    "deletable": false,
    "editable": false,
    "id": "nQUHs3Gx_oCk",
    "tags": [
     "start_task"
    ]
   },
   "source": [
    "**Задание 22.** Создайте столбец `month` в датафрейме `messages` с номером месяца из столбца `message_date`."
   ]
  },
  {
   "cell_type": "code",
   "execution_count": 107,
   "metadata": {
    "deletable": false,
    "id": "2evOzw_K_oCk"
   },
   "outputs": [],
   "source": [
    "# Шаг 1: Используем .dt.month для извлечения месяца из столбца 'message_date' в DataFrame 'messages'\n",
    "messages['month'] = messages['message_date'].dt.month\n",
    "\n",
    "# Этот код создает новый столбец 'month' в DataFrame 'messages', содержащий информацию о месяце из столбца 'message_date'."
   ]
  },
  {
   "cell_type": "markdown",
   "metadata": {
    "deletable": false,
    "editable": false,
    "id": "IbLqO0z-_oCk",
    "tags": [
     "start_task"
    ]
   },
   "source": [
    "**Задание 23.** Создайте столбец `month` в датафрейме `sessions` с номером месяца из столбца `session_date`."
   ]
  },
  {
   "cell_type": "code",
   "execution_count": 108,
   "metadata": {
    "deletable": false,
    "id": "dKZPB_eo_oCk"
   },
   "outputs": [],
   "source": [
    "# Шаг 1: Используем .dt.month для извлечения месяца из столбца 'session_date' в DataFrame 'sessions'\n",
    "sessions['month'] = sessions['session_date'].dt.month\n",
    "\n",
    "# Этот код создает новый столбец 'month' в DataFrame 'sessions', содержащий информацию о месяце из столбца 'session_date'."
   ]
  },
  {
   "cell_type": "markdown",
   "metadata": {
    "deletable": false,
    "editable": false,
    "id": "VLMTL8f0_oCk",
    "tags": [
     "start_task"
    ]
   },
   "source": [
    "**Задание 24.** Посчитайте количество сделанных звонков разговора для каждого пользователя по месяцам."
   ]
  },
  {
   "cell_type": "code",
   "execution_count": 109,
   "metadata": {
    "deletable": false,
    "id": "tMAmcPhC_oCl"
   },
   "outputs": [],
   "source": [
    "# Шаг 1: Используем метод .groupby() для группировки данных в DataFrame 'calls' по столбцам 'user_id' и 'month'\n",
    "# Шаг 2: Используем метод .agg() для агрегирования данных и подсчета количества звонков (используя 'duration' и метод 'count')\n",
    "calls_per_month = calls.groupby(['user_id', 'month']).agg(calls=('duration', 'count'))\n",
    "\n",
    "# Этот код выполняет группировку данных по пользователям и месяцам, а затем подсчитывает количество звонков для каждого пользователя в каждом месяце."
   ]
  },
  {
   "cell_type": "code",
   "execution_count": 110,
   "metadata": {
    "deletable": false,
    "id": "r8pvxWhj_oCl"
   },
   "outputs": [
    {
     "data": {
      "text/html": [
       "<div>\n",
       "<style scoped>\n",
       "    .dataframe tbody tr th:only-of-type {\n",
       "        vertical-align: middle;\n",
       "    }\n",
       "\n",
       "    .dataframe tbody tr th {\n",
       "        vertical-align: top;\n",
       "    }\n",
       "\n",
       "    .dataframe thead th {\n",
       "        text-align: right;\n",
       "    }\n",
       "</style>\n",
       "<table border=\"1\" class=\"dataframe\">\n",
       "  <thead>\n",
       "    <tr style=\"text-align: right;\">\n",
       "      <th></th>\n",
       "      <th></th>\n",
       "      <th>calls</th>\n",
       "    </tr>\n",
       "    <tr>\n",
       "      <th>user_id</th>\n",
       "      <th>month</th>\n",
       "      <th></th>\n",
       "    </tr>\n",
       "  </thead>\n",
       "  <tbody>\n",
       "    <tr>\n",
       "      <th rowspan=\"8\" valign=\"top\">1000</th>\n",
       "      <th>5</th>\n",
       "      <td>22</td>\n",
       "    </tr>\n",
       "    <tr>\n",
       "      <th>6</th>\n",
       "      <td>43</td>\n",
       "    </tr>\n",
       "    <tr>\n",
       "      <th>7</th>\n",
       "      <td>47</td>\n",
       "    </tr>\n",
       "    <tr>\n",
       "      <th>8</th>\n",
       "      <td>52</td>\n",
       "    </tr>\n",
       "    <tr>\n",
       "      <th>9</th>\n",
       "      <td>58</td>\n",
       "    </tr>\n",
       "    <tr>\n",
       "      <th>10</th>\n",
       "      <td>57</td>\n",
       "    </tr>\n",
       "    <tr>\n",
       "      <th>11</th>\n",
       "      <td>43</td>\n",
       "    </tr>\n",
       "    <tr>\n",
       "      <th>12</th>\n",
       "      <td>46</td>\n",
       "    </tr>\n",
       "    <tr>\n",
       "      <th rowspan=\"2\" valign=\"top\">1001</th>\n",
       "      <th>11</th>\n",
       "      <td>59</td>\n",
       "    </tr>\n",
       "    <tr>\n",
       "      <th>12</th>\n",
       "      <td>63</td>\n",
       "    </tr>\n",
       "    <tr>\n",
       "      <th rowspan=\"7\" valign=\"top\">1002</th>\n",
       "      <th>6</th>\n",
       "      <td>15</td>\n",
       "    </tr>\n",
       "    <tr>\n",
       "      <th>7</th>\n",
       "      <td>26</td>\n",
       "    </tr>\n",
       "    <tr>\n",
       "      <th>8</th>\n",
       "      <td>42</td>\n",
       "    </tr>\n",
       "    <tr>\n",
       "      <th>9</th>\n",
       "      <td>36</td>\n",
       "    </tr>\n",
       "    <tr>\n",
       "      <th>10</th>\n",
       "      <td>33</td>\n",
       "    </tr>\n",
       "    <tr>\n",
       "      <th>11</th>\n",
       "      <td>32</td>\n",
       "    </tr>\n",
       "    <tr>\n",
       "      <th>12</th>\n",
       "      <td>33</td>\n",
       "    </tr>\n",
       "    <tr>\n",
       "      <th rowspan=\"5\" valign=\"top\">1003</th>\n",
       "      <th>8</th>\n",
       "      <td>55</td>\n",
       "    </tr>\n",
       "    <tr>\n",
       "      <th>9</th>\n",
       "      <td>134</td>\n",
       "    </tr>\n",
       "    <tr>\n",
       "      <th>10</th>\n",
       "      <td>108</td>\n",
       "    </tr>\n",
       "    <tr>\n",
       "      <th>11</th>\n",
       "      <td>115</td>\n",
       "    </tr>\n",
       "    <tr>\n",
       "      <th>12</th>\n",
       "      <td>108</td>\n",
       "    </tr>\n",
       "    <tr>\n",
       "      <th rowspan=\"8\" valign=\"top\">1004</th>\n",
       "      <th>5</th>\n",
       "      <td>9</td>\n",
       "    </tr>\n",
       "    <tr>\n",
       "      <th>6</th>\n",
       "      <td>31</td>\n",
       "    </tr>\n",
       "    <tr>\n",
       "      <th>7</th>\n",
       "      <td>22</td>\n",
       "    </tr>\n",
       "    <tr>\n",
       "      <th>8</th>\n",
       "      <td>19</td>\n",
       "    </tr>\n",
       "    <tr>\n",
       "      <th>9</th>\n",
       "      <td>26</td>\n",
       "    </tr>\n",
       "    <tr>\n",
       "      <th>10</th>\n",
       "      <td>29</td>\n",
       "    </tr>\n",
       "    <tr>\n",
       "      <th>11</th>\n",
       "      <td>19</td>\n",
       "    </tr>\n",
       "    <tr>\n",
       "      <th>12</th>\n",
       "      <td>21</td>\n",
       "    </tr>\n",
       "  </tbody>\n",
       "</table>\n",
       "</div>"
      ],
      "text/plain": [
       "               calls\n",
       "user_id month       \n",
       "1000    5         22\n",
       "        6         43\n",
       "        7         47\n",
       "        8         52\n",
       "        9         58\n",
       "        10        57\n",
       "        11        43\n",
       "        12        46\n",
       "1001    11        59\n",
       "        12        63\n",
       "1002    6         15\n",
       "        7         26\n",
       "        8         42\n",
       "        9         36\n",
       "        10        33\n",
       "        11        32\n",
       "        12        33\n",
       "1003    8         55\n",
       "        9        134\n",
       "        10       108\n",
       "        11       115\n",
       "        12       108\n",
       "1004    5          9\n",
       "        6         31\n",
       "        7         22\n",
       "        8         19\n",
       "        9         26\n",
       "        10        29\n",
       "        11        19\n",
       "        12        21"
      ]
     },
     "execution_count": 110,
     "metadata": {},
     "output_type": "execute_result"
    }
   ],
   "source": [
    "# Шаг 1: Используем метод .head() для вывода первых 30 строк DataFrame 'calls_per_month'\n",
    "calls_per_month.head(30)\n",
    "\n",
    "# Этот код выводит первые 30 строк DataFrame 'calls_per_month' на экран, чтобы показать результаты агрегации данных по количеству звонков по месяцам для каждого пользователя."
   ]
  },
  {
   "cell_type": "markdown",
   "metadata": {
    "deletable": false,
    "editable": false,
    "id": "2DUx3WnM_oCl",
    "tags": [
     "start_task"
    ]
   },
   "source": [
    "**Задание 25.** Посчитайте количество израсходованных минут разговора для каждого пользователя по месяцам и сохраните в переменную `minutes_per_month`. Вам понадобится\n",
    "\n",
    "- сгруппировать датафрейм с информацией о звонках по двум столбцам — с идентификаторами пользователей и номерами месяцев;\n",
    "- после группировки выбрать столбец `duration`\n",
    "- затем применить метод для подсчёта суммы.\n",
    "\n",
    "Выведите первые 30 строчек `minutes_per_month`."
   ]
  },
  {
   "cell_type": "code",
   "execution_count": 111,
   "metadata": {
    "deletable": false,
    "id": "ehr5Lhq-_oCl"
   },
   "outputs": [],
   "source": [
    "# Шаг 1: Используем метод .groupby() для группировки данных в DataFrame 'calls' по столбцам 'user_id' и 'month'\n",
    "# Шаг 2: Используем метод .agg() для агрегирования данных и подсчета израсходованных минут (используя 'duration' и метод 'sum')\n",
    "minutes_per_month = calls.groupby(['user_id', 'month']).agg(minutes=('duration', 'sum'))\n",
    "\n",
    "# Этот код выполняет группировку данных по пользователям и месяцам, а затем подсчитывает израсходованные минуты для каждого пользователя в каждом месяце."
   ]
  },
  {
   "cell_type": "code",
   "execution_count": 112,
   "metadata": {
    "deletable": false,
    "id": "-vbsnfVq_oCl"
   },
   "outputs": [
    {
     "name": "stdout",
     "output_type": "stream",
     "text": [
      "               minutes\n",
      "user_id month         \n",
      "1000    5          159\n",
      "        6          172\n",
      "        7          340\n",
      "        8          408\n",
      "        9          466\n",
      "        10         350\n",
      "        11         338\n",
      "        12         333\n",
      "1001    11         430\n",
      "        12         414\n",
      "1002    6          117\n",
      "        7          214\n",
      "        8          289\n",
      "        9          206\n",
      "        10         212\n",
      "        11         243\n",
      "        12         236\n",
      "1003    8          380\n",
      "        9          961\n",
      "        10         855\n",
      "        11         824\n",
      "        12         802\n",
      "1004    5           35\n",
      "        6          171\n",
      "        7          135\n",
      "        8          137\n",
      "        9          117\n",
      "        10         145\n",
      "        11         117\n",
      "        12         130\n"
     ]
    }
   ],
   "source": [
    "# Шаг 1: Используем метод .head() для вывода первых 30 строк DataFrame 'minutes_per_month'\n",
    "print(minutes_per_month.head(30))\n",
    "\n",
    "# Этот код выводит первые 30 строк DataFrame 'minutes_per_month' на экран, чтобы показать результаты агрегации данных по израсходованным минутам по месяцам для каждого пользователя."
   ]
  },
  {
   "cell_type": "markdown",
   "metadata": {
    "deletable": false,
    "editable": false,
    "id": "bjTWE47D_oCl",
    "tags": [
     "start_task"
    ]
   },
   "source": [
    "**Задание 26.** Посчитайте количество отправленных сообщений по месяцам для каждого пользователя и сохраните в переменную `messages_per_month`. Вам понадобится\n",
    "\n",
    "- сгруппировать датафрейм с информацией о сообщениях по двум столбцам — с идентификаторами пользователей и номерами месяцев;\n",
    "- после группировки выбрать столбец `message_date`;\n",
    "- затем применить метод для подсчёта количества.\n",
    "\n",
    "Выведите первые 30 строчек `messages_per_month`."
   ]
  },
  {
   "cell_type": "code",
   "execution_count": 113,
   "metadata": {
    "deletable": false,
    "id": "YiS9waG7_oCl"
   },
   "outputs": [],
   "source": [
    "# Шаг 1: Используем метод .groupby() для группировки данных в DataFrame 'messages' по столбцам 'user_id' и 'month'\n",
    "# Шаг 2: Используем метод .agg() для агрегирования данных и подсчета количества отправленных сообщений (используя 'message_date' и метод 'count')\n",
    "messages_per_month = messages.groupby(['user_id', 'month']).agg(messages=('message_date', 'count'))\n",
    "\n",
    "# Этот код выполняет группировку данных по пользователям и месяцам, а затем подсчитывает количество отправленных сообщений для каждого пользователя в каждом месяце."
   ]
  },
  {
   "cell_type": "code",
   "execution_count": 114,
   "metadata": {
    "deletable": false,
    "id": "aaDNanZ0_oCm"
   },
   "outputs": [
    {
     "name": "stdout",
     "output_type": "stream",
     "text": [
      "               messages\n",
      "user_id month          \n",
      "1000    5            22\n",
      "        6            60\n",
      "        7            75\n",
      "        8            81\n",
      "        9            57\n",
      "        10           73\n",
      "        11           58\n",
      "        12           70\n",
      "1002    6             4\n",
      "        7            11\n",
      "        8            13\n",
      "        9             4\n",
      "        10           10\n",
      "        11           16\n",
      "        12           12\n",
      "1003    8            37\n",
      "        9            91\n",
      "        10           83\n",
      "        11           94\n",
      "        12           75\n",
      "1004    5            95\n",
      "        6           134\n",
      "        7           181\n",
      "        8           151\n",
      "        9           146\n",
      "        10          165\n",
      "        11          158\n",
      "        12          162\n",
      "1005    1             7\n",
      "        2            38\n"
     ]
    }
   ],
   "source": [
    "# Шаг 1: Используем метод .head() для вывода первых 30 строк DataFrame 'messages_per_month'\n",
    "print(messages_per_month.head(30))\n",
    "\n",
    "# Этот код выводит первые 30 строк DataFrame 'messages_per_month' на экран, чтобы показать результаты агрегации данных по количеству отправленных сообщений по месяцам для каждого пользователя."
   ]
  },
  {
   "cell_type": "markdown",
   "metadata": {
    "deletable": false,
    "editable": false,
    "id": "9PZFHjUU_oCm",
    "tags": [
     "start_task"
    ]
   },
   "source": [
    "**Задание 27.** Посчитайте количество потраченных мегабайт по месяцам для каждого пользователя и сохраните в переменную `sessions_per_month`. Вам понадобится\n",
    "\n",
    "- сгруппировать датафрейм с информацией о сообщениях по двум столбцам — с идентификаторами пользователей и номерами месяцев;\n",
    "- затем применить метод для подсчёта суммы: `.agg({'mb_used': 'sum'})`"
   ]
  },
  {
   "cell_type": "code",
   "execution_count": 115,
   "metadata": {
    "deletable": false,
    "id": "-ITlvcsU_oCm"
   },
   "outputs": [],
   "source": [
    "# Шаг 1: Используем метод .groupby() для группировки данных в DataFrame 'sessions' по столбцам 'user_id' и 'month'\n",
    "# Шаг 2: Используем метод .agg() для агрегирования данных и подсчета суммы потраченных мегабайт (используя 'mb_used' и метод 'sum')\n",
    "sessions_per_month = sessions.groupby(['user_id', 'month']).agg({'mb_used': 'sum'})\n",
    "\n",
    "# Этот код выполняет группировку данных по пользователям и месяцам, а затем подсчитывает сумму потраченных мегабайт для каждого пользователя в каждом месяце."
   ]
  },
  {
   "cell_type": "code",
   "execution_count": 116,
   "metadata": {
    "deletable": false,
    "id": "YF7FQfXf_oCm"
   },
   "outputs": [
    {
     "name": "stdout",
     "output_type": "stream",
     "text": [
      "                mb_used\n",
      "user_id month          \n",
      "1000    5       2253.49\n",
      "        6      23233.77\n",
      "        7      14003.64\n",
      "        8      14055.93\n",
      "        9      14568.91\n",
      "        10     14702.49\n",
      "        11     14756.47\n",
      "        12      9817.61\n",
      "1001    11     18429.34\n",
      "        12     14036.66\n",
      "1002    6      10856.82\n",
      "        7      17580.10\n",
      "        8      20319.26\n",
      "        9      16691.08\n",
      "        10     13888.25\n",
      "        11     18587.28\n",
      "        12     18113.73\n",
      "1003    8       8565.21\n",
      "        9      12468.87\n",
      "        10     14768.14\n",
      "        11     11356.89\n",
      "        12     10121.53\n",
      "1004    5      13403.98\n",
      "        6      17600.02\n",
      "        7      22229.58\n",
      "        8      28584.37\n",
      "        9      15109.03\n",
      "        10     18475.44\n",
      "        11     15616.02\n",
      "        12     18021.04\n"
     ]
    }
   ],
   "source": [
    "# Шаг 1: Используем метод .head() для вывода первых 30 строк DataFrame 'sessions_per_month'\n",
    "print(sessions_per_month.head(30))\n",
    "\n",
    "# Этот код выводит первые 30 строк DataFrame 'sessions_per_month' на экран, чтобы показать результаты агрегации данных по потраченным мегабайтам по месяцам для каждого пользователя."
   ]
  },
  {
   "cell_type": "markdown",
   "metadata": {
    "deletable": false,
    "editable": false,
    "id": "GF37Inq-_oCn"
   },
   "source": [
    "### Анализ данных и подсчёт выручки"
   ]
  },
  {
   "cell_type": "markdown",
   "metadata": {
    "deletable": false,
    "editable": false,
    "id": "7U9eZ81t_oCn"
   },
   "source": [
    "Объединяем все посчитанные выше значения в один датафрейм `user_behavior`.\n",
    "Для каждой пары «пользователь — месяц» будут доступны информация о тарифе, количестве звонков, сообщений и потраченных мегабайтах."
   ]
  },
  {
   "cell_type": "code",
   "execution_count": 117,
   "metadata": {
    "deletable": false,
    "id": "SDchqQI5_oCn",
    "outputId": "760b21d8-9344-46a3-9c6e-a3cbbc7dd542"
   },
   "outputs": [
    {
     "data": {
      "text/plain": [
       "7.6"
      ]
     },
     "execution_count": 117,
     "metadata": {},
     "output_type": "execute_result"
    }
   ],
   "source": [
    "# Шаг 1: Используем метод .count() для подсчета непустых значений в столбце 'churn_date'\n",
    "# Шаг 2: Делим результат на общее количество строк (пользователей) в столбце 'churn_date'\n",
    "# Шаг 3: Умножаем результат на 100, чтобы получить процентное значение\n",
    "churn_percent = users['churn_date'].count() / users['churn_date'].shape[0] * 100\n",
    "\n",
    "# Этот код вычисляет процент пользователей, у которых указана дата прекращения пользования тарифом, в DataFrame 'users'.\n",
    "churn_percent"
   ]
  },
  {
   "cell_type": "markdown",
   "metadata": {
    "deletable": false,
    "editable": false,
    "id": "7jb0qJhe_oCn"
   },
   "source": [
    "Расторгли договор 7.6% клиентов из датасета"
   ]
  },
  {
   "cell_type": "code",
   "execution_count": 118,
   "metadata": {
    "deletable": false,
    "id": "QJuiD1cd_oCo",
    "outputId": "60af33ba-196b-464c-e15d-239dd446a4f4"
   },
   "outputs": [
    {
     "data": {
      "text/html": [
       "<div>\n",
       "<style scoped>\n",
       "    .dataframe tbody tr th:only-of-type {\n",
       "        vertical-align: middle;\n",
       "    }\n",
       "\n",
       "    .dataframe tbody tr th {\n",
       "        vertical-align: top;\n",
       "    }\n",
       "\n",
       "    .dataframe thead th {\n",
       "        text-align: right;\n",
       "    }\n",
       "</style>\n",
       "<table border=\"1\" class=\"dataframe\">\n",
       "  <thead>\n",
       "    <tr style=\"text-align: right;\">\n",
       "      <th></th>\n",
       "      <th>user_id</th>\n",
       "      <th>month</th>\n",
       "      <th>calls</th>\n",
       "      <th>messages</th>\n",
       "      <th>mb_used</th>\n",
       "      <th>minutes</th>\n",
       "      <th>age</th>\n",
       "      <th>churn_date</th>\n",
       "      <th>city</th>\n",
       "      <th>first_name</th>\n",
       "      <th>last_name</th>\n",
       "      <th>reg_date</th>\n",
       "      <th>tariff</th>\n",
       "    </tr>\n",
       "  </thead>\n",
       "  <tbody>\n",
       "    <tr>\n",
       "      <th>0</th>\n",
       "      <td>1000</td>\n",
       "      <td>5</td>\n",
       "      <td>22.0</td>\n",
       "      <td>22.0</td>\n",
       "      <td>2253.49</td>\n",
       "      <td>159.0</td>\n",
       "      <td>52</td>\n",
       "      <td>NaT</td>\n",
       "      <td>Краснодар</td>\n",
       "      <td>Рафаил</td>\n",
       "      <td>Верещагин</td>\n",
       "      <td>2018-05-25</td>\n",
       "      <td>ultra</td>\n",
       "    </tr>\n",
       "    <tr>\n",
       "      <th>1</th>\n",
       "      <td>1000</td>\n",
       "      <td>6</td>\n",
       "      <td>43.0</td>\n",
       "      <td>60.0</td>\n",
       "      <td>23233.77</td>\n",
       "      <td>172.0</td>\n",
       "      <td>52</td>\n",
       "      <td>NaT</td>\n",
       "      <td>Краснодар</td>\n",
       "      <td>Рафаил</td>\n",
       "      <td>Верещагин</td>\n",
       "      <td>2018-05-25</td>\n",
       "      <td>ultra</td>\n",
       "    </tr>\n",
       "    <tr>\n",
       "      <th>2</th>\n",
       "      <td>1000</td>\n",
       "      <td>7</td>\n",
       "      <td>47.0</td>\n",
       "      <td>75.0</td>\n",
       "      <td>14003.64</td>\n",
       "      <td>340.0</td>\n",
       "      <td>52</td>\n",
       "      <td>NaT</td>\n",
       "      <td>Краснодар</td>\n",
       "      <td>Рафаил</td>\n",
       "      <td>Верещагин</td>\n",
       "      <td>2018-05-25</td>\n",
       "      <td>ultra</td>\n",
       "    </tr>\n",
       "    <tr>\n",
       "      <th>3</th>\n",
       "      <td>1000</td>\n",
       "      <td>8</td>\n",
       "      <td>52.0</td>\n",
       "      <td>81.0</td>\n",
       "      <td>14055.93</td>\n",
       "      <td>408.0</td>\n",
       "      <td>52</td>\n",
       "      <td>NaT</td>\n",
       "      <td>Краснодар</td>\n",
       "      <td>Рафаил</td>\n",
       "      <td>Верещагин</td>\n",
       "      <td>2018-05-25</td>\n",
       "      <td>ultra</td>\n",
       "    </tr>\n",
       "    <tr>\n",
       "      <th>4</th>\n",
       "      <td>1000</td>\n",
       "      <td>9</td>\n",
       "      <td>58.0</td>\n",
       "      <td>57.0</td>\n",
       "      <td>14568.91</td>\n",
       "      <td>466.0</td>\n",
       "      <td>52</td>\n",
       "      <td>NaT</td>\n",
       "      <td>Краснодар</td>\n",
       "      <td>Рафаил</td>\n",
       "      <td>Верещагин</td>\n",
       "      <td>2018-05-25</td>\n",
       "      <td>ultra</td>\n",
       "    </tr>\n",
       "  </tbody>\n",
       "</table>\n",
       "</div>"
      ],
      "text/plain": [
       "   user_id  month  calls  messages   mb_used  minutes  age churn_date  \\\n",
       "0     1000      5   22.0      22.0   2253.49    159.0   52        NaT   \n",
       "1     1000      6   43.0      60.0  23233.77    172.0   52        NaT   \n",
       "2     1000      7   47.0      75.0  14003.64    340.0   52        NaT   \n",
       "3     1000      8   52.0      81.0  14055.93    408.0   52        NaT   \n",
       "4     1000      9   58.0      57.0  14568.91    466.0   52        NaT   \n",
       "\n",
       "        city first_name  last_name   reg_date tariff  \n",
       "0  Краснодар     Рафаил  Верещагин 2018-05-25  ultra  \n",
       "1  Краснодар     Рафаил  Верещагин 2018-05-25  ultra  \n",
       "2  Краснодар     Рафаил  Верещагин 2018-05-25  ultra  \n",
       "3  Краснодар     Рафаил  Верещагин 2018-05-25  ultra  \n",
       "4  Краснодар     Рафаил  Верещагин 2018-05-25  ultra  "
      ]
     },
     "execution_count": 118,
     "metadata": {},
     "output_type": "execute_result"
    }
   ],
   "source": [
    "# Шаг 1: Объединяем данные по звонкам, сообщениям, сессиям и израсходованным минутам\n",
    "user_behavior = calls_per_month\\\n",
    "    .merge(messages_per_month, left_index=True, right_index=True, how='outer')\\\n",
    "    .merge(sessions_per_month, left_index=True, right_index=True, how='outer')\\\n",
    "    .merge(minutes_per_month, left_index=True, right_index=True, how='outer')\\\n",
    "    .reset_index()\n",
    "\n",
    "# Шаг 2: Объединяем полученный DataFrame с данными о пользователях\n",
    "user_behavior = user_behavior.merge(users, how='left', left_on='user_id', right_on='user_id')\n",
    "\n",
    "# Шаг 3: Выводим первые строки полученного DataFrame 'user_behavior' на экран\n",
    "user_behavior.head()\n",
    "\n",
    "# Этот код выполняет объединение данных по звонкам, сообщениям, сессиям и израсходованным минутам для каждого пользователя и соединяет их с данными о пользователях."
   ]
  },
  {
   "cell_type": "markdown",
   "metadata": {
    "deletable": false,
    "editable": false,
    "id": "9Kif7-vi_oCo"
   },
   "source": [
    "Проверим пропуски в таблице `user_behavior` после объединения:"
   ]
  },
  {
   "cell_type": "code",
   "execution_count": 119,
   "metadata": {
    "deletable": false,
    "id": "MExwRr6x_oCo",
    "outputId": "1362c11d-ba78-47b6-8495-ba877c2cae38"
   },
   "outputs": [
    {
     "name": "stdout",
     "output_type": "stream",
     "text": [
      "user_id          0\n",
      "month            0\n",
      "calls           40\n",
      "messages       497\n",
      "mb_used         11\n",
      "minutes         40\n",
      "age              0\n",
      "churn_date    3027\n",
      "city             0\n",
      "first_name       0\n",
      "last_name        0\n",
      "reg_date         0\n",
      "tariff           0\n",
      "dtype: int64\n"
     ]
    }
   ],
   "source": [
    "# Шаг 1: Вычисляем количество пропущенных значений для каждого столбца\n",
    "missing_values = user_behavior.isna().sum()\n",
    "\n",
    "# Шаг 2: Выводим результат на экран\n",
    "print(missing_values)\n",
    "\n",
    "# Этот код вычисляет количество пропущенных значений в каждом столбце DataFrame 'user_behavior'."
   ]
  },
  {
   "cell_type": "markdown",
   "metadata": {
    "deletable": false,
    "editable": false,
    "id": "eNUHBFPI_oCo"
   },
   "source": [
    "Заполним образовавшиеся пропуски в данных:"
   ]
  },
  {
   "cell_type": "code",
   "execution_count": 120,
   "metadata": {
    "deletable": false,
    "id": "2aCyfvNX_oCo"
   },
   "outputs": [],
   "source": [
    "# Шаг 1: Заполняем пропущенные значения в столбце 'calls' нулями\n",
    "user_behavior['calls'] = user_behavior['calls'].fillna(0)\n",
    "\n",
    "# Шаг 2: Заполняем пропущенные значения в столбце 'minutes' нулями\n",
    "user_behavior['minutes'] = user_behavior['minutes'].fillna(0)\n",
    "\n",
    "# Шаг 3: Заполняем пропущенные значения в столбце 'messages' нулями\n",
    "user_behavior['messages'] = user_behavior['messages'].fillna(0)\n",
    "\n",
    "# Шаг 4: Заполняем пропущенные значения в столбце 'mb_used' нулями\n",
    "user_behavior['mb_used'] = user_behavior['mb_used'].fillna(0)\n",
    "\n",
    "# Этот код заполняет пропущенные значения нулями в соответствующих столбцах DataFrame 'user_behavior'."
   ]
  },
  {
   "cell_type": "markdown",
   "metadata": {
    "deletable": false,
    "editable": false,
    "id": "JTszP_Iy_oCo"
   },
   "source": [
    "Присоединяем информацию о тарифах"
   ]
  },
  {
   "cell_type": "code",
   "execution_count": 121,
   "metadata": {
    "deletable": false,
    "id": "zmnnqTIq_oCo"
   },
   "outputs": [],
   "source": [
    "# Шаг 1: Используем метод .rename() для переименования столбца 'tariff_name' в 'tariff'\n",
    "tariffs = tariffs.rename(\n",
    "    columns={\n",
    "        'tariff_name': 'tariff'\n",
    "    }\n",
    ")\n",
    "\n",
    "# Этот код переименовывает столбец 'tariff_name' в 'tariff' в DataFrame 'tariffs'."
   ]
  },
  {
   "cell_type": "code",
   "execution_count": 122,
   "metadata": {
    "deletable": false,
    "id": "hop7kFhB_oCp"
   },
   "outputs": [],
   "source": [
    "# Шаг 1: Используем метод .merge() для объединения DataFrame 'user_behavior' с DataFrame 'tariffs'\n",
    "user_behavior = user_behavior.merge(tariffs, on='tariff')\n",
    "\n",
    "# Этот код выполняет объединение двух DataFrame по столбцу 'tariff'."
   ]
  },
  {
   "cell_type": "markdown",
   "metadata": {
    "deletable": false,
    "editable": false,
    "id": "aJZeqJwL_oCp"
   },
   "source": [
    "Считаем количество минут разговора, сообщений и мегабайт, превышающих включённые в тариф\n"
   ]
  },
  {
   "cell_type": "code",
   "execution_count": 123,
   "metadata": {
    "deletable": false,
    "id": "1Tcf3IxI_oCp"
   },
   "outputs": [],
   "source": [
    "# Шаг 1: Вычисляем количество \"переплаченных\" минут\n",
    "user_behavior['paid_minutes'] = user_behavior['minutes'] - user_behavior['minutes_included']\n",
    "\n",
    "# Шаг 2: Вычисляем количество \"переплаченных\" сообщений\n",
    "user_behavior['paid_messages'] = user_behavior['messages'] - user_behavior['messages_included']\n",
    "\n",
    "# Шаг 3: Вычисляем количество \"переплаченных\" мегабайт\n",
    "user_behavior['paid_mb'] = user_behavior['mb_used'] - user_behavior['mb_per_month_included']\n",
    "\n",
    "# Шаг 4: Корректируем отрицательные значения \"переплат\" на ноль\n",
    "for col in ['paid_messages', 'paid_minutes', 'paid_mb']:\n",
    "    user_behavior.loc[user_behavior[col] < 0, col] = 0\n",
    "\n",
    "# Этот код вычисляет количество \"переплаченных\" минут, сообщений и мегабайт, а затем корректирует отрицательные значения, устанавливая их в ноль."
   ]
  },
  {
   "cell_type": "markdown",
   "metadata": {
    "deletable": false,
    "editable": false,
    "id": "9mf7Pko9_oCp"
   },
   "source": [
    "Переводим превышающие тариф мегабайты в гигабайты и сохраняем в столбец `paid_gb`"
   ]
  },
  {
   "cell_type": "code",
   "execution_count": 124,
   "metadata": {
    "deletable": false,
    "id": "cct5ZB60_oCp"
   },
   "outputs": [],
   "source": [
    "# Шаг 1: Вычисляем количество \"переплаченных\" гигабайтов, разделив \"переплату\" в мегабайтах на 1024 (количество мегабайт в гигабайте) и округляем вверх до целых чисел\n",
    "user_behavior['paid_gb'] = np.ceil(user_behavior['paid_mb'] / 1024).astype(int)\n",
    "\n",
    "# Этот код вычисляет количество \"переплаченных\" гигабайтов, разделяя \"переплату\" в мегабайтах на 1024 и округляя результат вверх до целых чисел."
   ]
  },
  {
   "cell_type": "markdown",
   "metadata": {
    "deletable": false,
    "editable": false,
    "id": "KEZ1rO-r_oCp"
   },
   "source": [
    "Считаем выручку за минуты разговора, сообщения и интернет"
   ]
  },
  {
   "cell_type": "code",
   "execution_count": 125,
   "metadata": {
    "deletable": false,
    "id": "U302RLm6_oCp"
   },
   "outputs": [],
   "source": [
    "# Шаг 1: Вычисляем затраты на дополнительные минуты, умножая количество \"переплаченных\" минут на стоимость минуты\n",
    "user_behavior['cost_minutes'] = user_behavior['paid_minutes'] * user_behavior['rub_per_minute']\n",
    "\n",
    "# Шаг 2: Вычисляем затраты на дополнительные сообщения, умножая количество \"переплаченных\" сообщений на стоимость сообщения\n",
    "user_behavior['cost_messages'] = user_behavior['paid_messages'] * user_behavior['rub_per_message']\n",
    "\n",
    "# Шаг 3: Вычисляем затраты на дополнительные гигабайты, умножая количество \"переплаченных\" гигабайтов на стоимость гигабайта\n",
    "user_behavior['cost_gb'] = user_behavior['paid_gb'] * user_behavior['rub_per_gb']\n",
    "\n",
    "# Этот код вычисляет затраты на дополнительные минуты, сообщения и гигабайты, умножая соответствующие \"переплаты\" на стоимость каждого элемента."
   ]
  },
  {
   "cell_type": "markdown",
   "metadata": {
    "deletable": false,
    "editable": false,
    "id": "18ruYfTJ_oCp"
   },
   "source": [
    "Считаем помесячную выручку с каждого пользователя, она будет храниться в столбце `total_cost`"
   ]
  },
  {
   "cell_type": "code",
   "execution_count": 127,
   "metadata": {
    "deletable": false,
    "id": "Uf2YyazE_oCp"
   },
   "outputs": [],
   "source": [
    "user_behavior['total_cost'] = (\n",
    "      user_behavior['rub_monthly_fee'] +  # Ежемесячная абонентская плата\n",
    "     user_behavior['cost_minutes'] +     # Затраты на дополнительные минуты сверх тарифа\n",
    "     user_behavior['cost_messages'] +   # Затраты на дополнительные сообщения сверх тарифа\n",
    "     user_behavior['cost_gb']               # Затраты на дополнительные гигабайты сверх тарифа\n",
    ")"
   ]
  },
  {
   "cell_type": "markdown",
   "metadata": {
    "deletable": false,
    "editable": false,
    "id": "49WKdXmA_oCp"
   },
   "source": [
    "Датафрейм `stats_df` для каждой пары «месяц — тариф» будет хранить основные характеристики"
   ]
  },
  {
   "cell_type": "code",
   "execution_count": 128,
   "metadata": {
    "deletable": false,
    "id": "4V-Kl67S_oCp",
    "outputId": "ed8b1220-debd-42f0-9941-3acb27e94db1"
   },
   "outputs": [
    {
     "data": {
      "text/html": [
       "<div>\n",
       "<style scoped>\n",
       "    .dataframe tbody tr th:only-of-type {\n",
       "        vertical-align: middle;\n",
       "    }\n",
       "\n",
       "    .dataframe tbody tr th {\n",
       "        vertical-align: top;\n",
       "    }\n",
       "\n",
       "    .dataframe thead th {\n",
       "        text-align: right;\n",
       "    }\n",
       "</style>\n",
       "<table border=\"1\" class=\"dataframe\">\n",
       "  <thead>\n",
       "    <tr style=\"text-align: right;\">\n",
       "      <th></th>\n",
       "      <th>month</th>\n",
       "      <th>tariff</th>\n",
       "      <th>calls_mean</th>\n",
       "      <th>sessions_mean</th>\n",
       "      <th>messages_mean</th>\n",
       "      <th>minutes_mean</th>\n",
       "      <th>calls_std</th>\n",
       "      <th>sessions_std</th>\n",
       "      <th>messages_std</th>\n",
       "      <th>minutes_std</th>\n",
       "      <th>calls_median</th>\n",
       "      <th>sessions_median</th>\n",
       "      <th>messages_median</th>\n",
       "      <th>minutes_median</th>\n",
       "    </tr>\n",
       "  </thead>\n",
       "  <tbody>\n",
       "    <tr>\n",
       "      <th>0</th>\n",
       "      <td>1</td>\n",
       "      <td>smart</td>\n",
       "      <td>27.68</td>\n",
       "      <td>8513.72</td>\n",
       "      <td>18.24</td>\n",
       "      <td>203.85</td>\n",
       "      <td>20.81</td>\n",
       "      <td>6444.68</td>\n",
       "      <td>16.20</td>\n",
       "      <td>154.23</td>\n",
       "      <td>20.5</td>\n",
       "      <td>7096.18</td>\n",
       "      <td>15.0</td>\n",
       "      <td>162.5</td>\n",
       "    </tr>\n",
       "    <tr>\n",
       "      <th>1</th>\n",
       "      <td>1</td>\n",
       "      <td>ultra</td>\n",
       "      <td>59.44</td>\n",
       "      <td>13140.68</td>\n",
       "      <td>33.78</td>\n",
       "      <td>428.11</td>\n",
       "      <td>41.64</td>\n",
       "      <td>6865.35</td>\n",
       "      <td>30.67</td>\n",
       "      <td>269.76</td>\n",
       "      <td>51.0</td>\n",
       "      <td>14791.37</td>\n",
       "      <td>32.0</td>\n",
       "      <td>382.0</td>\n",
       "    </tr>\n",
       "    <tr>\n",
       "      <th>2</th>\n",
       "      <td>2</td>\n",
       "      <td>smart</td>\n",
       "      <td>40.19</td>\n",
       "      <td>11597.05</td>\n",
       "      <td>24.09</td>\n",
       "      <td>298.69</td>\n",
       "      <td>25.39</td>\n",
       "      <td>6247.35</td>\n",
       "      <td>21.75</td>\n",
       "      <td>190.82</td>\n",
       "      <td>38.5</td>\n",
       "      <td>12553.71</td>\n",
       "      <td>20.0</td>\n",
       "      <td>258.0</td>\n",
       "    </tr>\n",
       "    <tr>\n",
       "      <th>3</th>\n",
       "      <td>2</td>\n",
       "      <td>ultra</td>\n",
       "      <td>41.54</td>\n",
       "      <td>11775.94</td>\n",
       "      <td>21.96</td>\n",
       "      <td>297.12</td>\n",
       "      <td>40.97</td>\n",
       "      <td>10644.64</td>\n",
       "      <td>26.77</td>\n",
       "      <td>296.51</td>\n",
       "      <td>25.0</td>\n",
       "      <td>7327.12</td>\n",
       "      <td>5.5</td>\n",
       "      <td>168.0</td>\n",
       "    </tr>\n",
       "    <tr>\n",
       "      <th>4</th>\n",
       "      <td>3</td>\n",
       "      <td>smart</td>\n",
       "      <td>54.32</td>\n",
       "      <td>15104.16</td>\n",
       "      <td>31.86</td>\n",
       "      <td>390.05</td>\n",
       "      <td>25.54</td>\n",
       "      <td>5828.24</td>\n",
       "      <td>26.80</td>\n",
       "      <td>191.89</td>\n",
       "      <td>59.0</td>\n",
       "      <td>15670.25</td>\n",
       "      <td>23.0</td>\n",
       "      <td>409.0</td>\n",
       "    </tr>\n",
       "    <tr>\n",
       "      <th>5</th>\n",
       "      <td>3</td>\n",
       "      <td>ultra</td>\n",
       "      <td>67.68</td>\n",
       "      <td>17535.55</td>\n",
       "      <td>32.30</td>\n",
       "      <td>489.65</td>\n",
       "      <td>44.84</td>\n",
       "      <td>10951.79</td>\n",
       "      <td>41.62</td>\n",
       "      <td>333.74</td>\n",
       "      <td>57.0</td>\n",
       "      <td>17495.18</td>\n",
       "      <td>20.0</td>\n",
       "      <td>403.0</td>\n",
       "    </tr>\n",
       "    <tr>\n",
       "      <th>6</th>\n",
       "      <td>4</td>\n",
       "      <td>smart</td>\n",
       "      <td>51.31</td>\n",
       "      <td>13462.18</td>\n",
       "      <td>30.74</td>\n",
       "      <td>367.13</td>\n",
       "      <td>25.70</td>\n",
       "      <td>5698.25</td>\n",
       "      <td>24.54</td>\n",
       "      <td>186.49</td>\n",
       "      <td>52.0</td>\n",
       "      <td>14087.65</td>\n",
       "      <td>28.0</td>\n",
       "      <td>368.5</td>\n",
       "    </tr>\n",
       "    <tr>\n",
       "      <th>7</th>\n",
       "      <td>4</td>\n",
       "      <td>ultra</td>\n",
       "      <td>64.09</td>\n",
       "      <td>16828.13</td>\n",
       "      <td>31.56</td>\n",
       "      <td>458.02</td>\n",
       "      <td>36.27</td>\n",
       "      <td>9718.65</td>\n",
       "      <td>37.51</td>\n",
       "      <td>267.68</td>\n",
       "      <td>61.0</td>\n",
       "      <td>16645.78</td>\n",
       "      <td>17.0</td>\n",
       "      <td>453.0</td>\n",
       "    </tr>\n",
       "    <tr>\n",
       "      <th>8</th>\n",
       "      <td>5</td>\n",
       "      <td>smart</td>\n",
       "      <td>55.24</td>\n",
       "      <td>15805.18</td>\n",
       "      <td>33.77</td>\n",
       "      <td>387.36</td>\n",
       "      <td>25.38</td>\n",
       "      <td>5978.23</td>\n",
       "      <td>27.04</td>\n",
       "      <td>186.60</td>\n",
       "      <td>59.0</td>\n",
       "      <td>16323.94</td>\n",
       "      <td>30.0</td>\n",
       "      <td>433.0</td>\n",
       "    </tr>\n",
       "    <tr>\n",
       "      <th>9</th>\n",
       "      <td>5</td>\n",
       "      <td>ultra</td>\n",
       "      <td>72.51</td>\n",
       "      <td>19363.15</td>\n",
       "      <td>37.85</td>\n",
       "      <td>510.33</td>\n",
       "      <td>41.08</td>\n",
       "      <td>10046.11</td>\n",
       "      <td>40.31</td>\n",
       "      <td>289.60</td>\n",
       "      <td>75.0</td>\n",
       "      <td>18696.43</td>\n",
       "      <td>25.0</td>\n",
       "      <td>519.0</td>\n",
       "    </tr>\n",
       "  </tbody>\n",
       "</table>\n",
       "</div>"
      ],
      "text/plain": [
       "   month tariff  calls_mean  sessions_mean  messages_mean  minutes_mean  \\\n",
       "0      1  smart       27.68        8513.72          18.24        203.85   \n",
       "1      1  ultra       59.44       13140.68          33.78        428.11   \n",
       "2      2  smart       40.19       11597.05          24.09        298.69   \n",
       "3      2  ultra       41.54       11775.94          21.96        297.12   \n",
       "4      3  smart       54.32       15104.16          31.86        390.05   \n",
       "5      3  ultra       67.68       17535.55          32.30        489.65   \n",
       "6      4  smart       51.31       13462.18          30.74        367.13   \n",
       "7      4  ultra       64.09       16828.13          31.56        458.02   \n",
       "8      5  smart       55.24       15805.18          33.77        387.36   \n",
       "9      5  ultra       72.51       19363.15          37.85        510.33   \n",
       "\n",
       "   calls_std  sessions_std  messages_std  minutes_std  calls_median  \\\n",
       "0      20.81       6444.68         16.20       154.23          20.5   \n",
       "1      41.64       6865.35         30.67       269.76          51.0   \n",
       "2      25.39       6247.35         21.75       190.82          38.5   \n",
       "3      40.97      10644.64         26.77       296.51          25.0   \n",
       "4      25.54       5828.24         26.80       191.89          59.0   \n",
       "5      44.84      10951.79         41.62       333.74          57.0   \n",
       "6      25.70       5698.25         24.54       186.49          52.0   \n",
       "7      36.27       9718.65         37.51       267.68          61.0   \n",
       "8      25.38       5978.23         27.04       186.60          59.0   \n",
       "9      41.08      10046.11         40.31       289.60          75.0   \n",
       "\n",
       "   sessions_median  messages_median  minutes_median  \n",
       "0          7096.18             15.0           162.5  \n",
       "1         14791.37             32.0           382.0  \n",
       "2         12553.71             20.0           258.0  \n",
       "3          7327.12              5.5           168.0  \n",
       "4         15670.25             23.0           409.0  \n",
       "5         17495.18             20.0           403.0  \n",
       "6         14087.65             28.0           368.5  \n",
       "7         16645.78             17.0           453.0  \n",
       "8         16323.94             30.0           433.0  \n",
       "9         18696.43             25.0           519.0  "
      ]
     },
     "execution_count": 128,
     "metadata": {},
     "output_type": "execute_result"
    }
   ],
   "source": [
    "# Создание сводной таблицы для статистических метрик\n",
    "stats_df = user_behavior.pivot_table(\n",
    "            index=['month', 'tariff'],  # Группировка по месяцу и тарифу\n",
    "            values=['calls', 'minutes', 'messages', 'mb_used'],  # Столбцы, для которых рассчитываем статистику\n",
    "            aggfunc=['mean', 'std', 'median']  # Вычисление среднего, стандартного отклонения и медианы\n",
    ").round(2).reset_index()\n",
    "\n",
    "# Переименование столбцов для удобства\n",
    "stats_df.columns = ['month', 'tariff', 'calls_mean', 'sessions_mean', 'messages_mean', 'minutes_mean',\n",
    "                   'calls_std',  'sessions_std', 'messages_std', 'minutes_std',\n",
    "                   'calls_median', 'sessions_median', 'messages_median', 'minutes_median']\n",
    "\n",
    "# Вывод первых 10 строк таблицы\n",
    "stats_df.head(10)"
   ]
  },
  {
   "cell_type": "markdown",
   "metadata": {
    "deletable": false,
    "editable": false,
    "id": "HBjTHsiq_oCq"
   },
   "source": [
    "Распределение среднего количества звонков по видам тарифов и месяцам"
   ]
  },
  {
   "cell_type": "code",
   "execution_count": 129,
   "metadata": {
    "deletable": false,
    "id": "HKlQp7la_oCq",
    "outputId": "18ba7a99-d460-44f5-9c08-a67e71e18aa2"
   },
   "outputs": [
    {
     "data": {
      "image/png": "[encoded data removed]",
      "text/plain": [
       "<Figure size 1224x504 with 1 Axes>"
      ]
     },
     "metadata": {
      "needs_background": "light"
     },
     "output_type": "display_data"
    }
   ],
   "source": [
    "# Увеличиваем размер графика\n",
    "plt.figure(figsize=(17, 7))\n",
    "\n",
    "# Создание barplot для распределения среднего количества звонков по месяцам и тарифам\n",
    "ax = sns.barplot(\n",
    "    x='month',  # По оси X - месяцы\n",
    "    y='calls_mean',  # По оси Y - среднее количество звонков\n",
    "    hue=\"tariff\",  # Разделение по тарифам\n",
    "    data=stats_df,  # Данные из сводной таблицы\n",
    "    palette=['lightblue', 'blue']  # Палитра цветов для тарифов\n",
    ")\n",
    "\n",
    "# Добавляем сетку на график\n",
    "ax.grid(True, axis='y', linestyle='--', alpha=0.7)\n",
    "\n",
    "# Настройка заголовка и подписей к осям\n",
    "ax.set_title('Распределение количества звонков по видам тарифов и месяцам')\n",
    "ax.set(xlabel='Номер месяца', ylabel='Среднее количество звонков')\n",
    "\n",
    "plt.show()"
   ]
  },
  {
   "cell_type": "code",
   "execution_count": 130,
   "metadata": {
    "deletable": false,
    "id": "LBzNZDS1_oCq",
    "outputId": "12f9ceca-41e4-4ff9-ebf7-1a778751b299"
   },
   "outputs": [
    {
     "data": {
      "image/png": "[encoded data removed]",
      "text/plain": [
       "<Figure size 1224x504 with 1 Axes>"
      ]
     },
     "metadata": {
      "needs_background": "light"
     },
     "output_type": "display_data"
    }
   ],
   "source": [
    "# Группируем данные по тарифам и строим гистограмму для количества звонков\n",
    "user_behavior.groupby('tariff')['calls'].plot(kind='hist', bins=35, alpha=0.5, grid=True, figsize=(17, 7))\n",
    "\n",
    "# Добавляем легенду для отображения тарифов\n",
    "plt.legend(['Smart', 'Ultra'])\n",
    "\n",
    "# Настройка подписей к осям\n",
    "plt.xlabel('Количество звонков')\n",
    "plt.ylabel('Количество клиентов')\n",
    "\n",
    "# Отображаем график\n",
    "plt.show()"
   ]
  },
  {
   "cell_type": "markdown",
   "metadata": {
    "deletable": false,
    "editable": false,
    "id": "6ApNiP3G_oCq"
   },
   "source": [
    "Распределение средней продолжительности звонков по видам тарифов и месяцам"
   ]
  },
  {
   "cell_type": "code",
   "execution_count": 131,
   "metadata": {
    "deletable": false,
    "id": "NB9xuopA_oCq",
    "outputId": "f4f1696b-7a58-41b3-8085-f86e0c866bc9"
   },
   "outputs": [
    {
     "data": {
      "image/png": "[encoded data removed]",
      "text/plain": [
       "<Figure size 1224x504 with 1 Axes>"
      ]
     },
     "metadata": {
      "needs_background": "light"
     },
     "output_type": "display_data"
    }
   ],
   "source": [
    "# Увеличиваем размер графика\n",
    "plt.figure(figsize=(17, 7))\n",
    "\n",
    "# Используем seaborn для построения барплота средней продолжительности звонков по месяцам и тарифам\n",
    "ax = sns.barplot(x='month',\n",
    "            y='minutes_mean',\n",
    "            hue=\"tariff\",\n",
    "            data=stats_df,\n",
    "            palette=['lightblue', 'blue'])\n",
    "\n",
    "# Устанавливаем заголовок графика\n",
    "ax.set_title('Распределение продолжительности звонков по видам тарифов и месяцам')\n",
    "\n",
    "# Задаем подписи к осям\n",
    "ax.set(xlabel='Номер месяца', ylabel='Средняя продолжительность звонков')\n",
    "\n",
    "# Добавляем сетку\n",
    "ax.grid(True)\n",
    "\n",
    "# Отображаем график\n",
    "plt.show()\n"
   ]
  },
  {
   "cell_type": "code",
   "execution_count": 132,
   "metadata": {
    "deletable": false,
    "id": "eL5SHsdq_oCq",
    "outputId": "21d15fb2-0f41-46cb-b0ab-a31874d3d201"
   },
   "outputs": [
    {
     "data": {
      "image/png": "[encoded data removed]",
      "text/plain": [
       "<Figure size 1224x504 with 1 Axes>"
      ]
     },
     "metadata": {
      "needs_background": "light"
     },
     "output_type": "display_data"
    }
   ],
   "source": [
    "# Увеличиваем размер графика\n",
    "plt.figure(figsize=(17, 7))\n",
    "\n",
    "# Используем библиотеку Matplotlib для построения гистограммы продолжительности звонков для пользователей тарифа \"Смарт\" (зеленая) и \"Ультра\" (синяя)\n",
    "user_behavior[user_behavior['tariff'] == 'smart']['minutes'].hist(bins=35, alpha=0.5, color='green', label='Smart')\n",
    "user_behavior[user_behavior['tariff'] == 'ultra']['minutes'].hist(bins=35, alpha=0.5, color='blue', label='Ultra')\n",
    "\n",
    "# Добавляем легенду, чтобы отличить тарифы\n",
    "plt.legend(['Smart', 'Ultra'])\n",
    "\n",
    "# Задаем подписи к осям\n",
    "plt.xlabel('Продолжительность звонков')\n",
    "plt.ylabel('Количество клиентов')\n",
    "\n",
    "# Добавляем сетку\n",
    "plt.grid(True)\n",
    "\n",
    "# Отображаем гистограмму\n",
    "plt.show()\n"
   ]
  },
  {
   "cell_type": "markdown",
   "metadata": {
    "deletable": false,
    "editable": false,
    "id": "G3NDyWZy_oCq"
   },
   "source": [
    "Средняя длительность разговоров у абонентов тарифа Ultra больше, чем у абонентов тарифа Smart. В течение года пользователи обоих тарифов увеличивают среднюю продолжительность своих разговоров. Рост средней длительности разговоров у абонентов тарифа Smart равномерный в течение года. Пользователи тарифа Ultra не проявляют подобной линейной стабильности. Стоит отметить, что феврале у абонентов обоих тарифных планов наблюдались самые низкие показатели."
   ]
  },
  {
   "cell_type": "markdown",
   "metadata": {
    "deletable": false,
    "editable": false,
    "id": "ils1vnE7_oCq"
   },
   "source": [
    "Распределение среднего количества сообщений по видам тарифов и месяцам"
   ]
  },
  {
   "cell_type": "code",
   "execution_count": 133,
   "metadata": {
    "deletable": false,
    "id": "zkSEsDH__oCq",
    "outputId": "34370df8-5375-4a80-b1f5-ad6d556f6a54"
   },
   "outputs": [
    {
     "data": {
      "image/png": "[encoded data removed]",
      "text/plain": [
       "<Figure size 1224x504 with 1 Axes>"
      ]
     },
     "metadata": {
      "needs_background": "light"
     },
     "output_type": "display_data"
    }
   ],
   "source": [
    "# Увеличиваем размер графика\n",
    "plt.figure(figsize=(17, 7))\n",
    "\n",
    "ax = sns.barplot(x='month',\n",
    "            y='messages_mean',\n",
    "            hue=\"tariff\",\n",
    "            data=stats_df,\n",
    "            palette=['lightblue', 'blue']\n",
    ")\n",
    "\n",
    "ax.set_title('Распределение количества сообщений по видам тарифов и месяцам')\n",
    "ax.set(xlabel='Номер месяца', ylabel='Среднее количество сообщений')\n",
    "\n",
    "# Добавляем сетку\n",
    "plt.grid(True)\n",
    "\n",
    "# Отображаем график\n",
    "plt.show()"
   ]
  },
  {
   "cell_type": "code",
   "execution_count": 134,
   "metadata": {
    "deletable": false,
    "id": "I97vMndq_oCq",
    "outputId": "87f68d2f-ac58-4253-ccbb-70e81f073a41"
   },
   "outputs": [
    {
     "data": {
      "image/png": "[encoded data removed]",
      "text/plain": [
       "<Figure size 1224x504 with 1 Axes>"
      ]
     },
     "metadata": {
      "needs_background": "light"
     },
     "output_type": "display_data"
    }
   ],
   "source": [
    "# Увеличиваем размер графика\n",
    "plt.figure(figsize=(17, 7))\n",
    "\n",
    "# Создаем гистограмму для пользователей с тарифом \"Smart\" и \"Ultra\" по количеству сообщений\n",
    "user_behavior[user_behavior['tariff'] == 'smart']['messages'].hist(bins=35, alpha=0.5, color='green', label='Smart')\n",
    "user_behavior[user_behavior['tariff'] == 'ultra']['messages'].hist(bins=35, alpha=0.5, color='blue', label='Ultra')\n",
    "\n",
    "# Добавляем легенду для отображения тарифов\n",
    "plt.legend()\n",
    "\n",
    "# Устанавливаем подписи осей и заголовок\n",
    "plt.xlabel('Количество сообщений')\n",
    "plt.ylabel('Количество клиентов')\n",
    "plt.title('Распределение количества сообщений по тарифам')\n",
    "\n",
    "# Добавляем сетку\n",
    "plt.grid(True)\n",
    "\n",
    "# Отображаем график\n",
    "plt.show()"
   ]
  },
  {
   "cell_type": "markdown",
   "metadata": {
    "id": "IKu7ZqEy_oCq"
   },
   "source": [
    "В среднем пользователи тарифа Ultra отправляют больше сообщений — почти на 20 сообщений больше, чем пользователи тарифа Smart. Количество сообщений в течение года на обоих тарифах растёт. Динамика по отправке сообщений схожа с тенденциями по длительности разговоров: в феврале отмечено наименьшее количество сообщений за год и пользователи тарифа Ultra также проявляют нелинейную положительную динамику."
   ]
  },
  {
   "cell_type": "code",
   "execution_count": 135,
   "metadata": {
    "deletable": false,
    "id": "q866NzDW_oCr",
    "outputId": "18a00f1a-0227-4176-da41-47d448aecc0b"
   },
   "outputs": [
    {
     "data": {
      "image/png": "[encoded data removed]",
      "text/plain": [
       "<Figure size 1224x504 with 1 Axes>"
      ]
     },
     "metadata": {
      "needs_background": "light"
     },
     "output_type": "display_data"
    }
   ],
   "source": [
    "# Увеличиваем размер графика\n",
    "plt.figure(figsize=(17, 7))\n",
    "\n",
    "# Создаем barplot для среднего количества потраченного трафика (Мб) по тарифам и месяцам\n",
    "ax = sns.barplot(x='month', y='sessions_mean', hue='tariff', data=stats_df, palette=['lightblue', 'blue'])\n",
    "\n",
    "# Устанавливаем заголовок и подписи осей\n",
    "ax.set_title('Распределение количества потраченного трафика (Мб) по видам тарифов и месяцам')\n",
    "ax.set(xlabel='Номер месяца', ylabel='Среднее количество мегабайт')\n",
    "\n",
    "# Добавляем сетку\n",
    "ax.grid(True)\n",
    "\n",
    "# Отображаем график\n",
    "plt.show()"
   ]
  },
  {
   "cell_type": "markdown",
   "metadata": {
    "deletable": false,
    "editable": false,
    "id": "an1c3noO_oCr"
   },
   "source": [
    "Сравнение потраченных мегабайт среди пользователей тарифов Smart и Ultra"
   ]
  },
  {
   "cell_type": "code",
   "execution_count": 136,
   "metadata": {
    "deletable": false,
    "id": "Czm2mIhd_oCr",
    "outputId": "af40db5d-21b7-4991-bcfb-cd57eec6bb3d"
   },
   "outputs": [
    {
     "data": {
      "image/png": "[encoded data removed]",
      "text/plain": [
       "<Figure size 1224x504 with 1 Axes>"
      ]
     },
     "metadata": {
      "needs_background": "light"
     },
     "output_type": "display_data"
    }
   ],
   "source": [
    "# Увеличиваем размер графика\n",
    "plt.figure(figsize=(17, 7))\n",
    "\n",
    "# Создаем гистограмму для количества потраченных мегабайт по тарифу \"Смарт\"\n",
    "user_behavior[user_behavior['tariff'] == 'smart']['mb_used'].hist(bins=35, alpha=0.5, color='green')\n",
    "\n",
    "# Создаем гистограмму для количества потраченных мегабайт по тарифу \"Ультра\"\n",
    "user_behavior[user_behavior['tariff'] == 'ultra']['mb_used'].hist(bins=35, alpha=0.5, color='blue')\n",
    "\n",
    "# Добавляем легенду для обозначения тарифов\n",
    "plt.legend(['Smart', 'Ultra'])\n",
    "\n",
    "# Устанавливаем подписи осей\n",
    "plt.xlabel('Количество потраченных мегабайт')\n",
    "plt.ylabel('Количество клиентов')\n",
    "\n",
    "# Добавляем сетку на график\n",
    "plt.grid(True)\n",
    "\n",
    "# Отображаем график\n",
    "plt.show()"
   ]
  },
  {
   "cell_type": "markdown",
   "metadata": {
    "deletable": false,
    "editable": false,
    "id": "DQp_KGw1_oCr"
   },
   "source": [
    "Меньше всего пользователи использовали интернет в январе, феврале и апреле. Чаще всего абоненты тарифа Smart тратят 15–17 Гб, а абоненты тарифного плана Ultra — 19–21 ГБ."
   ]
  },
  {
   "cell_type": "markdown",
   "metadata": {
    "deletable": false,
    "editable": false,
    "id": "aKJz6DhN_oCr"
   },
   "source": [
    "### Проверка гипотез"
   ]
  },
  {
   "cell_type": "markdown",
   "metadata": {
    "deletable": false,
    "editable": false,
    "id": "FW2jChme_oCr",
    "tags": [
     "start_task"
    ]
   },
   "source": [
    "**Задание 28.** Проверка гипотезы: средняя выручка пользователей тарифов «Ультра» и «Смарт» различается;\n",
    "\n",
    "```\n",
    "H_0: Выручка (total_cost) пользователей \"Ультра\" = выручка (total_cost) пользователей \"Смарт\"`\n",
    "H_a: Выручка (total_cost) пользователей \"Ультра\" ≠ выручка (total_cost) пользователей \"Смарт\"`\n",
    "alpha = 0.05\n",
    "```"
   ]
  },
  {
   "cell_type": "code",
   "execution_count": 137,
   "metadata": {
    "deletable": false,
    "id": "02sfJAHr_oCr"
   },
   "outputs": [],
   "source": [
    "# Создаем серию данных для тарифа \"Ультра\"\n",
    "tariff_ultra = user_behavior['total_cost'][user_behavior['tariff'] == 'ultra']\n",
    "\n",
    "# Создаем серию данных для тарифа \"Смарт\"\n",
    "tariff_smart = user_behavior['total_cost'][user_behavior['tariff'] == 'smart']"
   ]
  },
  {
   "cell_type": "code",
   "execution_count": 138,
   "metadata": {
    "deletable": false,
    "id": "OxsrhJXE_oCr"
   },
   "outputs": [
    {
     "name": "stdout",
     "output_type": "stream",
     "text": [
      "p-значение: 4.2606313931076085e-250\n",
      "Отвергаем нулевую гипотезу\n"
     ]
    }
   ],
   "source": [
    "# Выполним t-тест для проверки гипотезы о различии средних двух выборок.\n",
    "results = st.ttest_ind(tariff_ultra, tariff_smart, equal_var=False)  # Вызываем метод t-теста\n",
    "\n",
    "alpha = 0.05  # Задаем значение уровня значимости\n",
    "\n",
    "# Выводим значение p-value на экран\n",
    "print('p-значение:', results.pvalue)\n",
    "\n",
    "# Условный оператор с выводом строки с ответом\n",
    "if results.pvalue < alpha: \n",
    "    print('Отвергаем нулевую гипотезу')\n",
    "else:\n",
    "    print('Не получилось отвергнуть нулевую гипотезу')"
   ]
  },
  {
   "cell_type": "markdown",
   "metadata": {
    "deletable": false,
    "editable": false,
    "id": "-ENs-XhC_oCr",
    "tags": [
     "start_task"
    ]
   },
   "source": [
    "**Задание 29.** Проверка гипотезы: средняя выручка с пользователей из Москвы отличается от выручки c пользователей других регионов; \n",
    "\n",
    "```\n",
    "H_0: Выручка (total_cost) пользователей из Москвы = выручка (total_cost) пользователей не из Москвы`\n",
    "H_1: Выручка (total_cost) пользователей из Москвы ≠ выручка (total_cost) пользователей не из Москвы`\n",
    "alpha = 0.05\n",
    "```"
   ]
  },
  {
   "cell_type": "code",
   "execution_count": 139,
   "metadata": {},
   "outputs": [],
   "source": [
    "# Создаем две выборки, одна для пользователей из Москвы и другая для пользователей из других городов\n",
    "total_cost_moscow = user_behavior['total_cost'][user_behavior['city'] =='Москва']\n",
    "total_cost_no_moscow = user_behavior['total_cost'][user_behavior['city'] !='Москва']"
   ]
  },
  {
   "cell_type": "code",
   "execution_count": 140,
   "metadata": {
    "deletable": false,
    "id": "RznkRUuu_oCr"
   },
   "outputs": [
    {
     "name": "stdout",
     "output_type": "stream",
     "text": [
      "p-значение: 0.5257376663729298\n",
      "Не получилось отвергнуть нулевую гипотезу\n"
     ]
    }
   ],
   "source": [
    "# Выполняем t-тест для сравнения средних значений двух выборок, предполагая неравные дисперсии (equal_var=False)\n",
    "results = st.ttest_ind(total_cost_moscow, total_cost_no_moscow, equal_var=False)\n",
    "\n",
    "alpha = 0.05  # Задаем уровень значимости\n",
    "\n",
    "# Выводим значение p-value на экран\n",
    "print('p-значение:', results.pvalue)\n",
    "\n",
    "# Условный оператор с выводом строки с ответом\n",
    "if results.pvalue < alpha:\n",
    "    print('Отвергаем нулевую гипотезу')\n",
    "else:\n",
    "    print('Не получилось отвергнуть нулевую гипотезу')"
   ]
  }
 ],
 "metadata": {
  "ExecuteTimeLog": [
   {
    "duration": 59,
    "start_time": "2023-03-14T08:14:55.239Z"
   },
   {
    "duration": 391,
    "start_time": "2023-03-14T08:15:02.940Z"
   },
   {
    "duration": 304,
    "start_time": "2023-03-14T08:15:04.744Z"
   },
   {
    "duration": 31,
    "start_time": "2023-03-14T08:15:25.033Z"
   },
   {
    "duration": 21,
    "start_time": "2023-03-14T08:15:31.870Z"
   },
   {
    "duration": 963,
    "start_time": "2023-03-14T08:16:01.463Z"
   },
   {
    "duration": 11,
    "start_time": "2023-03-14T08:16:05.919Z"
   },
   {
    "duration": 185,
    "start_time": "2023-03-14T08:16:13.696Z"
   },
   {
    "duration": 10,
    "start_time": "2023-03-14T08:16:15.903Z"
   },
   {
    "duration": 10,
    "start_time": "2023-03-14T08:20:32.031Z"
   },
   {
    "duration": 657,
    "start_time": "2023-03-14T08:21:40.539Z"
   },
   {
    "duration": 46,
    "start_time": "2023-03-14T08:21:47.937Z"
   },
   {
    "duration": 294,
    "start_time": "2023-03-14T08:22:19.995Z"
   },
   {
    "duration": 1635,
    "start_time": "2023-03-14T08:22:29.622Z"
   },
   {
    "duration": 1824,
    "start_time": "2023-03-14T08:22:41.301Z"
   },
   {
    "duration": 1915,
    "start_time": "2023-03-14T08:22:51.278Z"
   },
   {
    "duration": 2016,
    "start_time": "2023-03-14T08:23:03.678Z"
   },
   {
    "duration": 1938,
    "start_time": "2023-03-14T08:23:38.780Z"
   },
   {
    "duration": 614,
    "start_time": "2023-03-14T08:23:51.702Z"
   },
   {
    "duration": 350,
    "start_time": "2023-03-14T08:24:01.915Z"
   },
   {
    "duration": 282,
    "start_time": "2023-03-14T08:24:47.766Z"
   },
   {
    "duration": 11,
    "start_time": "2023-03-14T08:52:15.132Z"
   },
   {
    "duration": 25,
    "start_time": "2023-03-14T08:52:36.227Z"
   },
   {
    "duration": 1314,
    "start_time": "2023-03-14T08:53:13.206Z"
   },
   {
    "duration": 377,
    "start_time": "2023-03-14T08:53:25.894Z"
   },
   {
    "duration": 756,
    "start_time": "2023-03-14T08:54:41.010Z"
   },
   {
    "duration": 9,
    "start_time": "2023-03-14T08:56:23.143Z"
   },
   {
    "duration": 23,
    "start_time": "2023-03-14T08:56:25.722Z"
   },
   {
    "duration": 92,
    "start_time": "2023-03-14T08:56:28.345Z"
   },
   {
    "duration": 9,
    "start_time": "2023-03-14T08:56:30.600Z"
   },
   {
    "duration": 15,
    "start_time": "2023-03-14T08:56:55.077Z"
   },
   {
    "duration": 85,
    "start_time": "2023-03-14T08:57:23.462Z"
   },
   {
    "duration": 11,
    "start_time": "2023-03-14T08:57:42.028Z"
   },
   {
    "duration": 13,
    "start_time": "2023-03-14T08:58:00.800Z"
   },
   {
    "duration": 14,
    "start_time": "2023-03-14T10:54:06.807Z"
   },
   {
    "duration": 5,
    "start_time": "2023-03-14T10:54:21.740Z"
   },
   {
    "duration": 12,
    "start_time": "2023-03-14T10:54:24.714Z"
   },
   {
    "duration": 13,
    "start_time": "2023-03-14T10:54:48.961Z"
   },
   {
    "duration": 5,
    "start_time": "2023-03-14T10:55:01.603Z"
   },
   {
    "duration": 16,
    "start_time": "2023-03-14T10:55:04.253Z"
   },
   {
    "duration": 1502,
    "start_time": "2023-03-14T10:58:16.648Z"
   },
   {
    "duration": 100,
    "start_time": "2023-03-14T10:58:39.830Z"
   },
   {
    "duration": 17,
    "start_time": "2023-03-14T11:05:43.964Z"
   },
   {
    "duration": 12,
    "start_time": "2023-03-14T11:05:56.941Z"
   },
   {
    "duration": 20,
    "start_time": "2023-03-14T11:11:42.388Z"
   },
   {
    "duration": 17,
    "start_time": "2023-03-14T11:11:55.769Z"
   },
   {
    "duration": 34,
    "start_time": "2023-03-14T11:12:02.031Z"
   },
   {
    "duration": 15,
    "start_time": "2023-03-14T11:12:16.531Z"
   },
   {
    "duration": 34,
    "start_time": "2023-03-14T12:53:04.977Z"
   },
   {
    "duration": 25,
    "start_time": "2023-03-14T12:58:14.723Z"
   },
   {
    "duration": 38,
    "start_time": "2023-03-14T13:03:56.876Z"
   },
   {
    "duration": 6,
    "start_time": "2023-03-14T13:39:14.087Z"
   },
   {
    "duration": 13,
    "start_time": "2023-03-14T13:53:27.897Z"
   },
   {
    "duration": 23,
    "start_time": "2023-03-14T14:17:56.115Z"
   },
   {
    "duration": 35,
    "start_time": "2023-03-14T14:18:13.877Z"
   },
   {
    "duration": 40,
    "start_time": "2023-03-14T14:18:22.549Z"
   },
   {
    "duration": 17,
    "start_time": "2023-03-14T14:20:17.753Z"
   },
   {
    "duration": 25,
    "start_time": "2023-03-14T14:20:29.387Z"
   },
   {
    "duration": 21,
    "start_time": "2023-03-14T14:20:43.246Z"
   },
   {
    "duration": 34,
    "start_time": "2023-03-14T14:21:19.956Z"
   },
   {
    "duration": 19,
    "start_time": "2023-03-14T14:21:27.331Z"
   },
   {
    "duration": 22,
    "start_time": "2023-03-14T14:33:37.238Z"
   },
   {
    "duration": 9,
    "start_time": "2023-03-14T14:33:55.097Z"
   },
   {
    "duration": 30,
    "start_time": "2023-03-14T14:59:24.390Z"
   },
   {
    "duration": 5,
    "start_time": "2023-03-14T14:59:26.564Z"
   },
   {
    "duration": 15,
    "start_time": "2023-03-14T15:02:37.660Z"
   },
   {
    "duration": 5,
    "start_time": "2023-03-14T15:02:39.917Z"
   },
   {
    "duration": 17,
    "start_time": "2023-03-14T15:06:08.610Z"
   },
   {
    "duration": 5,
    "start_time": "2023-03-14T15:06:10.533Z"
   },
   {
    "duration": 17,
    "start_time": "2023-03-14T15:08:31.006Z"
   },
   {
    "duration": 7,
    "start_time": "2023-03-14T15:08:34.001Z"
   },
   {
    "duration": 57,
    "start_time": "2023-03-14T15:10:33.759Z"
   },
   {
    "duration": 22,
    "start_time": "2023-03-14T15:10:40.812Z"
   },
   {
    "duration": 11,
    "start_time": "2023-03-14T15:11:01.196Z"
   },
   {
    "duration": 20,
    "start_time": "2023-03-14T15:11:14.600Z"
   },
   {
    "duration": 7,
    "start_time": "2023-03-14T15:11:17.258Z"
   },
   {
    "duration": 17,
    "start_time": "2023-03-14T15:16:24.756Z"
   },
   {
    "duration": 6,
    "start_time": "2023-03-14T15:16:27.446Z"
   },
   {
    "duration": 13,
    "start_time": "2023-03-14T15:17:37.741Z"
   },
   {
    "duration": 6,
    "start_time": "2023-03-14T15:17:40.708Z"
   },
   {
    "duration": 5,
    "start_time": "2023-03-14T15:18:09.757Z"
   },
   {
    "duration": 49,
    "start_time": "2023-03-14T15:18:11.891Z"
   },
   {
    "duration": 11,
    "start_time": "2023-03-14T15:18:14.740Z"
   },
   {
    "duration": 13,
    "start_time": "2023-03-14T15:18:17.079Z"
   },
   {
    "duration": 4,
    "start_time": "2023-03-14T15:18:20.247Z"
   },
   {
    "duration": 10,
    "start_time": "2023-03-14T15:18:22.321Z"
   },
   {
    "duration": 12,
    "start_time": "2023-03-14T15:18:25.366Z"
   },
   {
    "duration": 7,
    "start_time": "2023-03-14T15:18:27.749Z"
   },
   {
    "duration": 8,
    "start_time": "2023-03-14T15:18:29.650Z"
   },
   {
    "duration": 5,
    "start_time": "2023-03-14T15:18:31.804Z"
   },
   {
    "duration": 67,
    "start_time": "2023-03-14T15:18:33.861Z"
   },
   {
    "duration": 914,
    "start_time": "2023-03-14T15:18:36.726Z"
   },
   {
    "duration": 277,
    "start_time": "2023-03-14T15:18:40.288Z"
   },
   {
    "duration": 368,
    "start_time": "2023-03-14T15:18:48.804Z"
   },
   {
    "duration": 348,
    "start_time": "2023-03-14T15:18:51.695Z"
   },
   {
    "duration": 245,
    "start_time": "2023-03-14T15:18:56.213Z"
   },
   {
    "duration": 304,
    "start_time": "2023-03-14T15:19:06.464Z"
   },
   {
    "duration": 593,
    "start_time": "2023-03-14T15:19:09.091Z"
   },
   {
    "duration": 379,
    "start_time": "2023-03-14T15:19:14.282Z"
   },
   {
    "duration": 237,
    "start_time": "2023-03-14T15:19:18.490Z"
   },
   {
    "duration": 39,
    "start_time": "2023-03-14T16:03:13.445Z"
   },
   {
    "duration": 398,
    "start_time": "2023-03-14T18:57:51.463Z"
   },
   {
    "duration": 533,
    "start_time": "2023-03-14T18:57:53.827Z"
   },
   {
    "duration": 27,
    "start_time": "2023-03-14T18:57:56.181Z"
   },
   {
    "duration": 40,
    "start_time": "2023-03-14T18:57:59.756Z"
   },
   {
    "duration": 724,
    "start_time": "2023-03-14T18:58:02.362Z"
   },
   {
    "duration": 506,
    "start_time": "2023-03-14T18:58:07.500Z"
   },
   {
    "duration": 11,
    "start_time": "2023-03-14T18:58:10.442Z"
   },
   {
    "duration": 22,
    "start_time": "2023-03-14T18:58:12.919Z"
   },
   {
    "duration": 308,
    "start_time": "2023-03-14T18:58:15.613Z"
   },
   {
    "duration": 157,
    "start_time": "2023-03-14T18:58:20.438Z"
   },
   {
    "duration": 8,
    "start_time": "2023-03-14T18:58:23.746Z"
   },
   {
    "duration": 19,
    "start_time": "2023-03-14T18:58:26.218Z"
   },
   {
    "duration": 67,
    "start_time": "2023-03-14T18:58:29.766Z"
   },
   {
    "duration": 9,
    "start_time": "2023-03-14T18:58:34.963Z"
   },
   {
    "duration": 11,
    "start_time": "2023-03-14T18:58:39.151Z"
   },
   {
    "duration": 87,
    "start_time": "2023-03-14T18:58:43.485Z"
   },
   {
    "duration": 11,
    "start_time": "2023-03-14T18:58:46.526Z"
   },
   {
    "duration": 16,
    "start_time": "2023-03-14T18:58:50.416Z"
   },
   {
    "duration": 169,
    "start_time": "2023-03-14T18:58:54.636Z"
   },
   {
    "duration": 8,
    "start_time": "2023-03-14T18:58:58.349Z"
   },
   {
    "duration": 11,
    "start_time": "2023-03-14T18:59:01.254Z"
   },
   {
    "duration": 31,
    "start_time": "2023-03-14T18:59:04.053Z"
   },
   {
    "duration": 16,
    "start_time": "2023-03-14T18:59:06.594Z"
   },
   {
    "duration": 25,
    "start_time": "2023-03-14T18:59:11.090Z"
   },
   {
    "duration": 29,
    "start_time": "2023-03-14T18:59:14.035Z"
   },
   {
    "duration": 13,
    "start_time": "2023-03-14T18:59:17.469Z"
   },
   {
    "duration": 40,
    "start_time": "2023-03-14T18:59:21.802Z"
   },
   {
    "duration": 6,
    "start_time": "2023-03-14T18:59:24.627Z"
   },
   {
    "duration": 28,
    "start_time": "2023-03-14T18:59:28.913Z"
   },
   {
    "duration": 8,
    "start_time": "2023-03-14T18:59:29.609Z"
   },
   {
    "duration": 23,
    "start_time": "2023-03-14T18:59:33.643Z"
   },
   {
    "duration": 10,
    "start_time": "2023-03-14T18:59:34.425Z"
   },
   {
    "duration": 7,
    "start_time": "2023-03-14T18:59:38.058Z"
   },
   {
    "duration": 40,
    "start_time": "2023-03-14T18:59:40.658Z"
   },
   {
    "duration": 9,
    "start_time": "2023-03-14T18:59:43.890Z"
   },
   {
    "duration": 5,
    "start_time": "2023-03-14T18:59:47.666Z"
   },
   {
    "duration": 4,
    "start_time": "2023-03-14T18:59:50.004Z"
   },
   {
    "duration": 10,
    "start_time": "2023-03-14T18:59:52.580Z"
   },
   {
    "duration": 13,
    "start_time": "2023-03-14T18:59:53.666Z"
   },
   {
    "duration": 6,
    "start_time": "2023-03-14T18:59:55.005Z"
   },
   {
    "duration": 7,
    "start_time": "2023-03-14T18:59:56.153Z"
   },
   {
    "duration": 6,
    "start_time": "2023-03-14T18:59:57.433Z"
   },
   {
    "duration": 60,
    "start_time": "2023-03-14T18:59:59.095Z"
   },
   {
    "duration": 817,
    "start_time": "2023-03-14T19:00:05.244Z"
   },
   {
    "duration": 375,
    "start_time": "2023-03-14T19:00:07.957Z"
   },
   {
    "duration": 326,
    "start_time": "2023-03-14T19:00:11.280Z"
   },
   {
    "duration": 276,
    "start_time": "2023-03-14T19:00:16.177Z"
   },
   {
    "duration": 285,
    "start_time": "2023-03-14T19:00:20.068Z"
   },
   {
    "duration": 236,
    "start_time": "2023-03-14T19:00:23.047Z"
   },
   {
    "duration": 314,
    "start_time": "2023-03-14T19:00:26.743Z"
   },
   {
    "duration": 318,
    "start_time": "2023-03-14T19:00:30.558Z"
   },
   {
    "duration": 3,
    "start_time": "2023-03-14T19:00:37.966Z"
   },
   {
    "duration": 30,
    "start_time": "2023-03-14T19:00:38.755Z"
   },
   {
    "duration": 27,
    "start_time": "2023-03-14T19:23:06.597Z"
   },
   {
    "duration": 7,
    "start_time": "2023-03-14T19:24:18.622Z"
   },
   {
    "duration": 10,
    "start_time": "2023-03-14T19:25:15.337Z"
   },
   {
    "duration": 8,
    "start_time": "2023-03-14T19:32:12.244Z"
   },
   {
    "duration": 8,
    "start_time": "2023-03-14T19:33:02.020Z"
   },
   {
    "duration": 5,
    "start_time": "2023-03-14T19:33:11.299Z"
   },
   {
    "duration": 4,
    "start_time": "2023-03-14T19:33:14.923Z"
   },
   {
    "duration": 6,
    "start_time": "2023-03-14T19:33:23.334Z"
   },
   {
    "duration": 5,
    "start_time": "2023-03-14T19:34:52.595Z"
   },
   {
    "duration": 5,
    "start_time": "2023-03-14T19:35:51.356Z"
   },
   {
    "duration": 80,
    "start_time": "2023-03-14T19:38:07.495Z"
   },
   {
    "duration": 5,
    "start_time": "2023-03-14T19:38:15.889Z"
   },
   {
    "duration": 5,
    "start_time": "2023-03-14T19:41:14.126Z"
   },
   {
    "duration": 5,
    "start_time": "2023-03-14T19:41:19.178Z"
   },
   {
    "duration": 7,
    "start_time": "2023-03-14T19:45:47.906Z"
   },
   {
    "duration": 8,
    "start_time": "2023-03-14T19:45:56.581Z"
   },
   {
    "duration": 5,
    "start_time": "2023-03-14T19:46:33.594Z"
   },
   {
    "duration": 6,
    "start_time": "2023-03-14T19:46:38.311Z"
   },
   {
    "duration": 2106,
    "start_time": "2023-10-31T09:22:08.126Z"
   },
   {
    "duration": 51,
    "start_time": "2023-10-31T09:24:42.573Z"
   },
   {
    "duration": 413,
    "start_time": "2023-10-31T09:24:47.870Z"
   },
   {
    "duration": 252,
    "start_time": "2023-10-31T09:24:54.591Z"
   },
   {
    "duration": 185,
    "start_time": "2023-10-31T09:25:34.153Z"
   },
   {
    "duration": 27,
    "start_time": "2023-10-31T09:30:41.283Z"
   },
   {
    "duration": 898,
    "start_time": "2023-10-31T09:39:38.731Z"
   },
   {
    "duration": 315,
    "start_time": "2023-10-31T09:39:44.875Z"
   },
   {
    "duration": 354,
    "start_time": "2023-10-31T09:41:50.602Z"
   },
   {
    "duration": 11,
    "start_time": "2023-10-31T09:42:35.881Z"
   },
   {
    "duration": 461,
    "start_time": "2023-10-31T09:45:02.238Z"
   },
   {
    "duration": 358,
    "start_time": "2023-10-31T09:45:12.701Z"
   },
   {
    "duration": 365,
    "start_time": "2023-10-31T09:46:27.742Z"
   },
   {
    "duration": 344,
    "start_time": "2023-10-31T09:48:07.354Z"
   },
   {
    "duration": 8,
    "start_time": "2023-10-31T09:48:49.711Z"
   },
   {
    "duration": 29,
    "start_time": "2023-10-31T09:49:16.030Z"
   },
   {
    "duration": 70,
    "start_time": "2023-10-31T09:49:53.171Z"
   },
   {
    "duration": 14,
    "start_time": "2023-10-31T09:50:58.760Z"
   },
   {
    "duration": 11,
    "start_time": "2023-10-31T09:52:34.029Z"
   },
   {
    "duration": 79,
    "start_time": "2023-10-31T09:54:01.797Z"
   },
   {
    "duration": 16,
    "start_time": "2023-10-31T09:54:28.282Z"
   },
   {
    "duration": 18,
    "start_time": "2023-10-31T09:55:15.480Z"
   },
   {
    "duration": 91,
    "start_time": "2023-10-31T09:56:26.594Z"
   },
   {
    "duration": 3,
    "start_time": "2023-10-31T09:56:55.486Z"
   },
   {
    "duration": 2346,
    "start_time": "2023-10-31T09:56:56.513Z"
   },
   {
    "duration": 10,
    "start_time": "2023-10-31T10:00:06.644Z"
   },
   {
    "duration": 13,
    "start_time": "2023-10-31T10:00:39.377Z"
   },
   {
    "duration": 27,
    "start_time": "2023-10-31T10:05:01.256Z"
   },
   {
    "duration": 16,
    "start_time": "2023-10-31T10:05:40.573Z"
   },
   {
    "duration": 20,
    "start_time": "2023-10-31T10:06:15.102Z"
   },
   {
    "duration": 31,
    "start_time": "2023-10-31T10:08:19.073Z"
   },
   {
    "duration": 31,
    "start_time": "2023-10-31T10:08:32.728Z"
   },
   {
    "duration": 11,
    "start_time": "2023-10-31T10:10:52.913Z"
   },
   {
    "duration": 10,
    "start_time": "2023-10-31T10:12:04.135Z"
   },
   {
    "duration": 26,
    "start_time": "2023-10-31T10:14:42.770Z"
   },
   {
    "duration": 6,
    "start_time": "2023-10-31T10:15:17.553Z"
   },
   {
    "duration": 17,
    "start_time": "2023-10-31T10:22:50.532Z"
   },
   {
    "duration": 6,
    "start_time": "2023-10-31T10:23:23.310Z"
   },
   {
    "duration": 51,
    "start_time": "2023-10-31T10:24:31.111Z"
   },
   {
    "duration": 16,
    "start_time": "2023-10-31T10:24:41.793Z"
   },
   {
    "duration": 6,
    "start_time": "2023-10-31T10:24:41.869Z"
   },
   {
    "duration": 3,
    "start_time": "2023-10-31T10:26:16.878Z"
   },
   {
    "duration": 4,
    "start_time": "2023-10-31T10:26:24.552Z"
   },
   {
    "duration": 4,
    "start_time": "2023-10-31T10:26:36.278Z"
   },
   {
    "duration": 42,
    "start_time": "2023-11-01T10:51:39.441Z"
   },
   {
    "duration": 7,
    "start_time": "2023-11-01T10:56:48.502Z"
   },
   {
    "duration": 6,
    "start_time": "2023-11-01T10:57:39.898Z"
   },
   {
    "duration": 4,
    "start_time": "2023-11-01T10:58:36.058Z"
   },
   {
    "duration": 9,
    "start_time": "2023-11-01T11:03:15.253Z"
   },
   {
    "duration": 11,
    "start_time": "2023-11-01T11:04:27.340Z"
   },
   {
    "duration": 1171,
    "start_time": "2023-11-01T11:06:22.984Z"
   },
   {
    "duration": 1460,
    "start_time": "2023-11-01T11:06:39.237Z"
   },
   {
    "duration": 25,
    "start_time": "2023-11-01T11:13:42.844Z"
   },
   {
    "duration": 5,
    "start_time": "2023-11-01T11:13:56.021Z"
   },
   {
    "duration": 7,
    "start_time": "2023-11-01T11:14:06.543Z"
   },
   {
    "duration": 63,
    "start_time": "2023-11-01T11:18:30.080Z"
   },
   {
    "duration": 573,
    "start_time": "2023-11-01T11:19:01.454Z"
   },
   {
    "duration": 2111,
    "start_time": "2023-11-01T11:19:02.767Z"
   },
   {
    "duration": 2220,
    "start_time": "2023-11-01T11:21:06.161Z"
   },
   {
    "duration": 3,
    "start_time": "2023-11-01T11:21:09.953Z"
   },
   {
    "duration": 2253,
    "start_time": "2023-11-01T11:21:10.864Z"
   },
   {
    "duration": 345,
    "start_time": "2023-11-01T11:25:10.843Z"
   },
   {
    "duration": 331,
    "start_time": "2023-11-01T11:37:55.174Z"
   },
   {
    "duration": 272,
    "start_time": "2023-11-01T11:38:07.567Z"
   },
   {
    "duration": 366,
    "start_time": "2023-11-01T11:39:56.248Z"
   },
   {
    "duration": 276,
    "start_time": "2023-11-01T11:40:03.723Z"
   },
   {
    "duration": 327,
    "start_time": "2023-11-01T12:05:50.327Z"
   },
   {
    "duration": 316,
    "start_time": "2023-11-01T12:05:59.856Z"
   },
   {
    "duration": 336,
    "start_time": "2023-11-01T12:10:39.227Z"
   },
   {
    "duration": 322,
    "start_time": "2023-11-01T12:10:48.156Z"
   },
   {
    "duration": 458,
    "start_time": "2023-11-01T12:11:10.957Z"
   },
   {
    "duration": 351,
    "start_time": "2023-11-01T12:11:14.971Z"
   },
   {
    "duration": 334,
    "start_time": "2023-11-01T12:13:43.723Z"
   },
   {
    "duration": 333,
    "start_time": "2023-11-01T12:13:49.005Z"
   },
   {
    "duration": 249,
    "start_time": "2023-11-01T12:19:05.556Z"
   },
   {
    "duration": 412,
    "start_time": "2023-11-01T12:21:56.917Z"
   },
   {
    "duration": 330,
    "start_time": "2023-11-01T12:22:19.733Z"
   },
   {
    "duration": 319,
    "start_time": "2023-11-01T12:28:10.584Z"
   },
   {
    "duration": 317,
    "start_time": "2023-11-01T12:32:12.227Z"
   },
   {
    "duration": 324,
    "start_time": "2023-11-01T12:37:26.108Z"
   },
   {
    "duration": 328,
    "start_time": "2023-11-01T12:40:30.518Z"
   },
   {
    "duration": 1797,
    "start_time": "2023-11-01T12:43:21.330Z"
   },
   {
    "duration": 78,
    "start_time": "2023-11-01T12:43:50.903Z"
   },
   {
    "duration": 4,
    "start_time": "2023-11-01T12:44:17.903Z"
   },
   {
    "duration": 2194,
    "start_time": "2023-11-01T12:44:18.830Z"
   },
   {
    "duration": 190,
    "start_time": "2023-11-01T12:44:23.291Z"
   },
   {
    "duration": 10,
    "start_time": "2023-11-01T12:44:24.518Z"
   },
   {
    "duration": 32,
    "start_time": "2023-11-01T12:44:25.533Z"
   },
   {
    "duration": 442,
    "start_time": "2023-11-01T12:44:26.413Z"
   },
   {
    "duration": 151,
    "start_time": "2023-11-01T12:44:27.598Z"
   },
   {
    "duration": 9,
    "start_time": "2023-11-01T12:44:28.750Z"
   },
   {
    "duration": 26,
    "start_time": "2023-11-01T12:44:29.733Z"
   },
   {
    "duration": 307,
    "start_time": "2023-11-01T12:44:30.830Z"
   },
   {
    "duration": 116,
    "start_time": "2023-11-01T12:44:31.565Z"
   },
   {
    "duration": 8,
    "start_time": "2023-11-01T12:44:32.229Z"
   },
   {
    "duration": 22,
    "start_time": "2023-11-01T12:44:33.190Z"
   },
   {
    "duration": 27,
    "start_time": "2023-11-01T12:44:35.044Z"
   },
   {
    "duration": 9,
    "start_time": "2023-11-01T12:44:35.917Z"
   },
   {
    "duration": 15,
    "start_time": "2023-11-01T12:44:37.073Z"
   },
   {
    "duration": 38,
    "start_time": "2023-11-01T12:44:38.174Z"
   },
   {
    "duration": 11,
    "start_time": "2023-11-01T12:44:38.587Z"
   },
   {
    "duration": 11,
    "start_time": "2023-11-01T12:44:39.230Z"
   },
   {
    "duration": 78,
    "start_time": "2023-11-01T12:44:40.125Z"
   },
   {
    "duration": 6,
    "start_time": "2023-11-01T12:44:40.990Z"
   },
   {
    "duration": 8,
    "start_time": "2023-11-01T12:44:41.710Z"
   },
   {
    "duration": 24,
    "start_time": "2023-11-01T12:44:42.454Z"
   },
   {
    "duration": 16,
    "start_time": "2023-11-01T12:44:43.749Z"
   },
   {
    "duration": 24,
    "start_time": "2023-11-01T12:44:44.762Z"
   },
   {
    "duration": 26,
    "start_time": "2023-11-01T12:44:45.612Z"
   },
   {
    "duration": 8,
    "start_time": "2023-11-01T12:44:46.423Z"
   },
   {
    "duration": 27,
    "start_time": "2023-11-01T12:44:47.462Z"
   },
   {
    "duration": 5,
    "start_time": "2023-11-01T12:44:47.820Z"
   },
   {
    "duration": 20,
    "start_time": "2023-11-01T12:44:49.109Z"
   },
   {
    "duration": 6,
    "start_time": "2023-11-01T12:44:49.470Z"
   },
   {
    "duration": 16,
    "start_time": "2023-11-01T12:44:50.525Z"
   },
   {
    "duration": 6,
    "start_time": "2023-11-01T12:44:50.621Z"
   },
   {
    "duration": 5,
    "start_time": "2023-11-01T12:44:52.774Z"
   },
   {
    "duration": 38,
    "start_time": "2023-11-01T12:44:53.731Z"
   },
   {
    "duration": 8,
    "start_time": "2023-11-01T12:44:55.117Z"
   },
   {
    "duration": 6,
    "start_time": "2023-11-01T12:44:56.011Z"
   },
   {
    "duration": 4,
    "start_time": "2023-11-01T12:44:57.364Z"
   },
   {
    "duration": 9,
    "start_time": "2023-11-01T12:44:58.076Z"
   },
   {
    "duration": 12,
    "start_time": "2023-11-01T12:44:59.000Z"
   },
   {
    "duration": 5,
    "start_time": "2023-11-01T12:45:00.518Z"
   },
   {
    "duration": 8,
    "start_time": "2023-11-01T12:45:01.606Z"
   },
   {
    "duration": 108,
    "start_time": "2023-11-01T12:45:07.205Z"
   },
   {
    "duration": 5,
    "start_time": "2023-11-01T12:49:44.486Z"
   },
   {
    "duration": 55,
    "start_time": "2023-11-01T12:49:47.292Z"
   },
   {
    "duration": 397,
    "start_time": "2023-11-01T12:49:48.195Z"
   },
   {
    "duration": 314,
    "start_time": "2023-11-01T12:49:48.678Z"
   },
   {
    "duration": 330,
    "start_time": "2023-11-01T12:49:49.440Z"
   },
   {
    "duration": 445,
    "start_time": "2023-11-01T12:49:49.791Z"
   },
   {
    "duration": 341,
    "start_time": "2023-11-01T12:49:50.912Z"
   },
   {
    "duration": 346,
    "start_time": "2023-11-01T12:49:51.280Z"
   },
   {
    "duration": 311,
    "start_time": "2023-11-01T12:49:52.152Z"
   },
   {
    "duration": 320,
    "start_time": "2023-11-01T12:49:53.353Z"
   },
   {
    "duration": 5,
    "start_time": "2023-11-01T12:49:57.320Z"
   },
   {
    "duration": 6,
    "start_time": "2023-11-01T12:51:28.937Z"
   },
   {
    "duration": 6,
    "start_time": "2023-11-01T12:53:11.083Z"
   },
   {
    "duration": 8,
    "start_time": "2023-11-01T12:53:51.370Z"
   }
  ],
  "colab": {
   "provenance": []
  },
  "kernelspec": {
   "display_name": "Python 3 (ipykernel)",
   "language": "python",
   "name": "python3"
  },
  "language_info": {
   "codemirror_mode": {
    "name": "ipython",
    "version": 3
   },
   "file_extension": ".py",
   "mimetype": "text/x-python",
   "name": "python",
   "nbconvert_exporter": "python",
   "pygments_lexer": "ipython3",
   "version": "3.10.9"
  },
  "toc": {
   "base_numbering": 1,
   "nav_menu": {},
   "number_sections": true,
   "sideBar": true,
   "skip_h1_title": true,
   "title_cell": "Table of Contents",
   "title_sidebar": "Contents",
   "toc_cell": false,
   "toc_position": {},
   "toc_section_display": true,
   "toc_window_display": false
  }
 },
 "nbformat": 4,
 "nbformat_minor": 1
}
