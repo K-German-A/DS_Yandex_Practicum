{
 "cells": [
  {
   "cell_type": "markdown",
   "id": "e4cec5dc",
   "metadata": {},
   "source": [
    "## Проект - Базовый SQL"
   ]
  },
  {
   "cell_type": "markdown",
   "id": "22b030d0",
   "metadata": {},
   "source": [
    "### Задание №1 \n",
    "\n",
    "Посчитайте, сколько компаний закрылось."
   ]
  },
  {
   "cell_type": "code",
   "execution_count": null,
   "id": "9710c963",
   "metadata": {},
   "outputs": [],
   "source": [
    "SELECT COUNT(*) AS closed_companies_count\n",
    "FROM company\n",
    "WHERE status = 'closed';"
   ]
  },
  {
   "cell_type": "markdown",
   "id": "7856c074",
   "metadata": {},
   "source": [
    "### Задание №2 \n",
    "\n",
    "Отобразите количество привлечённых средств для новостных компаний США. Используйте данные из таблицы `company`. Отсортируйте таблицу по убыванию значений в поле `funding_total`."
   ]
  },
  {
   "cell_type": "code",
   "execution_count": null,
   "id": "402de632",
   "metadata": {},
   "outputs": [],
   "source": [
    "SELECT \n",
    "    --name AS company_name,\n",
    "    --category_code,\n",
    "    funding_total\n",
    "FROM company\n",
    "WHERE category_code = 'news' AND country_code = 'USA'\n",
    "ORDER BY funding_total DESC;"
   ]
  },
  {
   "cell_type": "markdown",
   "id": "40e6b1da",
   "metadata": {},
   "source": [
    "### Задание №3\n",
    "\n",
    "Найдите общую сумму сделок по покупке одних компаний другими в долларах. Отберите сделки, которые осуществлялись только за наличные с `2011` по `2013` год включительно."
   ]
  },
  {
   "cell_type": "code",
   "execution_count": null,
   "id": "b5a87d9b",
   "metadata": {},
   "outputs": [],
   "source": [
    "SELECT\n",
    "    SUM(price_amount) AS total_cash_deals\n",
    "FROM acquisition\n",
    "WHERE term_code = 'cash' AND acquired_at >= '2011-01-01' AND acquired_at <= '2013-12-31';"
   ]
  },
  {
   "cell_type": "markdown",
   "id": "b0e9be23",
   "metadata": {},
   "source": [
    "### Задание №4\n",
    "\n",
    "Отобразите имя, фамилию и названия аккаунтов людей в поле **network_username**, у которых названия аккаунтов начинаются на 'Silver'."
   ]
  },
  {
   "cell_type": "code",
   "execution_count": null,
   "id": "f060edd1",
   "metadata": {},
   "outputs": [],
   "source": [
    "SELECT\n",
    "    first_name,\n",
    "    last_name,\n",
    "    twitter_username\n",
    "FROM people\n",
    "WHERE twitter_username LIKE 'Silver%';"
   ]
  },
  {
   "cell_type": "markdown",
   "id": "4933d485",
   "metadata": {},
   "source": [
    "### Задание №5\n",
    "\n",
    "Выведите на экран всю информацию о людях, у которых названия аккаунтов в поле `network_username` содержат подстроку `money`, а фамилия начинается на `K`."
   ]
  },
  {
   "cell_type": "code",
   "execution_count": null,
   "id": "b64564e3",
   "metadata": {},
   "outputs": [],
   "source": [
    "SELECT *\n",
    "FROM people\n",
    "WHERE twitter_username LIKE '%money%' AND last_name ILIKE 'K%';"
   ]
  },
  {
   "cell_type": "markdown",
   "id": "8afb3ea6",
   "metadata": {},
   "source": [
    "### Задание №6\n",
    "\n",
    "Для каждой страны отобразите общую сумму привлечённых инвестиций, которые получили компании, зарегистрированные в этой стране. Страну, в которой зарегистрирована компания, можно определить по коду страны. Отсортируйте данные по убыванию суммы."
   ]
  },
  {
   "cell_type": "code",
   "execution_count": null,
   "id": "e5cf8057",
   "metadata": {},
   "outputs": [],
   "source": [
    "SELECT country_code, SUM(funding_total) AS total_investment\n",
    "FROM company\n",
    "GROUP BY country_code\n",
    "ORDER BY total_investment DESC;"
   ]
  },
  {
   "cell_type": "markdown",
   "id": "80c79c23",
   "metadata": {},
   "source": [
    "### Задание №7\n",
    "\n",
    "Составьте таблицу, в которую войдёт дата проведения раунда, а также минимальное и максимальное значения суммы инвестиций, привлечённых в эту дату.\n",
    "\n",
    "Оставьте в итоговой таблице только те записи, в которых минимальное значение суммы инвестиций не равно нулю и не равно максимальному значению."
   ]
  },
  {
   "cell_type": "code",
   "execution_count": null,
   "id": "e0717596",
   "metadata": {},
   "outputs": [],
   "source": [
    "SELECT funded_at AS round_date,\n",
    "       MIN(raised_amount) AS min_investment,\n",
    "       MAX(raised_amount) AS max_investment\n",
    "FROM funding_round\n",
    "GROUP BY funded_at\n",
    "HAVING MIN(raised_amount) <> 0 AND MIN(raised_amount) <> MAX(raised_amount);"
   ]
  },
  {
   "cell_type": "markdown",
   "id": "c10e0dbd",
   "metadata": {},
   "source": [
    "### Задание №8\n",
    "\n",
    "Создайте поле с категориями:\n",
    " - Для фондов, которые инвестируют в 100 и более компаний, назначьте категорию `high_activity`.\n",
    " - Для фондов, которые инвестируют в 20 и более компаний до 100, назначьте категорию `middle_activity`.\n",
    " - Если количество инвестируемых компаний фонда не достигает 20, назначьте категорию `low_activity`.\n",
    "Отобразите все поля таблицы `fund` и новое поле с категориями."
   ]
  },
  {
   "cell_type": "code",
   "execution_count": null,
   "id": "c71735da",
   "metadata": {},
   "outputs": [],
   "source": [
    "SELECT id,\n",
    "       name,\n",
    "       founded_at,\n",
    "       domain,\n",
    "       twitter_username,\n",
    "       country_code,\n",
    "       investment_rounds,\n",
    "       invested_companies,\n",
    "       milestones,\n",
    "       created_at,\n",
    "       updated_at,\n",
    "       CASE\n",
    "           WHEN invested_companies >= 100 THEN 'high_activity'\n",
    "           WHEN invested_companies >= 20 AND invested_companies < 100 THEN 'middle_activity'\n",
    "           ELSE 'low_activity'\n",
    "       END AS activity_category\n",
    "FROM fund;"
   ]
  },
  {
   "cell_type": "markdown",
   "id": "ee9a759c",
   "metadata": {},
   "source": [
    "### Задание №9\n",
    "\n",
    "Для каждой из категорий, назначенных в предыдущем задании, посчитайте округлённое до ближайшего целого числа среднее количество инвестиционных раундов, в которых фонд принимал участие. Выведите на экран категории и среднее число инвестиционных раундов. Отсортируйте таблицу по возрастанию среднего."
   ]
  },
  {
   "cell_type": "code",
   "execution_count": null,
   "id": "89d676d2",
   "metadata": {},
   "outputs": [],
   "source": [
    "SELECT activity_category,\n",
    "       ROUND(AVG(investment_rounds)) AS avg_investment_rounds\n",
    "FROM (\n",
    "    SELECT id,\n",
    "           name,\n",
    "           founded_at,\n",
    "           domain,\n",
    "           twitter_username,\n",
    "           country_code,\n",
    "           investment_rounds,\n",
    "           invested_companies,\n",
    "           milestones,\n",
    "           created_at,\n",
    "           updated_at,\n",
    "           CASE\n",
    "               WHEN invested_companies >= 100 THEN 'high_activity'\n",
    "               WHEN invested_companies >= 20 AND invested_companies < 100 THEN 'middle_activity'\n",
    "               ELSE 'low_activity'\n",
    "           END AS activity_category\n",
    "    FROM fund\n",
    ") AS categorized_funds\n",
    "GROUP BY activity_category\n",
    "ORDER BY avg_investment_rounds;"
   ]
  },
  {
   "cell_type": "markdown",
   "id": "0060415b",
   "metadata": {},
   "source": [
    "### Задание №10\n",
    "\n",
    "Проанализируйте, в каких странах находятся фонды, которые чаще всего инвестируют в стартапы.\n",
    "\n",
    "Для каждой страны посчитайте минимальное, максимальное и среднее число компаний, в которые инвестировали фонды этой страны, основанные с 2010 по 2012 год включительно. Исключите страны с фондами, у которых минимальное число компаний, получивших инвестиции, равно нулю.\n",
    "\n",
    "Выгрузите десять самых активных стран-инвесторов: отсортируйте таблицу по среднему количеству компаний от большего к меньшему. Затем добавьте сортировку по коду страны в лексикографическом порядке."
   ]
  },
  {
   "cell_type": "code",
   "execution_count": null,
   "id": "5c1ba752",
   "metadata": {},
   "outputs": [],
   "source": [
    "SELECT\n",
    "    f.country_code,\n",
    "    --COUNT(f.invested_companies) AS total_invested_companies,\n",
    "    MIN(f.invested_companies) AS min_invested_companies,\n",
    "    MAX(f.invested_companies) AS max_invested_companies,\n",
    "    AVG(f.invested_companies) AS avg_invested_companies\n",
    "FROM\n",
    "    fund f\n",
    "WHERE\n",
    "    f.founded_at BETWEEN '2010-01-01' AND '2012-12-31'\n",
    "GROUP BY\n",
    "    f.country_code\n",
    "HAVING\n",
    "    MIN(f.invested_companies) > 0\n",
    "ORDER BY\n",
    "    avg_invested_companies DESC,\n",
    "    country_code ASC\n",
    "LIMIT 10;"
   ]
  },
  {
   "cell_type": "markdown",
   "id": "b03b86e8",
   "metadata": {},
   "source": [
    "### Задание №11\n",
    "\n",
    "Отобразите имя и фамилию всех сотрудников стартапов. Добавьте поле с названием учебного заведения, которое окончил сотрудник, если эта информация известна."
   ]
  },
  {
   "cell_type": "code",
   "execution_count": null,
   "id": "c35a7939",
   "metadata": {},
   "outputs": [],
   "source": [
    "SELECT\n",
    "    p.first_name,\n",
    "    p.last_name,\n",
    "    e.instituition AS education_institution\n",
    "FROM\n",
    "    people p\n",
    "LEFT JOIN\n",
    "    education e ON p.id = e.person_id;"
   ]
  },
  {
   "cell_type": "markdown",
   "id": "4b2d605a",
   "metadata": {},
   "source": [
    "### Задание №12\n",
    "\n",
    "Для каждой компании найдите количество учебных заведений, которые окончили её сотрудники. Выведите название компании и число уникальных названий учебных заведений. Составьте топ-5 компаний по количеству университетов."
   ]
  },
  {
   "cell_type": "code",
   "execution_count": null,
   "id": "f80b8f11",
   "metadata": {},
   "outputs": [],
   "source": [
    "SELECT\n",
    "    c.name AS company_name,\n",
    "    COUNT(DISTINCT e.instituition) AS num_unique_education\n",
    "FROM\n",
    "    company c\n",
    "LEFT JOIN\n",
    "    people p ON c.id = p.company_id\n",
    "LEFT JOIN\n",
    "    education e ON p.id = e.person_id\n",
    "GROUP BY\n",
    "    c.id, c.name\n",
    "ORDER BY\n",
    "    num_unique_education DESC\n",
    "LIMIT 5;"
   ]
  },
  {
   "cell_type": "markdown",
   "id": "1bfd83b3",
   "metadata": {},
   "source": [
    "### Задание №13\n",
    "\n",
    "Составьте список с уникальными названиями закрытых компаний, для которых первый раунд финансирования оказался последним."
   ]
  },
  {
   "cell_type": "code",
   "execution_count": null,
   "id": "8abf72fb",
   "metadata": {},
   "outputs": [],
   "source": [
    "SELECT DISTINCT\n",
    "    c.name\n",
    "FROM\n",
    "    company c\n",
    "JOIN (\n",
    "    SELECT\n",
    "        fr.company_id\n",
    "    FROM\n",
    "        funding_round fr\n",
    "    JOIN (\n",
    "        SELECT\n",
    "            company_id,\n",
    "            MIN(funded_at) AS first_funding_date,\n",
    "            MAX(funded_at) AS last_funding_date\n",
    "        FROM\n",
    "            funding_round\n",
    "        GROUP BY\n",
    "            company_id\n",
    "    ) first_last_dates ON fr.company_id = first_last_dates.company_id\n",
    "    WHERE\n",
    "        fr.funded_at = first_last_dates.first_funding_date\n",
    "        AND fr.funded_at = first_last_dates.last_funding_date\n",
    ") first_last_rounds ON c.id = first_last_rounds.company_id\n",
    "WHERE\n",
    "    c.status = 'closed';"
   ]
  },
  {
   "cell_type": "markdown",
   "id": "b568c10b",
   "metadata": {},
   "source": [
    "### Задание №14\n",
    "\n",
    "Составьте список уникальных номеров сотрудников, которые работают в компаниях, отобранных в предыдущем задании."
   ]
  },
  {
   "cell_type": "code",
   "execution_count": null,
   "id": "134bd876",
   "metadata": {},
   "outputs": [],
   "source": [
    "SELECT DISTINCT\n",
    "    p.id AS employee_id\n",
    "FROM\n",
    "    company c\n",
    "JOIN (\n",
    "    SELECT\n",
    "        fr.company_id\n",
    "    FROM\n",
    "        funding_round fr\n",
    "    JOIN (\n",
    "        SELECT\n",
    "            company_id,\n",
    "            MIN(funded_at) AS first_funding_date,\n",
    "            MAX(funded_at) AS last_funding_date\n",
    "        FROM\n",
    "            funding_round\n",
    "        GROUP BY\n",
    "            company_id\n",
    "    ) first_last_dates ON fr.company_id = first_last_dates.company_id\n",
    "    WHERE\n",
    "        fr.funded_at = first_last_dates.first_funding_date\n",
    "        AND fr.funded_at = first_last_dates.last_funding_date\n",
    ") first_last_rounds ON c.id = first_last_rounds.company_id\n",
    "JOIN\n",
    "    people p ON c.id = p.company_id\n",
    "WHERE\n",
    "    c.status = 'closed';"
   ]
  },
  {
   "cell_type": "markdown",
   "id": "f5aa1f2d",
   "metadata": {},
   "source": [
    "### Задание №15\n",
    "\n",
    "Составьте таблицу, куда войдут уникальные пары с номерами сотрудников из предыдущей задачи и учебным заведением, которое окончил сотрудник."
   ]
  },
  {
   "cell_type": "code",
   "execution_count": null,
   "id": "5d248aa8",
   "metadata": {},
   "outputs": [],
   "source": [
    "SELECT DISTINCT\n",
    "    p.id AS employee_id,\n",
    "    e.instituition AS education_institution\n",
    "FROM\n",
    "    company c\n",
    "JOIN (\n",
    "    SELECT\n",
    "        fr.company_id\n",
    "    FROM\n",
    "        funding_round fr\n",
    "    JOIN (\n",
    "        SELECT\n",
    "            company_id,\n",
    "            MIN(funded_at) AS first_funding_date,\n",
    "            MAX(funded_at) AS last_funding_date\n",
    "        FROM\n",
    "            funding_round\n",
    "        GROUP BY\n",
    "            company_id\n",
    "    ) first_last_dates ON fr.company_id = first_last_dates.company_id\n",
    "    WHERE\n",
    "        fr.funded_at = first_last_dates.first_funding_date\n",
    "        AND fr.funded_at = first_last_dates.last_funding_date\n",
    ") first_last_rounds ON c.id = first_last_rounds.company_id\n",
    "JOIN\n",
    "    people p ON c.id = p.company_id\n",
    "JOIN\n",
    "    education e ON p.id = e.person_id\n",
    "WHERE\n",
    "    c.status = 'closed';"
   ]
  },
  {
   "cell_type": "markdown",
   "id": "bc55ef0b",
   "metadata": {},
   "source": [
    "### Задание №16\n",
    "\n",
    "Посчитайте количество учебных заведений для каждого сотрудника из предыдущего задания. При подсчёте учитывайте, что некоторые сотрудники могли окончить одно и то же заведение дважды."
   ]
  },
  {
   "cell_type": "code",
   "execution_count": null,
   "id": "91889533",
   "metadata": {},
   "outputs": [],
   "source": [
    "SELECT ppl.id, COUNT(ed.instituition)\n",
    "FROM people AS ppl\n",
    "JOIN education AS ed ON ppl.id = ed.person_id\n",
    "WHERE ppl.company_id IN (\n",
    "    SELECT co.id\n",
    "    FROM company AS co\n",
    "    JOIN funding_round AS fr ON co.id = fr.company_id\n",
    "    WHERE co.status = 'closed' AND fr.is_first_round = 1 AND fr.is_last_round = 1\n",
    ")\n",
    "GROUP BY 1\n",
    "HAVING COUNT(DISTINCT ed.instituition) > 0;"
   ]
  },
  {
   "cell_type": "markdown",
   "id": "da822a19",
   "metadata": {},
   "source": [
    "### Задание №17\n",
    "\n",
    "Дополните предыдущий запрос и выведите среднее число учебных заведений (всех, не только уникальных), которые окончили сотрудники разных компаний. Нужно вывести только одну запись, группировка здесь не понадобится."
   ]
  },
  {
   "cell_type": "code",
   "execution_count": null,
   "id": "149be86e",
   "metadata": {},
   "outputs": [],
   "source": [
    "SELECT AVG(num_education_institutions) AS average_education_institutions\n",
    "FROM (\n",
    "    SELECT COUNT(ed.instituition) AS num_education_institutions\n",
    "    FROM people AS ppl\n",
    "    JOIN education AS ed ON ppl.id = ed.person_id\n",
    "    WHERE ppl.company_id IN (\n",
    "        SELECT co.id\n",
    "        FROM company AS co\n",
    "        JOIN funding_round AS fr ON co.id = fr.company_id\n",
    "        WHERE co.status = 'closed' AND fr.is_first_round = 1 AND fr.is_last_round = 1\n",
    "    )\n",
    "    GROUP BY ppl.id\n",
    "    HAVING COUNT(DISTINCT ed.instituition) > 0\n",
    ") subquery;"
   ]
  },
  {
   "cell_type": "markdown",
   "id": "3d570f5e",
   "metadata": {},
   "source": [
    "### Задание №18\n",
    "\n",
    "Напишите похожий запрос: выведите среднее число учебных заведений (всех, не только уникальных), которые окончили сотрудники Facebook*.\n",
    "*(сервис, запрещённый на территории РФ)"
   ]
  },
  {
   "cell_type": "code",
   "execution_count": null,
   "id": "deadd2cc",
   "metadata": {},
   "outputs": [],
   "source": [
    "SELECT AVG(num_education_institutions) AS average_education_institutions\n",
    "FROM (\n",
    "    SELECT COUNT(ed.instituition) AS num_education_institutions\n",
    "    FROM people AS ppl\n",
    "    JOIN education AS ed ON ppl.id = ed.person_id\n",
    "    WHERE ppl.company_id IN (\n",
    "        SELECT id\n",
    "        FROM company\n",
    "        WHERE name = 'Facebook'\n",
    "    )\n",
    "    GROUP BY ppl.id\n",
    ") subquery;"
   ]
  },
  {
   "cell_type": "markdown",
   "id": "0d7185e6",
   "metadata": {},
   "source": [
    "### Задание №19\n",
    "\n",
    "\n",
    "Составьте таблицу из полей:\n",
    " - name_of_fund — название фонда;\n",
    " - name_of_company — название компании;\n",
    " - amount — сумма инвестиций, которую привлекла компания в раунде.\n",
    " \n",
    "В таблицу войдут данные о компаниях, в истории которых было больше шести важных этапов, а раунды финансирования проходили с 2012 по 2013 год включительно."
   ]
  },
  {
   "cell_type": "code",
   "execution_count": null,
   "id": "3a4adf0c",
   "metadata": {},
   "outputs": [],
   "source": [
    "SELECT\n",
    "    f.name AS name_of_fund,\n",
    "    c.name AS name_of_company,\n",
    "    fr.raised_amount AS amount\n",
    "FROM\n",
    "    fund AS f\n",
    "JOIN\n",
    "    investment AS inv ON f.id = inv.fund_id\n",
    "JOIN\n",
    "    funding_round AS fr ON inv.funding_round_id = fr.id\n",
    "JOIN\n",
    "    company AS c ON inv.company_id = c.id\n",
    "WHERE\n",
    "    c.milestones > 6\n",
    "    AND fr.funded_at BETWEEN '2012-01-01' AND '2013-12-31';"
   ]
  },
  {
   "cell_type": "markdown",
   "id": "92790d70",
   "metadata": {},
   "source": [
    "### Задание №20\n",
    "\n",
    "Выгрузите таблицу, в которой будут такие поля:\n",
    " - название компании-покупателя;\n",
    " - сумма сделки;\n",
    " - название компании, которую купили;\n",
    " - сумма инвестиций, вложенных в купленную компанию;\n",
    " - доля, которая отображает, во сколько раз сумма покупки превысила сумму вложенных в компанию инвестиций, округлённая до ближайшего целого числа.\n",
    " \n",
    "Не учитывайте те сделки, в которых сумма покупки равна нулю. Если сумма инвестиций в компанию равна нулю, исключите такую компанию из таблицы.\n",
    "\n",
    "Отсортируйте таблицу по сумме сделки от большей к меньшей, а затем по названию купленной компании в лексикографическом порядке. Ограничьте таблицу первыми десятью записями."
   ]
  },
  {
   "cell_type": "code",
   "execution_count": null,
   "id": "b7ebc439",
   "metadata": {},
   "outputs": [],
   "source": [
    "SELECT\n",
    "    acquirer.name AS acquirer_company_name,\n",
    "    acquisition.price_amount AS deal_amount,\n",
    "    acquired.name AS acquired_company_name,\n",
    "    acquired.funding_total AS invested_amount,\n",
    "    ROUND(acquisition.price_amount / NULLIF(acquired.funding_total, 0)) AS investment_multiplier\n",
    "FROM\n",
    "    company AS acquirer\n",
    "JOIN\n",
    "    acquisition ON acquirer.id = acquisition.acquirer_id\n",
    "JOIN\n",
    "    company AS acquired ON acquisition.acquired_id = acquired.id\n",
    "WHERE\n",
    "    acquisition.price_amount > 0\n",
    "    AND acquired.funding_total > 0\n",
    "ORDER BY\n",
    "    deal_amount DESC,\n",
    "    acquired_company_name\n",
    "LIMIT 10;"
   ]
  },
  {
   "cell_type": "markdown",
   "id": "6a75833d",
   "metadata": {},
   "source": [
    "### Задание №21\n",
    "\n",
    "Выгрузите таблицу, в которую войдут названия компаний из категории `social`, получившие финансирование с 2010 по 2013 год включительно. Проверьте, что сумма инвестиций не равна нулю. Выведите также номер месяца, в котором проходил раунд финансирования."
   ]
  },
  {
   "cell_type": "code",
   "execution_count": null,
   "id": "275d76e2",
   "metadata": {},
   "outputs": [],
   "source": [
    "SELECT\n",
    "    c.name AS company_name,\n",
    "    --c.category_code,\n",
    "   -- fr.funded_at,\n",
    "    EXTRACT(MONTH FROM fr.funded_at) AS funding_month\n",
    "FROM\n",
    "    company AS c\n",
    "JOIN\n",
    "    funding_round AS fr ON c.id = fr.company_id\n",
    "WHERE\n",
    "    c.category_code = 'social'\n",
    "    AND fr.funded_at >= '2010-01-01' AND fr.funded_at <= '2013-12-31'\n",
    "    AND fr.raised_amount <> 0\n",
    "ORDER BY\n",
    "    c.name ASC, fr.funded_at ASC;"
   ]
  },
  {
   "cell_type": "markdown",
   "id": "10ad213d",
   "metadata": {},
   "source": [
    "### Задание №22\n",
    "\n",
    "Отберите данные по месяцам с 2010 по 2013 год, когда проходили инвестиционные раунды. Сгруппируйте данные по номеру месяца и получите таблицу, в которой будут поля:\n",
    " - номер месяца, в котором проходили раунды;\n",
    " - количество уникальных названий фондов из США, которые инвестировали в этом месяце;\n",
    " - количество компаний, купленных за этот месяц;\n",
    " - общая сумма сделок по покупкам в этом месяце."
   ]
  },
  {
   "cell_type": "code",
   "execution_count": null,
   "id": "6446abcf",
   "metadata": {},
   "outputs": [],
   "source": [
    "WITH fundings AS (\n",
    "    SELECT\n",
    "        EXTRACT(MONTH FROM CAST(fr.funded_at AS DATE)) AS funding_month,\n",
    "        COUNT(DISTINCT CASE WHEN f.country_code = 'USA' THEN f.id END) AS us_funds\n",
    "    FROM\n",
    "        fund AS f\n",
    "    LEFT JOIN\n",
    "        investment AS i ON f.id = i.fund_id\n",
    "    LEFT JOIN\n",
    "        funding_round AS fr ON i.funding_round_id = fr.id\n",
    "    WHERE\n",
    "        EXTRACT(YEAR FROM CAST(fr.funded_at AS DATE)) BETWEEN 2010 AND 2013\n",
    "    GROUP BY\n",
    "        funding_month\n",
    "),\n",
    "acquisitions AS (\n",
    "    SELECT\n",
    "        EXTRACT(MONTH FROM CAST(acquired_at AS DATE)) AS funding_month,\n",
    "        COUNT(acquired_company_id) AS bought_co,\n",
    "        SUM(price_amount) AS sum_total\n",
    "    FROM\n",
    "        acquisition\n",
    "    WHERE\n",
    "        EXTRACT(YEAR FROM CAST(acquired_at AS DATE)) BETWEEN 2010 AND 2013\n",
    "    GROUP BY\n",
    "        funding_month\n",
    ")\n",
    "SELECT\n",
    "    fnd.funding_month,\n",
    "    COALESCE(fnd.us_funds, 0) AS us_funds,\n",
    "    COALESCE(acq.bought_co, 0) AS bought_co,\n",
    "    COALESCE(acq.sum_total, 0) AS sum_total\n",
    "FROM\n",
    "    fundings AS fnd\n",
    "LEFT JOIN\n",
    "    acquisitions AS acq ON fnd.funding_month = acq.funding_month;"
   ]
  },
  {
   "cell_type": "markdown",
   "id": "99736b94",
   "metadata": {},
   "source": [
    "### Задание №23\n",
    "\n",
    "Составьте сводную таблицу и выведите среднюю сумму инвестиций для стран, в которых есть стартапы, зарегистрированные в `2011`, `2012` и `2013` годах. Данные за каждый год должны быть в отдельном поле. Отсортируйте таблицу по среднему значению инвестиций за `2011` год от большего к меньшему."
   ]
  },
  {
   "cell_type": "code",
   "execution_count": null,
   "id": "3c96f000",
   "metadata": {},
   "outputs": [],
   "source": [
    "WITH y_11 AS (\n",
    "    SELECT \n",
    "        country_code AS country,\n",
    "        AVG(funding_total) AS y_2011\n",
    "    FROM company\n",
    "    WHERE EXTRACT(YEAR FROM founded_at::DATE) IN (2011, 2012, 2013)\n",
    "    GROUP BY country, EXTRACT(YEAR FROM founded_at)\n",
    "    HAVING EXTRACT(YEAR FROM founded_at) = '2011'\n",
    "),\n",
    "\n",
    "y_12 AS (\n",
    "    SELECT \n",
    "        country_code AS country,\n",
    "        AVG(funding_total) AS y_2012\n",
    "    FROM company\n",
    "    WHERE EXTRACT(YEAR FROM founded_at::DATE) IN (2011, 2012, 2013)\n",
    "    GROUP BY country, EXTRACT(YEAR FROM founded_at)\n",
    "    HAVING EXTRACT(YEAR FROM founded_at) = '2012'\n",
    "),\n",
    "\n",
    "y_13 AS (\n",
    "    SELECT \n",
    "        country_code AS country,\n",
    "        AVG(funding_total) AS y_2013\n",
    "    FROM company\n",
    "    WHERE EXTRACT(YEAR FROM founded_at::DATE) IN (2011, 2012, 2013)\n",
    "    GROUP BY country, EXTRACT(YEAR FROM founded_at)\n",
    "    HAVING EXTRACT(YEAR FROM founded_at) = '2013'\n",
    ")\n",
    "\n",
    "SELECT \n",
    "    y_11.country, \n",
    "    y_2011, \n",
    "    y_2012, \n",
    "    y_2013\n",
    "FROM y_11\n",
    "JOIN y_12 ON y_11.country = y_12.country\n",
    "JOIN y_13 ON y_12.country = y_13.country\n",
    "ORDER BY y_2011 DESC;"
   ]
  }
 ],
 "metadata": {
  "kernelspec": {
   "display_name": "Python 3 (ipykernel)",
   "language": "python",
   "name": "python3"
  },
  "language_info": {
   "codemirror_mode": {
    "name": "ipython",
    "version": 3
   },
   "file_extension": ".py",
   "mimetype": "text/x-python",
   "name": "python",
   "nbconvert_exporter": "python",
   "pygments_lexer": "ipython3",
   "version": "3.10.9"
  }
 },
 "nbformat": 4,
 "nbformat_minor": 5
}
