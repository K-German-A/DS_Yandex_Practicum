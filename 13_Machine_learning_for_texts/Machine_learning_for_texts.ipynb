{
 "cells": [
  {
   "cell_type": "markdown",
   "metadata": {
    "toc": true
   },
   "source": [
    "<h1>Содержание<span class=\"tocSkip\"></span></h1>\n",
    "<div class=\"toc\"><ul class=\"toc-item\"><li><span><a href=\"#Подготовка\" data-toc-modified-id=\"Подготовка-1\"><span class=\"toc-item-num\">1&nbsp;&nbsp;</span>Подготовка</a></span></li><li><span><a href=\"#Обучение\" data-toc-modified-id=\"Обучение-2\"><span class=\"toc-item-num\">2&nbsp;&nbsp;</span>Обучение</a></span><ul class=\"toc-item\"><li><span><a href=\"#Обучение-моделей*\" data-toc-modified-id=\"Обучение-моделей*-2.1\"><span class=\"toc-item-num\">2.1&nbsp;&nbsp;</span>Обучение моделей*</a></span></li><li><span><a href=\"#Модель-LogisticRegression\" data-toc-modified-id=\"Модель-LogisticRegression-2.2\"><span class=\"toc-item-num\">2.2&nbsp;&nbsp;</span>Модель LogisticRegression</a></span></li><li><span><a href=\"#Модель-LinearSVC\" data-toc-modified-id=\"Модель-LinearSVC-2.3\"><span class=\"toc-item-num\">2.3&nbsp;&nbsp;</span>Модель LinearSVC</a></span></li><li><span><a href=\"#Модель-RandomForestClassifier\" data-toc-modified-id=\"Модель-RandomForestClassifier-2.4\"><span class=\"toc-item-num\">2.4&nbsp;&nbsp;</span>Модель RandomForestClassifier</a></span></li><li><span><a href=\"#Модель-градиентного-бустинга-XGBClassifier\" data-toc-modified-id=\"Модель-градиентного-бустинга-XGBClassifier-2.5\"><span class=\"toc-item-num\">2.5&nbsp;&nbsp;</span>Модель градиентного бустинга XGBClassifier</a></span></li><li><span><a href=\"#Модель-градиентного-бустинга-CatBoostClassifier\" data-toc-modified-id=\"Модель-градиентного-бустинга-CatBoostClassifier-2.6\"><span class=\"toc-item-num\">2.6&nbsp;&nbsp;</span>Модель градиентного бустинга CatBoostClassifier</a></span></li><li><span><a href=\"#Модель-градиентного-бустинга-LGBMClassifier\" data-toc-modified-id=\"Модель-градиентного-бустинга-LGBMClassifier-2.7\"><span class=\"toc-item-num\">2.7&nbsp;&nbsp;</span>Модель градиентного бустинга LGBMClassifier</a></span></li><li><span><a href=\"#Проверка-модели-на-вменяемость\" data-toc-modified-id=\"Проверка-модели-на-вменяемость-2.8\"><span class=\"toc-item-num\">2.8&nbsp;&nbsp;</span>Проверка модели на вменяемость</a></span></li></ul></li><li><span><a href=\"#Выводы\" data-toc-modified-id=\"Выводы-3\"><span class=\"toc-item-num\">3&nbsp;&nbsp;</span>Выводы</a></span></li><li><span><a href=\"#Чек-лист-проверки\" data-toc-modified-id=\"Чек-лист-проверки-4\"><span class=\"toc-item-num\">4&nbsp;&nbsp;</span>Чек-лист проверки</a></span></li></ul></div>"
   ]
  },
  {
   "cell_type": "markdown",
   "metadata": {},
   "source": [
    "# Проект для «Викишоп»"
   ]
  },
  {
   "cell_type": "markdown",
   "metadata": {},
   "source": [
    "Интернет-магазин «Викишоп» запускает новый сервис. Теперь пользователи могут редактировать и дополнять описания товаров, как в вики-сообществах. То есть клиенты предлагают свои правки и комментируют изменения других. Магазину нужен инструмент, который будет искать токсичные комментарии и отправлять их на модерацию. \n",
    "\n",
    "Обучите модель классифицировать комментарии на позитивные и негативные. В вашем распоряжении набор данных с разметкой о токсичности правок.\n",
    "\n",
    "Постройте модель со значением метрики качества *F1* не меньше 0.75. \n",
    "\n",
    "**Инструкция по выполнению проекта**\n",
    "\n",
    "1. Загрузите и подготовьте данные.\n",
    "2. Обучите разные модели. \n",
    "3. Сделайте выводы.\n",
    "\n",
    "Для выполнения проекта применять *BERT* необязательно, но вы можете попробовать.\n",
    "\n",
    "**Описание данных**\n",
    "\n",
    "Данные находятся в файле `toxic_comments.csv`. \n",
    "\n",
    "Признаки:\n",
    " - *text* — содержит текст комментария\n",
    " - *toxic* — целевой признак."
   ]
  },
  {
   "cell_type": "markdown",
   "metadata": {},
   "source": [
    "## Подготовка"
   ]
  },
  {
   "cell_type": "markdown",
   "metadata": {},
   "source": [
    "**Импорт необходимых библиотек и модулей для предобработки, обработки текстовых данных и построения моделей классификации.**"
   ]
  },
  {
   "cell_type": "code",
   "execution_count": 11,
   "metadata": {},
   "outputs": [
    {
     "name": "stderr",
     "output_type": "stream",
     "text": [
      "[nltk_data] Downloading package wordnet to /home/jovyan/nltk_data...\n",
      "[nltk_data]   Package wordnet is already up-to-date!\n",
      "[nltk_data] Downloading package stopwords to /home/jovyan/nltk_data...\n",
      "[nltk_data]   Package stopwords is already up-to-date!\n",
      "[nltk_data] Downloading package omw-1.4 to /home/jovyan/nltk_data...\n",
      "[nltk_data]   Package omw-1.4 is already up-to-date!\n"
     ]
    }
   ],
   "source": [
    "# Импорт необходимых библиотек\n",
    "import os\n",
    "\n",
    "# Импорт необходимых библиотек для предобработки текста\n",
    "import re\n",
    "import nltk\n",
    "from pymystem3 import Mystem\n",
    "from nltk.stem import WordNetLemmatizer\n",
    "from nltk.corpus import wordnet, stopwords\n",
    "\n",
    "# Игнорирование предупреждений\n",
    "import warnings\n",
    "warnings.simplefilter('ignore')\n",
    "\n",
    "# Загрузка датасета WordNet для лемматизации слов\n",
    "nltk.download('wordnet')\n",
    "\n",
    "# Загрузка списка стоп-слов (слов, которые обычно не несут смысловой нагрузки)\n",
    "nltk.download('stopwords')\n",
    "\n",
    "# Загрузка датасета Open Multilingual Wordnet (OMW) для лемматизации слов на разных языках\n",
    "nltk.download('omw-1.4')\n",
    "\n",
    "# Импорт необходимых библиотек для визуализации данных\n",
    "import matplotlib.pyplot as plt\n",
    "import seaborn as sns\n",
    "\n",
    "# Импорт необходимых библиотек для работы с текстовыми данными и построения модели\n",
    "import numpy as np\n",
    "import pandas as pd\n",
    "from sklearn.feature_extraction.text import TfidfVectorizer\n",
    "from sklearn.pipeline import Pipeline\n",
    "from sklearn.model_selection import StratifiedKFold, StratifiedShuffleSplit\n",
    "from sklearn.metrics import f1_score, roc_auc_score, roc_curve, confusion_matrix, recall_score, precision_score, precision_recall_curve\n",
    "from sklearn.model_selection import cross_val_score, train_test_split, GridSearchCV\n",
    "\n",
    "# Импорт моделей\n",
    "from sklearn.ensemble import RandomForestClassifier\n",
    "from sklearn.linear_model import LogisticRegression\n",
    "from lightgbm import LGBMClassifier\n",
    "from xgboost import XGBClassifier\n",
    "from catboost import CatBoostClassifier\n",
    "from sklearn.dummy import DummyClassifier\n",
    "from sklearn.svm import LinearSVC\n",
    "\n",
    "# Задаем seed для воспроизводимости результатов\n",
    "random_state = 12345678"
   ]
  },
  {
   "cell_type": "code",
   "execution_count": 12,
   "metadata": {},
   "outputs": [
    {
     "name": "stdout",
     "output_type": "stream",
     "text": [
      "Name: nltk\n",
      "Version: 3.6.1\n",
      "Summary: Natural Language Toolkit\n",
      "Home-page: http://nltk.org/\n",
      "Author: Steven Bird\n",
      "Author-email: stevenbird1@gmail.com\n",
      "License: Apache License, Version 2.0\n",
      "Location: /opt/conda/lib/python3.9/site-packages\n",
      "Requires: tqdm, joblib, regex, click\n",
      "Required-by: \n",
      "---\n",
      "Name: pandas\n",
      "Version: 1.2.4\n",
      "Summary: Powerful data structures for data analysis, time series, and statistics\n",
      "Home-page: https://pandas.pydata.org\n",
      "Author: None\n",
      "Author-email: None\n",
      "License: BSD\n",
      "Location: /opt/conda/lib/python3.9/site-packages\n",
      "Requires: python-dateutil, pytz, numpy\n",
      "Required-by: statsmodels, seaborn, catboost\n",
      "---\n",
      "Name: matplotlib\n",
      "Version: 3.3.4\n",
      "Summary: Python plotting package\n",
      "Home-page: https://matplotlib.org\n",
      "Author: John D. Hunter, Michael Droettboom\n",
      "Author-email: matplotlib-users@python.org\n",
      "License: PSF\n",
      "Location: /opt/conda/lib/python3.9/site-packages\n",
      "Requires: python-dateutil, numpy, kiwisolver, pyparsing, cycler, pillow\n",
      "Required-by: seaborn, pyod, catboost\n",
      "---\n",
      "Name: numpy\n",
      "Version: 1.21.1\n",
      "Summary: NumPy is the fundamental package for array computing with Python.\n",
      "Home-page: https://www.numpy.org\n",
      "Author: Travis E. Oliphant et al.\n",
      "Author-email: None\n",
      "License: BSD\n",
      "Location: /opt/conda/lib/python3.9/site-packages\n",
      "Requires: \n",
      "Required-by: xgboost, transformers, thinc, tensorflow-cpu, tensorboard, statsmodels, spacy, seaborn, scipy, scikit-learn, pyod, pyarrow, patsy, pandas, opt-einsum, numba, matplotlib, lightgbm, Keras-Preprocessing, h5py, gensim, folium, catboost, blis\n",
      "---\n",
      "Name: pymystem3\n",
      "Version: 0.2.0\n",
      "Summary: Python wrapper for the Yandex MyStem 3.1 morpholocial analyzer of the Russian language.\n",
      "Home-page: https://github.com/nlpub/pymystem3\n",
      "Author: Denis Sukhonin\n",
      "Author-email: panchenko.alexander@gmail.com\n",
      "License: UNKNOWN\n",
      "Location: /opt/conda/lib/python3.9/site-packages\n",
      "Requires: requests\n",
      "Required-by: \n",
      "---\n",
      "Name: lightgbm\n",
      "Version: 3.3.1\n",
      "Summary: LightGBM Python Package\n",
      "Home-page: https://github.com/microsoft/LightGBM\n",
      "Author: None\n",
      "Author-email: None\n",
      "License: The MIT License (Microsoft)\n",
      "Location: /opt/conda/lib/python3.9/site-packages\n",
      "Requires: wheel, scikit-learn, scipy, numpy\n",
      "Required-by: \n",
      "---\n",
      "Name: xgboost\n",
      "Version: 1.5.1\n",
      "Summary: XGBoost Python Package\n",
      "Home-page: https://github.com/dmlc/xgboost\n",
      "Author: None\n",
      "Author-email: None\n",
      "License: Apache-2.0\n",
      "Location: /opt/conda/lib/python3.9/site-packages\n",
      "Requires: scipy, numpy\n",
      "Required-by: \n",
      "---\n",
      "Name: catboost\n",
      "Version: 1.0.3\n",
      "Summary: Catboost Python Package\n",
      "Home-page: https://catboost.ai\n",
      "Author: CatBoost Developers\n",
      "Author-email: None\n",
      "License: Apache License, Version 2.0\n",
      "Location: /opt/conda/lib/python3.9/site-packages\n",
      "Requires: numpy, matplotlib, pandas, graphviz, scipy, plotly, six\n",
      "Required-by: \n"
     ]
    }
   ],
   "source": [
    "# Выводим информацию о версиях установленных библиотек\n",
    "!pip show nltk pandas matplotlib numpy pymystem3 lightgbm xgboost catboost"
   ]
  },
  {
   "cell_type": "markdown",
   "metadata": {},
   "source": [
    "Отображение не более двух знаков после запятой"
   ]
  },
  {
   "cell_type": "code",
   "execution_count": 13,
   "metadata": {},
   "outputs": [],
   "source": [
    "# Устанавливаем формат отображения чисел с плавающей точкой в DataFrame\n",
    "pd.set_option('display.float_format','{:,.2f}'.format)"
   ]
  },
  {
   "cell_type": "markdown",
   "metadata": {},
   "source": [
    "Загружаем данные"
   ]
  },
  {
   "cell_type": "code",
   "execution_count": 14,
   "metadata": {},
   "outputs": [],
   "source": [
    "# Попытаемся прочитать CSV-файл из локального пути '/datasets/toxic_comments.csv'\n",
    "try:\n",
    "    data = pd.read_csv('/datasets/toxic_comments.csv', index_col=0)\n",
    "    \n",
    "# Если не удалось прочитать файл локально, то выполняем код в блоке except\n",
    "except:\n",
    "    # Пробуем прочитать CSV-файл из удаленного источника по URL 'https://code.s3.yandex.net/datasets/toxic_comments.csv'\n",
    "    data = pd.read_csv('https://code.s3.yandex.net/datasets/toxic_comments.csv', index_col=0)\n",
    "\n",
    "# В данном случае, если файл успешно загружен, данные будут храниться в переменной 'data'\n",
    "# Если первая попытка чтения из локального пути завершится успешно, блок 'except' не будет выполнен."
   ]
  },
  {
   "cell_type": "code",
   "execution_count": 15,
   "metadata": {},
   "outputs": [
    {
     "data": {
      "text/html": [
       "<div>\n",
       "<style scoped>\n",
       "    .dataframe tbody tr th:only-of-type {\n",
       "        vertical-align: middle;\n",
       "    }\n",
       "\n",
       "    .dataframe tbody tr th {\n",
       "        vertical-align: top;\n",
       "    }\n",
       "\n",
       "    .dataframe thead th {\n",
       "        text-align: right;\n",
       "    }\n",
       "</style>\n",
       "<table border=\"1\" class=\"dataframe\">\n",
       "  <thead>\n",
       "    <tr style=\"text-align: right;\">\n",
       "      <th></th>\n",
       "      <th>text</th>\n",
       "      <th>toxic</th>\n",
       "    </tr>\n",
       "  </thead>\n",
       "  <tbody>\n",
       "    <tr>\n",
       "      <th>0</th>\n",
       "      <td>Explanation\\nWhy the edits made under my usern...</td>\n",
       "      <td>0</td>\n",
       "    </tr>\n",
       "    <tr>\n",
       "      <th>1</th>\n",
       "      <td>D'aww! He matches this background colour I'm s...</td>\n",
       "      <td>0</td>\n",
       "    </tr>\n",
       "    <tr>\n",
       "      <th>2</th>\n",
       "      <td>Hey man, I'm really not trying to edit war. It...</td>\n",
       "      <td>0</td>\n",
       "    </tr>\n",
       "    <tr>\n",
       "      <th>3</th>\n",
       "      <td>\"\\nMore\\nI can't make any real suggestions on ...</td>\n",
       "      <td>0</td>\n",
       "    </tr>\n",
       "    <tr>\n",
       "      <th>4</th>\n",
       "      <td>You, sir, are my hero. Any chance you remember...</td>\n",
       "      <td>0</td>\n",
       "    </tr>\n",
       "  </tbody>\n",
       "</table>\n",
       "</div>"
      ],
      "text/plain": [
       "                                                text  toxic\n",
       "0  Explanation\\nWhy the edits made under my usern...      0\n",
       "1  D'aww! He matches this background colour I'm s...      0\n",
       "2  Hey man, I'm really not trying to edit war. It...      0\n",
       "3  \"\\nMore\\nI can't make any real suggestions on ...      0\n",
       "4  You, sir, are my hero. Any chance you remember...      0"
      ]
     },
     "execution_count": 15,
     "metadata": {},
     "output_type": "execute_result"
    }
   ],
   "source": [
    "# Выводим первые 5 строк данных для проверки\n",
    "data.head()"
   ]
  },
  {
   "cell_type": "code",
   "execution_count": 17,
   "metadata": {},
   "outputs": [
    {
     "name": "stdout",
     "output_type": "stream",
     "text": [
      "<class 'pandas.core.frame.DataFrame'>\n",
      "Int64Index: 159292 entries, 0 to 159450\n",
      "Data columns (total 2 columns):\n",
      " #   Column  Non-Null Count   Dtype \n",
      "---  ------  --------------   ----- \n",
      " 0   text    159292 non-null  object\n",
      " 1   toxic   159292 non-null  int64 \n",
      "dtypes: int64(1), object(1)\n",
      "memory usage: 3.6+ MB\n"
     ]
    }
   ],
   "source": [
    "# Выводим общую информацию о данных в DataFrame\n",
    "data.info()"
   ]
  },
  {
   "cell_type": "code",
   "execution_count": 18,
   "metadata": {},
   "outputs": [
    {
     "data": {
      "text/html": [
       "<div>\n",
       "<style scoped>\n",
       "    .dataframe tbody tr th:only-of-type {\n",
       "        vertical-align: middle;\n",
       "    }\n",
       "\n",
       "    .dataframe tbody tr th {\n",
       "        vertical-align: top;\n",
       "    }\n",
       "\n",
       "    .dataframe thead th {\n",
       "        text-align: right;\n",
       "    }\n",
       "</style>\n",
       "<table border=\"1\" class=\"dataframe\">\n",
       "  <thead>\n",
       "    <tr style=\"text-align: right;\">\n",
       "      <th></th>\n",
       "      <th>toxic</th>\n",
       "    </tr>\n",
       "  </thead>\n",
       "  <tbody>\n",
       "    <tr>\n",
       "      <th>count</th>\n",
       "      <td>159,292.00</td>\n",
       "    </tr>\n",
       "    <tr>\n",
       "      <th>mean</th>\n",
       "      <td>0.10</td>\n",
       "    </tr>\n",
       "    <tr>\n",
       "      <th>std</th>\n",
       "      <td>0.30</td>\n",
       "    </tr>\n",
       "    <tr>\n",
       "      <th>min</th>\n",
       "      <td>0.00</td>\n",
       "    </tr>\n",
       "    <tr>\n",
       "      <th>25%</th>\n",
       "      <td>0.00</td>\n",
       "    </tr>\n",
       "    <tr>\n",
       "      <th>50%</th>\n",
       "      <td>0.00</td>\n",
       "    </tr>\n",
       "    <tr>\n",
       "      <th>75%</th>\n",
       "      <td>0.00</td>\n",
       "    </tr>\n",
       "    <tr>\n",
       "      <th>max</th>\n",
       "      <td>1.00</td>\n",
       "    </tr>\n",
       "  </tbody>\n",
       "</table>\n",
       "</div>"
      ],
      "text/plain": [
       "           toxic\n",
       "count 159,292.00\n",
       "mean        0.10\n",
       "std         0.30\n",
       "min         0.00\n",
       "25%         0.00\n",
       "50%         0.00\n",
       "75%         0.00\n",
       "max         1.00"
      ]
     },
     "execution_count": 18,
     "metadata": {},
     "output_type": "execute_result"
    }
   ],
   "source": [
    "# Выводим статистическую информацию о числовых столбцах в DataFrame\n",
    "data.describe()"
   ]
  },
  {
   "cell_type": "code",
   "execution_count": 19,
   "metadata": {},
   "outputs": [
    {
     "data": {
      "text/plain": [
       "0"
      ]
     },
     "execution_count": 19,
     "metadata": {},
     "output_type": "execute_result"
    }
   ],
   "source": [
    "# Выводим информацию о количестве дупликатов\n",
    "data.duplicated().sum()"
   ]
  },
  {
   "cell_type": "markdown",
   "metadata": {},
   "source": [
    "Дубликатов нет."
   ]
  },
  {
   "cell_type": "markdown",
   "metadata": {},
   "source": [
    "**Распределение классов 'toxic' (позитивные и негативные комментарии) в наборе данных**"
   ]
  },
  {
   "cell_type": "code",
   "execution_count": 20,
   "metadata": {},
   "outputs": [
    {
     "data": {
      "image/png": "[encoded data removed]",
      "text/plain": [
       "<Figure size 864x432 with 1 Axes>"
      ]
     },
     "metadata": {
      "needs_background": "light"
     },
     "output_type": "display_data"
    }
   ],
   "source": [
    "# Подсчитываем долю классов \"toxic\"\n",
    "class_counts = data['toxic'].value_counts(normalize=True)\n",
    "\n",
    "# Создаем график\n",
    "plt.figure(figsize=(12, 6))  # Увеличиваем размер графика\n",
    "class_counts.plot(kind='bar', color=['skyblue', 'salmon'])\n",
    "\n",
    "# Добавляем подписи осей и заголовок\n",
    "plt.xlabel('Категория комментариев')\n",
    "plt.ylabel('Доля комментариев')\n",
    "plt.title('Распределение классов \"toxic\" (позитивные и негативные комментарии)')\n",
    "\n",
    "# Добавляем подписи столбцов с долями классов\n",
    "for index, value in enumerate(class_counts):\n",
    "    plt.text(index, value, f'{value:.2f}', ha='center', va='bottom')\n",
    "\n",
    "plt.xticks(ticks=[0, 1], labels=['Позитивные', 'Негативные'], rotation=0)  # Устанавливаем подписи для оси X\n",
    "\n",
    "plt.grid(axis='y')  # Добавляем сетку по оси Y\n",
    "\n",
    "plt.show()"
   ]
  },
  {
   "cell_type": "markdown",
   "metadata": {},
   "source": [
    "На данном графике представлено распределение классов для признака \"toxic\" (позитивные и негативные комментарии) в наборе данных. Из графика видно, что в наборе данных присутствует дисбаланс классов. Только около 10% комментариев имеют значение \"toxic\" (негативные комментарии), в то время как остальные 90% комментариев относятся к \"позитивным\" комментариям."
   ]
  },
  {
   "cell_type": "code",
   "execution_count": 21,
   "metadata": {},
   "outputs": [],
   "source": [
    "# Создаем объект лемматизатора\n",
    "lemmatizer = WordNetLemmatizer()"
   ]
  },
  {
   "cell_type": "markdown",
   "metadata": {},
   "source": [
    "Загружаем стоп-слова"
   ]
  },
  {
   "cell_type": "code",
   "execution_count": 22,
   "metadata": {},
   "outputs": [],
   "source": [
    "# Создаем множество стоп-слов для английского языка\n",
    "english_stopwords = set(nltk.corpus.stopwords.words('english'))\n",
    "# Создаем объект TfidfVectorizer с переданным множеством стоп-слов для их удаления из текста\n",
    "count_tf_idf = TfidfVectorizer(stop_words=english_stopwords)"
   ]
  },
  {
   "cell_type": "markdown",
   "metadata": {},
   "source": [
    "**Очистка текста**"
   ]
  },
  {
   "cell_type": "markdown",
   "metadata": {},
   "source": [
    "Функция по очистке текста от всех символов (оставляет только буквы английского алфавита)"
   ]
  },
  {
   "cell_type": "code",
   "execution_count": 23,
   "metadata": {},
   "outputs": [],
   "source": [
    "# Функция для комплексной очистки текста\n",
    "def text_clean(text):    \n",
    "    # Создаем множество стоп-слов для английского языка\n",
    "    stop_words = set(nltk.corpus.stopwords.words('english'))\n",
    "    \n",
    "    # Приводим текст к нижнему регистру\n",
    "    text = text.lower()\n",
    "    \n",
    "    # Заменяем все символы, кроме латинских букв и пробелов, на пробелы\n",
    "    # Также обрабатываем числа и сокращения\n",
    "    edited_text = re.sub(r'[^a-zA-Z0-9 ]', ' ', text)\n",
    "    \n",
    "    # Применяем токенизацию для разделения текста на слова\n",
    "    word_list = edited_text.split()\n",
    "    \n",
    "    # Удаляем стоп-слова из списка слов\n",
    "    word_notstop_list = [w for w in word_list if not w in stop_words]\n",
    "    \n",
    "    # Возвращаем очищенный текст, объединяя слова без добавления лишних пробелов\n",
    "    return ' '.join(word_notstop_list)"
   ]
  },
  {
   "cell_type": "markdown",
   "metadata": {},
   "source": [
    "Применяем функцию к нашему тексту"
   ]
  },
  {
   "cell_type": "code",
   "execution_count": 24,
   "metadata": {},
   "outputs": [
    {
     "data": {
      "text/html": [
       "<div>\n",
       "<style scoped>\n",
       "    .dataframe tbody tr th:only-of-type {\n",
       "        vertical-align: middle;\n",
       "    }\n",
       "\n",
       "    .dataframe tbody tr th {\n",
       "        vertical-align: top;\n",
       "    }\n",
       "\n",
       "    .dataframe thead th {\n",
       "        text-align: right;\n",
       "    }\n",
       "</style>\n",
       "<table border=\"1\" class=\"dataframe\">\n",
       "  <thead>\n",
       "    <tr style=\"text-align: right;\">\n",
       "      <th></th>\n",
       "      <th>text</th>\n",
       "      <th>toxic</th>\n",
       "      <th>text_cleared</th>\n",
       "    </tr>\n",
       "  </thead>\n",
       "  <tbody>\n",
       "    <tr>\n",
       "      <th>0</th>\n",
       "      <td>Explanation\\nWhy the edits made under my usern...</td>\n",
       "      <td>0</td>\n",
       "      <td>explanation edits made username hardcore metal...</td>\n",
       "    </tr>\n",
       "    <tr>\n",
       "      <th>1</th>\n",
       "      <td>D'aww! He matches this background colour I'm s...</td>\n",
       "      <td>0</td>\n",
       "      <td>aww matches background colour seemingly stuck ...</td>\n",
       "    </tr>\n",
       "    <tr>\n",
       "      <th>2</th>\n",
       "      <td>Hey man, I'm really not trying to edit war. It...</td>\n",
       "      <td>0</td>\n",
       "      <td>hey man really trying edit war guy constantly ...</td>\n",
       "    </tr>\n",
       "    <tr>\n",
       "      <th>3</th>\n",
       "      <td>\"\\nMore\\nI can't make any real suggestions on ...</td>\n",
       "      <td>0</td>\n",
       "      <td>make real suggestions improvement wondered sec...</td>\n",
       "    </tr>\n",
       "    <tr>\n",
       "      <th>4</th>\n",
       "      <td>You, sir, are my hero. Any chance you remember...</td>\n",
       "      <td>0</td>\n",
       "      <td>sir hero chance remember page</td>\n",
       "    </tr>\n",
       "    <tr>\n",
       "      <th>5</th>\n",
       "      <td>\"\\n\\nCongratulations from me as well, use the ...</td>\n",
       "      <td>0</td>\n",
       "      <td>congratulations well use tools well talk</td>\n",
       "    </tr>\n",
       "    <tr>\n",
       "      <th>6</th>\n",
       "      <td>COCKSUCKER BEFORE YOU PISS AROUND ON MY WORK</td>\n",
       "      <td>1</td>\n",
       "      <td>cocksucker piss around work</td>\n",
       "    </tr>\n",
       "    <tr>\n",
       "      <th>7</th>\n",
       "      <td>Your vandalism to the Matt Shirvington article...</td>\n",
       "      <td>0</td>\n",
       "      <td>vandalism matt shirvington article reverted pl...</td>\n",
       "    </tr>\n",
       "    <tr>\n",
       "      <th>8</th>\n",
       "      <td>Sorry if the word 'nonsense' was offensive to ...</td>\n",
       "      <td>0</td>\n",
       "      <td>sorry word nonsense offensive anyway intending...</td>\n",
       "    </tr>\n",
       "    <tr>\n",
       "      <th>9</th>\n",
       "      <td>alignment on this subject and which are contra...</td>\n",
       "      <td>0</td>\n",
       "      <td>alignment subject contrary dulithgow</td>\n",
       "    </tr>\n",
       "  </tbody>\n",
       "</table>\n",
       "</div>"
      ],
      "text/plain": [
       "                                                text  toxic  \\\n",
       "0  Explanation\\nWhy the edits made under my usern...      0   \n",
       "1  D'aww! He matches this background colour I'm s...      0   \n",
       "2  Hey man, I'm really not trying to edit war. It...      0   \n",
       "3  \"\\nMore\\nI can't make any real suggestions on ...      0   \n",
       "4  You, sir, are my hero. Any chance you remember...      0   \n",
       "5  \"\\n\\nCongratulations from me as well, use the ...      0   \n",
       "6       COCKSUCKER BEFORE YOU PISS AROUND ON MY WORK      1   \n",
       "7  Your vandalism to the Matt Shirvington article...      0   \n",
       "8  Sorry if the word 'nonsense' was offensive to ...      0   \n",
       "9  alignment on this subject and which are contra...      0   \n",
       "\n",
       "                                        text_cleared  \n",
       "0  explanation edits made username hardcore metal...  \n",
       "1  aww matches background colour seemingly stuck ...  \n",
       "2  hey man really trying edit war guy constantly ...  \n",
       "3  make real suggestions improvement wondered sec...  \n",
       "4                      sir hero chance remember page  \n",
       "5           congratulations well use tools well talk  \n",
       "6                        cocksucker piss around work  \n",
       "7  vandalism matt shirvington article reverted pl...  \n",
       "8  sorry word nonsense offensive anyway intending...  \n",
       "9               alignment subject contrary dulithgow  "
      ]
     },
     "execution_count": 24,
     "metadata": {},
     "output_type": "execute_result"
    }
   ],
   "source": [
    "# Применение функции text_clean к столбцу 'text' в DataFrame data\n",
    "data['text_cleared'] = data['text'].apply(text_clean)\n",
    "\n",
    "# Вывод первых 10 строк DataFrame data с новым столбцом 'text_cleared'\n",
    "data.head(10)\n"
   ]
  },
  {
   "cell_type": "markdown",
   "metadata": {},
   "source": [
    "**Лемматизация текста**"
   ]
  },
  {
   "cell_type": "code",
   "execution_count": 25,
   "metadata": {},
   "outputs": [],
   "source": [
    "def get_wordnet_pos_tag(word):\n",
    "    # Получаем часть речи (POS - Part-of-Speech) для слова\n",
    "    tag = None\n",
    "\n",
    "    # Проверяем, является ли слово прилагательным (ADJ)\n",
    "    if wordnet.synsets(word, pos=wordnet.ADJ):\n",
    "        tag = wordnet.ADJ\n",
    "    # Если не прилагательное, проверяем, является ли слово существительным (NOUN)\n",
    "    elif wordnet.synsets(word, pos=wordnet.NOUN):\n",
    "        tag = wordnet.NOUN\n",
    "    # Если не существительное, проверяем, является ли слово глаголом (VERB)\n",
    "    elif wordnet.synsets(word, pos=wordnet.VERB):\n",
    "        tag = wordnet.VERB\n",
    "    # Если не глагол, проверяем, является ли слово наречием (ADV)\n",
    "    elif wordnet.synsets(word, pos=wordnet.ADV):\n",
    "        tag = wordnet.ADV\n",
    "    else:\n",
    "        # Если слово не принадлежит ни одной из указанных частей речи, считаем его существительным по умолчанию\n",
    "        tag = wordnet.NOUN\n",
    "\n",
    "    # Возвращаем тег (часть речи) слова\n",
    "    return tag"
   ]
  },
  {
   "cell_type": "code",
   "execution_count": 26,
   "metadata": {},
   "outputs": [],
   "source": [
    "def lemmatize_text(text):\n",
    "    # Создаем экземпляр лемматизатора WordNet\n",
    "    lemmatizer = WordNetLemmatizer()\n",
    "\n",
    "    # Разделяем текст на список слов\n",
    "    word_list = text.split()\n",
    "\n",
    "    # Лемматизируем каждое слово и объединяем обратно в текст\n",
    "    lemmatized_text = ' '.join([lemmatizer.lemmatize(word, get_wordnet_pos_tag(word)) for word in word_list])\n",
    "\n",
    "    # Возвращаем лемматизированный текст\n",
    "    return lemmatized_text"
   ]
  },
  {
   "cell_type": "code",
   "execution_count": 27,
   "metadata": {},
   "outputs": [
    {
     "data": {
      "text/html": [
       "<div>\n",
       "<style scoped>\n",
       "    .dataframe tbody tr th:only-of-type {\n",
       "        vertical-align: middle;\n",
       "    }\n",
       "\n",
       "    .dataframe tbody tr th {\n",
       "        vertical-align: top;\n",
       "    }\n",
       "\n",
       "    .dataframe thead th {\n",
       "        text-align: right;\n",
       "    }\n",
       "</style>\n",
       "<table border=\"1\" class=\"dataframe\">\n",
       "  <thead>\n",
       "    <tr style=\"text-align: right;\">\n",
       "      <th></th>\n",
       "      <th>text</th>\n",
       "      <th>toxic</th>\n",
       "      <th>text_cleared</th>\n",
       "      <th>text_lemm</th>\n",
       "    </tr>\n",
       "  </thead>\n",
       "  <tbody>\n",
       "    <tr>\n",
       "      <th>0</th>\n",
       "      <td>Explanation\\nWhy the edits made under my usern...</td>\n",
       "      <td>0</td>\n",
       "      <td>explanation edits made username hardcore metal...</td>\n",
       "      <td>explanation edit made username hardcore metall...</td>\n",
       "    </tr>\n",
       "    <tr>\n",
       "      <th>1</th>\n",
       "      <td>D'aww! He matches this background colour I'm s...</td>\n",
       "      <td>0</td>\n",
       "      <td>aww matches background colour seemingly stuck ...</td>\n",
       "      <td>aww match background colour seemingly stuck th...</td>\n",
       "    </tr>\n",
       "    <tr>\n",
       "      <th>2</th>\n",
       "      <td>Hey man, I'm really not trying to edit war. It...</td>\n",
       "      <td>0</td>\n",
       "      <td>hey man really trying edit war guy constantly ...</td>\n",
       "      <td>hey man really trying edit war guy constantly ...</td>\n",
       "    </tr>\n",
       "    <tr>\n",
       "      <th>3</th>\n",
       "      <td>\"\\nMore\\nI can't make any real suggestions on ...</td>\n",
       "      <td>0</td>\n",
       "      <td>make real suggestions improvement wondered sec...</td>\n",
       "      <td>make real suggestion improvement wonder sectio...</td>\n",
       "    </tr>\n",
       "    <tr>\n",
       "      <th>4</th>\n",
       "      <td>You, sir, are my hero. Any chance you remember...</td>\n",
       "      <td>0</td>\n",
       "      <td>sir hero chance remember page</td>\n",
       "      <td>sir hero chance remember page</td>\n",
       "    </tr>\n",
       "    <tr>\n",
       "      <th>5</th>\n",
       "      <td>\"\\n\\nCongratulations from me as well, use the ...</td>\n",
       "      <td>0</td>\n",
       "      <td>congratulations well use tools well talk</td>\n",
       "      <td>congratulation well use tool well talk</td>\n",
       "    </tr>\n",
       "    <tr>\n",
       "      <th>6</th>\n",
       "      <td>COCKSUCKER BEFORE YOU PISS AROUND ON MY WORK</td>\n",
       "      <td>1</td>\n",
       "      <td>cocksucker piss around work</td>\n",
       "      <td>cocksucker piss around work</td>\n",
       "    </tr>\n",
       "    <tr>\n",
       "      <th>7</th>\n",
       "      <td>Your vandalism to the Matt Shirvington article...</td>\n",
       "      <td>0</td>\n",
       "      <td>vandalism matt shirvington article reverted pl...</td>\n",
       "      <td>vandalism matt shirvington article revert plea...</td>\n",
       "    </tr>\n",
       "    <tr>\n",
       "      <th>8</th>\n",
       "      <td>Sorry if the word 'nonsense' was offensive to ...</td>\n",
       "      <td>0</td>\n",
       "      <td>sorry word nonsense offensive anyway intending...</td>\n",
       "      <td>sorry word nonsense offensive anyway intend wr...</td>\n",
       "    </tr>\n",
       "    <tr>\n",
       "      <th>9</th>\n",
       "      <td>alignment on this subject and which are contra...</td>\n",
       "      <td>0</td>\n",
       "      <td>alignment subject contrary dulithgow</td>\n",
       "      <td>alignment subject contrary dulithgow</td>\n",
       "    </tr>\n",
       "  </tbody>\n",
       "</table>\n",
       "</div>"
      ],
      "text/plain": [
       "                                                text  toxic  \\\n",
       "0  Explanation\\nWhy the edits made under my usern...      0   \n",
       "1  D'aww! He matches this background colour I'm s...      0   \n",
       "2  Hey man, I'm really not trying to edit war. It...      0   \n",
       "3  \"\\nMore\\nI can't make any real suggestions on ...      0   \n",
       "4  You, sir, are my hero. Any chance you remember...      0   \n",
       "5  \"\\n\\nCongratulations from me as well, use the ...      0   \n",
       "6       COCKSUCKER BEFORE YOU PISS AROUND ON MY WORK      1   \n",
       "7  Your vandalism to the Matt Shirvington article...      0   \n",
       "8  Sorry if the word 'nonsense' was offensive to ...      0   \n",
       "9  alignment on this subject and which are contra...      0   \n",
       "\n",
       "                                        text_cleared  \\\n",
       "0  explanation edits made username hardcore metal...   \n",
       "1  aww matches background colour seemingly stuck ...   \n",
       "2  hey man really trying edit war guy constantly ...   \n",
       "3  make real suggestions improvement wondered sec...   \n",
       "4                      sir hero chance remember page   \n",
       "5           congratulations well use tools well talk   \n",
       "6                        cocksucker piss around work   \n",
       "7  vandalism matt shirvington article reverted pl...   \n",
       "8  sorry word nonsense offensive anyway intending...   \n",
       "9               alignment subject contrary dulithgow   \n",
       "\n",
       "                                           text_lemm  \n",
       "0  explanation edit made username hardcore metall...  \n",
       "1  aww match background colour seemingly stuck th...  \n",
       "2  hey man really trying edit war guy constantly ...  \n",
       "3  make real suggestion improvement wonder sectio...  \n",
       "4                      sir hero chance remember page  \n",
       "5             congratulation well use tool well talk  \n",
       "6                        cocksucker piss around work  \n",
       "7  vandalism matt shirvington article revert plea...  \n",
       "8  sorry word nonsense offensive anyway intend wr...  \n",
       "9               alignment subject contrary dulithgow  "
      ]
     },
     "execution_count": 27,
     "metadata": {},
     "output_type": "execute_result"
    }
   ],
   "source": [
    "# Применение функции lemmatize_text к столбцу 'text_cleared' в DataFrame data\n",
    "data['text_lemm'] = data['text_cleared'].apply(lemmatize_text)\n",
    "\n",
    "# Вывод первых 10 строк DataFrame data с новым столбцом 'text_lemm'\n",
    "data.head(10)"
   ]
  },
  {
   "cell_type": "markdown",
   "metadata": {},
   "source": [
    "**Вывод:**\n",
    "\n",
    "1. Загрузка и изучение исходных данных: Данные были успешно загружены, и их общая структура, типы признаков и размерность изучены для лучшего понимания данных.\n",
    "\n",
    "2. Проверка на пропуски и дубликаты: Произведена проверка на пропущенные значения и дубликаты, которые не обнаружены в данных, что гарантирует их целостность и надежность.\n",
    "\n",
    "3. Обнаружение дисбаланса классов: Выявлен дисбаланс между классами целевого признака, где только 10% текстов имеют признак \"токсичный\", что может повлиять на обучение модели.\n",
    "\n",
    "4. Лемматизация данных: Произведена лемматизация текстовых данных для приведения слов к базовым формам, упрощения обработки и повышения качества моделирования."
   ]
  },
  {
   "cell_type": "markdown",
   "metadata": {},
   "source": [
    "## Обучение"
   ]
  },
  {
   "cell_type": "markdown",
   "metadata": {},
   "source": [
    "Деление данных на выборки"
   ]
  },
  {
   "cell_type": "code",
   "execution_count": 29,
   "metadata": {},
   "outputs": [],
   "source": [
    "# Извлекаем столбец 'text_lemm' как признаки (фичи)\n",
    "features = data['text_lemm']\n",
    "\n",
    "# Извлекаем столбец 'toxic' как целевой признак (target)\n",
    "target = data['toxic']"
   ]
  },
  {
   "cell_type": "code",
   "execution_count": 40,
   "metadata": {},
   "outputs": [],
   "source": [
    "# Разбиваем признаки (features) и целевой признак (target) на обучающую и валидационную выборки\n",
    "# test_size = 0.1 указывает, что 40% данных будут использованы для валидации, а 60% для обучения модели\n",
    "# random_state - это параметр, который гарантирует, что разбиение данных будет одинаковым при каждом запуске кода\n",
    "# random_state можно задать числовое значение для воспроизводимости разбиения\n",
    "features_train, features_valid, target_train, target_valid = train_test_split(features, \n",
    "                                                                              target, \n",
    "                                                                              test_size=0.1, \n",
    "                                                                              random_state=random_state\n",
    "                                                                             )"
   ]
  },
  {
   "cell_type": "code",
   "execution_count": 41,
   "metadata": {},
   "outputs": [],
   "source": [
    "# Разбиваем валидационные данные на валидационную и тестовую выборки\n",
    "# features_valid - это лемматизированные тексты валидационных данных, target_valid - целевой признак для валидационных данных\n",
    "# test_size = 0.5 указывает, что 50% валидационных данных будут использованы для тестирования, а оставшиеся 50% - для дополнительной валидации\n",
    "# random_state - это параметр, который гарантирует, что разбиение данных будет одинаковым при каждом запуске кода\n",
    "# random_state можно задать числовое значение для воспроизводимости разбиения\n",
    "features_valid, features_test, target_valid, target_test = train_test_split(features_valid, \n",
    "                                                                            target_valid, \n",
    "                                                                            test_size=0.5, \n",
    "                                                                            random_state=random_state\n",
    "                                                                           )"
   ]
  },
  {
   "cell_type": "code",
   "execution_count": 42,
   "metadata": {},
   "outputs": [
    {
     "data": {
      "text/plain": [
       "0   0.90\n",
       "1   0.10\n",
       "Name: toxic, dtype: float64"
      ]
     },
     "execution_count": 42,
     "metadata": {},
     "output_type": "execute_result"
    }
   ],
   "source": [
    "# Получаем количество каждого уникального значения в целевом признаке (target) и нормализуем результаты (в долях от общего числа)\n",
    "# Нормализация выполняется путем деления количества значений на общее количество значений, чтобы получить доли каждого класса\n",
    "# Например, если в данных 100 записей и 20 из них относятся к классу \"toxic\" (токсичные), то результат будет 0.2 (20%)\n",
    "target.value_counts(normalize=True)"
   ]
  },
  {
   "cell_type": "code",
   "execution_count": 43,
   "metadata": {},
   "outputs": [
    {
     "data": {
      "image/png": "[encoded data removed]",
      "text/plain": [
       "<Figure size 504x504 with 1 Axes>"
      ]
     },
     "metadata": {},
     "output_type": "display_data"
    }
   ],
   "source": [
    "# Создаем график в форме круговой диаграммы с пастельными цветами\n",
    "colors = ['#66b3ff', '#ff9999']\n",
    "plt.figure(figsize=[7, 7])  # Увеличиваем размер графика\n",
    "plt.pie(target.value_counts(normalize=True), labels=['Отзыв не токсичный, класс [0]', 'Отзыв токсичный, класс [1]'],\n",
    "        autopct='%1.1f%%', colors=colors)\n",
    "\n",
    "# Добавляем заголовок и подпись осей\n",
    "plt.title('Баланс распределения классов в целевом признаке')\n",
    "plt.ylabel('')\n",
    "\n",
    "# Добавляем легенду\n",
    "plt.legend(loc='best', bbox_to_anchor=(0.9, 0.9))\n",
    "\n",
    "# Добавляем сетку для лучшей читаемости\n",
    "plt.grid(True, linestyle='--', alpha=0.7)\n",
    "\n",
    "plt.show()"
   ]
  },
  {
   "cell_type": "markdown",
   "metadata": {},
   "source": [
    "В данных преобладают \"нетоксичные\" комментарии. Из-за сильного дисбаланса классов (в 9 раз больше примеров класса 0), модель может склоняться к предсказыванию только класса 0, что приведет к частым верным предсказаниям для этого класса. Однако такой подход не будет эффективным, так как модель не сможет достаточно хорошо предсказывать редкий класс (класс 1). В результате модель может быть менее точной и неспособной адекватно обработать редкие случаи класса 1."
   ]
  },
  {
   "cell_type": "markdown",
   "metadata": {},
   "source": [
    "Преобразование текстовых данных в векторы TF-IDF и вывод размеров полученных матриц"
   ]
  },
  {
   "cell_type": "code",
   "execution_count": 44,
   "metadata": {},
   "outputs": [
    {
     "name": "stdout",
     "output_type": "stream",
     "text": [
      "Размер матрицы TF-IDF для обучающих данных: (143362, 155104) Размер целевого признака для обучающих данных: (143362,)\n",
      "\n",
      "Размер матрицы TF-IDF для валидационных данных: (7965, 155104) Размер целевого признака для валидационных данных: (7965,)\n",
      "\n",
      "Размер матрицы TF-IDF для тестовых данных: (7965, 155104) Размер целевого признака для тестовых данных: (7965,)\n"
     ]
    }
   ],
   "source": [
    "# Преобразуем тексты из обучающей, валидационной и тестовой выборок в векторы TF-IDF\n",
    "tf_idf_features_train = count_tf_idf.fit_transform(features_train.values)\n",
    "tf_idf_features_valid = count_tf_idf.transform(features_valid.values)\n",
    "tf_idf_features_test = count_tf_idf.transform(features_test.values)\n",
    "\n",
    "# Выводим размеры полученных матриц TF-IDF и размеры целевых признаков\n",
    "print(\"Размер матрицы TF-IDF для обучающих данных:\", tf_idf_features_train.shape, \"Размер целевого признака для обучающих данных:\", target_train.shape)\n",
    "print()\n",
    "print(\"Размер матрицы TF-IDF для валидационных данных:\", tf_idf_features_valid.shape, \"Размер целевого признака для валидационных данных:\", target_valid.shape)\n",
    "print()\n",
    "print(\"Размер матрицы TF-IDF для тестовых данных:\", tf_idf_features_test.shape, \"Размер целевого признака для тестовых данных:\", target_test.shape)"
   ]
  },
  {
   "cell_type": "markdown",
   "metadata": {},
   "source": [
    "Стратегия кросс-валидации для подбора параметров:"
   ]
  },
  {
   "cell_type": "code",
   "execution_count": 34,
   "metadata": {},
   "outputs": [],
   "source": [
    "# Создаем объект StratifiedShuffleSplit для кросс-валидации\n",
    "my_cv = StratifiedShuffleSplit(n_splits=3, test_size=0.25, random_state=random_state)"
   ]
  },
  {
   "cell_type": "markdown",
   "metadata": {},
   "source": [
    "### Обучение моделей*\n",
    "\n",
    "Обучим шесть моделей:\n",
    "\n",
    "1. Линейная регрессия (Linear Regression)\n",
    "2. Бинарная классификация (Linear Support Vector Classifier(LinearSVC))\n",
    "3. Случайный лес (Random Forest)\n",
    "4. Градиентный бустинг с XGBClassifier\n",
    "5. Градиентный бустинг с CatBoostClassifier\n",
    "6. Градиентный бустинг с LGBMClassifier\n",
    "\n",
    "*Все расчеты проводились на стационарном компьютере."
   ]
  },
  {
   "cell_type": "markdown",
   "metadata": {},
   "source": [
    "### Модель LogisticRegression"
   ]
  },
  {
   "cell_type": "code",
   "execution_count": 45,
   "metadata": {},
   "outputs": [],
   "source": [
    "# Модель Logistic Regression\n",
    "model_LR = LogisticRegression(random_state=random_state)"
   ]
  },
  {
   "cell_type": "code",
   "execution_count": 46,
   "metadata": {},
   "outputs": [
    {
     "name": "stdout",
     "output_type": "stream",
     "text": [
      "Модель Logistic Regression без настройки параметров:\n",
      "F1-мера на валидационной выборке: 0.76\n"
     ]
    }
   ],
   "source": [
    "# Обучение модели на обучающих данных\n",
    "model_LR.fit(tf_idf_features_train, target_train)\n",
    "\n",
    "# Предсказываем значения на валидационных данных и вычисляем F1-меру\n",
    "predicted_valid_LR = model_LR.predict(tf_idf_features_valid)\n",
    "\n",
    "f1_valid_LR = f1_score(target_valid, predicted_valid_LR)\n",
    "print('Модель Logistic Regression без настройки параметров:')\n",
    "print('F1-мера на валидационной выборке: {:.2f}'.format(f1_valid_LR))"
   ]
  },
  {
   "cell_type": "code",
   "execution_count": 47,
   "metadata": {},
   "outputs": [],
   "source": [
    "# Создаем объект модели Logistic Regression\n",
    "model_grid_LR = LogisticRegression(random_state=random_state)\n",
    "\n",
    "# Задаем параметры для поиска наилучших параметров\n",
    "parametrs_LR = {\n",
    "    'solver': ['liblinear'],\n",
    "    'penalty': ['l1', 'l2'],\n",
    "    'C': [5, 10, 15],\n",
    "    'class_weight': ['balanced'],\n",
    "}\n",
    "\n",
    "# Поиск наилучших параметров с использованием кросс-валидации\n",
    "grid_LR = GridSearchCV(model_grid_LR, \n",
    "                       param_grid=parametrs_LR, \n",
    "                       cv=my_cv,\n",
    "                       scoring='f1',\n",
    "                       n_jobs=60,\n",
    "                       verbose=0)"
   ]
  },
  {
   "cell_type": "code",
   "execution_count": null,
   "metadata": {},
   "outputs": [],
   "source": [
    "%%time\n",
    "\n",
    "grid_LR.fit(tf_idf_features_train, target_train)\n",
    "\n",
    "# Выводим наилучшие параметры и лучшую F1-меру на валидационной выборке\n",
    "print('Наилучшие параметры Logistic Regression:')\n",
    "print(grid_LR.best_params_)\n",
    "print()\n",
    "print('Лучшая F1-мера на валидационной выборке без настройки параметров: {:.2f}'.format(f1_valid_LR))\n",
    "\n",
    "# Оцениваем качество модели на валидационной выборке\n",
    "predicted_valid_grid_LR = grid_LR.predict(tf_idf_features_valid)\n",
    "f1_valid_grid_LR = f1_score(target_valid, predicted_valid_grid_LR)\n",
    "print('Лучшая F1-мера на валидационной выборке с настройкой параметров: {:.2f}'.format(f1_valid_grid_LR))\n",
    "print()"
   ]
  },
  {
   "cell_type": "code",
   "execution_count": 72,
   "metadata": {},
   "outputs": [],
   "source": [
    "# Наилучшие параметры Logistic Regression:\n",
    "# {'C': 15, 'class_weight': 'balanced', 'penalty': 'l2', 'solver': 'liblinear'}\n",
    "\n",
    "# Лучшая F1-мера на валидационной выборке без настройки параметров: 0.72\n",
    "# Лучшая F1-мера на валидационной выборке с настройкой параметров: 0.76\n",
    "\n",
    "# CPU times: total: 2min 44s\n",
    "# Wall time: 15.8 s"
   ]
  },
  {
   "cell_type": "markdown",
   "metadata": {},
   "source": [
    "**На основе представленных результатов:**\n",
    "\n",
    "1. Мы использовали модель `Logistic Regression` для классификации комментариев на позитивные и негативные с помощью метрики F1.\n",
    "\n",
    "2. При использовании стандартных параметров модели, `F1-мера` на валидационной выборке составила 0.72. Однако, после тщательной настройки гиперпараметров с помощью кросс-валидации, удалось достичь значительного улучшения результата до `F1-меры` 0.76.\n",
    "\n",
    "3. Лучшие параметры модели были найдены как {'C': 15, 'class_weight': 'balanced', 'penalty': 'l2', 'solver': 'liblinear'}. Это говорит о том, что использование L2 регуляризации с обратной силой регуляризации 15 и учетом баланса классов с помощью взвешивания влияет на повышение качества модели.\n",
    "\n",
    "4. Время обучения модели с оптимальными параметрами заняло 15.8 секунд, что является приемлемым временем для данной задачи.\n",
    "\n",
    "5. Полученное значение `F1-меры` (0.76) позволяет нам с уверенностью использовать эту модель для автоматической классификации комментариев на позитивные и негативные в интернет-магазине \"Викишоп\".\n",
    "\n",
    "Таким образом, поставленная в задаче цель была успешно достигнута, и мы имеем эффективную модель, которая способна автоматически выявлять токсичные комментарии с высоким уровнем точности и полноты."
   ]
  },
  {
   "cell_type": "markdown",
   "metadata": {},
   "source": [
    "### Модель LinearSVC"
   ]
  },
  {
   "cell_type": "code",
   "execution_count": 27,
   "metadata": {},
   "outputs": [],
   "source": [
    "# Модель LinearSVC без настройки параметров\n",
    "model_svc = LinearSVC(random_state=random_state)"
   ]
  },
  {
   "cell_type": "code",
   "execution_count": 28,
   "metadata": {},
   "outputs": [
    {
     "name": "stdout",
     "output_type": "stream",
     "text": [
      "Модель LinearSVC без настройки параметров:\n",
      "F1-мера на валидационной выборке: 0.78\n"
     ]
    }
   ],
   "source": [
    "# Обучение модели на обучающих данных\n",
    "model_svc.fit(tf_idf_features_train, target_train)\n",
    "\n",
    "# Предсказываем значения на валидационных данных и вычисляем F1-меру\n",
    "predicted_valid_svc = model_svc.predict(tf_idf_features_valid)\n",
    "f1_valid_svc = f1_score(target_valid, predicted_valid_svc)\n",
    "print('Модель LinearSVC без настройки параметров:')\n",
    "print('F1-мера на валидационной выборке: {:.2f}'.format(f1_valid_svc))"
   ]
  },
  {
   "cell_type": "code",
   "execution_count": 29,
   "metadata": {},
   "outputs": [],
   "source": [
    "# Создаем объект модели LinearSVC\n",
    "model_grid_svc = LinearSVC(max_iter = 1000, random_state=random_state)\n",
    "\n",
    "# Задаем параметры для поиска наилучших параметров\n",
    "parametrs_svc = {'C': np.linspace(1, 31, num = 7, endpoint = True),\n",
    "                 'penalty': ['l1', 'l2'],\n",
    "                 'loss': ['hinge', 'squared_hinge'],\n",
    "                }\n",
    "\n",
    "# Поиск наилучших параметров с использованием кросс-валидации\n",
    "grid_svc = GridSearchCV(model_grid_svc, \n",
    "                        param_grid=parametrs_svc, \n",
    "                        cv=my_cv, \n",
    "                        scoring='f1',\n",
    "                        n_jobs=60,\n",
    "                        verbose=0\n",
    "                       )"
   ]
  },
  {
   "cell_type": "code",
   "execution_count": 30,
   "metadata": {},
   "outputs": [
    {
     "name": "stdout",
     "output_type": "stream",
     "text": [
      "Наилучшие параметры LinearSVC:\n",
      "{'C': 1.0, 'loss': 'squared_hinge', 'penalty': 'l2'}\n",
      "\n",
      "Лучшая F1-мера на валидационной выборке без настройки параметров: 0.78\n",
      "Лучшая F1-мера на валидационной выборке с настройкой параметров: 0.78\n",
      "\n",
      "Wall time: 38.6 s\n"
     ]
    }
   ],
   "source": [
    "%%time\n",
    "\n",
    "grid_svc.fit(tf_idf_features_train, target_train)\n",
    "\n",
    "# Выводим наилучшие параметры и лучшую F1-меру на валидационной выборке\n",
    "print('Наилучшие параметры LinearSVC:')\n",
    "print(grid_svc.best_params_)\n",
    "print()\n",
    "print('Лучшая F1-мера на валидационной выборке без настройки параметров: {:.2f}'.format(f1_valid_svc))\n",
    "\n",
    "# Оцениваем качество модели на валидационной выборке\n",
    "predicted_valid_grid_svc = grid_svc.predict(tf_idf_features_valid)\n",
    "f1_valid_grid_svc = f1_score(target_valid, predicted_valid_grid_svc)\n",
    "print('Лучшая F1-мера на валидационной выборке с настройкой параметров: {:.2f}'.format(f1_valid_grid_svc))\n",
    "print()"
   ]
  },
  {
   "cell_type": "code",
   "execution_count": 69,
   "metadata": {},
   "outputs": [],
   "source": [
    "# Наилучшие параметры LinearSVC:\n",
    "# {'C': 1.0, 'loss': 'squared_hinge', 'penalty': 'l2'}\n",
    "\n",
    "# Лучшая F1-мера на валидационной выборке без настройки параметров: 0.78\n",
    "# Лучшая F1-мера на валидационной выборке с настройкой параметров: 0.78\n",
    "\n",
    "# CPU times: total: 2.11 s\n",
    "# Wall time: 10.5 s"
   ]
  },
  {
   "cell_type": "markdown",
   "metadata": {},
   "source": [
    "**На основе представленных результатов:**\n",
    "\n",
    "1. Мы использовали модель `LinearSVC` для классификации комментариев на позитивные и негативные с помощью метрики F1.\n",
    "\n",
    "2. Исходно, без настройки гиперпараметров, модель `LinearSVC` показала достаточно высокую `F1-меру` на валидационной выборке равную 0.78.\n",
    "\n",
    "3. При дальнейшей тщательной настройке гиперпараметров с помощью кросс-валидации, удалось подтвердить этот результат до `F1-меры` 0.78. Это говорит о том, что модель хорошо обучается и не переобучается на обучающих данных.\n",
    "\n",
    "4. Лучшие параметры модели были найдены как {'C': 1.0, 'loss': 'squared_hinge', 'penalty': 'l2'}. Использование L2 регуляризации с C=1.0 и функции потерь squared_hinge дает наилучший результат для данной задачи классификации.\n",
    "\n",
    "5. Обучение модели заняло всего 10.5 секунд, что говорит о высокой эффективности и быстродействии модели.\n",
    "\n",
    "6. Полученное значение `F1-меры` (0.78) значительно превышает минимальное требование проекта (F1 >= 0.75). Это означает, что мы успешно выполнели поставленную задачу и создали эффективную модель для автоматической классификации комментариев на позитивные и негативные в интернет-магазине \"Викишоп\".\n",
    "\n",
    "Таким образом, модель `LinearSVC` показала отличные результаты и является отличным вариантом для решения данной задачи классификации с высоким уровнем точности и полноты."
   ]
  },
  {
   "cell_type": "markdown",
   "metadata": {},
   "source": [
    "### Модель RandomForestClassifier"
   ]
  },
  {
   "cell_type": "code",
   "execution_count": 50,
   "metadata": {},
   "outputs": [],
   "source": [
    "# Модель RandomForestClassifier с 10 деревьями\n",
    "model_rf = RandomForestClassifier(n_estimators=10, random_state=random_state)"
   ]
  },
  {
   "cell_type": "code",
   "execution_count": 51,
   "metadata": {},
   "outputs": [
    {
     "name": "stdout",
     "output_type": "stream",
     "text": [
      "RandomForestClassifier без настройки параметров:\n",
      "F1-мера на валидационной выборке: 0.68\n"
     ]
    }
   ],
   "source": [
    "model_rf.fit(tf_idf_features_train, target_train)\n",
    "# Предсказание на валидационных данных и расчет F1-меры\n",
    "\n",
    "# Предсказываем значения на валидационных данных и вычисляем F1-меру\n",
    "predicted_valid_rf = model_rf.predict(tf_idf_features_valid)\n",
    "\n",
    "f1_valid_rf = f1_score(target_valid, predicted_valid_rf)\n",
    "print('RandomForestClassifier без настройки параметров:')\n",
    "print('F1-мера на валидационной выборке: {:.2f}'.format(f1_valid_rf))"
   ]
  },
  {
   "cell_type": "code",
   "execution_count": 52,
   "metadata": {},
   "outputs": [],
   "source": [
    "# Создаем объект RandomForestClassifier\n",
    "model_grid_rf = RandomForestClassifier(random_state=random_state)\n",
    "\n",
    "# Задание параметров для поиска наилучших параметров\n",
    "parametrs_RF = {\n",
    "    'n_estimators': [50, 100, 150],\n",
    "    'max_depth' : [10, 20, 50],\n",
    "    'class_weight': ['balanced']\n",
    "}\n",
    "\n",
    "# Поиск наилучших параметров с использованием кросс-валидации\n",
    "grid_forest = GridSearchCV(model_grid_rf, \n",
    "                           param_grid=parametrs_RF, \n",
    "                           cv=my_cv,\n",
    "                           n_jobs=60,\n",
    "                           scoring='f1',\n",
    "                           verbose=0\n",
    "                          )"
   ]
  },
  {
   "cell_type": "code",
   "execution_count": 53,
   "metadata": {},
   "outputs": [
    {
     "name": "stdout",
     "output_type": "stream",
     "text": [
      "Наилучшие параметры RandomForestClassifier:\n",
      "{'class_weight': 'balanced', 'max_depth': 50, 'n_estimators': 100}\n",
      "\n",
      "Лучшая F1-мера на валидационной выборке без настройки параметров: 0.68\n",
      "Лучшая F1-мера на валидационной выборке с настройкой параметров: 0.50\n",
      "\n",
      "CPU times: total: 1min 33s\n",
      "Wall time: 6min 35s\n"
     ]
    }
   ],
   "source": [
    "%%time\n",
    "\n",
    "grid_forest.fit(tf_idf_features_train, target_train)\n",
    "\n",
    "# Выводим наилучшие параметры и лучшую F1-меру на валидационной выборке\n",
    "print('Наилучшие параметры RandomForestClassifier:')\n",
    "print(grid_forest.best_params_)\n",
    "print()\n",
    "print('Лучшая F1-мера на валидационной выборке без настройки параметров: {:.2f}'.format(f1_valid_rf))\n",
    "\n",
    "# Оцениваем качество модели на валидационной выборке\n",
    "predicted_valid_grid_rf = grid_forest.predict(tf_idf_features_valid)\n",
    "f1_valid_grid_rf = f1_score(target_valid, predicted_valid_grid_rf)\n",
    "print('Лучшая F1-мера на валидационной выборке с настройкой параметров: {:.2f}'.format(f1_valid_grid_rf))\n",
    "print()"
   ]
  },
  {
   "cell_type": "code",
   "execution_count": 71,
   "metadata": {},
   "outputs": [],
   "source": [
    "# Наилучшие параметры RandomForestClassifier:\n",
    "# {'class_weight': 'balanced', 'max_depth': 50, 'n_estimators': 100}\n",
    "\n",
    "# Лучшая F1-мера на валидационной выборке без настройки параметров: 0.68\n",
    "# Лучшая F1-мера на валидационной выборке с настройкой параметров: 0.50\n",
    "\n",
    "# CPU times: total: 1min 33s\n",
    "# Wall time: 6min 35s"
   ]
  },
  {
   "cell_type": "markdown",
   "metadata": {},
   "source": [
    "**На основе представленных результатов:**\n",
    "\n",
    "1. Мы использовали модель `RandomForestClassifier` для классификации комментариев на позитивные и негативные с помощью метрики F1.\n",
    "\n",
    "2. Исходно, без настройки гиперпараметров, модель `RandomForestClassifier` показала `F1-меру` на валидационной выборке равную 0.68. Этот результат не соответствует требованиям проекта, так как `F1-мера` должна быть не меньше 0.75.\n",
    "\n",
    "3. При попытке настройки гиперпараметров с использованием кросс-валидации, модель показала значительное ухудшение `F1-меры` до 0.50. Это говорит о том, что настройка гиперпараметров не привела к улучшению модели, а, возможно, даже к переобучению.\n",
    "\n",
    "4. Лучшие параметры модели были найдены как {'class_weight': 'balanced', 'max_depth': 50, 'n_estimators': 100}. Установка балансировки классов и увеличение глубины деревьев и числа деревьев не улучшило качество модели.\n",
    "\n",
    "5. Обучение модели заняло значительное время: 6 минут 35 секунд. Это говорит о том, что `RandomForestClassifier` может быть достаточно ресурсоемкой моделью, особенно при больших значениях гиперпараметров.\n",
    "\n",
    "6. К сожалению, полученное значение `F1-меры` (0.50) не соответствует требованиям проекта (F1 >= 0.75). Это означает, что `RandomForestClassifier` не является оптимальным выбором для данной задачи классификации комментариев в интернет-магазине \"Викишоп\".\n",
    "\n",
    "Исходя из этого, следует рассмотреть другие модели, такие как `LinearSVC`, которая показала значительно более высокую F1-меру (0.78) на валидационной выборке и обладает хорошей скоростью обучения."
   ]
  },
  {
   "cell_type": "markdown",
   "metadata": {},
   "source": [
    "### Модель градиентного бустинга XGBClassifier"
   ]
  },
  {
   "cell_type": "code",
   "execution_count": 54,
   "metadata": {},
   "outputs": [],
   "source": [
    "# Модель XGBClassifier с 10 деревьями\n",
    "model_xgb = XGBClassifier(n_estimators=10, eval_metric='logloss', random_state=random_state)"
   ]
  },
  {
   "cell_type": "code",
   "execution_count": 55,
   "metadata": {},
   "outputs": [
    {
     "name": "stdout",
     "output_type": "stream",
     "text": [
      "XGBClassifier без настройки параметров:\n",
      "F1-мера на валидационной выборке: 0.56\n"
     ]
    }
   ],
   "source": [
    "# Обучение модели на обучающих данных\n",
    "model_xgb.fit(tf_idf_features_train, target_train)\n",
    "\n",
    "# Предсказание на валидационных данных и расчет F1-меры\n",
    "predicted_valid_xgb = model_xgb.predict(tf_idf_features_valid)\n",
    "f1_valid_xgb = f1_score(target_valid, predicted_valid_xgb)\n",
    "print('XGBClassifier без настройки параметров:')\n",
    "print('F1-мера на валидационной выборке: {:.2f}'.format(f1_valid_xgb))"
   ]
  },
  {
   "cell_type": "code",
   "execution_count": 56,
   "metadata": {},
   "outputs": [],
   "source": [
    "# Создаем объект XGBClassifier\n",
    "model_grid_xgb = XGBClassifier(random_state=random_state, eval_metric='logloss')\n",
    "\n",
    "# Задание параметров для поиска наилучших параметров\n",
    "parametrs_xgb = {\n",
    "    'n_estimators': [50, 100],\n",
    "    'max_depth': [10, 20, 50],\n",
    "#     'learning_rate': [0.01, 0.1, 0.3],\n",
    "#     'max_delta_step': [0, 1, 2],\n",
    "#     'scale_pos_weight': [1, target_train.mean()],\n",
    "}\n",
    "\n",
    "# Поиск наилучших параметров с использованием кросс-валидации\n",
    "grid_xgb = GridSearchCV(model_grid_xgb, \n",
    "                        param_grid=parametrs_xgb, \n",
    "                        cv=my_cv,\n",
    "                        n_jobs=60,\n",
    "                        scoring='f1',\n",
    "                        verbose=0\n",
    "                       )"
   ]
  },
  {
   "cell_type": "code",
   "execution_count": 57,
   "metadata": {},
   "outputs": [
    {
     "name": "stdout",
     "output_type": "stream",
     "text": [
      "Наилучшие параметры XGBClassifier:\n",
      "{'max_depth': 50, 'n_estimators': 100}\n",
      "\n",
      "Лучшая F1-мера на валидационной выборке без настройки параметров: 0.56\n",
      "Лучшая F1-мера на валидационной выборке с настройкой параметров: 0.77\n",
      "\n",
      "CPU times: total: 59min 32s\n",
      "Wall time: 11min 9s\n"
     ]
    }
   ],
   "source": [
    "%%time\n",
    "\n",
    "grid_xgb.fit(tf_idf_features_train, target_train)\n",
    "\n",
    "# Выводим наилучшие параметры и лучшую F1-меру на валидационной выборке\n",
    "print('Наилучшие параметры XGBClassifier:')\n",
    "print(grid_xgb.best_params_)\n",
    "print()\n",
    "print('Лучшая F1-мера на валидационной выборке без настройки параметров: {:.2f}'.format(f1_valid_xgb))\n",
    "\n",
    "# Оцениваем качество модели на валидационной выборке\n",
    "predicted_valid_grid_xgb = grid_xgb.predict(tf_idf_features_valid)\n",
    "f1_valid_grid_xgb = f1_score(target_valid, predicted_valid_grid_xgb)\n",
    "print('Лучшая F1-мера на валидационной выборке с настройкой параметров: {:.2f}'.format(f1_valid_grid_xgb))\n",
    "print()"
   ]
  },
  {
   "cell_type": "code",
   "execution_count": null,
   "metadata": {},
   "outputs": [],
   "source": [
    "# Наилучшие параметры XGBClassifier:\n",
    "# {'max_depth': 50, 'n_estimators': 100}\n",
    "\n",
    "# Лучшая F1-мера на валидационной выборке без настройки параметров: 0.56\n",
    "# Лучшая F1-мера на валидационной выборке с настройкой параметров: 0.77\n",
    "\n",
    "# CPU times: total: 59min 32s\n",
    "# Wall time: 11min 9s"
   ]
  },
  {
   "cell_type": "markdown",
   "metadata": {},
   "source": [
    "**На основе представленных результатов:**\n",
    "\n",
    "1. Мы использовали модель `XGBClassifier` для классификации комментариев на позитивные и негативные с помощью метрики F1.\n",
    "\n",
    "2. Исходно, без настройки гиперпараметров, модель `XGBClassifier` показала низкую `F1-меру` на валидационной выборке - 0.56. Этот результат не соответствует требованиям проекта, так как `F1-мера` должна быть не меньше 0.75.\n",
    "\n",
    "3. При настройке гиперпараметров с использованием кросс-валидации, модель значительно улучшилась, достигнув `F1-меры` 0.77 на валидационной выборке. Это говорит о том, что правильный подбор гиперпараметров может существенно повысить качество модели.\n",
    "\n",
    "4. Лучшие параметры модели были найдены как {'max_depth': 50, 'n_estimators': 100}. Увеличение глубины деревьев и числа деревьев значительно повлияло на качество модели, улучшив его с 0.56 до 0.77.\n",
    "\n",
    "5. Обучение модели заняло довольно много времени: 11 минут 9 секунд. Это говорит о том, что `XGBClassifier` может быть достаточно ресурсоемкой моделью, особенно при больших значениях гиперпараметров.\n",
    "\n",
    "6. Итоговая `F1-мера` 0.77 на валидационной выборке соответствует требованиям проекта (F1 >= 0.75). Это означает, что `XGBClassifier` является хорошим выбором для данной задачи классификации комментариев в интернет-магазине \"Викишоп\".\n",
    "\n",
    "Исходя из этого, рекомендуется использовать модель `XGBClassifier` с найденными оптимальными параметрами для классификации комментариев в \"Викишопе\", так как она способна эффективно и точно идентифицировать позитивные и негативные комментарии."
   ]
  },
  {
   "cell_type": "markdown",
   "metadata": {},
   "source": [
    "### Модель градиентного бустинга CatBoostClassifier"
   ]
  },
  {
   "cell_type": "code",
   "execution_count": 58,
   "metadata": {},
   "outputs": [],
   "source": [
    "# Модель CatBoostClassifier с 10 деревьями и указанием метрики F1\n",
    "model_catboost = CatBoostClassifier(n_estimators=10, eval_metric='F1', random_state=random_state)"
   ]
  },
  {
   "cell_type": "code",
   "execution_count": 59,
   "metadata": {
    "scrolled": true
   },
   "outputs": [
    {
     "name": "stdout",
     "output_type": "stream",
     "text": [
      "Learning rate set to 0.5\n",
      "0:\tlearn: 0.4408997\ttotal: 696ms\tremaining: 6.26s\n",
      "1:\tlearn: 0.5258737\ttotal: 1.25s\tremaining: 5s\n",
      "2:\tlearn: 0.5025895\ttotal: 1.9s\tremaining: 4.43s\n",
      "3:\tlearn: 0.5735051\ttotal: 2.48s\tremaining: 3.72s\n",
      "4:\tlearn: 0.5759781\ttotal: 3.11s\tremaining: 3.11s\n",
      "5:\tlearn: 0.5528743\ttotal: 3.65s\tremaining: 2.44s\n",
      "6:\tlearn: 0.5618587\ttotal: 4.23s\tremaining: 1.81s\n",
      "7:\tlearn: 0.5864153\ttotal: 4.88s\tremaining: 1.22s\n",
      "8:\tlearn: 0.6027397\ttotal: 5.54s\tremaining: 615ms\n",
      "9:\tlearn: 0.6000855\ttotal: 6.04s\tremaining: 0us\n",
      "CatBoostClassifier без настройки параметров и с метрикой F1:\n",
      "F1-мера на валидационной выборке: 0.60\n"
     ]
    }
   ],
   "source": [
    "# Обучение модели на обучающих данных\n",
    "model_catboost.fit(tf_idf_features_train, target_train)\n",
    "\n",
    "# Предсказание на валидационных данных и расчет F1-меры\n",
    "predicted_valid_catboost = model_catboost.predict(tf_idf_features_valid)\n",
    "f1_valid_catboost = f1_score(target_valid, predicted_valid_catboost)\n",
    "print('CatBoostClassifier без настройки параметров и с метрикой F1:')\n",
    "print('F1-мера на валидационной выборке: {:.2f}'.format(f1_valid_catboost))"
   ]
  },
  {
   "cell_type": "code",
   "execution_count": 60,
   "metadata": {},
   "outputs": [],
   "source": [
    "# Создаем объект CatBoostClassifier\n",
    "model_grid_catboost = CatBoostClassifier(random_state=random_state, eval_metric='F1')\n",
    "\n",
    "# Задание параметров для поиска наилучших параметров\n",
    "parametrs_catboost = {\n",
    "    'n_estimators': [50, 100],\n",
    "    'depth': [6, 10],\n",
    "#     'class_weights': [[1, target_train.mean()]],\n",
    "}\n",
    "\n",
    "# Поиск наилучших параметров с использованием кросс-валидации\n",
    "grid_catboost = GridSearchCV(model_grid_catboost, \n",
    "                             param_grid=parametrs_catboost, \n",
    "                             cv=my_cv,\n",
    "                             n_jobs=60,\n",
    "                             scoring='f1',\n",
    "                             verbose=0\n",
    "                            )"
   ]
  },
  {
   "cell_type": "code",
   "execution_count": 61,
   "metadata": {},
   "outputs": [
    {
     "name": "stdout",
     "output_type": "stream",
     "text": [
      "Learning rate set to 0.5\n",
      "0:\tlearn: 0.4408997\ttotal: 7.15s\tremaining: 11m 47s\n",
      "1:\tlearn: 0.5568466\ttotal: 14.4s\tremaining: 11m 43s\n",
      "2:\tlearn: 0.5763469\ttotal: 21.6s\tremaining: 11m 39s\n",
      "3:\tlearn: 0.6066311\ttotal: 28.8s\tremaining: 11m 31s\n",
      "4:\tlearn: 0.6224164\ttotal: 36s\tremaining: 11m 23s\n",
      "5:\tlearn: 0.6092303\ttotal: 43.2s\tremaining: 11m 16s\n",
      "6:\tlearn: 0.6366135\ttotal: 50.4s\tremaining: 11m 9s\n",
      "7:\tlearn: 0.6460659\ttotal: 57.7s\tremaining: 11m 3s\n",
      "8:\tlearn: 0.6416387\ttotal: 1m 4s\tremaining: 10m 54s\n",
      "9:\tlearn: 0.6519292\ttotal: 1m 11s\tremaining: 10m 47s\n",
      "10:\tlearn: 0.6604231\ttotal: 1m 19s\tremaining: 10m 40s\n",
      "11:\tlearn: 0.6664434\ttotal: 1m 26s\tremaining: 10m 34s\n",
      "12:\tlearn: 0.6781632\ttotal: 1m 33s\tremaining: 10m 26s\n",
      "13:\tlearn: 0.6878065\ttotal: 1m 40s\tremaining: 10m 19s\n",
      "14:\tlearn: 0.6954498\ttotal: 1m 48s\tremaining: 10m 12s\n",
      "15:\tlearn: 0.6990991\ttotal: 1m 55s\tremaining: 10m 5s\n",
      "16:\tlearn: 0.7012152\ttotal: 2m 2s\tremaining: 9m 57s\n",
      "17:\tlearn: 0.7033828\ttotal: 2m 9s\tremaining: 9m 50s\n",
      "18:\tlearn: 0.7069595\ttotal: 2m 16s\tremaining: 9m 43s\n",
      "19:\tlearn: 0.7053233\ttotal: 2m 24s\tremaining: 9m 36s\n",
      "20:\tlearn: 0.7123970\ttotal: 2m 31s\tremaining: 9m 28s\n",
      "21:\tlearn: 0.7146408\ttotal: 2m 38s\tremaining: 9m 21s\n",
      "22:\tlearn: 0.7182257\ttotal: 2m 45s\tremaining: 9m 14s\n",
      "23:\tlearn: 0.7201320\ttotal: 2m 52s\tremaining: 9m 7s\n",
      "24:\tlearn: 0.7229434\ttotal: 3m\tremaining: 9m\n",
      "25:\tlearn: 0.7250079\ttotal: 3m 7s\tremaining: 8m 53s\n",
      "26:\tlearn: 0.7271924\ttotal: 3m 14s\tremaining: 8m 45s\n",
      "27:\tlearn: 0.7281216\ttotal: 3m 21s\tremaining: 8m 38s\n",
      "28:\tlearn: 0.7316398\ttotal: 3m 28s\tremaining: 8m 31s\n",
      "29:\tlearn: 0.7336765\ttotal: 3m 36s\tremaining: 8m 24s\n",
      "30:\tlearn: 0.7374546\ttotal: 3m 43s\tremaining: 8m 16s\n",
      "31:\tlearn: 0.7400524\ttotal: 3m 50s\tremaining: 8m 9s\n",
      "32:\tlearn: 0.7417326\ttotal: 3m 57s\tremaining: 8m 2s\n",
      "33:\tlearn: 0.7416542\ttotal: 4m 4s\tremaining: 7m 55s\n",
      "34:\tlearn: 0.7438736\ttotal: 4m 12s\tremaining: 7m 48s\n",
      "35:\tlearn: 0.7444203\ttotal: 4m 19s\tremaining: 7m 40s\n",
      "36:\tlearn: 0.7455710\ttotal: 4m 26s\tremaining: 7m 33s\n",
      "37:\tlearn: 0.7481399\ttotal: 4m 33s\tremaining: 7m 26s\n",
      "38:\tlearn: 0.7487294\ttotal: 4m 40s\tremaining: 7m 19s\n",
      "39:\tlearn: 0.7523004\ttotal: 4m 48s\tremaining: 7m 12s\n",
      "40:\tlearn: 0.7552353\ttotal: 4m 55s\tremaining: 7m 5s\n",
      "41:\tlearn: 0.7553558\ttotal: 5m 2s\tremaining: 6m 57s\n",
      "42:\tlearn: 0.7582607\ttotal: 5m 9s\tremaining: 6m 50s\n",
      "43:\tlearn: 0.7595263\ttotal: 5m 16s\tremaining: 6m 43s\n",
      "44:\tlearn: 0.7613038\ttotal: 5m 24s\tremaining: 6m 36s\n",
      "45:\tlearn: 0.7630404\ttotal: 5m 31s\tremaining: 6m 29s\n",
      "46:\tlearn: 0.7658614\ttotal: 5m 38s\tremaining: 6m 21s\n",
      "47:\tlearn: 0.7674489\ttotal: 5m 45s\tremaining: 6m 14s\n",
      "48:\tlearn: 0.7693337\ttotal: 5m 53s\tremaining: 6m 7s\n",
      "49:\tlearn: 0.7695303\ttotal: 6m\tremaining: 6m\n",
      "50:\tlearn: 0.7694554\ttotal: 6m 7s\tremaining: 5m 53s\n",
      "51:\tlearn: 0.7699045\ttotal: 6m 14s\tremaining: 5m 45s\n",
      "52:\tlearn: 0.7718382\ttotal: 6m 21s\tremaining: 5m 38s\n",
      "53:\tlearn: 0.7728542\ttotal: 6m 29s\tremaining: 5m 31s\n",
      "54:\tlearn: 0.7725562\ttotal: 6m 36s\tremaining: 5m 24s\n",
      "55:\tlearn: 0.7743422\ttotal: 6m 43s\tremaining: 5m 17s\n",
      "56:\tlearn: 0.7744908\ttotal: 6m 50s\tremaining: 5m 9s\n",
      "57:\tlearn: 0.7755028\ttotal: 6m 58s\tremaining: 5m 2s\n",
      "58:\tlearn: 0.7759205\ttotal: 7m 5s\tremaining: 4m 55s\n",
      "59:\tlearn: 0.7777240\ttotal: 7m 12s\tremaining: 4m 48s\n",
      "60:\tlearn: 0.7793949\ttotal: 7m 19s\tremaining: 4m 41s\n",
      "61:\tlearn: 0.7799843\ttotal: 7m 26s\tremaining: 4m 33s\n",
      "62:\tlearn: 0.7814761\ttotal: 7m 34s\tremaining: 4m 26s\n",
      "63:\tlearn: 0.7818434\ttotal: 7m 41s\tremaining: 4m 19s\n",
      "64:\tlearn: 0.7824830\ttotal: 7m 48s\tremaining: 4m 12s\n",
      "65:\tlearn: 0.7833052\ttotal: 7m 55s\tremaining: 4m 5s\n",
      "66:\tlearn: 0.7844506\ttotal: 8m 2s\tremaining: 3m 57s\n",
      "67:\tlearn: 0.7854480\ttotal: 8m 10s\tremaining: 3m 50s\n",
      "68:\tlearn: 0.7868124\ttotal: 8m 17s\tremaining: 3m 43s\n",
      "69:\tlearn: 0.7870053\ttotal: 8m 24s\tremaining: 3m 36s\n",
      "70:\tlearn: 0.7880934\ttotal: 8m 31s\tremaining: 3m 29s\n",
      "71:\tlearn: 0.7889875\ttotal: 8m 39s\tremaining: 3m 21s\n",
      "72:\tlearn: 0.7898616\ttotal: 8m 46s\tremaining: 3m 14s\n",
      "73:\tlearn: 0.7902714\ttotal: 8m 53s\tremaining: 3m 7s\n",
      "74:\tlearn: 0.7907060\ttotal: 9m\tremaining: 3m\n",
      "75:\tlearn: 0.7913574\ttotal: 9m 7s\tremaining: 2m 53s\n",
      "76:\tlearn: 0.7925319\ttotal: 9m 15s\tremaining: 2m 45s\n",
      "77:\tlearn: 0.7933262\ttotal: 9m 22s\tremaining: 2m 38s\n",
      "78:\tlearn: 0.7955550\ttotal: 9m 29s\tremaining: 2m 31s\n",
      "79:\tlearn: 0.7959623\ttotal: 9m 36s\tremaining: 2m 24s\n",
      "80:\tlearn: 0.7984251\ttotal: 9m 44s\tremaining: 2m 17s\n",
      "81:\tlearn: 0.7991415\ttotal: 9m 51s\tremaining: 2m 9s\n",
      "82:\tlearn: 0.8005479\ttotal: 9m 58s\tremaining: 2m 2s\n",
      "83:\tlearn: 0.8010477\ttotal: 10m 5s\tremaining: 1m 55s\n",
      "84:\tlearn: 0.8011191\ttotal: 10m 13s\tremaining: 1m 48s\n",
      "85:\tlearn: 0.8013095\ttotal: 10m 20s\tremaining: 1m 40s\n",
      "86:\tlearn: 0.8017847\ttotal: 10m 27s\tremaining: 1m 33s\n",
      "87:\tlearn: 0.8024735\ttotal: 10m 34s\tremaining: 1m 26s\n",
      "88:\tlearn: 0.8024978\ttotal: 10m 42s\tremaining: 1m 19s\n",
      "89:\tlearn: 0.8037328\ttotal: 10m 49s\tremaining: 1m 12s\n",
      "90:\tlearn: 0.8042070\ttotal: 10m 56s\tremaining: 1m 4s\n",
      "91:\tlearn: 0.8059347\ttotal: 11m 3s\tremaining: 57.7s\n",
      "92:\tlearn: 0.8061739\ttotal: 11m 10s\tremaining: 50.5s\n",
      "93:\tlearn: 0.8070259\ttotal: 11m 18s\tremaining: 43.3s\n",
      "94:\tlearn: 0.8080868\ttotal: 11m 25s\tremaining: 36.1s\n",
      "95:\tlearn: 0.8085812\ttotal: 11m 32s\tremaining: 28.9s\n",
      "96:\tlearn: 0.8092869\ttotal: 11m 39s\tremaining: 21.6s\n",
      "97:\tlearn: 0.8105132\ttotal: 11m 47s\tremaining: 14.4s\n",
      "98:\tlearn: 0.8106092\ttotal: 11m 54s\tremaining: 7.21s\n",
      "99:\tlearn: 0.8105388\ttotal: 12m 1s\tremaining: 0us\n",
      "Наилучшие параметры CatBoostClassifier:\n",
      "{'depth': 10, 'n_estimators': 100}\n",
      "\n",
      "Лучшая F1-мера на валидационной выборке без настройки параметров: 0.60\n",
      "Лучшая F1-мера на валидационной выборке с настройкой параметров: 0.75\n",
      "\n",
      "CPU times: total: 6h 11min 34s\n",
      "Wall time: 33min 16s\n"
     ]
    }
   ],
   "source": [
    "%%time\n",
    "\n",
    "grid_catboost.fit(tf_idf_features_train, target_train)\n",
    "\n",
    "# Выводим наилучшие параметры и лучшую F1-меру на валидационной выборке\n",
    "print('Наилучшие параметры CatBoostClassifier:')\n",
    "print(grid_catboost.best_params_)\n",
    "print()\n",
    "print('Лучшая F1-мера на валидационной выборке без настройки параметров: {:.2f}'.format(f1_valid_catboost))\n",
    "\n",
    "# Оцениваем качество модели на валидационной выборке\n",
    "predicted_valid_grid_catboost = grid_catboost.predict(tf_idf_features_valid)\n",
    "f1_valid_grid_catboost = f1_score(target_valid, predicted_valid_grid_catboost)\n",
    "print('Лучшая F1-мера на валидационной выборке с настройкой параметров: {:.2f}'.format(f1_valid_grid_catboost))\n",
    "print()"
   ]
  },
  {
   "cell_type": "code",
   "execution_count": null,
   "metadata": {},
   "outputs": [],
   "source": [
    "# Наилучшие параметры CatBoostClassifier:\n",
    "# {'depth': 10, 'n_estimators': 100}\n",
    "\n",
    "# Лучшая F1-мера на валидационной выборке без настройки параметров: 0.60\n",
    "# Лучшая F1-мера на валидационной выборке с настройкой параметров: 0.75\n",
    "\n",
    "# CPU times: total: 6h 11min 34s\n",
    "# Wall time: 33min 16s"
   ]
  },
  {
   "cell_type": "markdown",
   "metadata": {},
   "source": [
    "**На основе представленных результатов:**\n",
    "\n",
    "1. Мы использовали модель `CatBoostClassifier` для классификации комментариев на позитивные и негативные с помощью метрики F1.\n",
    "\n",
    "2. Исходно, без настройки гиперпараметров, модель `CatBoostClassifier` показала относительно низкую `F1-меру` на валидационной выборке - 0.60. Этот результат не соответствует требованиям проекта, так как `F1-мера` должна быть не меньше 0.75.\n",
    "\n",
    "3. При настройке гиперпараметров с использованием кросс-валидации, модель значительно улучшилась, достигнув `F1-меры` 0.75 на валидационной выборке. Это говорит о том, что правильный подбор гиперпараметров может существенно повысить качество модели.\n",
    "\n",
    "4. Лучшие параметры модели были найдены как {'depth': 10, 'n_estimators': 100}. Параметр \"depth\" отвечает за глубину деревьев, а \"n_estimators\" - за количество базовых моделей (деревьев) в композиции. Повышение глубины деревьев и числа базовых моделей привело к улучшению качества модели с 0.60 до 0.75.\n",
    "\n",
    "5. Обучение модели заняло длительное время: 33 минуты 16 секунд. Однако, стоит отметить, что при настройке гиперпараметров был произведен перебор различных значений, что может занять много времени в случае большого объема данных или сложной модели.\n",
    "\n",
    "6. Итоговая `F1-мера` 0.75 на валидационной выборке соответствует требованиям проекта (F1 >= 0.75). Это означает, что `CatBoostClassifier` с найденными оптимальными параметрами является подходящим выбором для данной задачи классификации комментариев в интернет-магазине \"Викишоп\".\n",
    "\n",
    "Исходя из этого, рекомендуется использовать модель `CatBoostClassifier` с параметрами {'depth': 10, 'n_estimators': 100} для классификации комментариев в \"Викишопе\". Эта модель обеспечивает хорошую точность и эффективность в определении позитивных и негативных комментариев."
   ]
  },
  {
   "cell_type": "markdown",
   "metadata": {},
   "source": [
    "### Модель градиентного бустинга LGBMClassifier"
   ]
  },
  {
   "cell_type": "code",
   "execution_count": 60,
   "metadata": {},
   "outputs": [],
   "source": [
    "# Модель LGBMClassifier с 10 деревьями и указанием метрики F1\n",
    "model_lgbm = LGBMClassifier(n_estimators=10, class_weight='balanced', metric='f1', random_state=random_state)"
   ]
  },
  {
   "cell_type": "code",
   "execution_count": 63,
   "metadata": {},
   "outputs": [
    {
     "name": "stdout",
     "output_type": "stream",
     "text": [
      "LGBMClassifier без настройки параметров и с метрикой F1:\n",
      "F1-мера на валидационной выборке: 0.67\n"
     ]
    }
   ],
   "source": [
    "# Обучение модели на обучающих данных\n",
    "model_lgbm.fit(tf_idf_features_train, target_train)\n",
    "\n",
    "# Предсказание на валидационных данных и расчет F1-меры\n",
    "predicted_valid_lgbm = model_lgbm.predict(tf_idf_features_valid)\n",
    "f1_valid_lgbm = f1_score(target_valid, predicted_valid_lgbm)\n",
    "print('LGBMClassifier без настройки параметров и с метрикой F1:')\n",
    "print('F1-мера на валидационной выборке: {:.2f}'.format(f1_valid_lgbm))"
   ]
  },
  {
   "cell_type": "code",
   "execution_count": 72,
   "metadata": {},
   "outputs": [],
   "source": [
    "# Создаем объект LGBMClassifier\n",
    "model_grid_lgbm = LGBMClassifier(random_state=random_state, metric='binary_logloss')\n",
    "\n",
    "# Задание параметров для поиска наилучших параметров\n",
    "parametrs_lgbm = {\n",
    "    'n_estimators': [200, 250, 300, 400, 500],\n",
    "    'max_depth': [20, 25, 30, 40, 50],\n",
    "    'class_weight': ['balanced', None],\n",
    "}\n",
    "\n",
    "# Поиск наилучших параметров с использованием кросс-валидации\n",
    "grid_lgbm = GridSearchCV(model_grid_lgbm, \n",
    "                         param_grid=parametrs_lgbm, \n",
    "                         cv=my_cv,\n",
    "                         n_jobs=60,\n",
    "                         scoring='f1',\n",
    "                         verbose=0\n",
    "                        )"
   ]
  },
  {
   "cell_type": "code",
   "execution_count": 73,
   "metadata": {},
   "outputs": [
    {
     "name": "stdout",
     "output_type": "stream",
     "text": [
      "Наилучшие параметры LGBMClassifier:\n",
      "{'class_weight': None, 'max_depth': 30, 'n_estimators': 500}\n",
      "\n",
      "Лучшая F1-мера на валидационной выборке без настройки параметров: 0.67\n",
      "Лучшая F1-мера на валидационной выборке с настройкой параметров: 0.77\n",
      "\n",
      "CPU times: total: 1h 57min 6s\n",
      "Wall time: 12min 12s\n"
     ]
    }
   ],
   "source": [
    "%%time\n",
    "\n",
    "grid_lgbm.fit(tf_idf_features_train, target_train)\n",
    "\n",
    "# Выводим наилучшие параметры и лучшую F1-меру на валидационной выборке\n",
    "print('Наилучшие параметры LGBMClassifier:')\n",
    "print(grid_lgbm.best_params_)\n",
    "print()\n",
    "print('Лучшая F1-мера на валидационной выборке без настройки параметров: {:.2f}'.format(f1_valid_lgbm))\n",
    "\n",
    "# Оцениваем качество модели на валидационной выборке\n",
    "predicted_valid_grid_lgbm = grid_lgbm.predict(tf_idf_features_valid)\n",
    "f1_valid_grid_lgbm = f1_score(target_valid, predicted_valid_grid_lgbm)\n",
    "print('Лучшая F1-мера на валидационной выборке с настройкой параметров: {:.2f}'.format(f1_valid_grid_lgbm))\n",
    "print()"
   ]
  },
  {
   "cell_type": "code",
   "execution_count": null,
   "metadata": {},
   "outputs": [],
   "source": [
    "# Наилучшие параметры LGBMClassifier:\n",
    "# {'class_weight': None, 'max_depth': 30, 'n_estimators': 500}\n",
    "\n",
    "# Лучшая F1-мера на валидационной выборке без настройки параметров: 0.67\n",
    "# Лучшая F1-мера на валидационной выборке с настройкой параметров: 0.77\n",
    "\n",
    "# CPU times: total: 1h 57min 6s\n",
    "# Wall time: 12min 12s"
   ]
  },
  {
   "cell_type": "markdown",
   "metadata": {},
   "source": [
    "**На основе представленных результатов:**\n",
    "\n",
    "1. Мы использовали модель `LGBMClassifier` для классификации комментариев на позитивные и негативные с помощью метрики F1.\n",
    "\n",
    "2. Исходно, без настройки гиперпараметров, модель `LGBMClassifier` показала относительно низкую `F1-меру` на валидационной выборке - 0.67. Этот результат не соответствует требованиям проекта, так как `F1-мера` должна быть не меньше 0.75.\n",
    "\n",
    "3. При настройке гиперпараметров с использованием кросс-валидации, модель значительно улучшилась, достигнув `F1-меры` 0.77 на валидационной выборке. Это говорит о том, что правильный подбор гиперпараметров может существенно повысить качество модели.\n",
    "\n",
    "4. Лучшие параметры модели были найдены как {'class_weight': None, 'max_depth': 30, 'n_estimators': 500}. Параметр \"class_weight\" отвечает за балансировку весов классов, \"max_depth\" - за глубину деревьев, а \"n_estimators\" - за количество базовых моделей (деревьев) в композиции.\n",
    "\n",
    "5. Обучение модели заняло длительное время: 12 минут 12 секунд. Однако, стоит отметить, что при настройке гиперпараметров был произведен перебор различных значений, что может занять много времени в случае большого объема данных или сложной модели.\n",
    "\n",
    "6. Итоговая `F1-мера` 0.77 на валидационной выборке соответствует требованиям проекта (F1 >= 0.75). Это означает, что `LGBMClassifier` с найденными оптимальными параметрами является подходящим выбором для данной задачи классификации комментариев в интернет-магазине \"Викишоп\".\n",
    "\n",
    "Исходя из этого, рекомендуется использовать модель `LGBMClassifier` с параметрами {'class_weight': None, 'max_depth': 30, 'n_estimators': 500} для классификации комментариев в \"Викишопе\". Эта модель обеспечивает высокую точность и эффективность в определении позитивных и негативных комментариев."
   ]
  },
  {
   "cell_type": "markdown",
   "metadata": {},
   "source": [
    "**Итоги**"
   ]
  },
  {
   "cell_type": "code",
   "execution_count": 75,
   "metadata": {},
   "outputs": [
    {
     "data": {
      "text/html": [
       "<div>\n",
       "<style scoped>\n",
       "    .dataframe tbody tr th:only-of-type {\n",
       "        vertical-align: middle;\n",
       "    }\n",
       "\n",
       "    .dataframe tbody tr th {\n",
       "        vertical-align: top;\n",
       "    }\n",
       "\n",
       "    .dataframe thead th {\n",
       "        text-align: right;\n",
       "    }\n",
       "</style>\n",
       "<table border=\"1\" class=\"dataframe\">\n",
       "  <thead>\n",
       "    <tr style=\"text-align: right;\">\n",
       "      <th></th>\n",
       "      <th>Model</th>\n",
       "      <th>f1_train</th>\n",
       "    </tr>\n",
       "  </thead>\n",
       "  <tbody>\n",
       "    <tr>\n",
       "      <th>1</th>\n",
       "      <td>LinearSVC</td>\n",
       "      <td>0.78</td>\n",
       "    </tr>\n",
       "    <tr>\n",
       "      <th>5</th>\n",
       "      <td>LGBMClassifier</td>\n",
       "      <td>0.77</td>\n",
       "    </tr>\n",
       "    <tr>\n",
       "      <th>3</th>\n",
       "      <td>XGBClassifier</td>\n",
       "      <td>0.77</td>\n",
       "    </tr>\n",
       "    <tr>\n",
       "      <th>0</th>\n",
       "      <td>LogisticRegression</td>\n",
       "      <td>0.76</td>\n",
       "    </tr>\n",
       "    <tr>\n",
       "      <th>4</th>\n",
       "      <td>CatBoostClassifier</td>\n",
       "      <td>0.75</td>\n",
       "    </tr>\n",
       "    <tr>\n",
       "      <th>2</th>\n",
       "      <td>RandomForestClassifier</td>\n",
       "      <td>0.50</td>\n",
       "    </tr>\n",
       "  </tbody>\n",
       "</table>\n",
       "</div>"
      ],
      "text/plain": [
       "                    Model  f1_train\n",
       "1               LinearSVC      0.78\n",
       "5          LGBMClassifier      0.77\n",
       "3           XGBClassifier      0.77\n",
       "0      LogisticRegression      0.76\n",
       "4      CatBoostClassifier      0.75\n",
       "2  RandomForestClassifier      0.50"
      ]
     },
     "execution_count": 75,
     "metadata": {},
     "output_type": "execute_result"
    }
   ],
   "source": [
    "# Создание DataFrame values_models с результатами метрики F1 для различных моделей\n",
    "values_models = pd.DataFrame([\n",
    "    ['LogisticRegression', f1_valid_grid_LR],\n",
    "    ['LinearSVC', f1_valid_grid_svc],\n",
    "    ['RandomForestClassifier', f1_valid_grid_rf],\n",
    "    ['XGBClassifier', f1_valid_grid_xgb],\n",
    "    ['CatBoostClassifier', f1_valid_grid_catboost],\n",
    "    ['LGBMClassifier', f1_valid_grid_lgbm],\n",
    "], columns=['Model', 'f1_train'])\n",
    "\n",
    "# Сортировка DataFrame по значениям метрики F1 в порядке убывания\n",
    "values_models = values_models.sort_values(by='f1_train', ascending=False)\n",
    "\n",
    "# Вывод DataFrame values_models\n",
    "values_models"
   ]
  },
  {
   "cell_type": "code",
   "execution_count": 76,
   "metadata": {},
   "outputs": [
    {
     "data": {
      "image/png": "[encoded data removed]",
      "text/plain": [
       "<Figure size 1900x600 with 1 Axes>"
      ]
     },
     "metadata": {},
     "output_type": "display_data"
    }
   ],
   "source": [
    "# Создание и настройка графика с помощью библиотеки seaborn и matplotlib\n",
    "plt.figure(figsize=(19, 6))\n",
    "sns.set_style('darkgrid')\n",
    "\n",
    "# Построение горизонтальной столбчатой диаграммы (барплота)\n",
    "sns.barplot(y=values_models['Model'], x=values_models['f1_train'])\n",
    "\n",
    "# Добавление заголовка графика\n",
    "plt.title('Значение F1 для моделей на обучающей выборке')\n",
    "\n",
    "# Отображение графика\n",
    "plt.show()"
   ]
  },
  {
   "cell_type": "markdown",
   "metadata": {},
   "source": [
    "**Вывод:**\n",
    "\n",
    "Конечные результаты показывают, что модели демонстрируют разные уровни производительности на валидационном наборе данных:\n",
    "\n",
    "1. `LinearSVC`: Линейный классификатор на основе метода опорных векторов показал лучший результат с `F1-мерой` 0.78 на валидационной выборке. Он продемонстрировал стабильную и хорошую обобщающую способность.\n",
    "\n",
    "2. `LGBMClassifier`: Модель на основе градиентного бустинга `LightGBM` показала хорошие результаты со значением `F1-меры` 0.77 на валидационном наборе данных. Это быстрая и эффективная модель для градиентного бустинга.\n",
    "\n",
    "3. `XGBClassifier`: Классификатор `XGBoost` также достиг `F1-меры` 0.77 на валидационной выборке, что говорит о его конкурентоспособной производительности.\n",
    "\n",
    "4. `LogisticRegression`: Модель логистической регрессии показала хорошие результаты с `F1-мерой` 0.76 на валидационной выборке, что свидетельствует о её хорошей способности классификации.\n",
    "\n",
    "5. `CatBoostClassifier`: Модель `CatBoost` показала результат с `F1-мерой` 0.75, что говорит о приемлемой производительности.\n",
    "\n",
    "6. `RandomForestClassifier`: Модель случайного леса показала самый низкий результат с `F1-мерой` 0.50 на валидационном наборе данных, что может указывать на сложности в выявлении сложных закономерностей в данных.\n",
    "\n",
    "В целом, модель `LinearSVC` продемонстрировала лучшие результаты, недалеко от нее следуют `LightGBM` и `XGBoost`. Стоит отметить, что производительность моделей может изменяться в зависимости от данных, и дополнительная настройка или создание новых признаков может привести к улучшению результатов. Тем не менее, на основе текущих результатов модель `LinearSVC` кажется наиболее подходящим выбором для классификации токсичных и нетоксичных комментариев в данном контексте."
   ]
  },
  {
   "cell_type": "markdown",
   "metadata": {},
   "source": [
    "### Проверка модели на вменяемость"
   ]
  },
  {
   "cell_type": "markdown",
   "metadata": {},
   "source": [
    "Для проверки, что все полученные результаты не случайны, используем модель DummyClassifier, которая представляет собой базовый алгоритм, не учитывающий признаки и случайным образом классифицирующий данные."
   ]
  },
  {
   "cell_type": "code",
   "execution_count": 54,
   "metadata": {},
   "outputs": [],
   "source": [
    "# Создаем объект DummyClassifier\n",
    "model_dummy = DummyClassifier(random_state=random_state, strategy=\"uniform\")\n",
    "\n",
    "# Обучение модели на обучающих данных\n",
    "model_dummy.fit(tf_idf_features_train, target_train);"
   ]
  },
  {
   "cell_type": "code",
   "execution_count": 55,
   "metadata": {},
   "outputs": [],
   "source": [
    "# Предсказание на валидационных данных и расчет F1-меры\n",
    "predicted_valid_dummy = model_dummy.predict(tf_idf_features_valid)\n",
    "f1_valid_dummy = f1_score(target_valid, predicted_valid_dummy)"
   ]
  },
  {
   "cell_type": "code",
   "execution_count": 56,
   "metadata": {},
   "outputs": [],
   "source": [
    "# Предсказание на тестовых данных и расчет F1-меры\n",
    "predicted_test_dummy = model_dummy.predict(tf_idf_features_test)\n",
    "f1_test_dummy = f1_score(target_test, predicted_test_dummy)"
   ]
  },
  {
   "cell_type": "code",
   "execution_count": 58,
   "metadata": {},
   "outputs": [
    {
     "name": "stdout",
     "output_type": "stream",
     "text": [
      "Модель DummyClassifier:\n",
      "F1-мера на валидационной выборке: 0.18\n",
      "F1-мера на тестовой выборке: 0.18\n"
     ]
    }
   ],
   "source": [
    "# Вывод информации о модели DummyClassifier и её результатов на валидационной выборке\n",
    "print('Модель DummyClassifier:')\n",
    "print('F1-мера на валидационной выборке: {:.2f}'.format(f1_valid_dummy))\n",
    "\n",
    "# Вывод информации о результате модели DummyClassifier на тестовой выборке\n",
    "print('F1-мера на тестовой выборке: {:.2f}'.format(f1_test_dummy))"
   ]
  },
  {
   "cell_type": "markdown",
   "metadata": {},
   "source": [
    "Модель DummyClassifier, которая использует простейшую стратегию предсказания, показала низкую производительность с F1-мерой около 0.18 на валидационной и тестовой выборках. Это говорит о том, что все полученные выше результаты в ходе обучения моделей не случайны и дают хорошие результаты."
   ]
  },
  {
   "cell_type": "markdown",
   "metadata": {},
   "source": [
    "**Проверка на тестовых данных с использованием лучшей модели LinearSVC**"
   ]
  },
  {
   "cell_type": "code",
   "execution_count": 73,
   "metadata": {},
   "outputs": [
    {
     "name": "stdout",
     "output_type": "stream",
     "text": [
      "Модель LinearSVC с наилучшими параметрами:\n",
      "Лучшая F1-мера на тестовой выборке: 0.77\n"
     ]
    }
   ],
   "source": [
    "# Создаем объект LinearSVC с наилучшими параметрами\n",
    "best_model = LinearSVC(C=1.0, loss='squared_hinge', penalty='l2', random_state=random_state)\n",
    "\n",
    "# Обучение модели на обучающих данных\n",
    "best_model.fit(tf_idf_features_train, target_train)\n",
    "\n",
    "# Предсказываем значения на тестовых данных\n",
    "predicted_test = best_model.predict(tf_idf_features_test)\n",
    "\n",
    "# Вычисляем F1-меру на тестовой выборке\n",
    "f1_test = f1_score(target_test, predicted_test)\n",
    "\n",
    "print('Модель LinearSVC с наилучшими параметрами:')\n",
    "print('Лучшая F1-мера на тестовой выборке: {:.2f}'.format(f1_test))"
   ]
  },
  {
   "cell_type": "markdown",
   "metadata": {},
   "source": [
    "**Оценка и визуализация метрик модели**"
   ]
  },
  {
   "cell_type": "code",
   "execution_count": 103,
   "metadata": {},
   "outputs": [],
   "source": [
    "# Функция evaluate_model используется для оценки производительности классификационных моделей.\n",
    "def evaluate_model(model, features_train, target_train, features_test, target_test, model_name):\n",
    "    \n",
    "    # Обучение модели и получение предсказаний\n",
    "    model.fit(features_train, target_train)\n",
    "    predicted_test = model.predict(features_test)\n",
    "    decision_values_test = model.decision_function(features_test)\n",
    "    probabilities_one_test = 1 / (1 + np.exp(-decision_values_test))\n",
    "    \n",
    "     # Вычисление метрик производительности\n",
    "    f1 = f1_score(target_test, predicted_test)\n",
    "    roc_auc = roc_auc_score(target_test, probabilities_one_test)\n",
    "    recall = recall_score(target_test, predicted_test)\n",
    "    precision = precision_score(target_test, predicted_test)\n",
    "    \n",
    "    # Создание DataFrame с метриками\n",
    "    metrics_table = pd.DataFrame({\n",
    "        \"Metric\": [\"F1-мера\", \"ROC AUC\", \"Recall\", \"Precision\"],\n",
    "        \"Value\": [f1, roc_auc, recall, precision]\n",
    "    })\n",
    "    \n",
    "    # Вывод метрик в консоль\n",
    "    print(f\"{model_name}:\\n\")\n",
    "    print(metrics_table.head())\n",
    "    \n",
    "    # Построение ROC-кривой\n",
    "    fpr, tpr, _ = roc_curve(target_test, probabilities_one_test)\n",
    "    plt.figure(figsize=(19, 10))\n",
    "    plt.subplot(2, 1, 1)\n",
    "    plt.plot(fpr, tpr)\n",
    "    plt.plot([0, 1], [0, 1], linestyle='--')\n",
    "    plt.xlim(0, 1)\n",
    "    plt.ylim(0, 1)\n",
    "    plt.xlabel('Доля ложноположительных предсказаний')\n",
    "    plt.ylabel('Доля положительных ответов')\n",
    "    plt.title(f'ROC-кривая {model_name}')\n",
    "    plt.grid(True)\n",
    "    \n",
    "    # Построение кривой Точность-Полнота\n",
    "    precision_plot, recall_plot, _ = precision_recall_curve(target_test, probabilities_one_test)\n",
    "    plt.subplot(2, 1, 2)\n",
    "    plt.plot(recall_plot, precision_plot)\n",
    "    plt.xlabel('Полнота')\n",
    "    plt.ylabel('Точность')\n",
    "    plt.ylim([0.0, 1.05])\n",
    "    plt.xlim([0.0, 1.0])\n",
    "    plt.title('Кривая Точность - Полнота')\n",
    "    plt.grid(True)\n",
    "    \n",
    "    # Улучшение компактности графиков\n",
    "    plt.tight_layout()\n",
    "    \n",
    "    # Отображение графиков\n",
    "    plt.show()\n",
    "    \n",
    "    # Возврат значений метрик\n",
    "    return f1, recall, precision, roc_auc"
   ]
  },
  {
   "cell_type": "code",
   "execution_count": 63,
   "metadata": {},
   "outputs": [],
   "source": [
    "# Объединение обучающей и валидационной выборок для общей выборки\n",
    "total_features = pd.concat([features_train, features_valid])\n",
    "total_target = pd.concat([target_train, target_valid])"
   ]
  },
  {
   "cell_type": "code",
   "execution_count": 64,
   "metadata": {},
   "outputs": [],
   "source": [
    "# Преобразование текстовых данных в числовые признаки с помощью метода TF-IDF\n",
    "# count_tf_idf - объект TfidfVectorizer, который был создан ранее и содержит предварительно обученный словарь.\n",
    "# Метод transform() применяется к total_features, чтобы преобразовать тексты из обучающей и валидационной выборок в векторы TF-IDF.\n",
    "# total_features_tf_idf - результирующая матрица, где каждый текст преобразован в вектор числовых значений по методу TF-IDF.\n",
    "total_features_tf_idf = count_tf_idf.transform(total_features.values)"
   ]
  },
  {
   "cell_type": "markdown",
   "metadata": {},
   "source": [
    "**LinearSVC**"
   ]
  },
  {
   "cell_type": "markdown",
   "metadata": {},
   "source": [
    "Оценка качества модели LinearSVC на тестовой выборке с использованием метрик F1-мера, ROC AUC, Recall и Precision"
   ]
  },
  {
   "cell_type": "code",
   "execution_count": 104,
   "metadata": {},
   "outputs": [
    {
     "name": "stdout",
     "output_type": "stream",
     "text": [
      "LinearSVC:\n",
      "\n",
      "      Metric  Value\n",
      "0    F1-мера   0.78\n",
      "1    ROC AUC   0.97\n",
      "2     Recall   0.70\n",
      "3  Precision   0.88\n"
     ]
    },
    {
     "data": {
      "image/png": "[encoded data removed]",
      "text/plain": [
       "<Figure size 1900x1000 with 2 Axes>"
      ]
     },
     "metadata": {},
     "output_type": "display_data"
    }
   ],
   "source": [
    "# Вызов функции evaluate_model для оценки производительности модели LinearSVC на тестовой выборке\n",
    "f1_test_RF, recall_test_RF, precision_test_RF, roc_auc_test_RF = evaluate_model(\n",
    "    best_model,                  # Обученная модель\n",
    "    total_features_tf_idf,       # Признаки обучающей выборки\n",
    "    total_target,                # Целевая переменная обучающей выборки\n",
    "    tf_idf_features_test,        # Признаки тестовой выборки\n",
    "    target_test,                 # Целевая переменная тестовой выборки\n",
    "    'LinearSVC'                  # Название модели\n",
    ")"
   ]
  },
  {
   "cell_type": "markdown",
   "metadata": {},
   "source": [
    "Модель LinearSVC показала хорошие результаты на тестовой выборке. Значение F1-меры составило 0.78, что говорит о хорошем балансе между точностью и полнотой классификации. ROC AUC достигло 0.97, что свидетельствует о высоком качестве разделения классов моделью. При этом, модель обладает высоким значением точности (Precision) - 0.88 и умеренным значением полноты (Recall) - 0.70. Это означает, что модель хорошо определяет положительные примеры, но может пропустить некоторые из них. В целом, модель LinearSVC показала хорошие результаты и может быть использована для классификации комментариев на позитивные и негативные в интернет-магазине \"Викишоп\"."
   ]
  },
  {
   "cell_type": "markdown",
   "metadata": {},
   "source": [
    "## Выводы"
   ]
  },
  {
   "cell_type": "markdown",
   "metadata": {},
   "source": [
    "**Общий вывод:**\n",
    "\n",
    "В данной работе была поставлена задача классификации комментариев на позитивные и негативные в интернет-магазине \"Викишоп\". Для решения задачи было использовано множество моделей машинного обучения, такие как Logistic Regression, LinearSVC, RandomForestClassifier, XGBClassifier, CatBoostClassifier и LGBMClassifier. Основной метрикой оценки качества моделей была выбрана F1-мера, которую необходимо было достичь не менее 0.75.\n",
    "\n",
    "1. получили на вход таблицу с текстом и разметкой о токсичности комментариев для построения модели с целью предсказания положительных (класс 0) и отрицательных комментариев (класс 1)\n",
    "2. в предобработке очистили данных от лишних символов, оставив только буквы английского алфавита и привели слова к их словарной форме (лемматизировали)\n",
    "3. выявили значительную разбалансировку классов (9:1 отрицательного к положительному классу)\n",
    "4. обучили шесть моделей: Logistic Regression, LinearSVC, RandomForestClassifier, XGBClassifier, CatBoostClassifier и LGBMClassifier.\n",
    "\n",
    "**Результаты:**\n",
    "\n",
    "1. LinearSVC с наилучшими параметрами (C=1.0, loss='squared_hinge', penalty='l2') показал отличное значение F1-меры на тестовой выборке - 0.77.\n",
    "\n",
    "2. Другие модели также показали приемлемые результаты, но F1-мера была ниже требуемого уровня (например, RandomForestClassifier с наилучшими параметрами - F1=0.50 на валидационной выборке).\n",
    "\n",
    "3. CatBoostClassifier и LGBMClassifier показали неплохие результаты с настройкой параметров, но не достигли требуемого уровня F1-меры.\n",
    "\n",
    "4. Общее время обучения моделей было разным: XGBClassifier и CatBoostClassifier требовали больше всего времени.\n",
    "\n",
    "5. Визуализация ROC-кривой и кривой Точность-Полнота позволяет оценить качество классификации для различных порогов.\n",
    "\n",
    "**Вывод:**\n",
    "\n",
    "Модель LinearSVC с наилучшими параметрами показала наилучший результат с F1-мерой 0.77 на тестовой выборке. Она может быть использована в качестве инструмента для автоматического определения токсичных комментариев в интернет-магазине \"Викишоп\". Для дальнейшего улучшения качества классификации возможно проведение дополнительной предобработки данных, подбора других признаков или дальнейшей настройки параметров модели."
   ]
  },
  {
   "cell_type": "markdown",
   "metadata": {},
   "source": [
    "## Чек-лист проверки"
   ]
  },
  {
   "cell_type": "markdown",
   "metadata": {},
   "source": [
    "- [x]  Jupyter Notebook открыт\n",
    "- [ ]  Весь код выполняется без ошибок\n",
    "- [ ]  Ячейки с кодом расположены в порядке исполнения\n",
    "- [ ]  Данные загружены и подготовлены\n",
    "- [ ]  Модели обучены\n",
    "- [ ]  Значение метрики *F1* не меньше 0.75\n",
    "- [ ]  Выводы написаны"
   ]
  },
  {
   "cell_type": "markdown",
   "metadata": {},
   "source": [
    "<img src=\"https://emojigraph.org/media/apple/check-mark-button_2705.png\" align=left width=33, heigth=33>\n",
    "<div class=\"alert alert-success\"> \n",
    "<b>минутка теории</b>\n",
    "    \n",
    "<b>Что такое кросс-валидация</b>:\n",
    "\n",
    "Это более системный подход, альтернатива стандартной валидационной выборке.  При кросс-валидации выборка делится на k блоков примерно одинакового размера.  Далее по очереди каждый из этих блоков используется для оценки модели (в качестве валидационной выборки), остальные используются в качестве обучающей выборки. \n",
    "\n",
    "После того, как каждый из блоков будет использован в качестве валидационного, мы получим k оценок качества модели. Усредняя эти оценки мы получаем оценку модели по кросс-валидации.\n",
    "\n",
    "\n",
    "\n",
    "    \n",
    "<a href=\"https://academy.yandex.ru/handbook/ml/article/kross-validaciya\">Онлайн-учебник по машинному обучению от ШАД</a>        \n",
    "    \n",
    "\n",
    "<a href=\"https://github.com/minhdai2410/machine-learning-data-analysis-yandex-mipt-coursera/blob/master/2%20Supervised%20Learning/Lectures/2-1.Problema_pereobucheniya_i_bor_ba_s_nej.pdf\">Конспект специализации Машинное обучение и анализ данных</a> , кросс-валидация подбробно разобрана на последних двух страницах.   \n",
    " \n",
    "    \n",
    "\n",
    "    \n",
    "    \n",
    "</div>"
   ]
  },
  {
   "cell_type": "markdown",
   "metadata": {},
   "source": [
    "<img src=\"https://emojigraph.org/media/apple/check-mark-button_2705.png\" align=left width=33, heigth=33>\n",
    "<div class=\"alert alert-success\"> \n",
    "<b>минутка теории</b>\n",
    "    \n",
    "<b>Как узнать оценку по кросс-валидации при использовании поиска по сетке?</b>\n",
    " Оценка хранится в атрибуте best_score_\n",
    "\n",
    "\tfrom sklearn.model_selection import GridSearchCV\n",
    "    gsearch = GridSearchCV(estimator=model, \n",
    "                           cv=5, \n",
    "\t\t\t\t           param_grid=param_search,  \n",
    "\t\t\t               scoring=scorer)\n",
    "\tgsearch.fit(X, y)\t\n",
    "\tprint(f’ качество модели по кросс-валидации равно {gsearch.best_score_}’)\n",
    "    \n",
    "<a href=\"https://scikit-learn.org/stable/modules/generated/sklearn.model_selection.GridSearchCV.html\">Документация</a>    \n",
    "\n",
    "\n",
    "<b>Как узнать оценку по кросс-валидации если гиперпараметры не подбирались?</b>\n",
    "Просто применяем кросс-валидацию\n",
    "\n",
    "\tfrom sklearn.model_selection import cross_val_score\n",
    "\n",
    "    scores_list = cross_val_score(estimator=model, \n",
    "                                  X=features_train, \n",
    "                                  y=target_train, \n",
    "                                  cv=5,  \n",
    "                                  scoring=scorer)\n",
    "    \n",
    "    val_score = scores_list.mean()\n",
    "    \n",
    "\n",
    "    \n",
    "<a href=\"https://scikit-learn.org/stable/modules/generated/sklearn.model_selection.cross_val_score.html\">Документация</a>    \n",
    "\n",
    "\n",
    "\n",
    "\n",
    "</div>"
   ]
  },
  {
   "cell_type": "markdown",
   "metadata": {},
   "source": [
    "<img src=\"https://emojigraph.org/media/apple/check-mark-button_2705.png\" align=left width=33, heigth=33>\n",
    "<div class=\"alert alert-success\"> \n",
    "<b>минутка теории</b>\n",
    "    \n",
    "<b>Используем GridSearchCV правильно</b>\n",
    "\n",
    "При создании объекта GridSearchCV важно определить следующие составляющие:\n",
    "  \n",
    "  - estimator - модель, для которой будем подбирать гиперпарметры\n",
    "  - param_grid  - (пространство параметров)\n",
    "  - cv - схема кросс-валидации\n",
    "  - scoring скорер (функция для оценки, оптимизируемая метрика)  \n",
    "    \n",
    "    \n",
    "\n",
    "    from sklearn.model_selection import GridSearchCV\n",
    "    gsearch = GridSearchCV(estimator=model, \n",
    "                           cv=5, \n",
    "\t\t\t\t           param_grid=param_search,  \n",
    "\t\t\t               scoring=scorer)\n",
    "    \n",
    "    \n",
    "Важно определить все составляющие, т.к. если мы что-то упустим, то они будут заменены на значения по умолчанию:\n",
    "  \n",
    "  - cv = 5 (стандартная кросс-валидация по 5 фолдам)\n",
    "  - scoring = 'accuracy' для задачи классификации и 'r2' для регрессии. \n",
    "     \n",
    "    \n",
    "Часто можно использовать стандартный скорер из библиотеки sklearn (<a href=\"https://scikit-learn.org/stable/modules/model_evaluation.html#scoring-parameter\">ссылка</a>), или создать собственный с помощью функции <a href=\"https://scikit-learn.org/stable/modules/generated/sklearn.metrics.make_scorer.html\">make_scorer</a>   \n",
    "    \n",
    "Как узнать, какие гиперпараметры можно подбирать? \n",
    "    \n",
    "    model.get_params().keys()\n",
    "    \n",
    "  \n",
    "    \n",
    "    \n",
    "    \n",
    "Следующим шагом мы обучаем полученный объект на обучающей выборке:\n",
    "    \n",
    "\n",
    "    gsearch.fit(X, y)\t\n",
    "\n",
    "Теперь, когда объект GridSearchCV обучен, нужно посмотреть, какую информацию мы можем извлечь из него.\n",
    "    \n",
    "Лучшая модель хранится в атрибуте best_estimator_\n",
    "    \n",
    "    gsearch.best_estimator_\n",
    "    \n",
    "Оценка лучшей модели, полученная с помощью кросс-валидации хранится в атрибуте best_score_\n",
    "    \n",
    "    gsearch.best_score_\n",
    "    \n",
    "Параметры лучшей модели хранятся в атрубите best_params_\n",
    "    \n",
    "    gsearch.best_params_\n",
    "    \n",
    "\n",
    "    \n",
    "Таким образом, один раз обучив объект GridSearchCV мы сразу получаем и лучшую модель и лучшие гиперпараметры и оценку модели полученную с помощью кросс-валидации. И нет  необходимости в дополнительном обучении модели и определении метрик по выделенной валидационной выборке.      \n",
    "    \n",
    "    \n",
    "<a href=\"https://scikit-learn.org/stable/modules/grid_search.html\">Документация</a>    \n",
    "\n",
    "\n",
    "\n",
    "\n",
    "</div>"
   ]
  },
  {
   "cell_type": "markdown",
   "metadata": {},
   "source": []
  }
 ],
 "metadata": {
  "ExecuteTimeLog": [
   {
    "duration": 3473,
    "start_time": "2023-07-19T14:55:59.350Z"
   },
   {
    "duration": 4,
    "start_time": "2023-07-19T14:56:07.964Z"
   },
   {
    "duration": 3,
    "start_time": "2023-07-19T14:56:09.149Z"
   },
   {
    "duration": 2369,
    "start_time": "2023-07-19T14:56:10.260Z"
   },
   {
    "duration": 35,
    "start_time": "2023-07-19T14:56:18.979Z"
   },
   {
    "duration": 3,
    "start_time": "2023-07-19T14:56:20.092Z"
   },
   {
    "duration": 4,
    "start_time": "2023-07-19T14:56:22.596Z"
   },
   {
    "duration": 3,
    "start_time": "2023-07-19T14:56:24.316Z"
   },
   {
    "duration": 4137,
    "start_time": "2023-07-19T14:56:25.580Z"
   },
   {
    "duration": 6,
    "start_time": "2023-07-19T14:56:31.910Z"
   },
   {
    "duration": 3,
    "start_time": "2023-07-19T14:56:38.164Z"
   },
   {
    "duration": 81742,
    "start_time": "2023-07-19T14:56:39.144Z"
   },
   {
    "duration": 6,
    "start_time": "2023-07-19T14:58:00.888Z"
   },
   {
    "duration": 2,
    "start_time": "2023-07-19T14:58:11.502Z"
   },
   {
    "duration": 32,
    "start_time": "2023-07-19T14:58:12.248Z"
   },
   {
    "duration": 16,
    "start_time": "2023-07-19T14:58:12.812Z"
   },
   {
    "duration": 8,
    "start_time": "2023-07-19T14:58:15.327Z"
   },
   {
    "duration": 4074,
    "start_time": "2023-07-19T14:58:19.165Z"
   },
   {
    "duration": 1284,
    "start_time": "2023-07-19T14:58:23.241Z"
   },
   {
    "duration": 1375,
    "start_time": "2023-07-19T14:58:24.527Z"
   },
   {
    "duration": 4,
    "start_time": "2023-07-19T14:59:51.799Z"
   },
   {
    "duration": 4,
    "start_time": "2023-07-19T14:59:54.781Z"
   },
   {
    "duration": 3,
    "start_time": "2023-07-19T14:59:55.862Z"
   },
   {
    "duration": 34250,
    "start_time": "2023-07-19T14:59:56.447Z"
   },
   {
    "duration": 3,
    "start_time": "2023-07-19T15:00:42.552Z"
   },
   {
    "duration": 64262,
    "start_time": "2023-07-19T15:00:46.654Z"
   },
   {
    "duration": 2,
    "start_time": "2023-07-19T15:03:56.288Z"
   },
   {
    "duration": 57607,
    "start_time": "2023-07-19T15:03:56.984Z"
   },
   {
    "duration": 3,
    "start_time": "2023-07-19T15:06:54.457Z"
   },
   {
    "duration": 134787,
    "start_time": "2023-07-19T15:06:56.497Z"
   },
   {
    "duration": 3,
    "start_time": "2023-07-19T15:09:14.754Z"
   },
   {
    "duration": 13953,
    "start_time": "2023-07-19T15:09:15.247Z"
   },
   {
    "duration": 4,
    "start_time": "2023-07-19T15:09:31.778Z"
   },
   {
    "duration": 216315,
    "start_time": "2023-07-19T15:09:34.273Z"
   },
   {
    "duration": 5,
    "start_time": "2023-07-19T15:13:10.591Z"
   },
   {
    "duration": 3,
    "start_time": "2023-07-19T15:13:19.388Z"
   },
   {
    "duration": 14,
    "start_time": "2023-07-19T15:13:20.403Z"
   },
   {
    "duration": 9,
    "start_time": "2023-07-19T15:13:21.619Z"
   },
   {
    "duration": 7,
    "start_time": "2023-07-19T15:13:22.733Z"
   },
   {
    "duration": 198,
    "start_time": "2023-07-19T15:13:27.802Z"
   },
   {
    "duration": 8,
    "start_time": "2023-07-19T15:13:33.263Z"
   },
   {
    "duration": 10,
    "start_time": "2023-07-19T15:13:36.532Z"
   },
   {
    "duration": 5167,
    "start_time": "2023-07-19T15:13:37.267Z"
   },
   {
    "duration": 27394,
    "start_time": "2023-07-19T15:13:48.116Z"
   },
   {
    "duration": 1841,
    "start_time": "2023-07-20T06:17:34.363Z"
   },
   {
    "duration": 3,
    "start_time": "2023-07-20T06:17:36.206Z"
   },
   {
    "duration": 21,
    "start_time": "2023-07-20T06:17:36.211Z"
   },
   {
    "duration": 3164,
    "start_time": "2023-07-20T06:17:36.234Z"
   },
   {
    "duration": 30,
    "start_time": "2023-07-20T06:17:39.400Z"
   },
   {
    "duration": 2,
    "start_time": "2023-07-20T06:17:39.433Z"
   },
   {
    "duration": 6,
    "start_time": "2023-07-20T06:17:39.437Z"
   },
   {
    "duration": 3,
    "start_time": "2023-07-20T06:17:39.445Z"
   },
   {
    "duration": 4086,
    "start_time": "2023-07-20T06:17:39.450Z"
   },
   {
    "duration": 5,
    "start_time": "2023-07-20T06:17:43.538Z"
   },
   {
    "duration": 19,
    "start_time": "2023-07-20T06:17:43.544Z"
   },
   {
    "duration": 72537,
    "start_time": "2023-07-20T06:17:43.564Z"
   },
   {
    "duration": 5,
    "start_time": "2023-07-20T06:18:56.102Z"
   },
   {
    "duration": 13,
    "start_time": "2023-07-20T06:18:56.108Z"
   },
   {
    "duration": 30,
    "start_time": "2023-07-20T06:18:56.123Z"
   },
   {
    "duration": 21,
    "start_time": "2023-07-20T06:18:56.154Z"
   },
   {
    "duration": 9,
    "start_time": "2023-07-20T06:18:56.176Z"
   },
   {
    "duration": 3719,
    "start_time": "2023-07-20T06:18:56.187Z"
   },
   {
    "duration": 1179,
    "start_time": "2023-07-20T06:18:59.908Z"
   },
   {
    "duration": 1221,
    "start_time": "2023-07-20T06:19:01.088Z"
   },
   {
    "duration": 5,
    "start_time": "2023-07-20T06:19:02.311Z"
   },
   {
    "duration": 21,
    "start_time": "2023-07-20T06:19:02.317Z"
   },
   {
    "duration": 14,
    "start_time": "2023-07-20T06:19:02.340Z"
   },
   {
    "duration": 31987,
    "start_time": "2023-07-20T06:19:02.356Z"
   },
   {
    "duration": 3,
    "start_time": "2023-07-20T06:19:34.345Z"
   },
   {
    "duration": 60540,
    "start_time": "2023-07-20T06:19:34.349Z"
   },
   {
    "duration": 4,
    "start_time": "2023-07-20T06:20:34.891Z"
   },
   {
    "duration": 50189,
    "start_time": "2023-07-20T06:20:34.898Z"
   },
   {
    "duration": 3,
    "start_time": "2023-07-20T06:21:25.089Z"
   },
   {
    "duration": 129699,
    "start_time": "2023-07-20T06:21:25.094Z"
   },
   {
    "duration": 3,
    "start_time": "2023-07-20T06:23:34.795Z"
   },
   {
    "duration": 13696,
    "start_time": "2023-07-20T06:23:34.799Z"
   },
   {
    "duration": 3,
    "start_time": "2023-07-20T06:23:48.497Z"
   },
   {
    "duration": 211387,
    "start_time": "2023-07-20T06:23:48.502Z"
   },
   {
    "duration": 5,
    "start_time": "2023-07-20T06:27:19.891Z"
   },
   {
    "duration": 18,
    "start_time": "2023-07-20T06:27:19.897Z"
   },
   {
    "duration": 51,
    "start_time": "2023-07-20T06:27:19.916Z"
   },
   {
    "duration": 9,
    "start_time": "2023-07-20T06:27:19.968Z"
   },
   {
    "duration": 41,
    "start_time": "2023-07-20T06:27:19.978Z"
   },
   {
    "duration": 202,
    "start_time": "2023-07-20T06:27:20.021Z"
   },
   {
    "duration": 11,
    "start_time": "2023-07-20T06:27:20.224Z"
   },
   {
    "duration": 51,
    "start_time": "2023-07-20T06:27:20.237Z"
   },
   {
    "duration": 4940,
    "start_time": "2023-07-20T06:27:20.290Z"
   },
   {
    "duration": 26370,
    "start_time": "2023-07-20T06:27:25.232Z"
   },
   {
    "duration": 246464,
    "start_time": "2023-07-20T06:27:51.604Z"
   },
   {
    "duration": 26664,
    "start_time": "2023-07-20T06:31:58.069Z"
   },
   {
    "duration": 335,
    "start_time": "2023-07-20T06:32:24.734Z"
   },
   {
    "duration": 6,
    "start_time": "2023-07-20T06:32:25.071Z"
   },
   {
    "duration": 27,
    "start_time": "2023-07-20T06:32:25.078Z"
   },
   {
    "duration": 186,
    "start_time": "2023-07-20T06:32:25.106Z"
   },
   {
    "duration": 205,
    "start_time": "2023-07-20T06:32:25.293Z"
   },
   {
    "duration": 408,
    "start_time": "2023-07-20T08:28:21.444Z"
   },
   {
    "duration": 6,
    "start_time": "2023-07-20T08:28:37.643Z"
   },
   {
    "duration": 162,
    "start_time": "2023-07-20T08:38:59.354Z"
   },
   {
    "duration": 8,
    "start_time": "2023-07-20T09:00:25.766Z"
   },
   {
    "duration": 3,
    "start_time": "2023-07-20T09:00:27.857Z"
   },
   {
    "duration": 842,
    "start_time": "2023-07-20T09:00:42.375Z"
   },
   {
    "duration": 847,
    "start_time": "2023-07-20T09:01:01.313Z"
   },
   {
    "duration": 14,
    "start_time": "2023-07-20T09:05:55.515Z"
   },
   {
    "duration": 3,
    "start_time": "2023-07-20T09:06:44.962Z"
   },
   {
    "duration": 2,
    "start_time": "2023-07-20T09:07:09.050Z"
   },
   {
    "duration": 103,
    "start_time": "2023-07-20T09:09:07.373Z"
   },
   {
    "duration": 143,
    "start_time": "2023-07-20T09:16:48.696Z"
   },
   {
    "duration": 91,
    "start_time": "2023-07-20T09:17:25.158Z"
   },
   {
    "duration": 154,
    "start_time": "2023-07-20T09:18:58.287Z"
   },
   {
    "duration": 4,
    "start_time": "2023-07-20T09:39:51.687Z"
   },
   {
    "duration": 5,
    "start_time": "2023-07-20T09:47:31.074Z"
   },
   {
    "duration": 35977,
    "start_time": "2023-07-20T09:48:19.350Z"
   },
   {
    "duration": 5,
    "start_time": "2023-07-20T09:51:20.802Z"
   },
   {
    "duration": 8,
    "start_time": "2023-07-20T10:02:22.305Z"
   },
   {
    "duration": 3,
    "start_time": "2023-07-20T10:04:54.443Z"
   },
   {
    "duration": 48368,
    "start_time": "2023-07-20T10:04:55.172Z"
   },
   {
    "duration": 4,
    "start_time": "2023-07-20T10:05:43.542Z"
   },
   {
    "duration": 8,
    "start_time": "2023-07-20T10:05:54.699Z"
   },
   {
    "duration": 812,
    "start_time": "2023-07-20T11:38:08.289Z"
   },
   {
    "duration": 2,
    "start_time": "2023-07-20T11:38:16.599Z"
   },
   {
    "duration": 12,
    "start_time": "2023-07-20T11:38:17.613Z"
   },
   {
    "duration": 4,
    "start_time": "2023-07-20T11:38:20.365Z"
   },
   {
    "duration": 3,
    "start_time": "2023-07-20T11:39:11.462Z"
   },
   {
    "duration": 5,
    "start_time": "2023-07-20T11:39:12.301Z"
   },
   {
    "duration": 5,
    "start_time": "2023-07-20T11:39:14.021Z"
   },
   {
    "duration": 3,
    "start_time": "2023-07-20T11:41:18.553Z"
   },
   {
    "duration": 17694,
    "start_time": "2023-07-20T11:41:19.589Z"
   },
   {
    "duration": 17629,
    "start_time": "2023-07-20T11:42:21.967Z"
   },
   {
    "duration": 767,
    "start_time": "2023-07-20T11:44:06.760Z"
   },
   {
    "duration": 29,
    "start_time": "2023-07-20T11:44:09.857Z"
   },
   {
    "duration": 13,
    "start_time": "2023-07-20T11:44:10.586Z"
   },
   {
    "duration": 128,
    "start_time": "2023-07-20T11:44:12.049Z"
   },
   {
    "duration": 754,
    "start_time": "2023-07-20T11:44:22.472Z"
   },
   {
    "duration": 28,
    "start_time": "2023-07-20T11:44:23.228Z"
   },
   {
    "duration": 16,
    "start_time": "2023-07-20T11:44:24.005Z"
   },
   {
    "duration": 143,
    "start_time": "2023-07-20T11:44:26.217Z"
   },
   {
    "duration": 3,
    "start_time": "2023-07-20T11:44:27.479Z"
   },
   {
    "duration": 4,
    "start_time": "2023-07-20T11:44:29.121Z"
   },
   {
    "duration": 4,
    "start_time": "2023-07-20T11:44:30.649Z"
   },
   {
    "duration": 817,
    "start_time": "2023-07-20T11:49:43.827Z"
   },
   {
    "duration": 30,
    "start_time": "2023-07-20T11:49:44.645Z"
   },
   {
    "duration": 13,
    "start_time": "2023-07-20T11:49:45.003Z"
   },
   {
    "duration": 149,
    "start_time": "2023-07-20T11:49:45.751Z"
   },
   {
    "duration": 3,
    "start_time": "2023-07-20T11:49:46.555Z"
   },
   {
    "duration": 4,
    "start_time": "2023-07-20T11:49:47.667Z"
   },
   {
    "duration": 4,
    "start_time": "2023-07-20T11:49:49.716Z"
   },
   {
    "duration": 18360,
    "start_time": "2023-07-20T11:49:54.690Z"
   },
   {
    "duration": 3,
    "start_time": "2023-07-20T11:58:20.689Z"
   },
   {
    "duration": 4,
    "start_time": "2023-07-20T11:58:34.769Z"
   },
   {
    "duration": 3,
    "start_time": "2023-07-20T11:58:35.352Z"
   },
   {
    "duration": 65798,
    "start_time": "2023-07-20T11:58:38.728Z"
   },
   {
    "duration": 8,
    "start_time": "2023-07-20T11:59:47.384Z"
   },
   {
    "duration": 2,
    "start_time": "2023-07-20T12:04:35.252Z"
   },
   {
    "duration": 783,
    "start_time": "2023-07-20T12:04:36.060Z"
   },
   {
    "duration": 33,
    "start_time": "2023-07-20T12:04:36.845Z"
   },
   {
    "duration": 15,
    "start_time": "2023-07-20T12:04:37.068Z"
   },
   {
    "duration": 135,
    "start_time": "2023-07-20T12:04:38.125Z"
   },
   {
    "duration": 2,
    "start_time": "2023-07-20T12:04:38.883Z"
   },
   {
    "duration": 4,
    "start_time": "2023-07-20T12:04:40.248Z"
   },
   {
    "duration": 4,
    "start_time": "2023-07-20T12:04:41.981Z"
   },
   {
    "duration": 18419,
    "start_time": "2023-07-20T12:04:48.699Z"
   },
   {
    "duration": 4,
    "start_time": "2023-07-20T12:33:14.095Z"
   },
   {
    "duration": 2,
    "start_time": "2023-07-20T12:33:14.252Z"
   },
   {
    "duration": 8,
    "start_time": "2023-07-20T12:51:42.111Z"
   },
   {
    "duration": 4,
    "start_time": "2023-07-20T12:52:08.637Z"
   },
   {
    "duration": 3,
    "start_time": "2023-07-20T12:52:09.435Z"
   },
   {
    "duration": 292,
    "start_time": "2023-07-20T12:52:11.524Z"
   },
   {
    "duration": 252,
    "start_time": "2023-07-20T12:55:34.809Z"
   },
   {
    "duration": 66789,
    "start_time": "2023-07-20T12:55:42.063Z"
   },
   {
    "duration": 547,
    "start_time": "2023-07-20T13:32:01.979Z"
   },
   {
    "duration": 492,
    "start_time": "2023-07-20T13:32:47.717Z"
   },
   {
    "duration": 3,
    "start_time": "2023-07-20T13:33:15.455Z"
   },
   {
    "duration": 6,
    "start_time": "2023-07-20T13:33:31.127Z"
   },
   {
    "duration": 7,
    "start_time": "2023-07-20T13:33:41.912Z"
   },
   {
    "duration": 6,
    "start_time": "2023-07-20T13:39:24.688Z"
   },
   {
    "duration": 2,
    "start_time": "2023-07-20T13:39:33.384Z"
   },
   {
    "duration": 36,
    "start_time": "2023-07-20T13:39:33.824Z"
   },
   {
    "duration": 18,
    "start_time": "2023-07-20T13:39:34.335Z"
   },
   {
    "duration": 6,
    "start_time": "2023-07-20T13:46:58.707Z"
   },
   {
    "duration": 6,
    "start_time": "2023-07-20T13:47:08.027Z"
   },
   {
    "duration": 7,
    "start_time": "2023-07-20T13:47:12.581Z"
   },
   {
    "duration": 170,
    "start_time": "2023-07-20T14:16:13.086Z"
   },
   {
    "duration": 203,
    "start_time": "2023-07-20T14:16:34.110Z"
   },
   {
    "duration": 197,
    "start_time": "2023-07-20T14:19:48.737Z"
   },
   {
    "duration": 180,
    "start_time": "2023-07-20T14:20:35.482Z"
   },
   {
    "duration": 177,
    "start_time": "2023-07-20T14:21:06.480Z"
   },
   {
    "duration": 236,
    "start_time": "2023-07-20T14:21:40.947Z"
   },
   {
    "duration": 171,
    "start_time": "2023-07-20T14:22:57.610Z"
   },
   {
    "duration": 164,
    "start_time": "2023-07-20T14:23:09.481Z"
   },
   {
    "duration": 5463,
    "start_time": "2023-07-20T14:27:13.417Z"
   },
   {
    "duration": 5028,
    "start_time": "2023-07-20T14:29:20.105Z"
   },
   {
    "duration": 8,
    "start_time": "2023-07-20T14:37:24.044Z"
   },
   {
    "duration": 9,
    "start_time": "2023-07-20T14:49:03.336Z"
   },
   {
    "duration": 3,
    "start_time": "2023-07-20T14:53:56.243Z"
   },
   {
    "duration": 218,
    "start_time": "2023-07-20T14:55:48.180Z"
   },
   {
    "duration": 3,
    "start_time": "2023-07-20T14:56:28.809Z"
   },
   {
    "duration": 10,
    "start_time": "2023-07-20T14:56:46.065Z"
   },
   {
    "duration": 6,
    "start_time": "2023-07-20T14:56:57.043Z"
   },
   {
    "duration": 3,
    "start_time": "2023-07-20T14:57:08.232Z"
   },
   {
    "duration": 4,
    "start_time": "2023-07-20T14:59:35.118Z"
   },
   {
    "duration": 11558,
    "start_time": "2023-07-20T14:59:35.737Z"
   },
   {
    "duration": 4,
    "start_time": "2023-07-20T14:59:47.297Z"
   },
   {
    "duration": 15,
    "start_time": "2023-07-20T15:00:42.490Z"
   },
   {
    "duration": 5,
    "start_time": "2023-07-20T15:01:05.065Z"
   },
   {
    "duration": 163688,
    "start_time": "2023-07-20T15:01:08.304Z"
   },
   {
    "duration": 5,
    "start_time": "2023-07-20T15:04:05.666Z"
   },
   {
    "duration": 6,
    "start_time": "2023-07-20T15:11:28.532Z"
   },
   {
    "duration": 3,
    "start_time": "2023-07-20T15:14:09.251Z"
   },
   {
    "duration": 13,
    "start_time": "2023-07-20T15:14:32.683Z"
   },
   {
    "duration": 2,
    "start_time": "2023-07-20T15:15:42.915Z"
   },
   {
    "duration": 3,
    "start_time": "2023-07-20T15:17:55.332Z"
   },
   {
    "duration": 11670,
    "start_time": "2023-07-20T15:17:55.923Z"
   },
   {
    "duration": 5,
    "start_time": "2023-07-20T15:18:15.836Z"
   },
   {
    "duration": 249581,
    "start_time": "2023-07-20T15:18:39.516Z"
   },
   {
    "duration": 4,
    "start_time": "2023-07-20T15:24:12.948Z"
   },
   {
    "duration": 3,
    "start_time": "2023-07-21T06:15:33.117Z"
   },
   {
    "duration": 35810,
    "start_time": "2023-07-21T06:15:34.154Z"
   },
   {
    "duration": 3,
    "start_time": "2023-07-21T06:16:09.966Z"
   },
   {
    "duration": 67123,
    "start_time": "2023-07-21T06:16:09.971Z"
   },
   {
    "duration": 3,
    "start_time": "2023-07-21T07:23:36.943Z"
   },
   {
    "duration": 41153,
    "start_time": "2023-07-21T07:23:37.701Z"
   },
   {
    "duration": 4,
    "start_time": "2023-07-21T07:26:48.559Z"
   },
   {
    "duration": 605679,
    "start_time": "2023-07-21T07:26:49.871Z"
   },
   {
    "duration": 531260,
    "start_time": "2023-07-21T07:53:52.223Z"
   },
   {
    "duration": 941,
    "start_time": "2023-07-21T08:02:43.485Z"
   },
   {
    "duration": 4,
    "start_time": "2023-07-21T08:14:33.556Z"
   },
   {
    "duration": 516495,
    "start_time": "2023-07-21T08:14:34.148Z"
   },
   {
    "duration": 14,
    "start_time": "2023-07-21T09:23:31.996Z"
   },
   {
    "duration": 4649,
    "start_time": "2023-07-21T09:23:52.497Z"
   },
   {
    "duration": 17,
    "start_time": "2023-07-21T09:25:50.269Z"
   },
   {
    "duration": 4928,
    "start_time": "2023-07-21T09:25:55.556Z"
   },
   {
    "duration": 18,
    "start_time": "2023-07-21T09:26:25.667Z"
   },
   {
    "duration": 12,
    "start_time": "2023-07-21T09:26:35.596Z"
   },
   {
    "duration": 5,
    "start_time": "2023-07-21T09:26:42.096Z"
   },
   {
    "duration": 7,
    "start_time": "2023-07-21T09:27:25.046Z"
   },
   {
    "duration": 5,
    "start_time": "2023-07-21T09:27:37.678Z"
   },
   {
    "duration": 12,
    "start_time": "2023-07-21T09:31:47.900Z"
   },
   {
    "duration": 4667,
    "start_time": "2023-07-21T09:31:52.967Z"
   },
   {
    "duration": 5,
    "start_time": "2023-07-21T09:44:25.352Z"
   },
   {
    "duration": 35,
    "start_time": "2023-07-21T09:44:34.478Z"
   },
   {
    "duration": 6,
    "start_time": "2023-07-21T09:50:34.110Z"
   },
   {
    "duration": 30,
    "start_time": "2023-07-21T09:50:39.821Z"
   },
   {
    "duration": 5,
    "start_time": "2023-07-21T09:59:40.893Z"
   },
   {
    "duration": 47,
    "start_time": "2023-07-21T09:59:43.449Z"
   },
   {
    "duration": 6,
    "start_time": "2023-07-21T09:59:53.140Z"
   },
   {
    "duration": 11,
    "start_time": "2023-07-21T10:00:17.305Z"
   },
   {
    "duration": 5,
    "start_time": "2023-07-21T10:00:23.777Z"
   },
   {
    "duration": 4,
    "start_time": "2023-07-21T10:02:18.036Z"
   },
   {
    "duration": 4,
    "start_time": "2023-07-21T10:02:34.440Z"
   },
   {
    "duration": 43,
    "start_time": "2023-07-21T10:09:02.402Z"
   },
   {
    "duration": 4,
    "start_time": "2023-07-21T10:09:02.972Z"
   },
   {
    "duration": 15,
    "start_time": "2023-07-21T10:09:03.661Z"
   },
   {
    "duration": 3,
    "start_time": "2023-07-21T10:10:10.058Z"
   },
   {
    "duration": 10740,
    "start_time": "2023-07-21T10:10:10.847Z"
   },
   {
    "duration": 3,
    "start_time": "2023-07-21T10:27:42.302Z"
   },
   {
    "duration": 11603,
    "start_time": "2023-07-21T10:27:44.667Z"
   },
   {
    "duration": 4,
    "start_time": "2023-07-21T10:36:56.789Z"
   },
   {
    "duration": 9540,
    "start_time": "2023-07-21T10:36:57.345Z"
   },
   {
    "duration": 13,
    "start_time": "2023-07-21T10:37:06.887Z"
   },
   {
    "duration": 0,
    "start_time": "2023-07-21T10:37:06.902Z"
   },
   {
    "duration": 0,
    "start_time": "2023-07-21T10:37:06.903Z"
   },
   {
    "duration": 3,
    "start_time": "2023-07-21T10:37:13.588Z"
   },
   {
    "duration": 4,
    "start_time": "2023-07-21T10:37:16.844Z"
   },
   {
    "duration": 110,
    "start_time": "2023-07-21T10:37:54.412Z"
   },
   {
    "duration": 14,
    "start_time": "2023-07-21T10:37:54.951Z"
   },
   {
    "duration": 5,
    "start_time": "2023-07-21T10:41:26.213Z"
   },
   {
    "duration": 28039,
    "start_time": "2023-07-21T10:41:27.049Z"
   },
   {
    "duration": 67067,
    "start_time": "2023-07-21T10:41:58.008Z"
   },
   {
    "duration": 176600,
    "start_time": "2023-07-21T10:43:06.874Z"
   },
   {
    "duration": 4,
    "start_time": "2023-07-21T10:46:07.518Z"
   },
   {
    "duration": 4,
    "start_time": "2023-07-21T10:47:58.047Z"
   },
   {
    "duration": 176221,
    "start_time": "2023-07-21T10:47:59.748Z"
   },
   {
    "duration": 183415,
    "start_time": "2023-07-21T10:52:04.062Z"
   },
   {
    "duration": 5,
    "start_time": "2023-07-21T10:56:02.953Z"
   },
   {
    "duration": 3,
    "start_time": "2023-07-21T11:05:41.643Z"
   },
   {
    "duration": 21672,
    "start_time": "2023-07-21T11:05:42.090Z"
   },
   {
    "duration": 5,
    "start_time": "2023-07-21T11:06:27.243Z"
   },
   {
    "duration": 1075531,
    "start_time": "2023-07-21T11:06:48.640Z"
   },
   {
    "duration": 163746,
    "start_time": "2023-07-21T11:25:43.842Z"
   },
   {
    "duration": 3,
    "start_time": "2023-07-21T11:29:02.401Z"
   },
   {
    "duration": 21570,
    "start_time": "2023-07-21T11:29:02.878Z"
   },
   {
    "duration": 4,
    "start_time": "2023-07-21T11:29:36.791Z"
   },
   {
    "duration": 937094,
    "start_time": "2023-07-21T11:29:45.335Z"
   },
   {
    "duration": 1054877,
    "start_time": "2023-07-21T11:55:29.155Z"
   },
   {
    "duration": 4,
    "start_time": "2023-07-21T12:20:41.659Z"
   },
   {
    "duration": 22054,
    "start_time": "2023-07-21T12:20:42.266Z"
   },
   {
    "duration": 4,
    "start_time": "2023-07-21T12:22:10.849Z"
   },
   {
    "duration": 14,
    "start_time": "2023-07-21T12:22:12.770Z"
   },
   {
    "duration": 192308,
    "start_time": "2023-07-21T12:22:25.305Z"
   },
   {
    "duration": 4,
    "start_time": "2023-07-21T12:27:57.747Z"
   },
   {
    "duration": 4,
    "start_time": "2023-07-21T12:30:41.477Z"
   },
   {
    "duration": 24715,
    "start_time": "2023-07-21T12:30:42.382Z"
   },
   {
    "duration": 4,
    "start_time": "2023-07-21T12:33:19.257Z"
   },
   {
    "duration": 24311,
    "start_time": "2023-07-21T12:33:19.878Z"
   },
   {
    "duration": 5,
    "start_time": "2023-07-21T12:34:00.198Z"
   },
   {
    "duration": 3475420,
    "start_time": "2023-07-21T12:34:06.157Z"
   },
   {
    "duration": 3,
    "start_time": "2023-07-21T13:32:04.492Z"
   },
   {
    "duration": 42520,
    "start_time": "2023-07-21T13:32:05.257Z"
   },
   {
    "duration": 405042,
    "start_time": "2023-07-21T13:33:11.965Z"
   },
   {
    "duration": 4,
    "start_time": "2023-07-21T13:55:24.541Z"
   },
   {
    "duration": 727,
    "start_time": "2023-07-21T13:55:58.407Z"
   },
   {
    "duration": 2326,
    "start_time": "2023-07-22T18:55:10.626Z"
   },
   {
    "duration": 3,
    "start_time": "2023-07-22T18:55:14.965Z"
   },
   {
    "duration": 3388,
    "start_time": "2023-07-22T18:55:15.962Z"
   },
   {
    "duration": 41,
    "start_time": "2023-07-22T18:55:19.352Z"
   },
   {
    "duration": 19,
    "start_time": "2023-07-22T18:55:21.756Z"
   },
   {
    "duration": 276,
    "start_time": "2023-07-22T18:55:22.415Z"
   },
   {
    "duration": 226,
    "start_time": "2023-07-22T18:55:24.164Z"
   },
   {
    "duration": 3,
    "start_time": "2023-07-22T18:55:25.804Z"
   },
   {
    "duration": 6,
    "start_time": "2023-07-22T18:55:26.979Z"
   },
   {
    "duration": 5,
    "start_time": "2023-07-22T18:55:29.126Z"
   },
   {
    "duration": 18613,
    "start_time": "2023-07-22T18:55:30.931Z"
   },
   {
    "duration": 6,
    "start_time": "2023-07-22T18:55:52.558Z"
   },
   {
    "duration": 4,
    "start_time": "2023-07-22T18:56:17.313Z"
   },
   {
    "duration": 73809,
    "start_time": "2023-07-22T18:56:20.512Z"
   },
   {
    "duration": 3,
    "start_time": "2023-07-22T19:06:03.734Z"
   },
   {
    "duration": 41,
    "start_time": "2023-07-22T19:06:04.265Z"
   },
   {
    "duration": 18,
    "start_time": "2023-07-22T19:06:04.766Z"
   },
   {
    "duration": 9,
    "start_time": "2023-07-22T19:06:05.345Z"
   },
   {
    "duration": 167,
    "start_time": "2023-07-22T19:06:06.150Z"
   },
   {
    "duration": 4548,
    "start_time": "2023-07-22T19:06:16.735Z"
   },
   {
    "duration": 3,
    "start_time": "2023-07-22T19:06:26.510Z"
   },
   {
    "duration": 126,
    "start_time": "2023-07-22T19:06:27.549Z"
   },
   {
    "duration": 3,
    "start_time": "2023-07-22T19:12:57.035Z"
   },
   {
    "duration": 10559,
    "start_time": "2023-07-22T19:13:03.832Z"
   },
   {
    "duration": 13,
    "start_time": "2023-07-22T19:13:22.049Z"
   },
   {
    "duration": 4,
    "start_time": "2023-07-22T19:13:33.711Z"
   },
   {
    "duration": 154258,
    "start_time": "2023-07-22T19:13:49.610Z"
   },
   {
    "duration": 159308,
    "start_time": "2023-07-22T19:17:00.069Z"
   },
   {
    "duration": 12,
    "start_time": "2023-07-22T19:21:47.961Z"
   },
   {
    "duration": 3,
    "start_time": "2023-07-22T19:21:51.211Z"
   },
   {
    "duration": 3,
    "start_time": "2023-07-22T19:22:14.722Z"
   },
   {
    "duration": 38,
    "start_time": "2023-07-22T19:22:15.223Z"
   },
   {
    "duration": 19,
    "start_time": "2023-07-22T19:22:15.728Z"
   },
   {
    "duration": 7,
    "start_time": "2023-07-22T19:22:16.646Z"
   },
   {
    "duration": 176,
    "start_time": "2023-07-22T19:22:19.034Z"
   },
   {
    "duration": 4946,
    "start_time": "2023-07-22T19:22:23.607Z"
   },
   {
    "duration": 3,
    "start_time": "2023-07-22T19:22:33.413Z"
   },
   {
    "duration": 11,
    "start_time": "2023-07-22T19:22:35.711Z"
   },
   {
    "duration": 3,
    "start_time": "2023-07-22T19:22:37.642Z"
   },
   {
    "duration": 11806,
    "start_time": "2023-07-22T19:22:40.070Z"
   },
   {
    "duration": 4,
    "start_time": "2023-07-22T19:23:13.356Z"
   },
   {
    "duration": 174576,
    "start_time": "2023-07-22T19:23:15.738Z"
   },
   {
    "duration": 12,
    "start_time": "2023-07-22T19:28:22.399Z"
   },
   {
    "duration": 10,
    "start_time": "2023-07-22T19:29:25.206Z"
   },
   {
    "duration": 3,
    "start_time": "2023-07-22T20:01:54.748Z"
   },
   {
    "duration": 4,
    "start_time": "2023-07-22T20:02:10.960Z"
   },
   {
    "duration": 199932,
    "start_time": "2023-07-22T20:02:11.954Z"
   },
   {
    "duration": 3,
    "start_time": "2023-07-22T20:26:16.949Z"
   },
   {
    "duration": 41304,
    "start_time": "2023-07-22T20:26:17.463Z"
   },
   {
    "duration": 4,
    "start_time": "2023-07-22T20:27:26.053Z"
   },
   {
    "duration": 187869,
    "start_time": "2023-07-22T20:27:28.002Z"
   },
   {
    "duration": 185314,
    "start_time": "2023-07-22T20:32:36.258Z"
   },
   {
    "duration": 3,
    "start_time": "2023-07-22T20:51:23.016Z"
   },
   {
    "duration": 319619,
    "start_time": "2023-07-22T20:51:24.894Z"
   },
   {
    "duration": 4,
    "start_time": "2023-07-22T20:57:15.654Z"
   },
   {
    "duration": 7,
    "start_time": "2023-07-22T20:57:40.045Z"
   },
   {
    "duration": 474951,
    "start_time": "2023-07-22T20:57:56.849Z"
   },
   {
    "duration": 4,
    "start_time": "2023-07-22T21:09:40.251Z"
   },
   {
    "duration": 746376,
    "start_time": "2023-07-22T21:09:45.658Z"
   },
   {
    "duration": 13,
    "start_time": "2023-07-22T21:38:04.544Z"
   },
   {
    "duration": 6,
    "start_time": "2023-07-22T21:38:20.982Z"
   },
   {
    "duration": 7871,
    "start_time": "2023-07-25T12:48:02.916Z"
   },
   {
    "duration": 3,
    "start_time": "2023-07-25T12:48:10.789Z"
   },
   {
    "duration": 211,
    "start_time": "2023-07-25T12:48:10.794Z"
   },
   {
    "duration": 4926,
    "start_time": "2023-07-26T05:27:23.954Z"
   },
   {
    "duration": 2315,
    "start_time": "2023-07-26T05:27:42.265Z"
   },
   {
    "duration": 4,
    "start_time": "2023-07-26T05:27:48.218Z"
   },
   {
    "duration": 816,
    "start_time": "2023-07-26T05:27:49.263Z"
   },
   {
    "duration": 60,
    "start_time": "2023-07-26T05:29:25.563Z"
   },
   {
    "duration": 995,
    "start_time": "2023-07-26T05:36:37.299Z"
   },
   {
    "duration": 898,
    "start_time": "2023-07-26T05:37:10.663Z"
   },
   {
    "duration": 7,
    "start_time": "2023-07-26T05:37:43.455Z"
   },
   {
    "duration": 8,
    "start_time": "2023-07-26T05:42:38.419Z"
   },
   {
    "duration": 2,
    "start_time": "2023-07-26T05:42:43.396Z"
   },
   {
    "duration": 800,
    "start_time": "2023-07-26T05:42:45.340Z"
   },
   {
    "duration": 7,
    "start_time": "2023-07-26T05:42:47.058Z"
   },
   {
    "duration": 426,
    "start_time": "2023-07-26T06:04:42.197Z"
   },
   {
    "duration": 9,
    "start_time": "2023-07-26T06:07:13.436Z"
   },
   {
    "duration": 903,
    "start_time": "2023-07-26T06:45:41.296Z"
   },
   {
    "duration": 8,
    "start_time": "2023-07-26T06:45:42.201Z"
   },
   {
    "duration": 35,
    "start_time": "2023-07-26T06:45:44.014Z"
   },
   {
    "duration": 17,
    "start_time": "2023-07-26T06:45:44.235Z"
   },
   {
    "duration": 261,
    "start_time": "2023-07-26T06:45:45.031Z"
   },
   {
    "duration": 165,
    "start_time": "2023-07-26T06:45:47.062Z"
   },
   {
    "duration": 3,
    "start_time": "2023-07-26T06:45:49.698Z"
   },
   {
    "duration": 5,
    "start_time": "2023-07-26T06:45:50.865Z"
   },
   {
    "duration": 4,
    "start_time": "2023-07-26T06:45:52.732Z"
   },
   {
    "duration": 19193,
    "start_time": "2023-07-26T06:45:54.385Z"
   },
   {
    "duration": 4,
    "start_time": "2023-07-26T06:46:17.537Z"
   },
   {
    "duration": 4,
    "start_time": "2023-07-26T06:46:18.234Z"
   },
   {
    "duration": 77753,
    "start_time": "2023-07-26T06:46:19.405Z"
   },
   {
    "duration": 3,
    "start_time": "2023-07-26T06:47:43.697Z"
   },
   {
    "duration": 4,
    "start_time": "2023-07-26T06:52:31.731Z"
   },
   {
    "duration": 37,
    "start_time": "2023-07-26T06:52:37.171Z"
   },
   {
    "duration": 7,
    "start_time": "2023-07-26T06:52:42.836Z"
   },
   {
    "duration": 184,
    "start_time": "2023-07-26T06:52:46.305Z"
   },
   {
    "duration": 5306,
    "start_time": "2023-07-26T06:53:06.829Z"
   },
   {
    "duration": 3,
    "start_time": "2023-07-26T06:53:37.258Z"
   },
   {
    "duration": 3,
    "start_time": "2023-07-26T06:55:32.987Z"
   },
   {
    "duration": 45002,
    "start_time": "2023-07-26T06:55:34.704Z"
   },
   {
    "duration": 28636,
    "start_time": "2023-07-26T06:58:53.574Z"
   },
   {
    "duration": 2095,
    "start_time": "2023-07-26T07:00:39.209Z"
   },
   {
    "duration": 1833,
    "start_time": "2023-07-26T07:01:07.245Z"
   },
   {
    "duration": 35,
    "start_time": "2023-07-26T07:04:02.925Z"
   },
   {
    "duration": 9,
    "start_time": "2023-07-26T07:04:03.721Z"
   },
   {
    "duration": 7,
    "start_time": "2023-07-26T07:04:08.959Z"
   },
   {
    "duration": 194,
    "start_time": "2023-07-26T07:04:09.932Z"
   },
   {
    "duration": 5628,
    "start_time": "2023-07-26T07:04:15.940Z"
   },
   {
    "duration": 3,
    "start_time": "2023-07-26T07:05:10.929Z"
   },
   {
    "duration": 45575,
    "start_time": "2023-07-26T07:05:12.178Z"
   },
   {
    "duration": 4,
    "start_time": "2023-07-26T07:06:11.040Z"
   },
   {
    "duration": 8083,
    "start_time": "2023-07-26T10:08:50.646Z"
   },
   {
    "duration": 3,
    "start_time": "2023-07-26T10:08:58.749Z"
   },
   {
    "duration": 3981,
    "start_time": "2023-07-26T10:08:58.754Z"
   },
   {
    "duration": 14,
    "start_time": "2023-07-26T10:09:02.738Z"
   },
   {
    "duration": 3215,
    "start_time": "2023-12-15T06:54:01.159Z"
   },
   {
    "duration": 2314,
    "start_time": "2023-12-15T06:54:05.095Z"
   },
   {
    "duration": 2360,
    "start_time": "2023-12-15T07:05:08.920Z"
   },
   {
    "duration": 2455,
    "start_time": "2023-12-15T07:05:33.534Z"
   },
   {
    "duration": 2329,
    "start_time": "2023-12-15T07:05:58.071Z"
   },
   {
    "duration": 2363,
    "start_time": "2023-12-15T07:06:12.047Z"
   },
   {
    "duration": 2285,
    "start_time": "2023-12-15T07:06:21.167Z"
   },
   {
    "duration": 2330,
    "start_time": "2023-12-15T07:07:12.985Z"
   },
   {
    "duration": 2382,
    "start_time": "2023-12-15T07:07:46.912Z"
   },
   {
    "duration": 2402,
    "start_time": "2023-12-15T07:07:52.177Z"
   },
   {
    "duration": 269,
    "start_time": "2023-12-18T09:55:50.816Z"
   },
   {
    "duration": 2393,
    "start_time": "2023-12-18T09:55:54.185Z"
   },
   {
    "duration": 11,
    "start_time": "2023-12-18T09:56:01.727Z"
   },
   {
    "duration": 3609,
    "start_time": "2023-12-18T09:56:03.231Z"
   },
   {
    "duration": 17,
    "start_time": "2023-12-18T09:57:15.338Z"
   }
  ],
  "kernelspec": {
   "display_name": "Python 3 (ipykernel)",
   "language": "python",
   "name": "python3"
  },
  "language_info": {
   "codemirror_mode": {
    "name": "ipython",
    "version": 3
   },
   "file_extension": ".py",
   "mimetype": "text/x-python",
   "name": "python",
   "nbconvert_exporter": "python",
   "pygments_lexer": "ipython3",
   "version": "3.9.5"
  },
  "toc": {
   "base_numbering": 1,
   "nav_menu": {},
   "number_sections": true,
   "sideBar": true,
   "skip_h1_title": true,
   "title_cell": "Содержание",
   "title_sidebar": "Contents",
   "toc_cell": true,
   "toc_position": {
    "height": "calc(100% - 180px)",
    "left": "10px",
    "top": "150px",
    "width": "302.391px"
   },
   "toc_section_display": true,
   "toc_window_display": false
  }
 },
 "nbformat": 4,
 "nbformat_minor": 2
}
