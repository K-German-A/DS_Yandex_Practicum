{
 "cells": [
  {
   "cell_type": "markdown",
   "metadata": {
    "toc": true
   },
   "source": [
    "<h1>Содержание<span class=\"tocSkip\"></span></h1>\n",
    "<div class=\"toc\"><ul class=\"toc-item\"><li><span><a href=\"#Загрузка-данных\" data-toc-modified-id=\"Загрузка-данных-1\"><span class=\"toc-item-num\">1&nbsp;&nbsp;</span>Загрузка данных</a></span><ul class=\"toc-item\"><li><span><a href=\"#Загрузка-исходных-данных\" data-toc-modified-id=\"Загрузка-исходных-данных-1.1\"><span class=\"toc-item-num\">1.1&nbsp;&nbsp;</span>Загрузка исходных данных</a></span></li><li><span><a href=\"#Анализ-данных\" data-toc-modified-id=\"Анализ-данных-1.2\"><span class=\"toc-item-num\">1.2&nbsp;&nbsp;</span>Анализ данных</a></span></li></ul></li><li><span><a href=\"#Умножение-матриц\" data-toc-modified-id=\"Умножение-матриц-2\"><span class=\"toc-item-num\">2&nbsp;&nbsp;</span>Умножение матриц</a></span></li><li><span><a href=\"#Алгоритм-преобразования\" data-toc-modified-id=\"Алгоритм-преобразования-3\"><span class=\"toc-item-num\">3&nbsp;&nbsp;</span>Алгоритм преобразования</a></span></li><li><span><a href=\"#Проверка-алгоритма\" data-toc-modified-id=\"Проверка-алгоритма-4\"><span class=\"toc-item-num\">4&nbsp;&nbsp;</span>Проверка алгоритма</a></span><ul class=\"toc-item\"><li><span><a href=\"#Обучение-на-исходных-данных\" data-toc-modified-id=\"Обучение-на-исходных-данных-4.1\"><span class=\"toc-item-num\">4.1&nbsp;&nbsp;</span>Обучение на исходных данных</a></span></li><li><span><a href=\"#Обучение-на-преобразованных-данных\" data-toc-modified-id=\"Обучение-на-преобразованных-данных-4.2\"><span class=\"toc-item-num\">4.2&nbsp;&nbsp;</span>Обучение на преобразованных данных</a></span></li><li><span><a href=\"#Реализация-линейной-регрессии\" data-toc-modified-id=\"Реализация-линейной-регрессии-4.3\"><span class=\"toc-item-num\">4.3&nbsp;&nbsp;</span>Реализация линейной регрессии</a></span></li></ul></li><li><span><a href=\"#Чек-лист-проверки\" data-toc-modified-id=\"Чек-лист-проверки-5\"><span class=\"toc-item-num\">5&nbsp;&nbsp;</span>Чек-лист проверки</a></span></li></ul></div>"
   ]
  },
  {
   "cell_type": "markdown",
   "metadata": {},
   "source": [
    "# Защита персональных данных клиентов"
   ]
  },
  {
   "cell_type": "markdown",
   "metadata": {},
   "source": [
    "Вам нужно защитить данные клиентов страховой компании «Хоть потоп». Разработайте такой метод преобразования данных, чтобы по ним было сложно восстановить персональную информацию. Обоснуйте корректность его работы.\n",
    "\n",
    "Нужно защитить данные, чтобы при преобразовании качество моделей машинного обучения не ухудшилось. Подбирать наилучшую модель не требуется."
   ]
  },
  {
   "cell_type": "markdown",
   "metadata": {},
   "source": [
    "## Загрузка данных"
   ]
  },
  {
   "cell_type": "code",
   "execution_count": 1,
   "metadata": {},
   "outputs": [],
   "source": [
    "# Импорт необходимых библиотек\n",
    "\n",
    "# Импорт библиотеки pandas для манипуляции и анализа данных\n",
    "import pandas as pd\n",
    "\n",
    "# Импорт библиотеки numpy для численных вычислений\n",
    "import numpy as np\n",
    "\n",
    "# Импорт функции pascal из модуля scipy.linalg\n",
    "from scipy.linalg import pascal\n",
    "\n",
    "# Импорт модулей plotly express и graph_objects для интерактивной визуализации\n",
    "import plotly.express as px\n",
    "import plotly.graph_objects as go\n",
    "\n",
    "# Импорт модуля matplotlib.pyplot для статической визуализации\n",
    "import matplotlib.pyplot as plt\n",
    "\n",
    "# Импорт библиотеки seaborn для визуализации данных\n",
    "import seaborn as sns\n",
    "\n",
    "# Импорт модели LinearRegression из библиотеки scikit-learn\n",
    "from sklearn.linear_model import LinearRegression\n",
    "\n",
    "# Импорт функции train_test_split из библиотеки scikit-learn для разделения данных\n",
    "from sklearn.model_selection import train_test_split\n",
    "\n",
    "# Импорт функции r2_score из библиотеки scikit-learn для оценки производительности модели\n",
    "from sklearn.metrics import r2_score"
   ]
  },
  {
   "cell_type": "code",
   "execution_count": 3,
   "metadata": {},
   "outputs": [
    {
     "name": "stdout",
     "output_type": "stream",
     "text": [
      "Name: pandas\n",
      "Version: 1.2.4\n",
      "Summary: Powerful data structures for data analysis, time series, and statistics\n",
      "Home-page: https://pandas.pydata.org\n",
      "Author: None\n",
      "Author-email: None\n",
      "License: BSD\n",
      "Location: /opt/conda/lib/python3.9/site-packages\n",
      "Requires: python-dateutil, pytz, numpy\n",
      "Required-by: statsmodels, seaborn, catboost\n",
      "---\n",
      "Name: numpy\n",
      "Version: 1.21.1\n",
      "Summary: NumPy is the fundamental package for array computing with Python.\n",
      "Home-page: https://www.numpy.org\n",
      "Author: Travis E. Oliphant et al.\n",
      "Author-email: None\n",
      "License: BSD\n",
      "Location: /opt/conda/lib/python3.9/site-packages\n",
      "Requires: \n",
      "Required-by: xgboost, transformers, thinc, tensorflow-cpu, tensorboard, statsmodels, spacy, seaborn, scipy, scikit-learn, pyod, pyarrow, patsy, pandas, opt-einsum, numba, matplotlib, lightgbm, Keras-Preprocessing, h5py, gensim, folium, catboost, blis\n",
      "---\n",
      "Name: seaborn\n",
      "Version: 0.11.1\n",
      "Summary: seaborn: statistical data visualization\n",
      "Home-page: https://seaborn.pydata.org\n",
      "Author: Michael Waskom\n",
      "Author-email: mwaskom@nyu.edu\n",
      "License: BSD (3-clause)\n",
      "Location: /opt/conda/lib/python3.9/site-packages\n",
      "Requires: numpy, pandas, matplotlib, scipy\n",
      "Required-by: \n",
      "---\n",
      "Name: matplotlib\n",
      "Version: 3.3.4\n",
      "Summary: Python plotting package\n",
      "Home-page: https://matplotlib.org\n",
      "Author: John D. Hunter, Michael Droettboom\n",
      "Author-email: matplotlib-users@python.org\n",
      "License: PSF\n",
      "Location: /opt/conda/lib/python3.9/site-packages\n",
      "Requires: kiwisolver, pillow, numpy, pyparsing, python-dateutil, cycler\n",
      "Required-by: seaborn, pyod, catboost\n",
      "---\n",
      "Name: plotly\n",
      "Version: 5.4.0\n",
      "Summary: An open-source, interactive data visualization library for Python\n",
      "Home-page: https://plotly.com/python/\n",
      "Author: Chris P\n",
      "Author-email: chris@plot.ly\n",
      "License: MIT\n",
      "Location: /opt/conda/lib/python3.9/site-packages\n",
      "Requires: tenacity, six\n",
      "Required-by: catboost\n",
      "---\n",
      "Name: scikit-learn\n",
      "Version: 0.24.1\n",
      "Summary: A set of python modules for machine learning and data mining\n",
      "Home-page: http://scikit-learn.org\n",
      "Author: None\n",
      "Author-email: None\n",
      "License: new BSD\n",
      "Location: /opt/conda/lib/python3.9/site-packages\n",
      "Requires: threadpoolctl, joblib, numpy, scipy\n",
      "Required-by: pyod, lightgbm\n",
      "---\n",
      "Name: scipy\n",
      "Version: 1.9.1\n",
      "Summary: SciPy: Scientific Library for Python\n",
      "Home-page: https://www.scipy.org\n",
      "Author: None\n",
      "Author-email: None\n",
      "License: BSD\n",
      "Location: /opt/conda/lib/python3.9/site-packages\n",
      "Requires: numpy\n",
      "Required-by: xgboost, statsmodels, seaborn, scikit-learn, pyod, lightgbm, gensim, catboost\n"
     ]
    }
   ],
   "source": [
    "# Выводим информацию о версиях установленных библиотек\n",
    "!pip show pandas numpy seaborn matplotlib plotly scikit-learn scipy"
   ]
  },
  {
   "cell_type": "markdown",
   "metadata": {},
   "source": [
    "**Задание значения random_state**"
   ]
  },
  {
   "cell_type": "code",
   "execution_count": 2,
   "metadata": {},
   "outputs": [],
   "source": [
    "# Устанавливаем значение random_state равным 12345678\n",
    "random_state = 12345678"
   ]
  },
  {
   "cell_type": "markdown",
   "metadata": {},
   "source": [
    "### Загрузка исходных данных"
   ]
  },
  {
   "cell_type": "markdown",
   "metadata": {},
   "source": [
    "**Исходные данные представлены в одном файле. Мы загрузим эти данные и выполним их предварительную оценку.**"
   ]
  },
  {
   "cell_type": "code",
   "execution_count": 4,
   "metadata": {},
   "outputs": [],
   "source": [
    "# Загрузка данных из CSV файла в DataFrame с помощью функции read_csv()\n",
    "# Попытаемся прочитать CSV-файл из локального пути '/datasets/insurance.csv'\n",
    "try:\n",
    "    data_pers = pd.read_csv('/datasets/insurance.csv', sep=',')\n",
    "    \n",
    "# Если не удалось прочитать файл локально, то выполняем код в блоке except\n",
    "except:\n",
    "    # Пробуем прочитать CSV-файл из удаленного источника по URL 'https://code.s3.yandex.net/datasets/insurance.csv'\n",
    "    data_pers = pd.read_csv('https://code.s3.yandex.net/datasets/insurance.csv', sep=',')\n",
    "\n",
    "# В данном случае, если файл успешно загружен, данные будут храниться в переменной 'data_pers'\n",
    "# Если первая попытка чтения из локального пути завершится успешно, блок 'except' не будет выполнен."
   ]
  },
  {
   "cell_type": "code",
   "execution_count": 5,
   "metadata": {},
   "outputs": [
    {
     "data": {
      "text/html": [
       "<div>\n",
       "<style scoped>\n",
       "    .dataframe tbody tr th:only-of-type {\n",
       "        vertical-align: middle;\n",
       "    }\n",
       "\n",
       "    .dataframe tbody tr th {\n",
       "        vertical-align: top;\n",
       "    }\n",
       "\n",
       "    .dataframe thead th {\n",
       "        text-align: right;\n",
       "    }\n",
       "</style>\n",
       "<table border=\"1\" class=\"dataframe\">\n",
       "  <thead>\n",
       "    <tr style=\"text-align: right;\">\n",
       "      <th></th>\n",
       "      <th>Пол</th>\n",
       "      <th>Возраст</th>\n",
       "      <th>Зарплата</th>\n",
       "      <th>Члены семьи</th>\n",
       "      <th>Страховые выплаты</th>\n",
       "    </tr>\n",
       "  </thead>\n",
       "  <tbody>\n",
       "    <tr>\n",
       "      <th>0</th>\n",
       "      <td>1</td>\n",
       "      <td>41.0</td>\n",
       "      <td>49600.0</td>\n",
       "      <td>1</td>\n",
       "      <td>0</td>\n",
       "    </tr>\n",
       "    <tr>\n",
       "      <th>1</th>\n",
       "      <td>0</td>\n",
       "      <td>46.0</td>\n",
       "      <td>38000.0</td>\n",
       "      <td>1</td>\n",
       "      <td>1</td>\n",
       "    </tr>\n",
       "    <tr>\n",
       "      <th>2</th>\n",
       "      <td>0</td>\n",
       "      <td>29.0</td>\n",
       "      <td>21000.0</td>\n",
       "      <td>0</td>\n",
       "      <td>0</td>\n",
       "    </tr>\n",
       "    <tr>\n",
       "      <th>3</th>\n",
       "      <td>0</td>\n",
       "      <td>21.0</td>\n",
       "      <td>41700.0</td>\n",
       "      <td>2</td>\n",
       "      <td>0</td>\n",
       "    </tr>\n",
       "    <tr>\n",
       "      <th>4</th>\n",
       "      <td>1</td>\n",
       "      <td>28.0</td>\n",
       "      <td>26100.0</td>\n",
       "      <td>0</td>\n",
       "      <td>0</td>\n",
       "    </tr>\n",
       "    <tr>\n",
       "      <th>5</th>\n",
       "      <td>1</td>\n",
       "      <td>43.0</td>\n",
       "      <td>41000.0</td>\n",
       "      <td>2</td>\n",
       "      <td>1</td>\n",
       "    </tr>\n",
       "    <tr>\n",
       "      <th>6</th>\n",
       "      <td>1</td>\n",
       "      <td>39.0</td>\n",
       "      <td>39700.0</td>\n",
       "      <td>2</td>\n",
       "      <td>0</td>\n",
       "    </tr>\n",
       "    <tr>\n",
       "      <th>7</th>\n",
       "      <td>1</td>\n",
       "      <td>25.0</td>\n",
       "      <td>38600.0</td>\n",
       "      <td>4</td>\n",
       "      <td>0</td>\n",
       "    </tr>\n",
       "    <tr>\n",
       "      <th>8</th>\n",
       "      <td>1</td>\n",
       "      <td>36.0</td>\n",
       "      <td>49700.0</td>\n",
       "      <td>1</td>\n",
       "      <td>0</td>\n",
       "    </tr>\n",
       "    <tr>\n",
       "      <th>9</th>\n",
       "      <td>1</td>\n",
       "      <td>32.0</td>\n",
       "      <td>51700.0</td>\n",
       "      <td>1</td>\n",
       "      <td>0</td>\n",
       "    </tr>\n",
       "  </tbody>\n",
       "</table>\n",
       "</div>"
      ],
      "text/plain": [
       "   Пол  Возраст  Зарплата  Члены семьи  Страховые выплаты\n",
       "0    1     41.0   49600.0            1                  0\n",
       "1    0     46.0   38000.0            1                  1\n",
       "2    0     29.0   21000.0            0                  0\n",
       "3    0     21.0   41700.0            2                  0\n",
       "4    1     28.0   26100.0            0                  0\n",
       "5    1     43.0   41000.0            2                  1\n",
       "6    1     39.0   39700.0            2                  0\n",
       "7    1     25.0   38600.0            4                  0\n",
       "8    1     36.0   49700.0            1                  0\n",
       "9    1     32.0   51700.0            1                  0"
      ]
     },
     "execution_count": 5,
     "metadata": {},
     "output_type": "execute_result"
    }
   ],
   "source": [
    "# Вывод первых 10 строк DataFrame\n",
    "# Используем метод head() для вывода первых 10 строк DataFrame\n",
    "data_pers.head(10)"
   ]
  },
  {
   "cell_type": "code",
   "execution_count": 5,
   "metadata": {},
   "outputs": [
    {
     "name": "stdout",
     "output_type": "stream",
     "text": [
      "<class 'pandas.core.frame.DataFrame'>\n",
      "RangeIndex: 5000 entries, 0 to 4999\n",
      "Data columns (total 5 columns):\n",
      " #   Column             Non-Null Count  Dtype  \n",
      "---  ------             --------------  -----  \n",
      " 0   Пол                5000 non-null   int64  \n",
      " 1   Возраст            5000 non-null   float64\n",
      " 2   Зарплата           5000 non-null   float64\n",
      " 3   Члены семьи        5000 non-null   int64  \n",
      " 4   Страховые выплаты  5000 non-null   int64  \n",
      "dtypes: float64(2), int64(3)\n",
      "memory usage: 195.4 KB\n"
     ]
    }
   ],
   "source": [
    "# Вывод информации о DataFrame\n",
    "# Используем метод info() для получения информации о DataFrame\n",
    "data_pers.info()"
   ]
  },
  {
   "cell_type": "markdown",
   "metadata": {},
   "source": [
    "В соответствии с предоставленным описанием в исходных данных у нас имеется следующий состав признаков:\n",
    "\n",
    "- Обучающие признаки:\n",
    "    - Пол\n",
    "    - Возраст\n",
    "    - Зарплата застрахованного клиента\n",
    "    - Количество членов его семьи (без учета самого клиента)\n",
    "\n",
    "- Целевой признак:\n",
    "    - Количество страховых выплат клиенту за последние 5 лет\n",
    "\n",
    "Состав признаков полностью совпадает с предоставленным описанием.\n",
    "\n",
    "В нашей таблице имеется 5000 записей о клиентах страховой компании, и пропусков данных нет.\n",
    "\n",
    "Таблица содержит 2 вещественных (возраст и зарплата) и 3 целочисленных атрибута. Однако значения в вещественных атрибутах могут быть представлены целочисленными значениями без потери точности.\n",
    "\n",
    "Для удобства использования, мы переименуем признаки на английском языке."
   ]
  },
  {
   "cell_type": "markdown",
   "metadata": {},
   "source": [
    "**Изменение названий столбцов DataFrame**"
   ]
  },
  {
   "cell_type": "code",
   "execution_count": 6,
   "metadata": {},
   "outputs": [],
   "source": [
    "# Используем атрибут columns для изменения названий столбцов DataFrame\n",
    "# Присваиваем новые названия столбцам в указанном порядке\n",
    "data_pers.columns = ['gender', 'age', 'salary', 'family_members', 'insurance_payments']"
   ]
  },
  {
   "cell_type": "markdown",
   "metadata": {},
   "source": [
    "**Преобразование типов данных столбцов**"
   ]
  },
  {
   "cell_type": "code",
   "execution_count": 7,
   "metadata": {},
   "outputs": [],
   "source": [
    "# Используем метод astype() для преобразования типа данных столбца 'age' в целочисленный тип (int)\n",
    "data_pers['age'] = data_pers['age'].astype('int')\n",
    "\n",
    "# Используем метод astype() для преобразования типа данных столбца 'salary' в целочисленный тип (int)\n",
    "data_pers['salary'] = data_pers['salary'].astype('int')"
   ]
  },
  {
   "cell_type": "markdown",
   "metadata": {},
   "source": [
    "**Определение списка признаков и целевого признака**"
   ]
  },
  {
   "cell_type": "code",
   "execution_count": 8,
   "metadata": {},
   "outputs": [],
   "source": [
    "# Создаем список признаков, включающий 'gender', 'age', 'salary' и 'family_members'\n",
    "features = ['gender', 'age', 'salary', 'family_members']\n",
    "\n",
    "# Создаем список целевого признака, который содержит только 'insurance_payments'\n",
    "target = ['insurance_payments']"
   ]
  },
  {
   "cell_type": "markdown",
   "metadata": {},
   "source": [
    "### Анализ данных"
   ]
  },
  {
   "cell_type": "markdown",
   "metadata": {},
   "source": [
    "**Получение описательной статистики для DataFrame**"
   ]
  },
  {
   "cell_type": "code",
   "execution_count": 9,
   "metadata": {},
   "outputs": [
    {
     "data": {
      "text/html": [
       "<div>\n",
       "<style scoped>\n",
       "    .dataframe tbody tr th:only-of-type {\n",
       "        vertical-align: middle;\n",
       "    }\n",
       "\n",
       "    .dataframe tbody tr th {\n",
       "        vertical-align: top;\n",
       "    }\n",
       "\n",
       "    .dataframe thead th {\n",
       "        text-align: right;\n",
       "    }\n",
       "</style>\n",
       "<table border=\"1\" class=\"dataframe\">\n",
       "  <thead>\n",
       "    <tr style=\"text-align: right;\">\n",
       "      <th></th>\n",
       "      <th>gender</th>\n",
       "      <th>age</th>\n",
       "      <th>salary</th>\n",
       "      <th>family_members</th>\n",
       "      <th>insurance_payments</th>\n",
       "    </tr>\n",
       "  </thead>\n",
       "  <tbody>\n",
       "    <tr>\n",
       "      <th>count</th>\n",
       "      <td>5000.000000</td>\n",
       "      <td>5000.000000</td>\n",
       "      <td>5000.000000</td>\n",
       "      <td>5000.000000</td>\n",
       "      <td>5000.000000</td>\n",
       "    </tr>\n",
       "    <tr>\n",
       "      <th>mean</th>\n",
       "      <td>0.499000</td>\n",
       "      <td>30.952800</td>\n",
       "      <td>39916.359400</td>\n",
       "      <td>1.194200</td>\n",
       "      <td>0.148000</td>\n",
       "    </tr>\n",
       "    <tr>\n",
       "      <th>std</th>\n",
       "      <td>0.500049</td>\n",
       "      <td>8.440807</td>\n",
       "      <td>9900.082063</td>\n",
       "      <td>1.091387</td>\n",
       "      <td>0.463183</td>\n",
       "    </tr>\n",
       "    <tr>\n",
       "      <th>min</th>\n",
       "      <td>0.000000</td>\n",
       "      <td>18.000000</td>\n",
       "      <td>5300.000000</td>\n",
       "      <td>0.000000</td>\n",
       "      <td>0.000000</td>\n",
       "    </tr>\n",
       "    <tr>\n",
       "      <th>25%</th>\n",
       "      <td>0.000000</td>\n",
       "      <td>24.000000</td>\n",
       "      <td>33300.000000</td>\n",
       "      <td>0.000000</td>\n",
       "      <td>0.000000</td>\n",
       "    </tr>\n",
       "    <tr>\n",
       "      <th>50%</th>\n",
       "      <td>0.000000</td>\n",
       "      <td>30.000000</td>\n",
       "      <td>40200.000000</td>\n",
       "      <td>1.000000</td>\n",
       "      <td>0.000000</td>\n",
       "    </tr>\n",
       "    <tr>\n",
       "      <th>75%</th>\n",
       "      <td>1.000000</td>\n",
       "      <td>37.000000</td>\n",
       "      <td>46600.000000</td>\n",
       "      <td>2.000000</td>\n",
       "      <td>0.000000</td>\n",
       "    </tr>\n",
       "    <tr>\n",
       "      <th>max</th>\n",
       "      <td>1.000000</td>\n",
       "      <td>65.000000</td>\n",
       "      <td>79000.000000</td>\n",
       "      <td>6.000000</td>\n",
       "      <td>5.000000</td>\n",
       "    </tr>\n",
       "  </tbody>\n",
       "</table>\n",
       "</div>"
      ],
      "text/plain": [
       "            gender          age        salary  family_members  \\\n",
       "count  5000.000000  5000.000000   5000.000000     5000.000000   \n",
       "mean      0.499000    30.952800  39916.359400        1.194200   \n",
       "std       0.500049     8.440807   9900.082063        1.091387   \n",
       "min       0.000000    18.000000   5300.000000        0.000000   \n",
       "25%       0.000000    24.000000  33300.000000        0.000000   \n",
       "50%       0.000000    30.000000  40200.000000        1.000000   \n",
       "75%       1.000000    37.000000  46600.000000        2.000000   \n",
       "max       1.000000    65.000000  79000.000000        6.000000   \n",
       "\n",
       "       insurance_payments  \n",
       "count         5000.000000  \n",
       "mean             0.148000  \n",
       "std              0.463183  \n",
       "min              0.000000  \n",
       "25%              0.000000  \n",
       "50%              0.000000  \n",
       "75%              0.000000  \n",
       "max              5.000000  "
      ]
     },
     "execution_count": 9,
     "metadata": {},
     "output_type": "execute_result"
    }
   ],
   "source": [
    "# Используем метод describe() для получения описательной статистики DataFrame\n",
    "data_pers.describe()"
   ]
  },
  {
   "cell_type": "markdown",
   "metadata": {},
   "source": [
    "Среди клиентов страховой компании \"Хоть потоп\" мужчины и женщины представлены в равных пропорциях.\n",
    "\n",
    "По возрасту клиенты находятся в диапазоне от 18 до 65 лет, по уровню заработной платы - от 5300 до 79000 рублей, а по количеству членов семьи - от 0 (несемейные) до 6.\n",
    "\n",
    "Число страховых выплат клиентам варьируется от 0 (отсутствие страховых случаев за рассматриваемый период) до 5.\n",
    "\n",
    "Для оценки распределения исходных данных мы введем дополнительный признак - наличие страховых выплат (pay_count > 0).\n"
   ]
  },
  {
   "cell_type": "markdown",
   "metadata": {},
   "source": [
    "**Добавление дополнительного признака**"
   ]
  },
  {
   "cell_type": "code",
   "execution_count": 10,
   "metadata": {},
   "outputs": [],
   "source": [
    "# Присваиваем новый признак 'insurance_claims' в DataFrame data_pers\n",
    "data_pers['insurance_claims'] = (data_pers['insurance_payments'] > 0).astype('int')"
   ]
  },
  {
   "cell_type": "code",
   "execution_count": 11,
   "metadata": {},
   "outputs": [
    {
     "name": "stdout",
     "output_type": "stream",
     "text": [
      "<class 'pandas.core.frame.DataFrame'>\n",
      "RangeIndex: 5000 entries, 0 to 4999\n",
      "Data columns (total 6 columns):\n",
      " #   Column              Non-Null Count  Dtype\n",
      "---  ------              --------------  -----\n",
      " 0   gender              5000 non-null   int64\n",
      " 1   age                 5000 non-null   int64\n",
      " 2   salary              5000 non-null   int64\n",
      " 3   family_members      5000 non-null   int64\n",
      " 4   insurance_payments  5000 non-null   int64\n",
      " 5   insurance_claims    5000 non-null   int64\n",
      "dtypes: int64(6)\n",
      "memory usage: 234.5 KB\n"
     ]
    }
   ],
   "source": [
    "# Вывод информации о структуре данных объекта data_pers\n",
    "data_pers.info()"
   ]
  },
  {
   "cell_type": "markdown",
   "metadata": {},
   "source": [
    "**"
   ]
  },
  {
   "cell_type": "code",
   "execution_count": 12,
   "metadata": {},
   "outputs": [],
   "source": [
    "# Функция отображает основные параметры распределения числового признака и строит графики для визуализации \n",
    "# распределения значений среди действующих и ушедших клиентов, помогая оценить характеристики и связь признака \n",
    "#с целевым признаком.\n",
    "\n",
    "def describe_column_numeric(column, title, df=data_pers):\n",
    "    # Вывод основных параметров распределения значений признака\n",
    "    print('Признак', column, ':')\n",
    "    print(df[column].describe())\n",
    "    \n",
    "    # Создание графика гистограммы и \"ящика с усами\" с использованием библиотеки matplotlib\n",
    "    fig, axes = plt.subplots(2, 1, figsize=(19, 19))\n",
    "    \n",
    "    # Гистограмма\n",
    "    sns.histplot(data=df, x=column, ax=axes[0], hue='insurance_claims', multiple='stack', palette = {0: 'lightblue', 1: 'lightcoral'})\n",
    "    axes[0].set_title(title)\n",
    "    axes[0].set_xlabel(column)\n",
    "    axes[0].set_ylabel('Число клиентов')\n",
    "    axes[0].grid(True)  # Добавление сетки\n",
    "    \n",
    "    # Ящик с усами\n",
    "    sns.boxplot(data=df, x='insurance_claims', y=column, ax=axes[1], palette = {0: 'lightblue', 1: 'lightcoral'})\n",
    "    axes[1].set_xlabel('insurance_claims')\n",
    "    axes[1].set_ylabel(column)\n",
    "    axes[1].set_xticklabels(['Нет выплат', 'Есть выплаты'])\n",
    "    axes[1].grid(True)  # Добавление сетки\n",
    "    \n",
    "    plt.tight_layout()\n",
    "    plt.show()"
   ]
  },
  {
   "cell_type": "code",
   "execution_count": 13,
   "metadata": {},
   "outputs": [],
   "source": [
    "# Функция выводит уникальные значения категориального признака в текстовом формате и строит график (гистограмму), \n",
    "# иллюстрирующий распределение значений признака среди действующих и ушедших клиентов. Это помогает визуально оценить \n",
    "# распределение и взаимосвязь признака с целевым признаком.\n",
    "\n",
    "def describe_column_category(column, title, df=data_pers):\n",
    "    \n",
    "    # Вывод уникальных значений признака\n",
    "    print('Признак', column, ':\\n')\n",
    "    print('Уникальные значения (процент):')\n",
    "    unique_values = df[column].value_counts(normalize=True).mul(100).round(1).astype(str) + '%'\n",
    "    print(unique_values)\n",
    "    \n",
    "    # Вывод доли по целевому признаку\n",
    "    print(\"\\nДоля по целевому признаку (наличие выплат/все клиенты):\")\n",
    "    target_ratio = (\n",
    "        df.query('insurance_claims == 1')[column].value_counts() / \n",
    "        df[column].value_counts()\n",
    "    ).mul(100).round(1).astype(str) + '%'\n",
    "    print(target_ratio)\n",
    "    \n",
    "    # Создание графика гистограммы с использованием библиотеки matplotlib\n",
    "    fig, ax = plt.subplots(figsize=(19, 12))\n",
    "    \n",
    "    # Гистограмма\n",
    "    sns.histplot(data=df, x=column, ax=ax, hue='insurance_claims', multiple='stack', palette = {0: 'lightblue', 1: 'lightcoral'})\n",
    "    ax.set_title(title)\n",
    "    ax.set_xlabel(column)\n",
    "    ax.set_ylabel('Число клиентов')\n",
    "    ax.grid(True)  # Добавление сетки\n",
    "    \n",
    "    plt.tight_layout()\n",
    "    plt.show()"
   ]
  },
  {
   "cell_type": "markdown",
   "metadata": {},
   "source": [
    "**Пол**"
   ]
  },
  {
   "cell_type": "code",
   "execution_count": 14,
   "metadata": {},
   "outputs": [
    {
     "name": "stdout",
     "output_type": "stream",
     "text": [
      "Признак gender :\n",
      "\n",
      "Уникальные значения (процент):\n",
      "0    50.1%\n",
      "1    49.9%\n",
      "Name: gender, dtype: object\n",
      "\n",
      "Доля по целевому признаку (наличие выплат/все клиенты):\n",
      "0    11.3%\n",
      "1    11.2%\n",
      "Name: gender, dtype: object\n"
     ]
    },
    {
     "data": {
      "image/png": "[encoded data removed]",
      "text/plain": [
       "<Figure size 1368x864 with 1 Axes>"
      ]
     },
     "metadata": {
      "needs_background": "light"
     },
     "output_type": "display_data"
    }
   ],
   "source": [
    "# Вызываем функцию для описания столбца 'gender'\n",
    "describe_column_category('gender', 'Пол')"
   ]
  },
  {
   "cell_type": "markdown",
   "metadata": {},
   "source": [
    "Отмечается, что клиенты равномерно представлены по полу и не наблюдается явной зависимости между полом клиента и наличием/отсутствием страховых выплат за рассматриваемый период."
   ]
  },
  {
   "cell_type": "markdown",
   "metadata": {},
   "source": [
    "**Возраст**"
   ]
  },
  {
   "cell_type": "code",
   "execution_count": 15,
   "metadata": {},
   "outputs": [
    {
     "name": "stdout",
     "output_type": "stream",
     "text": [
      "Признак age :\n",
      "count    5000.000000\n",
      "mean       30.952800\n",
      "std         8.440807\n",
      "min        18.000000\n",
      "25%        24.000000\n",
      "50%        30.000000\n",
      "75%        37.000000\n",
      "max        65.000000\n",
      "Name: age, dtype: float64\n"
     ]
    },
    {
     "data": {
      "image/png": "[encoded data removed]",
      "text/plain": [
       "<Figure size 1368x1368 with 2 Axes>"
      ]
     },
     "metadata": {
      "needs_background": "light"
     },
     "output_type": "display_data"
    }
   ],
   "source": [
    "# Вызываем функцию для описания столбца 'age'\n",
    "describe_column_numeric('age', 'Возраст')"
   ]
  },
  {
   "cell_type": "markdown",
   "metadata": {},
   "source": [
    "Распределение клиентов по возрасту находится в диапазоне от 18 до 65 лет и имеет форму, близкую к распределению Пуассона, с медианным значением в 31 лет. Однако, стоит отметить, что в отношении наличия/отсутствия страховых выплат наблюдается заметное разделение по возрасту: все клиенты старше 42 лет имели страховые выплаты, в то время как клиенты моложе 42 лет не имели выплат. Только у клиентов в возрасте 42 лет было и наличие, и отсутствие страховых выплат. Данный признак имеет важное значение для обучения модели. Рекомендуется использовать стратифицированное разделение по возрасту при формировании обучающей и тестовой выборок, с учетом границы 42 лет."
   ]
  },
  {
   "cell_type": "markdown",
   "metadata": {},
   "source": [
    "**Заработная плата**"
   ]
  },
  {
   "cell_type": "code",
   "execution_count": 16,
   "metadata": {},
   "outputs": [
    {
     "name": "stdout",
     "output_type": "stream",
     "text": [
      "Признак salary :\n",
      "count     5000.000000\n",
      "mean     39916.359400\n",
      "std       9900.082063\n",
      "min       5300.000000\n",
      "25%      33300.000000\n",
      "50%      40200.000000\n",
      "75%      46600.000000\n",
      "max      79000.000000\n",
      "Name: salary, dtype: float64\n"
     ]
    },
    {
     "data": {
      "image/png": "[encoded data removed]",
      "text/plain": [
       "<Figure size 1368x1368 with 2 Axes>"
      ]
     },
     "metadata": {
      "needs_background": "light"
     },
     "output_type": "display_data"
    }
   ],
   "source": [
    "# Вызываем функцию для описания столбца 'salary'\n",
    "describe_column_numeric('salary', 'Заработная плата')"
   ]
  },
  {
   "cell_type": "markdown",
   "metadata": {},
   "source": [
    "Распределение клиентов по уровню заработной платы близко к нормальному, с средним значением около 40000. Отмечается, что распределение клиентов по наличию/отсутствию страховых выплат практически идентично или очень похоже."
   ]
  },
  {
   "cell_type": "markdown",
   "metadata": {},
   "source": [
    "**Количество членов семьи**"
   ]
  },
  {
   "cell_type": "code",
   "execution_count": 17,
   "metadata": {},
   "outputs": [
    {
     "name": "stdout",
     "output_type": "stream",
     "text": [
      "Признак family_members :\n",
      "count    5000.000000\n",
      "mean        1.194200\n",
      "std         1.091387\n",
      "min         0.000000\n",
      "25%         0.000000\n",
      "50%         1.000000\n",
      "75%         2.000000\n",
      "max         6.000000\n",
      "Name: family_members, dtype: float64\n"
     ]
    },
    {
     "data": {
      "image/png": "[encoded data removed]",
      "text/plain": [
       "<Figure size 1368x1368 with 2 Axes>"
      ]
     },
     "metadata": {
      "needs_background": "light"
     },
     "output_type": "display_data"
    }
   ],
   "source": [
    "# Вызываем функцию для описания столбца 'family_members'\n",
    "describe_column_numeric('family_members', 'Количество членов семьи')"
   ]
  },
  {
   "cell_type": "markdown",
   "metadata": {},
   "source": [
    "Распределение клиентов по числу членов семьи напоминает форму распределения Пуассона, с медианным значением в 1 член семьи (помимо клиента). Отмечается, что распределение клиентов по наличию/отсутствию страховых выплат практически идентично или очень похоже."
   ]
  },
  {
   "cell_type": "markdown",
   "metadata": {},
   "source": [
    "**Проверка корреляций**"
   ]
  },
  {
   "cell_type": "markdown",
   "metadata": {},
   "source": [
    "Для проведения анализа оценим взаимосвязи между обучающими признаками и целевым признаком, а также проанализируем возможное наличие мультиколлинеарности между обучающими признаками."
   ]
  },
  {
   "cell_type": "code",
   "execution_count": 18,
   "metadata": {},
   "outputs": [],
   "source": [
    "# Реализована функция для вывода тепловой карты с коэффициентами корреляции, где каждый элемент матрицы представлен \n",
    "# диагональной формой. Для построения тепловой карты используется DataFrame с коэффициентами корреляции.\n",
    "\n",
    "def print_corr_heatmap(df_corr):\n",
    "    # Заменяем коэффициенты корреляции на их модули и устанавливаем диагональные элементы в 0\n",
    "    df_corr = np.abs(df_corr).replace(1, 0)\n",
    "\n",
    "    # Создаем маску для скрытия верхнего треугольника тепловой карты\n",
    "    mask = np.zeros_like(df_corr, dtype=bool)\n",
    "    mask[np.triu_indices_from(mask)] = True\n",
    "\n",
    "    # Создаем фигуру с размерами 19x12 дюймов\n",
    "    plt.figure(figsize=(19, 12))\n",
    "\n",
    "    # Применяем маску к тепловой карте\n",
    "    df_corr_masked = np.ma.masked_array(df_corr, mask=mask)\n",
    "\n",
    "    # Отображаем тепловую карту\n",
    "    plt.imshow(df_corr_masked, cmap='coolwarm')\n",
    "\n",
    "    # Добавляем цветовую шкалу\n",
    "    plt.colorbar(label='Значение коэффициента корреляции')\n",
    "\n",
    "    # Заголовок и подписи осей\n",
    "    plt.title('Матрица модулей коэффициентов корреляции', fontsize=15)\n",
    "    plt.ylabel('Признак', fontsize=15)\n",
    "    plt.xlabel('Признак', fontsize=15)\n",
    "\n",
    "    # Задаем метки для осей x и y\n",
    "    plt.xticks(ticks=range(len(df_corr.columns)), labels=df_corr.columns, rotation=90)\n",
    "    plt.yticks(ticks=range(len(df_corr.columns)), labels=df_corr.columns)\n",
    "\n",
    "    # Отключаем сетку\n",
    "    plt.grid(False)\n",
    "\n",
    "    # Добавляем значения коэффициентов корреляции в ячейки\n",
    "    for i in range(len(df_corr.columns)):\n",
    "        for j in range(len(df_corr.columns)):\n",
    "            if not mask[i, j]:\n",
    "                text = plt.text(j, i, f\"{df_corr.iloc[i, j]:.5f}\", ha='center', va='center', color='black')\n",
    "\n",
    "    # Отображаем график\n",
    "    plt.show()"
   ]
  },
  {
   "cell_type": "code",
   "execution_count": 19,
   "metadata": {},
   "outputs": [],
   "source": [
    "# Реализована функция для вывода таблицы с коэффициентами корреляции и тепловой карты, \n",
    "# где каждый элемент представлен модулем соответствующего коэффициента. Для вывода используется \n",
    "# DataFrame с коэффициентами корреляции.\n",
    "\n",
    "def print_corr_data(df_region, method='pearson', corr_matrix=True):\n",
    "    # Вывод заголовка таблицы корреляции\n",
    "    print('{0}  Таблица корреляции  {0}'.format('+' * 50))\n",
    "    \n",
    "    # Вычисление коэффициентов корреляции\n",
    "    df_corr = df_region.corr(method=method)\n",
    "    \n",
    "    # Вывод таблицы корреляции\n",
    "    display(df_corr)\n",
    "    \n",
    "    # Вывод тепловой карты с модулями коэффициентов корреляции\n",
    "    print_corr_heatmap(df_corr)\n",
    "    \n",
    "    # Проверка флага для отображения матрицы рассеяния\n",
    "    if corr_matrix:\n",
    "        # Создание фигуры с размерами 12x12 дюймов\n",
    "        fig, ax = plt.subplots(figsize=(19, 19))\n",
    "        \n",
    "        # Отображение матрицы рассеяния\n",
    "        pd.plotting.scatter_matrix(df_region, ax=ax)\n",
    "        \n",
    "        # Показ графика\n",
    "        plt.show()"
   ]
  },
  {
   "cell_type": "code",
   "execution_count": 20,
   "metadata": {
    "scrolled": false
   },
   "outputs": [
    {
     "name": "stdout",
     "output_type": "stream",
     "text": [
      "++++++++++++++++++++++++++++++++++++++++++++++++++  Таблица корреляции  ++++++++++++++++++++++++++++++++++++++++++++++++++\n"
     ]
    },
    {
     "data": {
      "text/html": [
       "<div>\n",
       "<style scoped>\n",
       "    .dataframe tbody tr th:only-of-type {\n",
       "        vertical-align: middle;\n",
       "    }\n",
       "\n",
       "    .dataframe tbody tr th {\n",
       "        vertical-align: top;\n",
       "    }\n",
       "\n",
       "    .dataframe thead th {\n",
       "        text-align: right;\n",
       "    }\n",
       "</style>\n",
       "<table border=\"1\" class=\"dataframe\">\n",
       "  <thead>\n",
       "    <tr style=\"text-align: right;\">\n",
       "      <th></th>\n",
       "      <th>gender</th>\n",
       "      <th>age</th>\n",
       "      <th>salary</th>\n",
       "      <th>family_members</th>\n",
       "      <th>insurance_payments</th>\n",
       "    </tr>\n",
       "  </thead>\n",
       "  <tbody>\n",
       "    <tr>\n",
       "      <th>gender</th>\n",
       "      <td>1.000000</td>\n",
       "      <td>0.002074</td>\n",
       "      <td>0.014910</td>\n",
       "      <td>-0.008991</td>\n",
       "      <td>0.010140</td>\n",
       "    </tr>\n",
       "    <tr>\n",
       "      <th>age</th>\n",
       "      <td>0.002074</td>\n",
       "      <td>1.000000</td>\n",
       "      <td>-0.019093</td>\n",
       "      <td>-0.006692</td>\n",
       "      <td>0.651030</td>\n",
       "    </tr>\n",
       "    <tr>\n",
       "      <th>salary</th>\n",
       "      <td>0.014910</td>\n",
       "      <td>-0.019093</td>\n",
       "      <td>1.000000</td>\n",
       "      <td>-0.030296</td>\n",
       "      <td>-0.014963</td>\n",
       "    </tr>\n",
       "    <tr>\n",
       "      <th>family_members</th>\n",
       "      <td>-0.008991</td>\n",
       "      <td>-0.006692</td>\n",
       "      <td>-0.030296</td>\n",
       "      <td>1.000000</td>\n",
       "      <td>-0.036290</td>\n",
       "    </tr>\n",
       "    <tr>\n",
       "      <th>insurance_payments</th>\n",
       "      <td>0.010140</td>\n",
       "      <td>0.651030</td>\n",
       "      <td>-0.014963</td>\n",
       "      <td>-0.036290</td>\n",
       "      <td>1.000000</td>\n",
       "    </tr>\n",
       "  </tbody>\n",
       "</table>\n",
       "</div>"
      ],
      "text/plain": [
       "                      gender       age    salary  family_members  \\\n",
       "gender              1.000000  0.002074  0.014910       -0.008991   \n",
       "age                 0.002074  1.000000 -0.019093       -0.006692   \n",
       "salary              0.014910 -0.019093  1.000000       -0.030296   \n",
       "family_members     -0.008991 -0.006692 -0.030296        1.000000   \n",
       "insurance_payments  0.010140  0.651030 -0.014963       -0.036290   \n",
       "\n",
       "                    insurance_payments  \n",
       "gender                        0.010140  \n",
       "age                           0.651030  \n",
       "salary                       -0.014963  \n",
       "family_members               -0.036290  \n",
       "insurance_payments            1.000000  "
      ]
     },
     "metadata": {},
     "output_type": "display_data"
    },
    {
     "data": {
      "image/png": "[encoded data removed]",
      "text/plain": [
       "<Figure size 1368x864 with 2 Axes>"
      ]
     },
     "metadata": {
      "needs_background": "light"
     },
     "output_type": "display_data"
    },
    {
     "name": "stderr",
     "output_type": "stream",
     "text": [
      "/tmp/ipykernel_222/3237929230.py:24: UserWarning: To output multiple subplots, the figure containing the passed axes is being cleared\n",
      "  pd.plotting.scatter_matrix(df_region, ax=ax)\n"
     ]
    },
    {
     "data": {
      "image/png": "[encoded data removed]",
      "text/plain": [
       "<Figure size 1368x1368 with 25 Axes>"
      ]
     },
     "metadata": {
      "needs_background": "light"
     },
     "output_type": "display_data"
    }
   ],
   "source": [
    "print_corr_data(data_pers[features + target])"
   ]
  },
  {
   "cell_type": "markdown",
   "metadata": {},
   "source": [
    "Между обучающими признаками нет значительных корреляций. Наиболее сильная корреляция наблюдается между целевым и обучающим признаком, и это связано с возрастом (что ожидаемо, учитывая рассмотренное ранее распределение по возрасту и наличию/отсутствию страховых выплат)."
   ]
  },
  {
   "cell_type": "markdown",
   "metadata": {},
   "source": [
    "**Выводы**"
   ]
  },
  {
   "cell_type": "markdown",
   "metadata": {},
   "source": [
    "Исходные данные о клиентах страховой компании «Хоть потоп» представлены в виде таблицы, состоящей из 5000 записей о клиентах. В таблице присутствуют обучающие признаки, такие как пол, возраст, зарплата застрахованного клиента и количество членов его семьи, а также целевой признак - количество страховых выплат клиенту за последние 5 лет. Пропуски данных отсутствуют, и все значения атрибутов приведены к целочисленному типу.\n",
    "\n",
    "В ходе проведенной оценки корреляций между обучающими признаками и целевым признаком было выявлено, что наиболее коррелирующий с целевым признаком является возраст. Более того, имеется выраженное разделение по возрасту в отношении наличия/отсутствия страховых выплат: все клиенты старше 42 лет имели страховые выплаты, в то время как моложе 42 лет - нет. В связи с этим, рекомендуется провести стратифицированное разделение по возрасту (по границе 42 лет) при формировании обучающей и тестовой выборок."
   ]
  },
  {
   "cell_type": "markdown",
   "metadata": {},
   "source": [
    "## Умножение матриц"
   ]
  },
  {
   "cell_type": "markdown",
   "metadata": {},
   "source": [
    "**Задача:Признаки умножают на обратимую матрицу. Изменится ли качество линейной регрессии? (Её можно обучить заново.)?**\n",
    "\n",
    "Мы рассматриваем задачу обучения линейной регрессии, где признаки умножаются на обратимую матрицу. Хотим узнать, как изменится качество линейной регрессии после этой операции. Мы можем переобучить модель заново.\n",
    "\n",
    "Для исходной задачи обучения линейной регрессии приведены следующие обозначения:\n",
    "\n",
    "- $X_{(n*k)}$ - матрица признаков (нулевой столбец состоит из единиц), где $k$ - размерность признакового пространства.\n",
    "- $y_{(n*1)}$ - вектор целевого признака.\n",
    "- $w_{(k*1)}$ - вектор весов линейной регрессии (нулевой элемент равен сдвигу).\n",
    "- $y_{pred\\,(n*1)}$ - вектор предсказаний целевого признака, где $y_{pred} = Xw$.\n",
    "- $P_{(k*k)}$ - обратимая матрица, на которую умножаются признаки.\n",
    "\n",
    "Исходная задача обучения линейной регрессии формулируется следующим образом:\n",
    "\n",
    "$$w = \\arg\\min_w MSE(Xw, y)$$\n",
    "\n",
    "То есть мы ищем такое значение $w$, при котором функция $MSE(y_{pred}, y)$ достигает минимума. Метрика ошибки MSE (среднеквадратическая ошибка) между векторами предсказанных и исходных значений целевого признака должна быть минимальной.\n",
    "\n",
    "Решением исходной задачи обучения линейной регрессии является вектор $w$, определяемый следующим образом:\n",
    "\n",
    "$$w = (X^T X)^{-1} X^T y$$\n",
    "\n",
    "Где:\n",
    "- $X^T$ - транспонированная матрица $X$.\n",
    "- $(X^T X)^{-1}$ - обратная матрица, полученная из произведения $X^T X$.\n",
    "\n",
    "**Сформулируем решаемую нами задачу**:\n",
    "\n",
    "**Дано**: Матрица $P_{(k*k)}$ такая, что существует обратная матрица $P_{(k*k)}^{-1}$, и произведение $P*P^{-1}$ равно единичной матрице $E$.\n",
    "\n",
    "Наша задача - ответить на следующий вопрос: Как изменится качество линейной регрессии, если мы умножим матрицу $X$ на матрицу $P$?\n",
    "\n",
    "У нас есть два возможных варианта ответа:\n",
    "1. Качество линейной регрессии изменится. В этом случае требуется привести примеры таких матриц $P$.\n",
    "2. Качество линейной регрессии не изменится. В этом случае требуется объяснить, как связаны параметры линейной регрессии в исходной задаче и после преобразования.\n",
    "\n",
    "**При решении данной задачи мы будем использовать следующие основные свойства матриц:**\n",
    "\n",
    "1. Умножение любой квадратной матрицы на единичную матрицу даёт исходную матрицу:\n",
    "   $E \\cdot A = A \\cdot E = A$\n",
    "\n",
    "2. Обратная матрица транспонированной матрицы равна транспонированной обратной матрице:\n",
    "   $(A^T)^{-1} = (A^{-1})^T$\n",
    "\n",
    "3. Обратная матрица произведения двух матриц равна произведению обратных матриц в обратном порядке:\n",
    "   $(A \\cdot B)^{-1} = (B^{-1} \\cdot A^{-1})$\n",
    "\n",
    "4. Транспонированная матрица произведения двух матриц равна произведению транспонированных матриц в обратном порядке:\n",
    "   $(A \\cdot B)^T = B^T \\cdot A^T$\n",
    "   \n",
    "**Решение:**\n",
    "\n",
    "Пусть $X^*$ обозначает матрицу $X$, умноженную на матрицу $P$. Очевидно, что размерность матрицы $X^*$ совпадает с размерностью матрицы $X$.\n",
    "\n",
    "Тогда вектор весов линейной регрессии $w^*$ может быть выражен следующим образом:\n",
    "\n",
    "$w^* = (X^{*T} X^*)^{-1} X^{*T} y = ((XP)^T XP)^{-1} (XP)^T y = (P^T X^T X P)^{-1} P^T X^T y = P^{-1} (X^T X)^{-1} (P^T)^{-1} P^T X^T y = P^{-1} (X^T X)^{-1} E X^T y = P^{-1} (X^T X)^{-1} X^T y = P^{-1} w$\n",
    "\n",
    "Таким образом, получаем соотношение:\n",
    "\n",
    "$w^* = P^{-1} w$\n",
    "\n",
    "А значит, вектор предсказаний целевого признака $y_{pred}^*$ будет равен:\n",
    "\n",
    "$y_{pred}^* = X^* w^* = X P P^{-1} w = X E w = Xw = y_{pred}$\n",
    "\n",
    "**Ответ:**\n",
    "\n",
    "При умножении матрицы признаков $X$ на обратимую матрицу $P$ качество линейной регрессии не изменяется. В этом случае вектор весов линейной регрессии $w^{*}$ может быть выражен как $w^{*} = P^{-1} w$.\n",
    "\n",
    "**Вывод:**\n",
    "\n",
    "Качество линейной регрессии, измеряемое среднеквадратической ошибкой (MSE), остается неизменным после умножения матрицы признаков на обратимую матрицу.\n",
    "Вектор весов линейной регрессии после преобразования может быть выражен как произведение обратной матрицы $P^{-1}$ и исходного вектора весов $w$."
   ]
  },
  {
   "cell_type": "markdown",
   "metadata": {},
   "source": [
    "## Алгоритм преобразования"
   ]
  },
  {
   "cell_type": "markdown",
   "metadata": {},
   "source": [
    "Рассмотрим частный случай матрицы признаков размерности 5x5, где первый столбец представляет собой вектор единиц, а остальные 4 столбца соответствуют обучающим признакам (Пол, Возраст, Зарплата, Количество членов семьи). Для обработки такой матрицы признаков мы можем использовать произвольную обратимую матрицу размерности 4x4 для их преобразования.\n",
    "\n",
    "Для демонстрации применимости этого подхода даже для данного частного случая 5x5, мы выполняем следующие шаги в коде:\n",
    "\n",
    "1. Генерируем исходную матрицу признаков X размерности 5x4.\n",
    "2. Генерируем матрицу P размерности 4x4 с использованием функции `pascal` из модуля `scipy.linalg`.\n",
    "3. Вычисляем обратную матрицу inv_P для матрицы P с помощью функции `np.linalg.inv`.\n",
    "4. Умножаем исходную матрицу признаков X на обратную матрицу inv_P, получая преобразованную матрицу X_transformed.\n",
    "5. Добавляем столбец из единиц к преобразованной матрице X_transformed, чтобы получить полную матрицу признаков для применения сокращенной формулы предсказания.\n",
    "6. Генерируем случайный вектор весов w размерности 5.\n",
    "7. Вычисляем предсказания y_pred с использованием преобразованных признаков X_transformed и вектора весов w.\n",
    "\n",
    "Таким образом, в результате получаем преобразованную матрицу признаков X_transformed, которую мы можем использовать для применения формулы предсказания линейной регрессии $a = Xw$. Это преобразование позволяет сохранить свойства линейной регрессии и обеспечивает независимость от размерности признакового пространства."
   ]
  },
  {
   "cell_type": "markdown",
   "metadata": {},
   "source": [
    "**Генерируем матрицу исходных признаков размерности 5x4**"
   ]
  },
  {
   "cell_type": "code",
   "execution_count": 21,
   "metadata": {},
   "outputs": [
    {
     "name": "stdout",
     "output_type": "stream",
     "text": [
      "Матрица исходных признаков X:\n",
      "[[0.42456997 0.14889236 0.25916203 0.63921873]\n",
      " [0.83093195 0.27264994 0.88360884 0.052261  ]\n",
      " [0.64843782 0.02730476 0.74382859 0.31378562]\n",
      " [0.38363218 0.24064778 0.97666236 0.8366179 ]\n",
      " [0.96393115 0.17261288 0.52990008 0.06253378]]\n"
     ]
    }
   ],
   "source": [
    "# Генерация случайной матрицы размером 5x4\n",
    "# np.random.rand генерирует значения от 0 до 1 с равномерным распределением\n",
    "X = np.random.rand(5, 4)\n",
    "\n",
    "# Вывод матрицы исходных признаков X\n",
    "print(\"Матрица исходных признаков X:\")\n",
    "print(X)"
   ]
  },
  {
   "cell_type": "markdown",
   "metadata": {},
   "source": [
    "**Генерируем матрицу P размерности 4x4**"
   ]
  },
  {
   "cell_type": "code",
   "execution_count": 22,
   "metadata": {},
   "outputs": [
    {
     "name": "stdout",
     "output_type": "stream",
     "text": [
      "\n",
      "Матрица P:\n",
      "[[1 0 0 0]\n",
      " [1 1 0 0]\n",
      " [1 2 1 0]\n",
      " [1 3 3 1]]\n"
     ]
    }
   ],
   "source": [
    "# Создание матрицы Паскаля размером 4x4 с параметрами kind='lower' и exact=True\n",
    "# kind='lower' указывает, что нужно создать нижнюю треугольную матрицу Паскаля\n",
    "# exact=True указывает, что нужно использовать целочисленные значения вместо чисел с плавающей запятой\n",
    "p_matrix = pascal(4, kind='lower', exact=True)\n",
    "\n",
    "# Вывод матрицы Паскаля\n",
    "print(\"\\nМатрица P:\")\n",
    "print(p_matrix)"
   ]
  },
  {
   "cell_type": "markdown",
   "metadata": {},
   "source": [
    "**Вычисляем обратную матрицу для матрицы P**"
   ]
  },
  {
   "cell_type": "code",
   "execution_count": 23,
   "metadata": {},
   "outputs": [
    {
     "name": "stdout",
     "output_type": "stream",
     "text": [
      "\n",
      "Обратная матрица P:\n",
      "[[ 1.00000000e+00  0.00000000e+00  0.00000000e+00  0.00000000e+00]\n",
      " [-1.00000000e+00  1.00000000e+00  1.11022302e-16  0.00000000e+00]\n",
      " [ 1.00000000e+00 -2.00000000e+00  1.00000000e+00 -0.00000000e+00]\n",
      " [-1.00000000e+00  3.00000000e+00 -3.00000000e+00  1.00000000e+00]]\n"
     ]
    }
   ],
   "source": [
    "# Вычисление обратной матрицы для матрицы P с использованием np.linalg.inv\n",
    "inv_p_matrix = np.linalg.inv(p_matrix)\n",
    "\n",
    "# Вывод обратной матрицы P\n",
    "print(\"\\nОбратная матрица P:\")\n",
    "print(inv_p_matrix)"
   ]
  },
  {
   "cell_type": "markdown",
   "metadata": {},
   "source": [
    "**Умножаем матрицу исходных признаков на матрицу P**"
   ]
  },
  {
   "cell_type": "code",
   "execution_count": 24,
   "metadata": {},
   "outputs": [
    {
     "name": "stdout",
     "output_type": "stream",
     "text": [
      "\n",
      "Преобразованная матрица X_transformed:\n",
      "[[ 1.         -0.10437909  1.5482245  -1.65849416  0.63921873]\n",
      " [ 1.          1.38962986 -1.33778477  0.72682586  0.052261  ]\n",
      " [ 1.          1.05117603 -0.51899555 -0.19752827  0.31378562]\n",
      " [ 1.          0.28302886  0.79717676 -1.53319134  0.8366179 ]\n",
      " [ 1.          1.25868456 -0.69958592  0.34229872  0.06253378]]\n"
     ]
    }
   ],
   "source": [
    "# Шаг 1: Выполнение умножения матрицы X на обратную матрицу P\n",
    "X_transformed = np.dot(X, inv_p_matrix)\n",
    "\n",
    "# Шаг 2: Добавление столбца из единиц к преобразованной матрице X_transformed\n",
    "# Мы используем np.column_stack для объединения матрицы из единичного столбца\n",
    "# и преобразованной матрицы X_transformed по столбцам\n",
    "X_transformed = np.column_stack((np.ones(X_transformed.shape[0]), X_transformed))\n",
    "\n",
    "# Шаг 3: Вывод преобразованной матрицы X_transformed\n",
    "print(\"\\nПреобразованная матрица X_transformed:\")\n",
    "print(X_transformed)"
   ]
  },
  {
   "cell_type": "markdown",
   "metadata": {},
   "source": [
    "**Вектор весов линейной регрессии**"
   ]
  },
  {
   "cell_type": "code",
   "execution_count": 25,
   "metadata": {},
   "outputs": [
    {
     "name": "stdout",
     "output_type": "stream",
     "text": [
      "\n",
      "Вектор весов w:\n",
      "[0.18396227 0.5307285  0.55826912 0.60622908 0.38675543]\n"
     ]
    }
   ],
   "source": [
    "# Генерация случайного вектора весов размером 5\n",
    "# Функция np.random.rand генерирует значения от 0 до 1 с равномерным распределением\n",
    "w = np.random.rand(5)\n",
    "\n",
    "# Вывод вектора весов w\n",
    "print(\"\\nВектор весов w:\")\n",
    "print(w)"
   ]
  },
  {
   "cell_type": "markdown",
   "metadata": {},
   "source": [
    "**Предсказание с использованием преобразованных признаков**"
   ]
  },
  {
   "cell_type": "code",
   "execution_count": 26,
   "metadata": {},
   "outputs": [
    {
     "name": "stdout",
     "output_type": "stream",
     "text": [
      "\n",
      "Предсказание y_pred:\n",
      "[0.23468516 0.6354697  0.45372306 0.17331425 0.69312153]\n"
     ]
    }
   ],
   "source": [
    "# Вычисление предсказаний y_pred с использованием скалярного произведения\n",
    "# между преобразованной матрицей X_transformed и вектором весов w\n",
    "y_pred = np.dot(X_transformed, w)\n",
    "\n",
    "# Вывод предсказаний y_pred\n",
    "print(\"\\nПредсказание y_pred:\")\n",
    "print(y_pred)"
   ]
  },
  {
   "cell_type": "markdown",
   "metadata": {},
   "source": [
    "После применения преобразования признаков с использованием матрицы P и вектора весов w, мы получаем следующие результаты:\n",
    "\n",
    "Матрица исходных признаков X содержит пять наблюдений (строк) и четыре признака (столбца).\n",
    "\n",
    "Матрица P представляет собой нижнетреугольную матрицу Паскаля размерности 4x4. Она используется для преобразования признаков.\n",
    "\n",
    "Обратная матрица P⁻¹ вычисляется для матрицы P и также имеет размерность 4x4.\n",
    "\n",
    "Преобразованная матрица X_transformed получается путем умножения матрицы исходных признаков X на обратную матрицу P⁻¹. К ней также добавляется столбец из единиц, необходимый для использования сокращенной формы предсказания.\n",
    "\n",
    "Вектор весов линейной регрессии w имеет пять элементов.\n",
    "\n",
    "Предсказание y_pred вычисляется путем умножения преобразованной матрицы X_transformed на вектор весов w.\n",
    "\n",
    "Таким образом, мы имеем преобразованные признаки X_transformed и предсказания y_pred, которые можно использовать для анализа и дальнейших задач машинного обучения. Применение преобразования позволяет учесть взаимосвязь между признаками и достичь более точных предсказаний с использованием линейной регрессии."
   ]
  },
  {
   "cell_type": "markdown",
   "metadata": {},
   "source": [
    "## Проверка алгоритма"
   ]
  },
  {
   "cell_type": "markdown",
   "metadata": {},
   "source": [
    "Для проверки отсутствия влияния преобразования на качество линейной регрессии, мы проведём обучение модели на исходных данных и на данных, преобразованных с использованием описанного выше метода. Обучение модели будет выполняться с помощью библиотеки sklearn, а неизменность качества будет проверяться с использованием метрики R2.\n",
    "\n",
    "Это позволит нам сравнить результаты обучения модели на исходных данных и на преобразованных данных и убедиться в отсутствии влияния преобразования на качество модели."
   ]
  },
  {
   "cell_type": "markdown",
   "metadata": {},
   "source": [
    "### Обучение на исходных данных"
   ]
  },
  {
   "cell_type": "markdown",
   "metadata": {},
   "source": [
    "Мы добавим дополнительный атрибут, отражающий возрастную категорию, для проведения стратифицированного разделения исходных данных.\n",
    "\n",
    "Это позволит нам учесть различия в возрастных группах при разделении данных, чтобы обеспечить более равномерное распределение примеров разных возрастных категорий между обучающим и тестовым наборами."
   ]
  },
  {
   "cell_type": "markdown",
   "metadata": {},
   "source": [
    "**Создаем новый столбец age_category**"
   ]
  },
  {
   "cell_type": "code",
   "execution_count": 27,
   "metadata": {},
   "outputs": [],
   "source": [
    "# Создаем новый столбец 'age_category' в DataFrame 'data_pers', содержащий значения True или False\n",
    "# в зависимости от того, является ли возраст (столбец 'age') меньше 42\n",
    "data_pers['age_category'] = data_pers['age'] < 42"
   ]
  },
  {
   "cell_type": "markdown",
   "metadata": {},
   "source": [
    "**Разделяем данные из DataFrame `data_pers` на обучающий и тестовый наборы**"
   ]
  },
  {
   "cell_type": "code",
   "execution_count": 28,
   "metadata": {},
   "outputs": [],
   "source": [
    "# Разделяем данные на обучающую и тестовую выборки\n",
    "\n",
    "df_train, df_test = train_test_split( #df_train (обучающий набор) и df_test (тестовый набор)\n",
    "    data_pers, # data_pers: исходный DataFrame\n",
    "    test_size=0.2, # test_size=0.2: размер тестовой выборки составляет 20% от всех данных\n",
    "    random_state=random_state, # random_state=random_state: устанавливаем одинаковое значение для воспроизводимости случайной выборки\n",
    "    stratify=data_pers['age_category'] # stratify=data_pers['age_category']: выполняем стратифицированное разделение данных\n",
    "    )"
   ]
  },
  {
   "cell_type": "markdown",
   "metadata": {},
   "source": [
    "**Сформируем наборы обучающих и целевых признаков для обучающей и тестовой выборок.**"
   ]
  },
  {
   "cell_type": "code",
   "execution_count": 29,
   "metadata": {},
   "outputs": [],
   "source": [
    "# Выделение признаков и целевого признака для обучающей выборки\n",
    "# df_train: обучающая выборка\n",
    "# features: список признаков, которые мы хотим использовать\n",
    "# target: целевой признак\n",
    "df_train_X = df_train[features]\n",
    "df_train_Y = df_train[target]\n",
    "\n",
    "# Выделение признаков и целевого признака для тестовой выборки\n",
    "# df_test: тестовая выборка\n",
    "# features: список признаков, которые мы хотим использовать\n",
    "# target: целевой признак\n",
    "df_test_X = df_test[features]\n",
    "df_test_Y = df_test[target]"
   ]
  },
  {
   "cell_type": "markdown",
   "metadata": {},
   "source": [
    "**Обучим модель и получим значение метрики R2.**"
   ]
  },
  {
   "cell_type": "code",
   "execution_count": 30,
   "metadata": {},
   "outputs": [
    {
     "name": "stdout",
     "output_type": "stream",
     "text": [
      "0.39966885338128844\n"
     ]
    }
   ],
   "source": [
    "# Создание объекта модели линейной регрессии\n",
    "model = LinearRegression()\n",
    "\n",
    "# Обучение модели на обучающих данных\n",
    "# df_train_X: признаки обучающей выборки\n",
    "# df_train_Y: целевой признак обучающей выборки\n",
    "model.fit(df_train_X, df_train_Y)\n",
    "\n",
    "# Получение предсказаний на тестовых данных\n",
    "# df_test_X: признаки тестовой выборки\n",
    "predictions = model.predict(df_test_X)\n",
    "\n",
    "# Вычисление метрики R2 для оценки качества модели\n",
    "# df_test_Y: истинные значения целевого признака тестовой выборки\n",
    "r2 = r2_score(df_test_Y, predictions)\n",
    "\n",
    "# Вывод значения метрики R2\n",
    "print(r2)"
   ]
  },
  {
   "cell_type": "markdown",
   "metadata": {},
   "source": [
    "### Обучение на преобразованных данных"
   ]
  },
  {
   "cell_type": "markdown",
   "metadata": {},
   "source": [
    "Теперь мы выполним преобразование исходных признаков путем умножения на обратимую матрицу. Для этого воспользуемся моделью библиотеки sklearn для обучения модели.\n",
    "\n",
    "В данном случае нам не потребуется добавлять столбец единиц к матрице обучающих признаков, поэтому матрица преобразования должна иметь размерность 4x4.\n",
    "\n",
    "В качестве примера возьмем нижнетреугольную матрицу Паскаля."
   ]
  },
  {
   "cell_type": "markdown",
   "metadata": {},
   "source": [
    "**Генерация нижнетреугольной матрицы Паскаля размерностью 4x4**"
   ]
  },
  {
   "cell_type": "code",
   "execution_count": 31,
   "metadata": {},
   "outputs": [],
   "source": [
    "# Генерируем нижнетреугольную матрицу Паскаля размерностью 4x4\n",
    "p_matrix = pascal(4, kind='lower', exact=True)"
   ]
  },
  {
   "cell_type": "markdown",
   "metadata": {},
   "source": [
    "**Выполним преобразование обучающих признаков обучающей и тестовой выборок.**"
   ]
  },
  {
   "cell_type": "code",
   "execution_count": 32,
   "metadata": {},
   "outputs": [],
   "source": [
    "# Умножение матрицы обучающих признаков на матрицу преобразования p_matrix\n",
    "df_train_X_p = df_train[features] @ p_matrix\n",
    "\n",
    "# Умножение матрицы тестовых признаков на матрицу преобразования p_matrix\n",
    "df_test_X_p = df_test[features] @ p_matrix"
   ]
  },
  {
   "cell_type": "markdown",
   "metadata": {},
   "source": [
    "**Обучим модель и получим значение метрики R2.**"
   ]
  },
  {
   "cell_type": "code",
   "execution_count": 33,
   "metadata": {},
   "outputs": [
    {
     "name": "stdout",
     "output_type": "stream",
     "text": [
      "0.3996688533813235\n"
     ]
    }
   ],
   "source": [
    "# Создание объекта модели линейной регрессии\n",
    "model = LinearRegression()\n",
    "\n",
    "# Обучение модели на преобразованных признаках обучающего набора\n",
    "model.fit(df_train_X_p, df_train_Y)\n",
    "\n",
    "# Получение предсказаний на преобразованных признаках тестового набора\n",
    "predictions = model.predict(df_test_X_p)\n",
    "\n",
    "# Вычисление и вывод метрики R2 для оценки качества модели\n",
    "print(r2_score(df_test_Y, predictions))"
   ]
  },
  {
   "cell_type": "markdown",
   "metadata": {},
   "source": [
    "**В качестве другого примера возьмем случайную матрицу, проверим ее обратимость.**"
   ]
  },
  {
   "cell_type": "code",
   "execution_count": 34,
   "metadata": {},
   "outputs": [],
   "source": [
    "# Установка начального состояния генератора случайных чисел\n",
    "np.random.seed(random_state)"
   ]
  },
  {
   "cell_type": "code",
   "execution_count": 35,
   "metadata": {},
   "outputs": [
    {
     "data": {
      "text/plain": [
       "array([[0.24580423, 0.59642861, 0.35879163, 0.37891011],\n",
       "       [0.02445137, 0.23830957, 0.38793433, 0.68054104],\n",
       "       [0.83934083, 0.76073689, 0.2217416 , 0.06344161],\n",
       "       [0.77944375, 0.72174137, 0.19413884, 0.51146167]])"
      ]
     },
     "execution_count": 35,
     "metadata": {},
     "output_type": "execute_result"
    }
   ],
   "source": [
    "# Генерация случайной матрицы размерности 4x4\n",
    "random_matrix = np.random.random((4,4))\n",
    "random_matrix"
   ]
  },
  {
   "cell_type": "code",
   "execution_count": 36,
   "metadata": {},
   "outputs": [
    {
     "data": {
      "text/plain": [
       "array([[-3.609827  ,  2.07562415,  2.56477415, -0.40562358],\n",
       "       [ 4.65809377, -3.53882458, -2.74531807,  1.59832893],\n",
       "       [-2.25487348,  4.21845113,  4.74519838, -4.53108801],\n",
       "       [-0.21609317,  0.22937908, -1.83574827,  2.0377692 ]])"
      ]
     },
     "execution_count": 36,
     "metadata": {},
     "output_type": "execute_result"
    }
   ],
   "source": [
    "# Вычисление обратной матрицы\n",
    "matrix_inv = np.linalg.inv(random_matrix)\n",
    "matrix_inv"
   ]
  },
  {
   "cell_type": "markdown",
   "metadata": {},
   "source": [
    "**Обучим модель и проверим значение метрики R2 аналогичным образом.**"
   ]
  },
  {
   "cell_type": "code",
   "execution_count": 37,
   "metadata": {},
   "outputs": [],
   "source": [
    "# Умножение матрицы признаков df_train[features] на обратную матрицу matrix_inv\n",
    "df_train_X_p = df_train[features] @ matrix_inv\n",
    "\n",
    "# Умножение матрицы признаков df_test[features] на обратную матрицу matrix_inv\n",
    "df_test_X_p = df_test[features] @ matrix_inv"
   ]
  },
  {
   "cell_type": "code",
   "execution_count": 38,
   "metadata": {},
   "outputs": [
    {
     "name": "stdout",
     "output_type": "stream",
     "text": [
      "0.39966885338086555\n"
     ]
    }
   ],
   "source": [
    "# Создание объекта модели линейной регрессии\n",
    "model = LinearRegression()\n",
    "\n",
    "# Обучение модели на преобразованных признаках и целевой переменной обучающего набора данных\n",
    "model.fit(df_train_X_p, df_train_Y)\n",
    "\n",
    "# Выполнение предсказаний на преобразованных признаках тестового набора данных\n",
    "predictions = model.predict(df_test_X_p)\n",
    "\n",
    "# Вычисление значения метрики R2 для сравнения качества модели на тестовых данных\n",
    "r2 = r2_score(df_test_Y, predictions)\n",
    "\n",
    "# Вывод значения метрики R2\n",
    "print(r2)"
   ]
  },
  {
   "cell_type": "markdown",
   "metadata": {},
   "source": [
    "Полученные значения метрики R2 для всех трех случаев совпадают, что означает, что преобразование путем умножения матрицы обучающих признаков на обратимую матрицу не влияет на качество линейной регрессии."
   ]
  },
  {
   "cell_type": "markdown",
   "metadata": {},
   "source": [
    "### Реализация линейной регрессии"
   ]
  },
  {
   "cell_type": "markdown",
   "metadata": {},
   "source": [
    "Создадим отдельный класс для реализации модели линейной регрессии, в котором мы встроим рассмотренное матричное преобразование."
   ]
  },
  {
   "cell_type": "code",
   "execution_count": 39,
   "metadata": {},
   "outputs": [],
   "source": [
    "class LinearRegressionPascal:\n",
    "    def __init__(self):\n",
    "        self.p_matrix = None  # Переменная для хранения матрицы Паскаля\n",
    "        self.w = None  # Переменная для хранения вектора весов\n",
    "\n",
    "    def fit(self, train_features, train_target):\n",
    "        # Создаем матрицу Паскаля\n",
    "        self.p_matrix = pascal(train_features.shape[1], kind='lower', exact=True)\n",
    "        \n",
    "        # Умножаем обучающие признаки на матрицу Паскаля\n",
    "        X = train_features @ self.p_matrix\n",
    "        \n",
    "        # Добавляем столбец из единиц к обучающим признакам\n",
    "        X = np.concatenate((np.ones((X.shape[0], 1)), X), axis=1)\n",
    "        \n",
    "        # Обучаем модель линейной регрессии\n",
    "        y = train_target\n",
    "        self.w = np.linalg.inv(X.T @ X) @ X.T @ y\n",
    "\n",
    "    def predict(self, test_features):\n",
    "        # Умножаем тестовые признаки на матрицу Паскаля\n",
    "        X_transformed = test_features @ self.p_matrix\n",
    "        \n",
    "        # Добавляем столбец из единиц к тестовым признакам\n",
    "        X_transformed = np.concatenate((np.ones((X_transformed.shape[0], 1)), X_transformed), axis=1)\n",
    "        \n",
    "        # Выполняем предсказание с использованием обученных весов\n",
    "        return X_transformed @ self.w"
   ]
  },
  {
   "cell_type": "code",
   "execution_count": 40,
   "metadata": {},
   "outputs": [
    {
     "name": "stdout",
     "output_type": "stream",
     "text": [
      "0.3996688509538243\n"
     ]
    }
   ],
   "source": [
    "# Создаем экземпляр класса LinearRegressionPascal\n",
    "model = LinearRegressionPascal()\n",
    "\n",
    "# Обучаем модель, используя обучающие признаки и значения целевого признака\n",
    "model.fit(df_train_X, df_train_Y.values)\n",
    "\n",
    "# Делаем предсказания на тестовых признаках, используя обученную модель\n",
    "predictions = model.predict(df_test_X)\n",
    "\n",
    "# Вычисляем значение коэффициента детерминации (R-квадрат) для оценки предсказаний\n",
    "r2_score_value = r2_score(df_test_Y, predictions)\n",
    "\n",
    "# Выводим значение коэффициента детерминации\n",
    "print(r2_score_value)"
   ]
  },
  {
   "cell_type": "markdown",
   "metadata": {},
   "source": [
    "В результате использования реализованного класса LinearRegressionPascal мы также получаем значения метрики R2, которые совпадают с предыдущими значениями. Это подтверждает правильность встроенного матричного преобразования внутри модели линейной регрессии и его невлияние на качество предсказания."
   ]
  },
  {
   "cell_type": "markdown",
   "metadata": {},
   "source": [
    "# Выводы\n",
    "\n",
    "В данном исследовании мы изучили исходные данные о клиентах страховой компании \"Хоть потоп\" и определили обучающие и целевые признаки. Обучающие признаки включают пол, возраст, зарплату застрахованного клиента и количество членов его семьи. Целевым признаком является количество страховых выплат клиенту за последние 5 лет.\n",
    "\n",
    "Мы провели анализ корреляций между обучающими и целевым признаками, а также изучили распределение значений обучающих признаков. Было обнаружено, что наиболее коррелирующим с целевым признаком является возраст.\n",
    "\n",
    "Далее мы рассмотрели решение задачи обучения модели линейной регрессии с использованием матричных операций. Также было проведено доказательство того, что качество линейной регрессии не изменяется при умножении матрицы обучающих признаков на произвольную обратимую матрицу.\n",
    "\n",
    "В рамках исследования мы также рассмотрели частный случай данного преобразования - умножение матрицы обучающих признаков на различные обратимые матрицы. Мы проверили неизменность метрики R2 на практике и результаты совпали с теоретическим доказательством.\n",
    "\n",
    "Полученное преобразование матрицы обучающих признаков может быть полезно при необходимости преобразования данных, например, для обеспечения защиты персональной информации. В зависимости от поставленной задачи, можно выбирать различные обратимые матрицы, чтобы выполнить требуемое преобразование.\n",
    "\n",
    "Таким образом, мы продемонстрировали эффективность и применимость данного матричного преобразования в контексте линейной регрессии."
   ]
  },
  {
   "cell_type": "markdown",
   "metadata": {},
   "source": [
    "## Чек-лист проверки"
   ]
  },
  {
   "cell_type": "markdown",
   "metadata": {},
   "source": [
    "Поставьте 'x' в выполненных пунктах. Далее нажмите Shift+Enter."
   ]
  },
  {
   "cell_type": "markdown",
   "metadata": {},
   "source": [
    "- [x]  Jupyter Notebook открыт\n",
    "- [x]  Весь код выполняется без ошибок\n",
    "- [x]  Ячейки с кодом расположены в порядке исполнения\n",
    "- [x]  Выполнен шаг 1: данные загружены\n",
    "- [x]  Выполнен шаг 2: получен ответ на вопрос об умножении матриц\n",
    "    - [x]  Указан правильный вариант ответа\n",
    "    - [x]  Вариант обоснован\n",
    "- [x]  Выполнен шаг 3: предложен алгоритм преобразования\n",
    "    - [x]  Алгоритм описан\n",
    "    - [x]  Алгоритм обоснован\n",
    "- [x]  Выполнен шаг 4: алгоритм проверен\n",
    "    - [x]  Алгоритм реализован\n",
    "    - [x]  Проведено сравнение качества моделей до и после преобразования"
   ]
  }
 ],
 "metadata": {
  "ExecuteTimeLog": [
   {
    "duration": 1664,
    "start_time": "2023-06-13T11:32:17.523Z"
   },
   {
    "duration": 3,
    "start_time": "2023-06-13T11:51:08.800Z"
   },
   {
    "duration": 170,
    "start_time": "2023-06-13T11:51:37.994Z"
   },
   {
    "duration": 95,
    "start_time": "2023-06-13T11:52:09.414Z"
   },
   {
    "duration": 12,
    "start_time": "2023-06-13T11:52:20.287Z"
   },
   {
    "duration": 29,
    "start_time": "2023-06-13T12:05:30.685Z"
   },
   {
    "duration": 9,
    "start_time": "2023-06-13T12:05:31.194Z"
   },
   {
    "duration": 11,
    "start_time": "2023-06-13T12:06:35.826Z"
   },
   {
    "duration": 40,
    "start_time": "2023-06-13T14:31:07.377Z"
   },
   {
    "duration": 9,
    "start_time": "2023-06-13T14:31:07.961Z"
   },
   {
    "duration": 9,
    "start_time": "2023-06-13T14:31:09.110Z"
   },
   {
    "duration": 3,
    "start_time": "2023-06-13T14:31:12.055Z"
   },
   {
    "duration": 4,
    "start_time": "2023-06-13T14:32:24.612Z"
   },
   {
    "duration": 4,
    "start_time": "2023-06-13T14:35:10.881Z"
   },
   {
    "duration": 3,
    "start_time": "2023-06-13T14:39:54.202Z"
   },
   {
    "duration": 20,
    "start_time": "2023-06-13T14:44:17.671Z"
   },
   {
    "duration": 18,
    "start_time": "2023-06-13T14:45:11.375Z"
   },
   {
    "duration": 1728,
    "start_time": "2023-06-13T19:38:53.481Z"
   },
   {
    "duration": 3,
    "start_time": "2023-06-13T19:38:55.211Z"
   },
   {
    "duration": 109,
    "start_time": "2023-06-13T19:38:56.626Z"
   },
   {
    "duration": 16,
    "start_time": "2023-06-13T19:38:57.398Z"
   },
   {
    "duration": 15,
    "start_time": "2023-06-13T19:38:58.603Z"
   },
   {
    "duration": 4,
    "start_time": "2023-06-13T19:39:00.543Z"
   },
   {
    "duration": 6,
    "start_time": "2023-06-13T19:39:04.024Z"
   },
   {
    "duration": 3,
    "start_time": "2023-06-13T19:41:16.095Z"
   },
   {
    "duration": 4,
    "start_time": "2023-06-13T19:41:17.242Z"
   },
   {
    "duration": 3,
    "start_time": "2023-06-13T19:41:18.267Z"
   },
   {
    "duration": 22,
    "start_time": "2023-06-13T19:41:23.470Z"
   },
   {
    "duration": 6,
    "start_time": "2023-06-13T19:49:45.199Z"
   },
   {
    "duration": 1824,
    "start_time": "2023-06-14T08:56:47.989Z"
   },
   {
    "duration": 2,
    "start_time": "2023-06-14T08:56:49.815Z"
   },
   {
    "duration": 109,
    "start_time": "2023-06-14T08:56:51.188Z"
   },
   {
    "duration": 14,
    "start_time": "2023-06-14T08:56:51.762Z"
   },
   {
    "duration": 11,
    "start_time": "2023-06-14T08:56:52.262Z"
   },
   {
    "duration": 3,
    "start_time": "2023-06-14T08:57:05.132Z"
   },
   {
    "duration": 6,
    "start_time": "2023-06-14T08:57:06.220Z"
   },
   {
    "duration": 3,
    "start_time": "2023-06-14T08:57:08.670Z"
   },
   {
    "duration": 25,
    "start_time": "2023-06-14T08:57:15.360Z"
   },
   {
    "duration": 5,
    "start_time": "2023-06-14T08:57:18.221Z"
   },
   {
    "duration": 5,
    "start_time": "2023-06-14T08:57:56.652Z"
   },
   {
    "duration": 7,
    "start_time": "2023-06-14T08:59:01.286Z"
   },
   {
    "duration": 494,
    "start_time": "2023-06-14T08:59:04.948Z"
   },
   {
    "duration": 8,
    "start_time": "2023-06-14T09:09:04.783Z"
   },
   {
    "duration": 429,
    "start_time": "2023-06-14T09:09:08.079Z"
   },
   {
    "duration": 1679,
    "start_time": "2023-06-14T14:24:59.574Z"
   },
   {
    "duration": 2,
    "start_time": "2023-06-14T14:25:04.478Z"
   },
   {
    "duration": 132,
    "start_time": "2023-06-14T14:25:05.931Z"
   },
   {
    "duration": 14,
    "start_time": "2023-06-14T14:25:06.638Z"
   },
   {
    "duration": 12,
    "start_time": "2023-06-14T14:25:10.050Z"
   },
   {
    "duration": 11,
    "start_time": "2023-06-14T14:25:18.490Z"
   },
   {
    "duration": 3,
    "start_time": "2023-06-14T14:25:20.297Z"
   },
   {
    "duration": 5,
    "start_time": "2023-06-14T14:25:21.910Z"
   },
   {
    "duration": 3,
    "start_time": "2023-06-14T14:25:22.810Z"
   },
   {
    "duration": 24,
    "start_time": "2023-06-14T14:25:26.798Z"
   },
   {
    "duration": 6,
    "start_time": "2023-06-14T14:25:32.950Z"
   },
   {
    "duration": 11,
    "start_time": "2023-06-14T14:25:39.400Z"
   },
   {
    "duration": 103,
    "start_time": "2023-06-14T14:36:59.307Z"
   },
   {
    "duration": 4,
    "start_time": "2023-06-14T14:37:54.691Z"
   },
   {
    "duration": 6,
    "start_time": "2023-06-14T14:37:55.373Z"
   },
   {
    "duration": 5,
    "start_time": "2023-06-14T14:37:57.332Z"
   },
   {
    "duration": 7,
    "start_time": "2023-06-14T14:37:58.019Z"
   },
   {
    "duration": 499,
    "start_time": "2023-06-14T14:37:59.210Z"
   },
   {
    "duration": 626,
    "start_time": "2023-06-14T14:38:02.950Z"
   },
   {
    "duration": 655,
    "start_time": "2023-06-14T14:38:55.290Z"
   },
   {
    "duration": 529,
    "start_time": "2023-06-14T14:39:00.298Z"
   },
   {
    "duration": 5,
    "start_time": "2023-06-14T14:39:21.297Z"
   },
   {
    "duration": 4,
    "start_time": "2023-06-14T14:39:21.918Z"
   },
   {
    "duration": 9,
    "start_time": "2023-06-14T14:39:24.350Z"
   },
   {
    "duration": 1991,
    "start_time": "2023-06-14T14:40:19.700Z"
   },
   {
    "duration": 11,
    "start_time": "2023-06-14T14:40:33.377Z"
   },
   {
    "duration": 10,
    "start_time": "2023-06-14T14:43:04.920Z"
   },
   {
    "duration": 95,
    "start_time": "2023-06-14T14:43:18.997Z"
   },
   {
    "duration": 2406,
    "start_time": "2023-06-14T20:16:15.487Z"
   },
   {
    "duration": 3,
    "start_time": "2023-06-14T20:16:17.896Z"
   },
   {
    "duration": 154,
    "start_time": "2023-06-14T20:16:18.595Z"
   },
   {
    "duration": 36,
    "start_time": "2023-06-14T20:16:19.245Z"
   },
   {
    "duration": 18,
    "start_time": "2023-06-14T20:16:19.992Z"
   },
   {
    "duration": 6,
    "start_time": "2023-06-14T20:16:21.699Z"
   },
   {
    "duration": 11,
    "start_time": "2023-06-14T20:16:22.721Z"
   },
   {
    "duration": 5,
    "start_time": "2023-06-14T20:16:23.662Z"
   },
   {
    "duration": 50,
    "start_time": "2023-06-14T20:16:25.332Z"
   },
   {
    "duration": 13,
    "start_time": "2023-06-14T20:16:27.248Z"
   },
   {
    "duration": 22,
    "start_time": "2023-06-14T20:16:27.665Z"
   },
   {
    "duration": 4,
    "start_time": "2023-06-14T20:27:28.502Z"
   },
   {
    "duration": 3,
    "start_time": "2023-06-14T20:27:29.742Z"
   },
   {
    "duration": 51,
    "start_time": "2023-06-14T20:27:30.911Z"
   },
   {
    "duration": 15,
    "start_time": "2023-06-14T20:27:31.339Z"
   },
   {
    "duration": 30,
    "start_time": "2023-06-14T20:27:31.723Z"
   },
   {
    "duration": 6,
    "start_time": "2023-06-14T20:27:33.000Z"
   },
   {
    "duration": 9,
    "start_time": "2023-06-14T20:27:33.733Z"
   },
   {
    "duration": 6,
    "start_time": "2023-06-14T20:27:34.540Z"
   },
   {
    "duration": 43,
    "start_time": "2023-06-14T20:27:36.099Z"
   },
   {
    "duration": 12,
    "start_time": "2023-06-14T20:27:41.010Z"
   },
   {
    "duration": 69,
    "start_time": "2023-06-14T20:27:43.999Z"
   },
   {
    "duration": 9,
    "start_time": "2023-06-14T20:29:01.887Z"
   },
   {
    "duration": 18,
    "start_time": "2023-06-14T20:29:02.507Z"
   },
   {
    "duration": 541,
    "start_time": "2023-06-14T20:29:10.944Z"
   },
   {
    "duration": 23,
    "start_time": "2023-06-14T20:29:29.043Z"
   },
   {
    "duration": 9,
    "start_time": "2023-06-14T20:29:45.387Z"
   },
   {
    "duration": 707,
    "start_time": "2023-06-14T20:29:48.466Z"
   },
   {
    "duration": 1037,
    "start_time": "2023-06-14T20:29:58.700Z"
   },
   {
    "duration": 7,
    "start_time": "2023-06-14T20:31:13.581Z"
   },
   {
    "duration": 17,
    "start_time": "2023-06-14T20:32:15.638Z"
   },
   {
    "duration": 10,
    "start_time": "2023-06-14T20:32:16.355Z"
   },
   {
    "duration": 726,
    "start_time": "2023-06-14T20:32:19.619Z"
   },
   {
    "duration": 869,
    "start_time": "2023-06-14T20:32:34.083Z"
   },
   {
    "duration": 826,
    "start_time": "2023-06-14T20:32:47.248Z"
   },
   {
    "duration": 743,
    "start_time": "2023-06-14T20:32:57.607Z"
   },
   {
    "duration": 8,
    "start_time": "2023-06-14T20:35:16.141Z"
   },
   {
    "duration": 751,
    "start_time": "2023-06-14T20:35:22.301Z"
   },
   {
    "duration": 22,
    "start_time": "2023-06-14T20:35:40.534Z"
   },
   {
    "duration": 8,
    "start_time": "2023-06-14T20:35:45.732Z"
   },
   {
    "duration": 874,
    "start_time": "2023-06-14T20:35:57.407Z"
   },
   {
    "duration": 9,
    "start_time": "2023-06-14T20:36:18.347Z"
   },
   {
    "duration": 875,
    "start_time": "2023-06-14T20:36:23.087Z"
   },
   {
    "duration": 8,
    "start_time": "2023-06-14T20:37:21.139Z"
   },
   {
    "duration": 10,
    "start_time": "2023-06-14T20:37:21.537Z"
   },
   {
    "duration": 564,
    "start_time": "2023-06-14T20:37:23.088Z"
   },
   {
    "duration": 992,
    "start_time": "2023-06-14T20:37:28.339Z"
   },
   {
    "duration": 956,
    "start_time": "2023-06-14T20:37:36.249Z"
   },
   {
    "duration": 930,
    "start_time": "2023-06-14T20:37:42.844Z"
   },
   {
    "duration": 10,
    "start_time": "2023-06-14T20:39:00.312Z"
   },
   {
    "duration": 885,
    "start_time": "2023-06-14T20:39:04.600Z"
   },
   {
    "duration": 10,
    "start_time": "2023-06-14T20:39:20.941Z"
   },
   {
    "duration": 13,
    "start_time": "2023-06-14T20:39:38.318Z"
   },
   {
    "duration": 1059,
    "start_time": "2023-06-14T20:39:41.803Z"
   },
   {
    "duration": 7,
    "start_time": "2023-06-14T20:40:11.096Z"
   },
   {
    "duration": 870,
    "start_time": "2023-06-14T20:40:16.355Z"
   },
   {
    "duration": 7,
    "start_time": "2023-06-14T20:40:38.496Z"
   },
   {
    "duration": 769,
    "start_time": "2023-06-14T20:40:42.636Z"
   },
   {
    "duration": 8,
    "start_time": "2023-06-14T20:41:21.127Z"
   },
   {
    "duration": 888,
    "start_time": "2023-06-14T20:41:25.892Z"
   },
   {
    "duration": 6,
    "start_time": "2023-06-14T20:42:07.712Z"
   },
   {
    "duration": 7,
    "start_time": "2023-06-14T20:42:08.504Z"
   },
   {
    "duration": 527,
    "start_time": "2023-06-14T20:42:12.008Z"
   },
   {
    "duration": 739,
    "start_time": "2023-06-14T20:42:17.987Z"
   },
   {
    "duration": 862,
    "start_time": "2023-06-14T20:44:53.442Z"
   },
   {
    "duration": 689,
    "start_time": "2023-06-14T20:45:00.127Z"
   },
   {
    "duration": 8,
    "start_time": "2023-06-14T20:48:27.494Z"
   },
   {
    "duration": 7,
    "start_time": "2023-06-14T20:48:28.016Z"
   },
   {
    "duration": 2265,
    "start_time": "2023-06-14T20:48:35.658Z"
   },
   {
    "duration": 5,
    "start_time": "2023-06-14T20:48:55.616Z"
   },
   {
    "duration": 2631,
    "start_time": "2023-06-14T20:48:56.498Z"
   },
   {
    "duration": 6,
    "start_time": "2023-06-14T20:49:28.022Z"
   },
   {
    "duration": 2670,
    "start_time": "2023-06-14T20:49:32.293Z"
   },
   {
    "duration": 4,
    "start_time": "2023-06-14T20:55:57.192Z"
   },
   {
    "duration": 8,
    "start_time": "2023-06-14T20:56:15.848Z"
   },
   {
    "duration": 38,
    "start_time": "2023-06-14T20:56:25.439Z"
   },
   {
    "duration": 161,
    "start_time": "2023-06-14T20:57:54.390Z"
   },
   {
    "duration": 22,
    "start_time": "2023-06-14T20:58:15.555Z"
   },
   {
    "duration": 12,
    "start_time": "2023-06-14T20:58:22.637Z"
   },
   {
    "duration": 12,
    "start_time": "2023-06-14T20:59:19.454Z"
   },
   {
    "duration": 16,
    "start_time": "2023-06-14T21:00:03.042Z"
   },
   {
    "duration": 37,
    "start_time": "2023-06-14T21:00:36.340Z"
   },
   {
    "duration": 3,
    "start_time": "2023-06-14T21:02:01.937Z"
   },
   {
    "duration": 11,
    "start_time": "2023-06-14T21:02:28.916Z"
   },
   {
    "duration": 23,
    "start_time": "2023-06-14T21:02:54.413Z"
   },
   {
    "duration": 6,
    "start_time": "2023-06-14T21:03:51.552Z"
   },
   {
    "duration": 34,
    "start_time": "2023-06-14T21:04:02.198Z"
   },
   {
    "duration": 25,
    "start_time": "2023-06-14T21:04:11.743Z"
   },
   {
    "duration": 6,
    "start_time": "2023-06-14T21:04:42.930Z"
   },
   {
    "duration": 23,
    "start_time": "2023-06-14T21:04:56.782Z"
   },
   {
    "duration": 7,
    "start_time": "2023-06-14T21:06:20.697Z"
   },
   {
    "duration": 22,
    "start_time": "2023-06-14T21:06:30.305Z"
   },
   {
    "duration": 1674,
    "start_time": "2023-06-16T11:41:29.274Z"
   },
   {
    "duration": 3,
    "start_time": "2023-06-16T11:41:30.950Z"
   },
   {
    "duration": 99,
    "start_time": "2023-06-16T11:41:31.747Z"
   },
   {
    "duration": 15,
    "start_time": "2023-06-16T11:41:32.231Z"
   },
   {
    "duration": 12,
    "start_time": "2023-06-16T11:41:32.762Z"
   },
   {
    "duration": 2,
    "start_time": "2023-06-16T11:41:33.932Z"
   },
   {
    "duration": 5,
    "start_time": "2023-06-16T11:41:34.717Z"
   },
   {
    "duration": 3,
    "start_time": "2023-06-16T11:41:35.474Z"
   },
   {
    "duration": 20,
    "start_time": "2023-06-16T11:41:37.553Z"
   },
   {
    "duration": 5,
    "start_time": "2023-06-16T11:41:40.536Z"
   },
   {
    "duration": 9,
    "start_time": "2023-06-16T11:41:40.963Z"
   },
   {
    "duration": 10,
    "start_time": "2023-06-16T11:41:43.731Z"
   },
   {
    "duration": 7,
    "start_time": "2023-06-16T11:41:45.738Z"
   },
   {
    "duration": 13,
    "start_time": "2023-06-16T11:41:47.921Z"
   },
   {
    "duration": 532,
    "start_time": "2023-06-16T11:41:52.601Z"
   },
   {
    "duration": 6,
    "start_time": "2023-06-16T11:43:36.904Z"
   },
   {
    "duration": 460,
    "start_time": "2023-06-16T11:43:39.413Z"
   },
   {
    "duration": 60,
    "start_time": "2023-06-16T11:44:44.806Z"
   },
   {
    "duration": 454,
    "start_time": "2023-06-16T11:44:46.534Z"
   },
   {
    "duration": 10,
    "start_time": "2023-06-16T11:46:29.531Z"
   },
   {
    "duration": 451,
    "start_time": "2023-06-16T11:46:32.294Z"
   },
   {
    "duration": 7,
    "start_time": "2023-06-16T11:47:50.136Z"
   },
   {
    "duration": 462,
    "start_time": "2023-06-16T11:47:53.142Z"
   },
   {
    "duration": 7,
    "start_time": "2023-06-16T11:49:02.190Z"
   },
   {
    "duration": 489,
    "start_time": "2023-06-16T11:49:04.954Z"
   },
   {
    "duration": 6,
    "start_time": "2023-06-16T11:51:18.512Z"
   },
   {
    "duration": 401,
    "start_time": "2023-06-16T11:51:21.390Z"
   },
   {
    "duration": 5,
    "start_time": "2023-06-16T11:51:30.691Z"
   },
   {
    "duration": 5,
    "start_time": "2023-06-16T11:51:31.201Z"
   },
   {
    "duration": 429,
    "start_time": "2023-06-16T11:51:33.666Z"
   },
   {
    "duration": 6,
    "start_time": "2023-06-16T11:54:50.809Z"
   },
   {
    "duration": 405,
    "start_time": "2023-06-16T11:54:53.506Z"
   },
   {
    "duration": 5,
    "start_time": "2023-06-16T11:55:01.762Z"
   },
   {
    "duration": 431,
    "start_time": "2023-06-16T11:55:03.095Z"
   },
   {
    "duration": 6,
    "start_time": "2023-06-16T11:55:21.602Z"
   },
   {
    "duration": 448,
    "start_time": "2023-06-16T11:55:22.810Z"
   },
   {
    "duration": 6,
    "start_time": "2023-06-16T11:55:30.473Z"
   },
   {
    "duration": 444,
    "start_time": "2023-06-16T11:55:32.073Z"
   },
   {
    "duration": 5,
    "start_time": "2023-06-16T12:56:26.599Z"
   },
   {
    "duration": 6,
    "start_time": "2023-06-16T12:58:07.466Z"
   },
   {
    "duration": 2384,
    "start_time": "2023-06-16T12:58:25.539Z"
   },
   {
    "duration": 4,
    "start_time": "2023-06-16T20:02:02.694Z"
   },
   {
    "duration": 2,
    "start_time": "2023-06-16T20:02:03.905Z"
   },
   {
    "duration": 82,
    "start_time": "2023-06-16T20:02:05.512Z"
   },
   {
    "duration": 9,
    "start_time": "2023-06-16T20:02:06.105Z"
   },
   {
    "duration": 9,
    "start_time": "2023-06-16T20:02:06.909Z"
   },
   {
    "duration": 3,
    "start_time": "2023-06-16T20:02:08.686Z"
   },
   {
    "duration": 4,
    "start_time": "2023-06-16T20:02:09.656Z"
   },
   {
    "duration": 2,
    "start_time": "2023-06-16T20:02:10.948Z"
   },
   {
    "duration": 20,
    "start_time": "2023-06-16T20:02:12.537Z"
   },
   {
    "duration": 5,
    "start_time": "2023-06-16T20:02:13.990Z"
   },
   {
    "duration": 10,
    "start_time": "2023-06-16T20:02:14.587Z"
   },
   {
    "duration": 5,
    "start_time": "2023-06-16T20:02:17.108Z"
   },
   {
    "duration": 8,
    "start_time": "2023-06-16T20:02:17.645Z"
   },
   {
    "duration": 469,
    "start_time": "2023-06-16T20:02:19.069Z"
   },
   {
    "duration": 766,
    "start_time": "2023-06-16T20:02:21.498Z"
   },
   {
    "duration": 788,
    "start_time": "2023-06-16T20:02:24.790Z"
   },
   {
    "duration": 648,
    "start_time": "2023-06-16T20:02:28.217Z"
   },
   {
    "duration": 8,
    "start_time": "2023-06-16T20:02:33.037Z"
   },
   {
    "duration": 4,
    "start_time": "2023-06-16T20:02:33.686Z"
   },
   {
    "duration": 2142,
    "start_time": "2023-06-16T20:02:34.334Z"
   },
   {
    "duration": 3,
    "start_time": "2023-06-16T20:18:27.987Z"
   },
   {
    "duration": 4,
    "start_time": "2023-06-16T20:18:43.295Z"
   },
   {
    "duration": 15,
    "start_time": "2023-06-16T20:18:58.739Z"
   },
   {
    "duration": 6,
    "start_time": "2023-06-16T20:19:13.946Z"
   },
   {
    "duration": 6,
    "start_time": "2023-06-16T20:19:22.411Z"
   },
   {
    "duration": 5,
    "start_time": "2023-06-16T20:19:25.147Z"
   },
   {
    "duration": 12,
    "start_time": "2023-06-16T20:19:26.247Z"
   },
   {
    "duration": 3,
    "start_time": "2023-06-16T20:19:29.081Z"
   },
   {
    "duration": 4,
    "start_time": "2023-06-16T20:19:30.048Z"
   },
   {
    "duration": 9,
    "start_time": "2023-06-16T20:19:31.088Z"
   },
   {
    "duration": 2,
    "start_time": "2023-06-16T20:19:32.839Z"
   },
   {
    "duration": 5,
    "start_time": "2023-06-16T20:19:33.301Z"
   },
   {
    "duration": 7,
    "start_time": "2023-06-16T20:19:34.950Z"
   },
   {
    "duration": 6,
    "start_time": "2023-06-16T20:19:36.554Z"
   },
   {
    "duration": 18,
    "start_time": "2023-06-16T20:19:37.028Z"
   },
   {
    "duration": 4,
    "start_time": "2023-06-16T20:19:39.045Z"
   },
   {
    "duration": 10,
    "start_time": "2023-06-16T20:19:39.857Z"
   },
   {
    "duration": 2,
    "start_time": "2023-06-16T20:20:14.317Z"
   },
   {
    "duration": 135,
    "start_time": "2023-06-16T20:20:15.664Z"
   },
   {
    "duration": 4,
    "start_time": "2023-06-16T20:20:56.352Z"
   },
   {
    "duration": 5,
    "start_time": "2023-06-16T20:36:05.694Z"
   },
   {
    "duration": 8,
    "start_time": "2023-06-16T21:01:57.499Z"
   },
   {
    "duration": 6,
    "start_time": "2023-06-16T21:18:47.535Z"
   },
   {
    "duration": 9,
    "start_time": "2023-06-16T21:19:36.035Z"
   },
   {
    "duration": 2,
    "start_time": "2023-06-16T21:24:35.867Z"
   },
   {
    "duration": 6,
    "start_time": "2023-06-16T21:24:37.769Z"
   },
   {
    "duration": 5,
    "start_time": "2023-06-16T21:25:46.681Z"
   },
   {
    "duration": 9,
    "start_time": "2023-06-16T21:26:47.749Z"
   },
   {
    "duration": 2,
    "start_time": "2023-06-16T21:29:04.786Z"
   },
   {
    "duration": 5,
    "start_time": "2023-06-16T21:30:19.802Z"
   },
   {
    "duration": 13,
    "start_time": "2023-06-16T21:32:18.028Z"
   },
   {
    "duration": 5,
    "start_time": "2023-06-16T21:37:12.587Z"
   },
   {
    "duration": 7,
    "start_time": "2023-06-16T21:37:18.000Z"
   },
   {
    "duration": 2963,
    "start_time": "2023-06-16T23:10:48.811Z"
   },
   {
    "duration": 3,
    "start_time": "2023-06-16T23:10:51.777Z"
   },
   {
    "duration": 99,
    "start_time": "2023-06-16T23:10:51.781Z"
   },
   {
    "duration": 15,
    "start_time": "2023-06-16T23:10:51.882Z"
   },
   {
    "duration": 26,
    "start_time": "2023-06-16T23:10:51.899Z"
   },
   {
    "duration": 10,
    "start_time": "2023-06-16T23:10:51.931Z"
   },
   {
    "duration": 9,
    "start_time": "2023-06-16T23:10:51.944Z"
   },
   {
    "duration": 25,
    "start_time": "2023-06-16T23:10:51.955Z"
   },
   {
    "duration": 42,
    "start_time": "2023-06-16T23:10:51.982Z"
   },
   {
    "duration": 8,
    "start_time": "2023-06-16T23:10:52.030Z"
   },
   {
    "duration": 65,
    "start_time": "2023-06-16T23:10:52.039Z"
   },
   {
    "duration": 30,
    "start_time": "2023-06-16T23:10:52.107Z"
   },
   {
    "duration": 15,
    "start_time": "2023-06-16T23:10:52.139Z"
   },
   {
    "duration": 590,
    "start_time": "2023-06-16T23:10:52.156Z"
   },
   {
    "duration": 895,
    "start_time": "2023-06-16T23:10:52.747Z"
   },
   {
    "duration": 998,
    "start_time": "2023-06-16T23:10:53.647Z"
   },
   {
    "duration": 809,
    "start_time": "2023-06-16T23:10:54.648Z"
   },
   {
    "duration": 8,
    "start_time": "2023-06-16T23:10:55.459Z"
   },
   {
    "duration": 16,
    "start_time": "2023-06-16T23:10:55.470Z"
   },
   {
    "duration": 2947,
    "start_time": "2023-06-16T23:10:55.488Z"
   },
   {
    "duration": 6,
    "start_time": "2023-06-16T23:10:58.437Z"
   },
   {
    "duration": 14,
    "start_time": "2023-06-16T23:10:58.445Z"
   },
   {
    "duration": 62,
    "start_time": "2023-06-16T23:10:58.460Z"
   },
   {
    "duration": 15,
    "start_time": "2023-06-16T23:10:58.525Z"
   },
   {
    "duration": 75,
    "start_time": "2023-06-16T23:10:58.543Z"
   },
   {
    "duration": 19,
    "start_time": "2023-06-16T23:10:58.620Z"
   },
   {
    "duration": 3,
    "start_time": "2023-06-16T23:10:58.641Z"
   },
   {
    "duration": 73,
    "start_time": "2023-06-16T23:10:58.648Z"
   },
   {
    "duration": 92,
    "start_time": "2023-06-16T23:10:58.723Z"
   },
   {
    "duration": 7,
    "start_time": "2023-06-16T23:10:58.817Z"
   },
   {
    "duration": 11,
    "start_time": "2023-06-16T23:10:58.826Z"
   },
   {
    "duration": 6,
    "start_time": "2023-06-16T23:10:58.841Z"
   },
   {
    "duration": 71,
    "start_time": "2023-06-16T23:10:58.849Z"
   },
   {
    "duration": 22,
    "start_time": "2023-06-16T23:10:58.924Z"
   },
   {
    "duration": 67,
    "start_time": "2023-06-16T23:10:58.948Z"
   },
   {
    "duration": 33,
    "start_time": "2023-06-16T23:10:59.017Z"
   },
   {
    "duration": 7,
    "start_time": "2023-06-16T23:41:49.658Z"
   },
   {
    "duration": 126,
    "start_time": "2023-06-16T23:51:37.972Z"
   },
   {
    "duration": 191,
    "start_time": "2023-06-16T23:51:45.384Z"
   },
   {
    "duration": 2490,
    "start_time": "2023-06-16T23:51:59.150Z"
   },
   {
    "duration": 13,
    "start_time": "2023-06-16T23:52:14.392Z"
   },
   {
    "duration": 7,
    "start_time": "2023-06-16T23:52:23.255Z"
   },
   {
    "duration": 10,
    "start_time": "2023-06-16T23:52:36.554Z"
   },
   {
    "duration": 6,
    "start_time": "2023-06-17T08:53:59.308Z"
   },
   {
    "duration": 2309,
    "start_time": "2023-06-17T08:54:14.594Z"
   },
   {
    "duration": 2,
    "start_time": "2023-06-17T08:54:16.906Z"
   },
   {
    "duration": 98,
    "start_time": "2023-06-17T08:54:16.910Z"
   },
   {
    "duration": 18,
    "start_time": "2023-06-17T08:54:17.010Z"
   },
   {
    "duration": 14,
    "start_time": "2023-06-17T08:54:17.031Z"
   },
   {
    "duration": 9,
    "start_time": "2023-06-17T08:54:17.046Z"
   },
   {
    "duration": 9,
    "start_time": "2023-06-17T08:54:17.057Z"
   },
   {
    "duration": 6,
    "start_time": "2023-06-17T08:54:17.068Z"
   },
   {
    "duration": 27,
    "start_time": "2023-06-17T08:54:17.075Z"
   },
   {
    "duration": 5,
    "start_time": "2023-06-17T08:54:17.104Z"
   },
   {
    "duration": 12,
    "start_time": "2023-06-17T08:54:17.110Z"
   },
   {
    "duration": 7,
    "start_time": "2023-06-17T08:54:17.123Z"
   },
   {
    "duration": 21,
    "start_time": "2023-06-17T08:54:17.131Z"
   },
   {
    "duration": 526,
    "start_time": "2023-06-17T08:54:17.155Z"
   },
   {
    "duration": 814,
    "start_time": "2023-06-17T08:54:17.683Z"
   },
   {
    "duration": 864,
    "start_time": "2023-06-17T08:54:18.501Z"
   },
   {
    "duration": 685,
    "start_time": "2023-06-17T08:54:19.367Z"
   },
   {
    "duration": 7,
    "start_time": "2023-06-17T08:54:20.054Z"
   },
   {
    "duration": 25,
    "start_time": "2023-06-17T08:54:20.063Z"
   },
   {
    "duration": 2533,
    "start_time": "2023-06-17T08:54:20.090Z"
   },
   {
    "duration": 5,
    "start_time": "2023-06-17T08:54:22.626Z"
   },
   {
    "duration": 21,
    "start_time": "2023-06-17T08:54:22.633Z"
   },
   {
    "duration": 99,
    "start_time": "2023-06-17T08:54:22.656Z"
   },
   {
    "duration": 99,
    "start_time": "2023-06-17T08:54:22.758Z"
   },
   {
    "duration": 6,
    "start_time": "2023-06-17T08:54:22.859Z"
   },
   {
    "duration": 85,
    "start_time": "2023-06-17T08:54:22.867Z"
   },
   {
    "duration": 127,
    "start_time": "2023-06-17T08:54:22.954Z"
   },
   {
    "duration": 25,
    "start_time": "2023-06-17T08:54:23.083Z"
   },
   {
    "duration": 61,
    "start_time": "2023-06-17T08:54:23.111Z"
   },
   {
    "duration": 9,
    "start_time": "2023-06-17T08:54:23.175Z"
   },
   {
    "duration": 13,
    "start_time": "2023-06-17T08:54:23.186Z"
   },
   {
    "duration": 11,
    "start_time": "2023-06-17T08:54:23.201Z"
   },
   {
    "duration": 48,
    "start_time": "2023-06-17T08:54:23.214Z"
   },
   {
    "duration": 98,
    "start_time": "2023-06-17T08:54:23.263Z"
   },
   {
    "duration": 17,
    "start_time": "2023-06-17T08:54:23.363Z"
   },
   {
    "duration": 61,
    "start_time": "2023-06-17T08:54:23.382Z"
   },
   {
    "duration": 107,
    "start_time": "2023-06-17T08:54:42.498Z"
   },
   {
    "duration": 13,
    "start_time": "2023-06-17T08:55:13.051Z"
   },
   {
    "duration": 13,
    "start_time": "2023-06-17T08:55:19.894Z"
   },
   {
    "duration": 7,
    "start_time": "2023-06-17T08:55:49.146Z"
   },
   {
    "duration": 13,
    "start_time": "2023-06-17T08:55:56.817Z"
   },
   {
    "duration": 4,
    "start_time": "2023-06-17T08:56:22.395Z"
   },
   {
    "duration": 17,
    "start_time": "2023-06-17T09:28:45.693Z"
   },
   {
    "duration": 16,
    "start_time": "2023-06-17T09:34:28.187Z"
   },
   {
    "duration": 11,
    "start_time": "2023-06-17T09:40:34.068Z"
   },
   {
    "duration": 9,
    "start_time": "2023-06-17T09:40:53.798Z"
   },
   {
    "duration": 2573,
    "start_time": "2023-06-17T09:48:03.608Z"
   },
   {
    "duration": 2,
    "start_time": "2023-06-17T09:48:06.183Z"
   },
   {
    "duration": 45,
    "start_time": "2023-06-17T09:48:06.187Z"
   },
   {
    "duration": 61,
    "start_time": "2023-06-17T09:48:06.234Z"
   },
   {
    "duration": 18,
    "start_time": "2023-06-17T09:48:06.297Z"
   },
   {
    "duration": 13,
    "start_time": "2023-06-17T09:48:06.317Z"
   },
   {
    "duration": 18,
    "start_time": "2023-06-17T09:48:06.332Z"
   },
   {
    "duration": 37,
    "start_time": "2023-06-17T09:48:06.351Z"
   },
   {
    "duration": 30,
    "start_time": "2023-06-17T09:48:06.390Z"
   },
   {
    "duration": 6,
    "start_time": "2023-06-17T09:48:06.423Z"
   },
   {
    "duration": 59,
    "start_time": "2023-06-17T09:48:06.431Z"
   },
   {
    "duration": 8,
    "start_time": "2023-06-17T09:48:06.491Z"
   },
   {
    "duration": 13,
    "start_time": "2023-06-17T09:48:06.500Z"
   },
   {
    "duration": 576,
    "start_time": "2023-06-17T09:48:06.516Z"
   },
   {
    "duration": 733,
    "start_time": "2023-06-17T09:48:07.094Z"
   },
   {
    "duration": 980,
    "start_time": "2023-06-17T09:48:07.829Z"
   },
   {
    "duration": 707,
    "start_time": "2023-06-17T09:48:08.812Z"
   },
   {
    "duration": 7,
    "start_time": "2023-06-17T09:48:09.520Z"
   },
   {
    "duration": 12,
    "start_time": "2023-06-17T09:48:09.528Z"
   },
   {
    "duration": 2689,
    "start_time": "2023-06-17T09:48:09.542Z"
   },
   {
    "duration": 5,
    "start_time": "2023-06-17T09:48:12.232Z"
   },
   {
    "duration": 16,
    "start_time": "2023-06-17T09:48:12.239Z"
   },
   {
    "duration": 141,
    "start_time": "2023-06-17T09:48:12.257Z"
   },
   {
    "duration": 16,
    "start_time": "2023-06-17T09:48:12.400Z"
   },
   {
    "duration": 14,
    "start_time": "2023-06-17T09:48:12.453Z"
   },
   {
    "duration": 31,
    "start_time": "2023-06-17T09:48:12.469Z"
   },
   {
    "duration": 4,
    "start_time": "2023-06-17T09:48:12.502Z"
   },
   {
    "duration": 8,
    "start_time": "2023-06-17T09:48:12.508Z"
   },
   {
    "duration": 20,
    "start_time": "2023-06-17T09:48:12.517Z"
   },
   {
    "duration": 11,
    "start_time": "2023-06-17T09:48:12.538Z"
   },
   {
    "duration": 40,
    "start_time": "2023-06-17T09:48:12.550Z"
   },
   {
    "duration": 9,
    "start_time": "2023-06-17T09:48:12.591Z"
   },
   {
    "duration": 14,
    "start_time": "2023-06-17T09:48:12.602Z"
   },
   {
    "duration": 51,
    "start_time": "2023-06-17T09:48:12.617Z"
   },
   {
    "duration": 86,
    "start_time": "2023-06-17T09:48:12.669Z"
   },
   {
    "duration": 38,
    "start_time": "2023-06-17T09:48:12.757Z"
   },
   {
    "duration": 6,
    "start_time": "2023-06-19T13:23:01.660Z"
   },
   {
    "duration": 3,
    "start_time": "2023-06-19T13:23:02.980Z"
   },
   {
    "duration": 29,
    "start_time": "2023-06-19T13:23:04.236Z"
   },
   {
    "duration": 10,
    "start_time": "2023-06-19T13:23:04.645Z"
   },
   {
    "duration": 10,
    "start_time": "2023-06-19T13:23:05.299Z"
   },
   {
    "duration": 3,
    "start_time": "2023-06-19T13:23:06.211Z"
   },
   {
    "duration": 5,
    "start_time": "2023-06-19T13:23:06.724Z"
   },
   {
    "duration": 2,
    "start_time": "2023-06-19T13:23:07.332Z"
   },
   {
    "duration": 24,
    "start_time": "2023-06-19T13:23:08.480Z"
   },
   {
    "duration": 6,
    "start_time": "2023-06-19T13:23:09.956Z"
   },
   {
    "duration": 11,
    "start_time": "2023-06-19T13:23:10.430Z"
   },
   {
    "duration": 7,
    "start_time": "2023-06-19T13:23:11.174Z"
   },
   {
    "duration": 7,
    "start_time": "2023-06-19T13:23:11.474Z"
   },
   {
    "duration": 490,
    "start_time": "2023-06-19T13:23:14.092Z"
   },
   {
    "duration": 848,
    "start_time": "2023-06-19T13:23:16.620Z"
   },
   {
    "duration": 799,
    "start_time": "2023-06-19T13:23:18.310Z"
   },
   {
    "duration": 725,
    "start_time": "2023-06-19T13:23:22.398Z"
   },
   {
    "duration": 8,
    "start_time": "2023-06-19T13:23:46.600Z"
   },
   {
    "duration": 18,
    "start_time": "2023-06-19T13:23:49.154Z"
   },
   {
    "duration": 2991,
    "start_time": "2023-06-19T13:23:51.196Z"
   },
   {
    "duration": 4,
    "start_time": "2023-06-19T13:55:35.549Z"
   },
   {
    "duration": 2681,
    "start_time": "2023-06-19T13:55:38.523Z"
   },
   {
    "duration": 12,
    "start_time": "2023-06-19T14:06:58.690Z"
   },
   {
    "duration": 4,
    "start_time": "2023-06-19T14:07:00.839Z"
   },
   {
    "duration": 2339,
    "start_time": "2023-06-19T14:07:04.900Z"
   },
   {
    "duration": 164,
    "start_time": "2023-06-19T14:10:30.293Z"
   },
   {
    "duration": 676,
    "start_time": "2023-06-19T14:31:24.385Z"
   },
   {
    "duration": 2145,
    "start_time": "2023-06-20T14:46:05.046Z"
   },
   {
    "duration": 3,
    "start_time": "2023-06-20T14:46:07.193Z"
   },
   {
    "duration": 104,
    "start_time": "2023-06-20T14:46:08.269Z"
   },
   {
    "duration": 14,
    "start_time": "2023-06-20T14:46:08.590Z"
   },
   {
    "duration": 13,
    "start_time": "2023-06-20T14:46:08.788Z"
   },
   {
    "duration": 5,
    "start_time": "2023-06-20T14:46:09.666Z"
   },
   {
    "duration": 5,
    "start_time": "2023-06-20T14:46:10.187Z"
   },
   {
    "duration": 3,
    "start_time": "2023-06-20T14:46:10.665Z"
   },
   {
    "duration": 47,
    "start_time": "2023-06-20T14:46:11.384Z"
   },
   {
    "duration": 7,
    "start_time": "2023-06-20T14:46:12.148Z"
   },
   {
    "duration": 18,
    "start_time": "2023-06-20T14:46:12.463Z"
   },
   {
    "duration": 13,
    "start_time": "2023-06-20T14:46:12.987Z"
   },
   {
    "duration": 10,
    "start_time": "2023-06-20T14:46:13.513Z"
   },
   {
    "duration": 588,
    "start_time": "2023-06-20T14:46:13.883Z"
   },
   {
    "duration": 905,
    "start_time": "2023-06-20T14:46:15.028Z"
   },
   {
    "duration": 951,
    "start_time": "2023-06-20T14:46:15.935Z"
   },
   {
    "duration": 759,
    "start_time": "2023-06-20T14:46:16.888Z"
   },
   {
    "duration": 10,
    "start_time": "2023-06-20T14:46:18.895Z"
   },
   {
    "duration": 9,
    "start_time": "2023-06-20T14:46:20.541Z"
   },
   {
    "duration": 2875,
    "start_time": "2023-06-20T14:46:21.249Z"
   },
   {
    "duration": 23,
    "start_time": "2023-06-20T14:46:30.017Z"
   },
   {
    "duration": 5,
    "start_time": "2023-06-20T19:27:12.060Z"
   },
   {
    "duration": 3,
    "start_time": "2023-06-20T19:27:12.865Z"
   },
   {
    "duration": 29,
    "start_time": "2023-06-20T19:27:14.191Z"
   },
   {
    "duration": 11,
    "start_time": "2023-06-20T19:27:14.554Z"
   },
   {
    "duration": 11,
    "start_time": "2023-06-20T19:27:15.090Z"
   },
   {
    "duration": 3,
    "start_time": "2023-06-20T19:27:16.323Z"
   },
   {
    "duration": 6,
    "start_time": "2023-06-20T19:27:17.234Z"
   },
   {
    "duration": 4,
    "start_time": "2023-06-20T19:27:18.160Z"
   },
   {
    "duration": 29,
    "start_time": "2023-06-20T19:27:19.544Z"
   },
   {
    "duration": 5,
    "start_time": "2023-06-20T19:27:21.009Z"
   },
   {
    "duration": 11,
    "start_time": "2023-06-20T19:27:21.458Z"
   },
   {
    "duration": 8,
    "start_time": "2023-06-20T19:27:24.412Z"
   },
   {
    "duration": 6,
    "start_time": "2023-06-20T19:27:24.971Z"
   },
   {
    "duration": 512,
    "start_time": "2023-06-20T19:27:26.104Z"
   },
   {
    "duration": 773,
    "start_time": "2023-06-20T19:27:27.634Z"
   },
   {
    "duration": 1113,
    "start_time": "2023-06-20T19:27:29.232Z"
   },
   {
    "duration": 817,
    "start_time": "2023-06-20T19:27:30.847Z"
   },
   {
    "duration": 11,
    "start_time": "2023-06-20T19:27:32.921Z"
   },
   {
    "duration": 4,
    "start_time": "2023-06-20T19:27:34.593Z"
   },
   {
    "duration": 2813,
    "start_time": "2023-06-20T19:27:35.130Z"
   },
   {
    "duration": 13,
    "start_time": "2023-06-20T19:27:44.349Z"
   },
   {
    "duration": 368,
    "start_time": "2023-06-20T19:28:00.827Z"
   },
   {
    "duration": 16,
    "start_time": "2023-06-20T19:28:11.721Z"
   },
   {
    "duration": 6,
    "start_time": "2023-06-20T19:33:40.062Z"
   },
   {
    "duration": 22,
    "start_time": "2023-06-20T19:35:09.032Z"
   },
   {
    "duration": 15,
    "start_time": "2023-06-20T19:35:12.299Z"
   },
   {
    "duration": 12,
    "start_time": "2023-06-20T19:35:24.236Z"
   },
   {
    "duration": 13,
    "start_time": "2023-06-20T19:35:36.739Z"
   },
   {
    "duration": 7,
    "start_time": "2023-06-20T20:19:13.639Z"
   },
   {
    "duration": 4,
    "start_time": "2023-06-20T20:19:16.568Z"
   },
   {
    "duration": 5,
    "start_time": "2023-06-20T20:19:19.105Z"
   },
   {
    "duration": 11,
    "start_time": "2023-06-20T20:19:22.808Z"
   },
   {
    "duration": 5,
    "start_time": "2023-06-20T20:19:26.804Z"
   },
   {
    "duration": 5,
    "start_time": "2023-06-20T20:19:30.111Z"
   },
   {
    "duration": 137,
    "start_time": "2023-06-20T20:23:31.412Z"
   },
   {
    "duration": 5,
    "start_time": "2023-06-20T20:30:32.439Z"
   },
   {
    "duration": 9,
    "start_time": "2023-06-20T20:30:33.543Z"
   },
   {
    "duration": 8,
    "start_time": "2023-06-20T20:30:36.349Z"
   },
   {
    "duration": 14,
    "start_time": "2023-06-20T20:30:40.862Z"
   },
   {
    "duration": 4,
    "start_time": "2023-06-20T20:30:51.996Z"
   },
   {
    "duration": 6,
    "start_time": "2023-06-20T20:30:53.096Z"
   },
   {
    "duration": 11,
    "start_time": "2023-06-20T20:30:56.805Z"
   },
   {
    "duration": 2,
    "start_time": "2023-06-20T20:31:17.004Z"
   },
   {
    "duration": 12,
    "start_time": "2023-06-20T20:31:18.006Z"
   },
   {
    "duration": 9,
    "start_time": "2023-06-20T20:31:20.704Z"
   },
   {
    "duration": 6,
    "start_time": "2023-06-20T20:31:27.561Z"
   },
   {
    "duration": 15,
    "start_time": "2023-06-20T20:31:28.844Z"
   },
   {
    "duration": 7,
    "start_time": "2023-06-20T20:31:36.395Z"
   },
   {
    "duration": 14,
    "start_time": "2023-06-20T20:31:39.070Z"
   },
   {
    "duration": 120,
    "start_time": "2023-06-20T20:33:17.111Z"
   },
   {
    "duration": 51,
    "start_time": "2023-06-21T10:55:02.114Z"
   },
   {
    "duration": 2635,
    "start_time": "2023-06-21T10:55:11.100Z"
   },
   {
    "duration": 3,
    "start_time": "2023-06-21T10:55:13.737Z"
   },
   {
    "duration": 139,
    "start_time": "2023-06-21T10:55:13.742Z"
   },
   {
    "duration": 18,
    "start_time": "2023-06-21T10:55:13.884Z"
   },
   {
    "duration": 18,
    "start_time": "2023-06-21T10:55:13.904Z"
   },
   {
    "duration": 14,
    "start_time": "2023-06-21T10:55:13.925Z"
   },
   {
    "duration": 35,
    "start_time": "2023-06-21T10:55:13.941Z"
   },
   {
    "duration": 18,
    "start_time": "2023-06-21T10:55:13.979Z"
   },
   {
    "duration": 43,
    "start_time": "2023-06-21T10:55:14.000Z"
   },
   {
    "duration": 15,
    "start_time": "2023-06-21T10:55:14.047Z"
   },
   {
    "duration": 26,
    "start_time": "2023-06-21T10:55:14.064Z"
   },
   {
    "duration": 14,
    "start_time": "2023-06-21T10:55:14.092Z"
   },
   {
    "duration": 9,
    "start_time": "2023-06-21T10:55:14.108Z"
   },
   {
    "duration": 582,
    "start_time": "2023-06-21T10:55:14.119Z"
   },
   {
    "duration": 859,
    "start_time": "2023-06-21T10:55:14.702Z"
   },
   {
    "duration": 912,
    "start_time": "2023-06-21T10:55:15.562Z"
   },
   {
    "duration": 771,
    "start_time": "2023-06-21T10:55:16.476Z"
   },
   {
    "duration": 8,
    "start_time": "2023-06-21T10:55:17.249Z"
   },
   {
    "duration": 31,
    "start_time": "2023-06-21T10:55:17.258Z"
   },
   {
    "duration": 2626,
    "start_time": "2023-06-21T10:55:17.291Z"
   },
   {
    "duration": 5,
    "start_time": "2023-06-21T10:55:19.919Z"
   },
   {
    "duration": 6,
    "start_time": "2023-06-21T10:55:19.925Z"
   },
   {
    "duration": 8,
    "start_time": "2023-06-21T10:55:19.933Z"
   },
   {
    "duration": 37,
    "start_time": "2023-06-21T10:55:19.943Z"
   },
   {
    "duration": 4,
    "start_time": "2023-06-21T10:55:19.983Z"
   },
   {
    "duration": 82,
    "start_time": "2023-06-21T10:55:19.989Z"
   },
   {
    "duration": 7,
    "start_time": "2023-06-21T10:55:20.076Z"
   },
   {
    "duration": 10,
    "start_time": "2023-06-21T10:55:20.086Z"
   },
   {
    "duration": 17,
    "start_time": "2023-06-21T10:55:20.098Z"
   },
   {
    "duration": 60,
    "start_time": "2023-06-21T10:55:20.117Z"
   },
   {
    "duration": 5,
    "start_time": "2023-06-21T10:55:20.182Z"
   },
   {
    "duration": 86,
    "start_time": "2023-06-21T10:55:20.189Z"
   },
   {
    "duration": 25,
    "start_time": "2023-06-21T10:55:20.277Z"
   },
   {
    "duration": 5,
    "start_time": "2023-06-21T10:55:20.303Z"
   },
   {
    "duration": 7,
    "start_time": "2023-06-21T10:55:20.310Z"
   },
   {
    "duration": 11,
    "start_time": "2023-06-21T10:55:20.318Z"
   },
   {
    "duration": 20,
    "start_time": "2023-06-21T10:55:20.331Z"
   },
   {
    "duration": 13,
    "start_time": "2023-06-21T10:55:20.370Z"
   },
   {
    "duration": 95,
    "start_time": "2023-06-21T10:55:20.388Z"
   },
   {
    "duration": 6,
    "start_time": "2023-06-21T10:55:20.486Z"
   },
   {
    "duration": 44,
    "start_time": "2023-06-21T10:55:20.494Z"
   },
   {
    "duration": 125,
    "start_time": "2023-06-21T10:55:52.399Z"
   },
   {
    "duration": 12,
    "start_time": "2023-06-21T10:56:00.097Z"
   },
   {
    "duration": 5,
    "start_time": "2023-06-21T10:56:04.734Z"
   },
   {
    "duration": 2584,
    "start_time": "2023-06-21T10:57:14.020Z"
   },
   {
    "duration": 4,
    "start_time": "2023-06-21T10:57:16.607Z"
   },
   {
    "duration": 51,
    "start_time": "2023-06-21T10:57:16.613Z"
   },
   {
    "duration": 18,
    "start_time": "2023-06-21T10:57:16.668Z"
   },
   {
    "duration": 16,
    "start_time": "2023-06-21T10:57:16.688Z"
   },
   {
    "duration": 21,
    "start_time": "2023-06-21T10:57:16.706Z"
   },
   {
    "duration": 33,
    "start_time": "2023-06-21T10:57:16.729Z"
   },
   {
    "duration": 20,
    "start_time": "2023-06-21T10:57:16.764Z"
   },
   {
    "duration": 70,
    "start_time": "2023-06-21T10:57:16.786Z"
   },
   {
    "duration": 8,
    "start_time": "2023-06-21T10:57:16.859Z"
   },
   {
    "duration": 22,
    "start_time": "2023-06-21T10:57:16.869Z"
   },
   {
    "duration": 9,
    "start_time": "2023-06-21T10:57:16.893Z"
   },
   {
    "duration": 17,
    "start_time": "2023-06-21T10:57:16.904Z"
   },
   {
    "duration": 576,
    "start_time": "2023-06-21T10:57:16.924Z"
   },
   {
    "duration": 806,
    "start_time": "2023-06-21T10:57:17.502Z"
   },
   {
    "duration": 991,
    "start_time": "2023-06-21T10:57:18.310Z"
   },
   {
    "duration": 828,
    "start_time": "2023-06-21T10:57:19.303Z"
   },
   {
    "duration": 9,
    "start_time": "2023-06-21T10:57:20.134Z"
   },
   {
    "duration": 12,
    "start_time": "2023-06-21T10:57:20.145Z"
   },
   {
    "duration": 2880,
    "start_time": "2023-06-21T10:57:20.169Z"
   },
   {
    "duration": 5,
    "start_time": "2023-06-21T10:57:23.052Z"
   },
   {
    "duration": 52,
    "start_time": "2023-06-21T10:57:23.059Z"
   },
   {
    "duration": 15,
    "start_time": "2023-06-21T10:57:23.112Z"
   },
   {
    "duration": 75,
    "start_time": "2023-06-21T10:57:23.129Z"
   },
   {
    "duration": 83,
    "start_time": "2023-06-21T10:57:23.206Z"
   },
   {
    "duration": 35,
    "start_time": "2023-06-21T10:57:23.291Z"
   },
   {
    "duration": 11,
    "start_time": "2023-06-21T10:57:23.328Z"
   },
   {
    "duration": 31,
    "start_time": "2023-06-21T10:57:23.344Z"
   },
   {
    "duration": 33,
    "start_time": "2023-06-21T10:57:23.377Z"
   },
   {
    "duration": 45,
    "start_time": "2023-06-21T10:57:23.412Z"
   },
   {
    "duration": 22,
    "start_time": "2023-06-21T10:57:23.459Z"
   },
   {
    "duration": 66,
    "start_time": "2023-06-21T10:57:23.483Z"
   },
   {
    "duration": 31,
    "start_time": "2023-06-21T10:57:23.553Z"
   },
   {
    "duration": 16,
    "start_time": "2023-06-21T10:57:23.587Z"
   },
   {
    "duration": 23,
    "start_time": "2023-06-21T10:57:23.605Z"
   },
   {
    "duration": 16,
    "start_time": "2023-06-21T10:57:23.630Z"
   },
   {
    "duration": 42,
    "start_time": "2023-06-21T10:57:23.648Z"
   },
   {
    "duration": 84,
    "start_time": "2023-06-21T10:57:23.694Z"
   },
   {
    "duration": 91,
    "start_time": "2023-06-21T10:57:23.784Z"
   },
   {
    "duration": 11,
    "start_time": "2023-06-21T10:57:23.877Z"
   },
   {
    "duration": 13,
    "start_time": "2023-06-21T10:57:23.890Z"
   },
   {
    "duration": 29,
    "start_time": "2023-06-21T10:57:23.906Z"
   },
   {
    "duration": 142,
    "start_time": "2023-06-21T10:57:30.201Z"
   },
   {
    "duration": 18,
    "start_time": "2023-06-21T10:57:49.601Z"
   },
   {
    "duration": 4,
    "start_time": "2023-06-21T10:57:53.579Z"
   },
   {
    "duration": 5,
    "start_time": "2023-06-21T10:57:56.176Z"
   },
   {
    "duration": 11,
    "start_time": "2023-06-21T10:58:04.607Z"
   },
   {
    "duration": 3,
    "start_time": "2023-06-21T10:58:10.975Z"
   },
   {
    "duration": 5,
    "start_time": "2023-06-21T10:58:23.014Z"
   },
   {
    "duration": 2569,
    "start_time": "2023-06-21T10:58:40.426Z"
   },
   {
    "duration": 3,
    "start_time": "2023-06-21T10:58:42.997Z"
   },
   {
    "duration": 49,
    "start_time": "2023-06-21T10:58:43.002Z"
   },
   {
    "duration": 16,
    "start_time": "2023-06-21T10:58:43.054Z"
   },
   {
    "duration": 16,
    "start_time": "2023-06-21T10:58:43.072Z"
   },
   {
    "duration": 70,
    "start_time": "2023-06-21T10:58:43.090Z"
   },
   {
    "duration": 76,
    "start_time": "2023-06-21T10:58:43.163Z"
   },
   {
    "duration": 31,
    "start_time": "2023-06-21T10:58:43.241Z"
   },
   {
    "duration": 51,
    "start_time": "2023-06-21T10:58:43.274Z"
   },
   {
    "duration": 5,
    "start_time": "2023-06-21T10:58:43.329Z"
   },
   {
    "duration": 33,
    "start_time": "2023-06-21T10:58:43.336Z"
   },
   {
    "duration": 8,
    "start_time": "2023-06-21T10:58:43.371Z"
   },
   {
    "duration": 18,
    "start_time": "2023-06-21T10:58:43.381Z"
   },
   {
    "duration": 584,
    "start_time": "2023-06-21T10:58:43.400Z"
   },
   {
    "duration": 782,
    "start_time": "2023-06-21T10:58:43.986Z"
   },
   {
    "duration": 973,
    "start_time": "2023-06-21T10:58:44.771Z"
   },
   {
    "duration": 754,
    "start_time": "2023-06-21T10:58:45.746Z"
   },
   {
    "duration": 7,
    "start_time": "2023-06-21T10:58:46.502Z"
   },
   {
    "duration": 16,
    "start_time": "2023-06-21T10:58:46.511Z"
   },
   {
    "duration": 2740,
    "start_time": "2023-06-21T10:58:46.529Z"
   },
   {
    "duration": 5,
    "start_time": "2023-06-21T10:58:49.271Z"
   },
   {
    "duration": 20,
    "start_time": "2023-06-21T10:58:49.278Z"
   },
   {
    "duration": 18,
    "start_time": "2023-06-21T10:58:49.300Z"
   },
   {
    "duration": 46,
    "start_time": "2023-06-21T10:58:49.321Z"
   },
   {
    "duration": 20,
    "start_time": "2023-06-21T10:58:49.369Z"
   },
   {
    "duration": 81,
    "start_time": "2023-06-21T10:58:49.392Z"
   },
   {
    "duration": 21,
    "start_time": "2023-06-21T10:58:49.475Z"
   },
   {
    "duration": 9,
    "start_time": "2023-06-21T10:58:49.501Z"
   },
   {
    "duration": 20,
    "start_time": "2023-06-21T10:58:49.512Z"
   },
   {
    "duration": 29,
    "start_time": "2023-06-21T10:58:49.534Z"
   },
   {
    "duration": 16,
    "start_time": "2023-06-21T10:58:49.565Z"
   },
   {
    "duration": 36,
    "start_time": "2023-06-21T10:58:49.584Z"
   },
   {
    "duration": 25,
    "start_time": "2023-06-21T10:58:49.622Z"
   },
   {
    "duration": 5,
    "start_time": "2023-06-21T10:58:49.649Z"
   },
   {
    "duration": 6,
    "start_time": "2023-06-21T10:58:49.655Z"
   },
   {
    "duration": 12,
    "start_time": "2023-06-21T10:58:49.663Z"
   },
   {
    "duration": 23,
    "start_time": "2023-06-21T10:58:49.677Z"
   },
   {
    "duration": 19,
    "start_time": "2023-06-21T10:58:49.702Z"
   },
   {
    "duration": 47,
    "start_time": "2023-06-21T10:58:49.723Z"
   },
   {
    "duration": 96,
    "start_time": "2023-06-21T10:58:49.772Z"
   },
   {
    "duration": 3,
    "start_time": "2023-06-21T10:58:49.870Z"
   },
   {
    "duration": 21,
    "start_time": "2023-06-21T10:58:49.875Z"
   },
   {
    "duration": 20,
    "start_time": "2023-06-21T10:58:49.898Z"
   },
   {
    "duration": 18,
    "start_time": "2023-06-21T10:58:49.921Z"
   },
   {
    "duration": 4,
    "start_time": "2023-06-21T10:59:20.930Z"
   },
   {
    "duration": 6,
    "start_time": "2023-06-21T10:59:32.358Z"
   },
   {
    "duration": 8,
    "start_time": "2023-06-21T10:59:38.571Z"
   },
   {
    "duration": 5,
    "start_time": "2023-06-21T11:00:50.049Z"
   },
   {
    "duration": 126,
    "start_time": "2023-06-21T11:01:25.472Z"
   },
   {
    "duration": 7,
    "start_time": "2023-06-21T11:01:40.315Z"
   },
   {
    "duration": 5,
    "start_time": "2023-06-21T11:01:50.924Z"
   },
   {
    "duration": 6,
    "start_time": "2023-06-21T11:01:57.687Z"
   },
   {
    "duration": 16,
    "start_time": "2023-06-21T11:02:02.119Z"
   },
   {
    "duration": 8,
    "start_time": "2023-06-21T11:02:42.317Z"
   },
   {
    "duration": 8,
    "start_time": "2023-06-21T11:02:44.853Z"
   },
   {
    "duration": 10,
    "start_time": "2023-06-21T11:02:48.002Z"
   },
   {
    "duration": 3,
    "start_time": "2023-06-21T11:03:02.857Z"
   },
   {
    "duration": 5,
    "start_time": "2023-06-21T11:03:10.070Z"
   },
   {
    "duration": 4,
    "start_time": "2023-06-21T11:03:31.169Z"
   },
   {
    "duration": 2,
    "start_time": "2023-06-21T11:04:21.111Z"
   },
   {
    "duration": 9,
    "start_time": "2023-06-21T11:04:35.024Z"
   },
   {
    "duration": 3,
    "start_time": "2023-06-21T11:04:47.608Z"
   },
   {
    "duration": 5,
    "start_time": "2023-06-21T11:05:02.566Z"
   },
   {
    "duration": 4,
    "start_time": "2023-06-21T11:05:11.093Z"
   },
   {
    "duration": 2339,
    "start_time": "2023-06-21T11:07:09.220Z"
   },
   {
    "duration": 2,
    "start_time": "2023-06-21T11:07:11.562Z"
   },
   {
    "duration": 48,
    "start_time": "2023-06-21T11:07:11.565Z"
   },
   {
    "duration": 13,
    "start_time": "2023-06-21T11:07:11.615Z"
   },
   {
    "duration": 13,
    "start_time": "2023-06-21T11:07:11.629Z"
   },
   {
    "duration": 5,
    "start_time": "2023-06-21T11:07:11.643Z"
   },
   {
    "duration": 11,
    "start_time": "2023-06-21T11:07:11.649Z"
   },
   {
    "duration": 8,
    "start_time": "2023-06-21T11:07:11.662Z"
   },
   {
    "duration": 28,
    "start_time": "2023-06-21T11:07:11.671Z"
   },
   {
    "duration": 5,
    "start_time": "2023-06-21T11:07:11.702Z"
   },
   {
    "duration": 21,
    "start_time": "2023-06-21T11:07:11.709Z"
   },
   {
    "duration": 8,
    "start_time": "2023-06-21T11:07:11.732Z"
   },
   {
    "duration": 9,
    "start_time": "2023-06-21T11:07:11.741Z"
   },
   {
    "duration": 510,
    "start_time": "2023-06-21T11:07:11.752Z"
   },
   {
    "duration": 723,
    "start_time": "2023-06-21T11:07:12.266Z"
   },
   {
    "duration": 897,
    "start_time": "2023-06-21T11:07:12.991Z"
   },
   {
    "duration": 754,
    "start_time": "2023-06-21T11:07:13.890Z"
   },
   {
    "duration": 7,
    "start_time": "2023-06-21T11:07:14.646Z"
   },
   {
    "duration": 16,
    "start_time": "2023-06-21T11:07:14.655Z"
   },
   {
    "duration": 2488,
    "start_time": "2023-06-21T11:07:14.673Z"
   },
   {
    "duration": 5,
    "start_time": "2023-06-21T11:07:17.163Z"
   },
   {
    "duration": 16,
    "start_time": "2023-06-21T11:07:17.170Z"
   },
   {
    "duration": 8,
    "start_time": "2023-06-21T11:07:17.188Z"
   },
   {
    "duration": 8,
    "start_time": "2023-06-21T11:07:17.198Z"
   },
   {
    "duration": 62,
    "start_time": "2023-06-21T11:07:17.208Z"
   },
   {
    "duration": 95,
    "start_time": "2023-06-21T11:07:17.272Z"
   },
   {
    "duration": 14,
    "start_time": "2023-06-21T11:07:17.369Z"
   },
   {
    "duration": 14,
    "start_time": "2023-06-21T11:07:17.387Z"
   },
   {
    "duration": 6,
    "start_time": "2023-06-21T11:07:17.403Z"
   },
   {
    "duration": 18,
    "start_time": "2023-06-21T11:07:17.411Z"
   },
   {
    "duration": 30,
    "start_time": "2023-06-21T11:07:17.431Z"
   },
   {
    "duration": 11,
    "start_time": "2023-06-21T11:07:17.463Z"
   },
   {
    "duration": 26,
    "start_time": "2023-06-21T11:07:17.476Z"
   },
   {
    "duration": 3,
    "start_time": "2023-06-21T11:07:17.503Z"
   },
   {
    "duration": 11,
    "start_time": "2023-06-21T11:07:17.507Z"
   },
   {
    "duration": 7,
    "start_time": "2023-06-21T11:07:17.520Z"
   },
   {
    "duration": 40,
    "start_time": "2023-06-21T11:07:17.530Z"
   },
   {
    "duration": 13,
    "start_time": "2023-06-21T11:07:17.572Z"
   },
   {
    "duration": 6,
    "start_time": "2023-06-21T11:07:17.667Z"
   },
   {
    "duration": 29,
    "start_time": "2023-06-21T11:07:17.675Z"
   },
   {
    "duration": 2620,
    "start_time": "2023-06-21T13:40:06.398Z"
   },
   {
    "duration": 2,
    "start_time": "2023-06-21T13:40:09.021Z"
   },
   {
    "duration": 40,
    "start_time": "2023-06-21T13:40:09.025Z"
   },
   {
    "duration": 22,
    "start_time": "2023-06-21T13:40:09.072Z"
   },
   {
    "duration": 21,
    "start_time": "2023-06-21T13:40:09.097Z"
   },
   {
    "duration": 10,
    "start_time": "2023-06-21T13:40:09.120Z"
   },
   {
    "duration": 16,
    "start_time": "2023-06-21T13:40:09.132Z"
   },
   {
    "duration": 6,
    "start_time": "2023-06-21T13:40:09.150Z"
   },
   {
    "duration": 39,
    "start_time": "2023-06-21T13:40:09.158Z"
   },
   {
    "duration": 6,
    "start_time": "2023-06-21T13:40:09.201Z"
   },
   {
    "duration": 15,
    "start_time": "2023-06-21T13:40:09.209Z"
   },
   {
    "duration": 10,
    "start_time": "2023-06-21T13:40:09.226Z"
   },
   {
    "duration": 30,
    "start_time": "2023-06-21T13:40:09.238Z"
   },
   {
    "duration": 574,
    "start_time": "2023-06-21T13:40:09.270Z"
   },
   {
    "duration": 850,
    "start_time": "2023-06-21T13:40:09.846Z"
   },
   {
    "duration": 1021,
    "start_time": "2023-06-21T13:40:10.698Z"
   },
   {
    "duration": 938,
    "start_time": "2023-06-21T13:40:11.723Z"
   },
   {
    "duration": 17,
    "start_time": "2023-06-21T13:40:12.664Z"
   },
   {
    "duration": 8,
    "start_time": "2023-06-21T13:40:12.691Z"
   },
   {
    "duration": 3017,
    "start_time": "2023-06-21T13:40:12.700Z"
   },
   {
    "duration": 5,
    "start_time": "2023-06-21T13:40:15.720Z"
   },
   {
    "duration": 16,
    "start_time": "2023-06-21T13:40:15.727Z"
   },
   {
    "duration": 11,
    "start_time": "2023-06-21T13:40:15.745Z"
   },
   {
    "duration": 19,
    "start_time": "2023-06-21T13:40:15.758Z"
   },
   {
    "duration": 12,
    "start_time": "2023-06-21T13:40:15.783Z"
   },
   {
    "duration": 78,
    "start_time": "2023-06-21T13:40:15.797Z"
   },
   {
    "duration": 9,
    "start_time": "2023-06-21T13:40:15.878Z"
   },
   {
    "duration": 11,
    "start_time": "2023-06-21T13:40:15.895Z"
   },
   {
    "duration": 8,
    "start_time": "2023-06-21T13:40:15.907Z"
   },
   {
    "duration": 45,
    "start_time": "2023-06-21T13:40:15.918Z"
   },
   {
    "duration": 11,
    "start_time": "2023-06-21T13:40:15.965Z"
   },
   {
    "duration": 10,
    "start_time": "2023-06-21T13:40:15.993Z"
   },
   {
    "duration": 36,
    "start_time": "2023-06-21T13:40:16.006Z"
   },
   {
    "duration": 3,
    "start_time": "2023-06-21T13:40:16.047Z"
   },
   {
    "duration": 13,
    "start_time": "2023-06-21T13:40:16.052Z"
   },
   {
    "duration": 19,
    "start_time": "2023-06-21T13:40:16.072Z"
   },
   {
    "duration": 74,
    "start_time": "2023-06-21T13:40:16.095Z"
   },
   {
    "duration": 25,
    "start_time": "2023-06-21T13:40:16.171Z"
   },
   {
    "duration": 7,
    "start_time": "2023-06-21T13:40:16.205Z"
   },
   {
    "duration": 76,
    "start_time": "2023-06-21T13:40:16.214Z"
   },
   {
    "duration": 1736,
    "start_time": "2023-11-28T07:28:51.974Z"
   },
   {
    "duration": 2562,
    "start_time": "2023-11-28T07:29:17.326Z"
   },
   {
    "duration": 2580,
    "start_time": "2023-11-28T07:37:51.339Z"
   },
   {
    "duration": 90,
    "start_time": "2023-11-28T07:39:57.867Z"
   },
   {
    "duration": 15,
    "start_time": "2023-11-28T15:02:06.464Z"
   }
  ],
  "kernelspec": {
   "display_name": "Python 3 (ipykernel)",
   "language": "python",
   "name": "python3"
  },
  "language_info": {
   "codemirror_mode": {
    "name": "ipython",
    "version": 3
   },
   "file_extension": ".py",
   "mimetype": "text/x-python",
   "name": "python",
   "nbconvert_exporter": "python",
   "pygments_lexer": "ipython3",
   "version": "3.10.9"
  },
  "toc": {
   "base_numbering": 1,
   "nav_menu": {},
   "number_sections": true,
   "sideBar": true,
   "skip_h1_title": true,
   "title_cell": "Содержание",
   "title_sidebar": "Contents",
   "toc_cell": true,
   "toc_position": {},
   "toc_section_display": true,
   "toc_window_display": true
  }
 },
 "nbformat": 4,
 "nbformat_minor": 2
}
